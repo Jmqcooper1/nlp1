{
 "cells": [
  {
   "cell_type": "markdown",
   "metadata": {
    "colab_type": "text",
    "id": "view-in-github"
   },
   "source": [
    "<a href=\"https://colab.research.google.com/github/Jmqcooper1/nlp1/blob/main/NLP1_2024_Practical_2_(student_version).ipynb\" target=\"_parent\"><img src=\"https://colab.research.google.com/assets/colab-badge.svg\" alt=\"Open In Colab\"/></a>"
   ]
  },
  {
   "cell_type": "markdown",
   "metadata": {
    "id": "ptMZZMQlfn7c"
   },
   "source": [
    "------\n",
    "**You cannot apply any changes to this file, so please make sure to save it on your Google Colab drive or download it as a .ipynb file.**\n",
    "\n",
    "------\n"
   ]
  },
  {
   "cell_type": "markdown",
   "metadata": {
    "id": "jILqpPLlE9r0"
   },
   "source": [
    "# Practical 2: Representing Sentences with Neural Models"
   ]
  },
  {
   "cell_type": "markdown",
   "metadata": {
    "id": "8JXOZ5uhQ8Qq"
   },
   "source": [
    "In this second practical, we will train neural network models to obtain sentence representations. We can then use these sentence representations for a downstream task such as sentiment classification.\n",
    "\n",
    "In this notebook, we will help you to develop models for your experiments. But this time, next to completing the notebook, **you are expected to write a four-page scientific report with your findings**. Please still submit the notebook together with your scientific report so that we can reproduce your experiments. (Note: if you find it useful, you can split this notebook into multiple notebooks. If you do so, keep it mind that it should be possible for your TAs to reproduce the entire content of the notebooks without having to ask for clarifications or to copy and paste functions from one sub-notebook to another.) Make sure your code corresponds to the description you give in the report; we will deduct points if this is not the case. **Make sure you run all your code before submitting the notebook, and do not leave unnecessary print statements / cells in your notebook that are not intended for the grader.**\n",
    "\n",
    "**Important!** The main purpose of this lab is for you to learn how to answer research questions by experimenting and then writing a scientific report.\n",
    "So you will be *judged by the quality of your report* but will lose points if your experiments are not reproducible.\n",
    "You can find the requirements for the report at the end of this notebook.\n",
    "\n",
    "\n",
    "### Data set\n",
    "We will use the [Stanford Sentiment Treebank](https://nlp.stanford.edu/sentiment/) (SST), which provides sentences, their binary tree structure, and fine-grained sentiment scores.\n",
    "This dataset is different from the one we used in the first practical.\n",
    "In Practical 1, a review consisted of several sentences, and we had one sentiment score for the whole review. Now, a review consists of a single sentence, and we have a sentiment score for each node in the binary tree that makes up the sentence, including the root node (i.e., we still have an overall sentiment score for the entire review). We will look at an example below.\n",
    "\n",
    "In the first part of this practical we will only make use of the sentence tokens whereas in the second part we will also exploit the tree structure that is provided by the SST.\n",
    "\n",
    "We will cover the following approaches:\n",
    "\n",
    "- Bag-of-words (BOW)\n",
    "- Continuous bag-of-words (CBOW)\n",
    "- Deep continuous bag-of-words (Deep CBOW)\n",
    "- LSTM\n",
    "- Tree-LSTM\n"
   ]
  },
  {
   "cell_type": "markdown",
   "metadata": {
    "id": "YbNKef3lymaj"
   },
   "source": [
    "## Preparing the data"
   ]
  },
  {
   "cell_type": "markdown",
   "metadata": {
    "id": "9jxTkpg59FlU"
   },
   "source": [
    "Let's first download the data set and take a look."
   ]
  },
  {
   "cell_type": "code",
   "execution_count": null,
   "metadata": {
    "id": "WZp53HmMP3F2"
   },
   "outputs": [],
   "source": [
    "import re\n",
    "import random\n",
    "import time\n",
    "import math\n",
    "import numpy as np\n",
    "import nltk\n",
    "import matplotlib.pyplot as plt\n",
    "import pandas as pd\n",
    "from tqdm import tqdm\n",
    "import logging\n",
    "from pathlib import Path\n",
    "import torch.cuda as cuda\n",
    "plt.style.use('default')"
   ]
  },
  {
   "cell_type": "code",
   "execution_count": null,
   "metadata": {
    "colab": {
     "base_uri": "https://localhost:8080/"
    },
    "id": "TovFkDTgE_d6",
    "outputId": "b902a957-c05d-4310-e015-9898abd41e85"
   },
   "outputs": [],
   "source": [
    "!wget http://nlp.stanford.edu/sentiment/trainDevTestTrees_PTB.zip\n",
    "!unzip trainDevTestTrees_PTB.zip"
   ]
  },
  {
   "cell_type": "code",
   "execution_count": null,
   "metadata": {
    "id": "0IpAphkBO5eW"
   },
   "outputs": [],
   "source": [
    "# this function reads in a textfile and fixes an issue with \"\\\\\"\n",
    "def filereader(path):\n",
    "  with open(path, mode=\"r\", encoding=\"utf-8\") as f:\n",
    "    for line in f:\n",
    "      yield line.strip().replace(\"\\\\\",\"\")"
   ]
  },
  {
   "cell_type": "markdown",
   "metadata": {
    "id": "yP_jpquiprH8"
   },
   "source": [
    "Let's look at a data point. It is a **flattened binary tree**, with sentiment scores at every node, and words as the leaves (or *terminal nodes*)."
   ]
  },
  {
   "cell_type": "code",
   "execution_count": null,
   "metadata": {
    "colab": {
     "base_uri": "https://localhost:8080/"
    },
    "id": "ylkIopm0QJML",
    "outputId": "fa5f3178-56c2-4c3c-8426-6255e285768b"
   },
   "outputs": [],
   "source": [
    "s = next(filereader(\"trees/dev.txt\"))\n",
    "print(s)"
   ]
  },
  {
   "cell_type": "code",
   "execution_count": null,
   "metadata": {
    "colab": {
     "base_uri": "https://localhost:8080/"
    },
    "id": "7_U7HTFwdrWt",
    "outputId": "76be5ead-6a44-40f2-bdd2-dabdd0a619ed"
   },
   "outputs": [],
   "source": [
    "# We can use NLTK to better visualise the tree structure of the sentence\n",
    "from nltk import Tree\n",
    "from nltk.treeprettyprinter import TreePrettyPrinter\n",
    "tree = Tree.fromstring(s)\n",
    "print(TreePrettyPrinter(tree))"
   ]
  },
  {
   "cell_type": "markdown",
   "metadata": {
    "id": "ekAWKsji9t93"
   },
   "source": [
    "The sentiment scores range from 0 (very negative) to 5 (very positive). Again, as you can see, every node in the tree is labeled with a sentiment score. For now, we will only use the score at the **root node**, i.e., the sentiment score for the complete sentence."
   ]
  },
  {
   "cell_type": "code",
   "execution_count": null,
   "metadata": {
    "colab": {
     "base_uri": "https://localhost:8080/"
    },
    "id": "DKynLm0xPKr2",
    "outputId": "fcf3d8cd-e5c5-44a6-f771-6031e89fc124"
   },
   "outputs": [],
   "source": [
    "# Let's first make a function that extracts the tokens (the leaves).\n",
    "\n",
    "def tokens_from_treestring(s):\n",
    "  \"\"\"extract the tokens from a sentiment tree\"\"\"\n",
    "  return re.sub(r\"\\([0-9] |\\)\", \"\", s).split()\n",
    "\n",
    "# let's try it on our example tree\n",
    "tokens = tokens_from_treestring(s)\n",
    "print(tokens)\n",
    "print(len(tokens))"
   ]
  },
  {
   "cell_type": "markdown",
   "metadata": {
    "id": "B8vFkeqN-NLP"
   },
   "source": [
    "> *Warning: you could also parse a treestring using NLTK and ask it to return the leaves, but there seems to be an issue with NLTK not always correctly parsing the input, so do not rely on it.*"
   ]
  },
  {
   "cell_type": "code",
   "execution_count": null,
   "metadata": {
    "id": "Akr9K_Mv4dym"
   },
   "outputs": [],
   "source": [
    "# We will also need the following function, but you can ignore this for now.\n",
    "# It is explained later on.\n",
    "\n",
    "SHIFT = 0\n",
    "REDUCE = 1\n",
    "\n",
    "\n",
    "def transitions_from_treestring(s):\n",
    "  s = re.sub(\"\\([0-5] ([^)]+)\\)\", \"0\", s)\n",
    "  s = re.sub(\"\\)\", \" )\", s)\n",
    "  s = re.sub(\"\\([0-4] \", \"\", s)\n",
    "  s = re.sub(\"\\([0-4] \", \"\", s)\n",
    "  s = re.sub(\"\\)\", \"1\", s)\n",
    "  return list(map(int, s.split()))"
   ]
  },
  {
   "cell_type": "code",
   "execution_count": null,
   "metadata": {
    "colab": {
     "base_uri": "https://localhost:8080/"
    },
    "id": "mNtPdlwPgRat",
    "outputId": "d8fa207b-5443-4269-bf4a-539ac61a472e"
   },
   "outputs": [],
   "source": [
    "# Now let's first see how large our data sets are.\n",
    "for path in (\"trees/train.txt\", \"trees/dev.txt\", \"trees/test.txt\"):\n",
    "  print(\"{:16s} {:4d}\".format(path, sum(1 for _ in filereader(path))))"
   ]
  },
  {
   "cell_type": "code",
   "execution_count": null,
   "metadata": {},
   "outputs": [],
   "source": [
    "def extract_subtrees(treestring):\n",
    "    \"\"\"Extract all valid subtrees with their sentiments from a tree string.\"\"\"\n",
    "    tree = Tree.fromstring(treestring)\n",
    "    subtrees = []\n",
    "    \n",
    "    # Helper function to convert Tree to string format matching original data\n",
    "    def tree_to_string(t):\n",
    "        if isinstance(t, str):\n",
    "            return t\n",
    "        label = t.label()\n",
    "        if len(t) == 1 and isinstance(t[0], str):\n",
    "            return f\"({label} {t[0]})\"\n",
    "        return f\"({label} {' '.join(tree_to_string(c) for c in t)})\"\n",
    "    \n",
    "    # Recursive function to extract valid subtrees\n",
    "    def extract_recursive(t):\n",
    "        if not isinstance(t, str):\n",
    "            # Add current subtree if it has a valid sentiment label (0-4)\n",
    "            if t.label() in '01234':\n",
    "                subtrees.append(tree_to_string(t))\n",
    "            # Recurse on children\n",
    "            for child in t:\n",
    "                extract_recursive(child)\n",
    "    \n",
    "    extract_recursive(tree)\n",
    "    return subtrees\n",
    "\n",
    "def create_subtree_dataset(input_file, output_file):\n",
    "    \"\"\"Create new dataset with all valid subtrees.\"\"\"\n",
    "    print(f\"Creating subtree dataset from {input_file}\")\n",
    "    subtree_count = 0\n",
    "    original_count = 0\n",
    "    \n",
    "    with open(output_file, 'w', encoding='utf-8') as f_out:\n",
    "        for line in filereader(input_file):\n",
    "            original_count += 1\n",
    "            # Get all subtrees for this example\n",
    "            subtrees = extract_subtrees(line)\n",
    "            # Write all subtrees to output file\n",
    "            for subtree in subtrees:\n",
    "                f_out.write(subtree + '\\n')\n",
    "                subtree_count += 1\n",
    "            \n",
    "            # Show progress\n",
    "            if original_count % 100 == 0:\n",
    "                print(f\"Processed {original_count} trees, extracted {subtree_count} subtrees\")\n",
    "    \n",
    "    print(f\"\\nDataset creation complete:\")\n",
    "    print(f\"Original trees: {original_count}\")\n",
    "    print(f\"Total subtrees: {subtree_count}\")\n",
    "    print(f\"Average subtrees per tree: {subtree_count/original_count:.1f}\")\n",
    "\n",
    "# Create the subtree dataset\n",
    "create_subtree_dataset(\"trees/train.txt\", \"trees/train_with_subtrees.txt\")"
   ]
  },
  {
   "cell_type": "markdown",
   "metadata": {
    "id": "HexlSqTR_UrY"
   },
   "source": [
    "You can see that the number of sentences is not very large. That's probably because the data set required so much manual annotation. However, it is large enough to train a neural network on."
   ]
  },
  {
   "cell_type": "markdown",
   "metadata": {
    "id": "IfRjelOcsXuC"
   },
   "source": [
    "It will be useful to store each data example in an `Example` object,\n",
    "containing everything that we may need for each data point.\n",
    "It will contain the tokens, the tree, the top-level sentiment label, and\n",
    "the transitions (explained later)."
   ]
  },
  {
   "cell_type": "code",
   "execution_count": null,
   "metadata": {
    "colab": {
     "base_uri": "https://localhost:8080/"
    },
    "id": "4I07Hb_-q8wg",
    "outputId": "3fd36213-c8f9-4fe6-fc83-035ee72d949e"
   },
   "outputs": [],
   "source": [
    "from collections import namedtuple\n",
    "from nltk import Tree\n",
    "\n",
    "# A simple way to define a class is using namedtuple.\n",
    "Example = namedtuple(\"Example\", [\"tokens\", \"tree\", \"label\", \"transitions\"])\n",
    "\n",
    "\n",
    "def examplereader(path, lower=False):\n",
    "  \"\"\"Returns all examples in a file one by one.\"\"\"\n",
    "  for line in filereader(path):\n",
    "    line = line.lower() if lower else line\n",
    "    tokens = tokens_from_treestring(line)\n",
    "    tree = Tree.fromstring(line)  # use NLTK's Tree\n",
    "    label = int(line[1])\n",
    "    trans = transitions_from_treestring(line)\n",
    "    yield Example(tokens=tokens, tree=tree, label=label, transitions=trans)\n",
    "\n",
    "# Let's load the data into memory.\n",
    "LOWER = False  # we will keep the original casing\n",
    "train_data = list(examplereader(\"trees/train.txt\", lower=LOWER))[:100]\n",
    "train_data_subtrees = list(examplereader(\"trees/train_with_subtrees.txt\", lower=LOWER))[:100]\n",
    "dev_data = list(examplereader(\"trees/dev.txt\", lower=LOWER))[:20]\n",
    "test_data = list(examplereader(\"trees/test.txt\", lower=LOWER))[:20]\n",
    "\n",
    "print(\"train\", len(train_data))\n",
    "print(\"train with subtrees\", len(train_data_subtrees))\n",
    "print(\"dev\", len(dev_data))\n",
    "print(\"test\", len(test_data))"
   ]
  },
  {
   "cell_type": "markdown",
   "metadata": {
    "id": "6KM0bDyeVZtP"
   },
   "source": [
    "Let's check out an `Example` object."
   ]
  },
  {
   "cell_type": "code",
   "execution_count": null,
   "metadata": {
    "colab": {
     "base_uri": "https://localhost:8080/"
    },
    "id": "J8mwcaZwxP1c",
    "outputId": "dbb61949-7fd0-45e8-ee87-2428d79bca81"
   },
   "outputs": [],
   "source": [
    "example = dev_data[0]\n",
    "print(\"First example:\", example)\n",
    "print(\"First example tokens:\", example.tokens)\n",
    "print(\"First example label:\",  example.label)"
   ]
  },
  {
   "cell_type": "code",
   "execution_count": null,
   "metadata": {},
   "outputs": [],
   "source": [
    "def plot_label_distribution(datasets, names, figsize=(15, 6)):\n",
    "    \"\"\"\n",
    "    Plot label distribution for each dataset side by side\n",
    "    \n",
    "    Args:\n",
    "        datasets: List of datasets (train, dev, test)\n",
    "        names: List of dataset names\n",
    "        figsize: Figure size\n",
    "    \"\"\"\n",
    "    plt.figure(figsize=figsize)\n",
    "    \n",
    "    # Number of datasets and labels\n",
    "    n_datasets = len(datasets)\n",
    "    unique_labels = sorted(list(set([ex.label for data in datasets for ex in data])))\n",
    "    n_labels = len(unique_labels)\n",
    "    \n",
    "    # Width of bars\n",
    "    width = 0.8 / n_datasets\n",
    "    \n",
    "    # Plot bars for each dataset\n",
    "    for i, (data, name) in enumerate(zip(datasets, names)):\n",
    "        # Calculate distribution\n",
    "        labels = [ex.label for ex in data]\n",
    "        counts = [labels.count(label) for label in unique_labels]\n",
    "        percentages = [count/len(labels)*100 for count in counts]\n",
    "        \n",
    "        # Position of bars\n",
    "        x = np.arange(n_labels) + (i * width) - (width * n_datasets/2) + width/2\n",
    "        \n",
    "        # Plot bars\n",
    "        plt.bar(x, percentages, width, label=name)\n",
    "        \n",
    "        # Add percentage annotations\n",
    "        for j, percentage in enumerate(percentages):\n",
    "            plt.text(x[j], percentage, f'{percentage:.1f}%\\n(n={counts[j]})', \n",
    "                    ha='center', va='bottom', fontsize=8)\n",
    "    \n",
    "    plt.title('Label Distribution Across Datasets')\n",
    "    plt.xlabel('Sentiment Label')\n",
    "    plt.ylabel('Percentage of Samples')\n",
    "    plt.xticks(np.arange(n_labels), [f'Label {l}' for l in unique_labels])\n",
    "    plt.legend()\n",
    "    plt.grid(True, axis='y', alpha=0.3)\n",
    "    plt.tight_layout()\n",
    "    plt.show()\n",
    "\n",
    "# Plot distributions\n",
    "plot_label_distribution(\n",
    "    [train_data, dev_data, test_data],\n",
    "    ['Training Set', 'Validation Set', 'Test Set']\n",
    ")\n",
    "\n",
    "# Print detailed statistics\n",
    "def print_distribution_stats(data, name):\n",
    "    print(f\"\\n{name} Statistics:\")\n",
    "    labels = [ex.label for ex in data]\n",
    "    total = len(labels)\n",
    "    for label in sorted(set(labels)):\n",
    "        count = labels.count(label)\n",
    "        percentage = count/total*100\n",
    "        print(f\"Label {label}: {count:4d} samples ({percentage:5.1f}%)\")\n",
    "\n",
    "for data, name in zip([train_data, dev_data, test_data], \n",
    "                     ['Training', 'Validation', 'Test']):\n",
    "    print_distribution_stats(data, name)"
   ]
  },
  {
   "cell_type": "code",
   "execution_count": null,
   "metadata": {},
   "outputs": [],
   "source": [
    "# sentence length analysis\n",
    "def analyze_sentence_lengths(datasets, names, figsize=(15, 6)):\n",
    "    \"\"\"\n",
    "    Analyze and plot sentence length distribution for each dataset\n",
    "    \n",
    "    Args:\n",
    "        datasets: List of datasets (train, dev, test)\n",
    "        names: List of dataset names\n",
    "        figsize: Figure size\n",
    "    \"\"\"\n",
    "    # Get sentence lengths\n",
    "    lengths_per_dataset = []\n",
    "    for data in datasets:\n",
    "        lengths = [len(ex.tokens) for ex in data]\n",
    "        lengths_per_dataset.append(lengths)\n",
    "    \n",
    "    # Plot histogram\n",
    "    plt.figure(figsize=figsize)\n",
    "    \n",
    "    # Plot distribution for each dataset\n",
    "    for lengths, name in zip(lengths_per_dataset, names):\n",
    "        plt.hist(lengths, bins=30, alpha=0.5, label=name, density=True)\n",
    "    \n",
    "    plt.title('Sentence Length Distribution Across Datasets')\n",
    "    plt.xlabel('Sentence Length (tokens)')\n",
    "    plt.ylabel('Density')\n",
    "    plt.legend()\n",
    "    plt.grid(True, alpha=0.3)\n",
    "    \n",
    "    # Print statistics\n",
    "    print(\"\\nSentence Length Statistics:\")\n",
    "    for lengths, name in zip(lengths_per_dataset, names):\n",
    "        print(f\"\\n{name}:\")\n",
    "        print(f\"Mean length: {np.mean(lengths):.2f}\")\n",
    "        print(f\"Median length: {np.median(lengths):.2f}\")\n",
    "        print(f\"Std dev: {np.std(lengths):.2f}\")\n",
    "        print(f\"Min length: {min(lengths)}\")\n",
    "        print(f\"Max length: {max(lengths)}\")\n",
    "        \n",
    "    plt.show()\n",
    "\n",
    "# Call the function\n",
    "analyze_sentence_lengths(\n",
    "    [train_data, dev_data, test_data],\n",
    "    ['Training Set', 'Validation Set', 'Test Set']\n",
    ")"
   ]
  },
  {
   "cell_type": "markdown",
   "metadata": {},
   "source": [
    "Binning strategy -> 4 bins:\n",
    "\n",
    "Short sentences: 2-10 tokens (roughly < mean-1std)\n",
    "\n",
    "Medium sentences: 11-25 tokens (around mean ± std)\n",
    "\n",
    "Long sentences: 26-40 tokens (> mean+1std)\n",
    "\n",
    "Very long sentences: 40+ tokens (outliers)"
   ]
  },
  {
   "cell_type": "markdown",
   "metadata": {
    "id": "-WDSprDBVcr-"
   },
   "source": [
    "#### Vocabulary\n",
    "A first step in most NLP tasks is collecting all the word types that appear in the data into a vocabulary, and counting the frequency of their occurrences. On the one hand, this will give us an overview of the word distribution of the data set (what are the most frequent words, how many rare words are there, ...). On the other hand, we will also use the vocabulary to map each word to a unique numeric ID, which is a more handy index than a string."
   ]
  },
  {
   "cell_type": "code",
   "execution_count": null,
   "metadata": {
    "id": "VvNgKx7usRSt"
   },
   "outputs": [],
   "source": [
    "# Here we first define a class that can map a word to an ID (w2i)\n",
    "# and back (i2w).\n",
    "\n",
    "from collections import Counter, OrderedDict, defaultdict\n",
    "\n",
    "\n",
    "class OrderedCounter(Counter, OrderedDict):\n",
    "  \"\"\"Counter that remembers the order elements are first seen\"\"\"\n",
    "  def __repr__(self):\n",
    "    return '%s(%r)' % (self.__class__.__name__,\n",
    "                      OrderedDict(self))\n",
    "  def __reduce__(self):\n",
    "    return self.__class__, (OrderedDict(self),)\n",
    "\n",
    "\n",
    "class Vocabulary:\n",
    "  \"\"\"A vocabulary, assigns IDs to tokens\"\"\"\n",
    "\n",
    "  def __init__(self):\n",
    "    self.freqs = OrderedCounter()\n",
    "    self.w2i = {}\n",
    "    self.i2w = []\n",
    "\n",
    "  def count_token(self, t):\n",
    "    self.freqs[t] += 1\n",
    "\n",
    "  def add_token(self, t):\n",
    "    self.w2i[t] = len(self.w2i)\n",
    "    self.i2w.append(t)\n",
    "\n",
    "  def build(self, min_freq=0):\n",
    "    '''\n",
    "    min_freq: minimum number of occurrences for a word to be included\n",
    "              in the vocabulary\n",
    "    '''\n",
    "    self.add_token(\"<unk>\")  # reserve 0 for <unk> (unknown words)\n",
    "    self.add_token(\"<pad>\")  # reserve 1 for <pad> (discussed later)\n",
    "\n",
    "    tok_freq = list(self.freqs.items())\n",
    "    tok_freq.sort(key=lambda x: x[1], reverse=True)\n",
    "    for tok, freq in tok_freq:\n",
    "      if freq >= min_freq:\n",
    "        self.add_token(tok)"
   ]
  },
  {
   "cell_type": "markdown",
   "metadata": {
    "id": "kOvkH_llVsoW"
   },
   "source": [
    "The vocabulary has by default an `<unk>` token and a `<pad>` token. The `<unk>` token is reserved for all words which do not appear in the training data (and for which, therefore, we cannot learn word representations). The function of the `<pad>` token will be explained later.\n",
    "\n",
    "\n",
    "Let's build the vocabulary!\n"
   ]
  },
  {
   "cell_type": "code",
   "execution_count": null,
   "metadata": {
    "colab": {
     "base_uri": "https://localhost:8080/"
    },
    "id": "GwGQgQQBNUSq",
    "outputId": "3919a95e-32e8-44b0-befd-6eb29b59b8a4"
   },
   "outputs": [],
   "source": [
    "# This process should be deterministic and should have the same result\n",
    "# if run multiple times on the same data set.\n",
    "\n",
    "v = Vocabulary()\n",
    "for data_set in (train_data,):\n",
    "  for ex in data_set:\n",
    "    for token in ex.tokens:\n",
    "      v.count_token(token)\n",
    "\n",
    "v.build()\n",
    "print(\"Vocabulary size:\", len(v.w2i))"
   ]
  },
  {
   "cell_type": "markdown",
   "metadata": {
    "id": "-UNIedPrPdCw"
   },
   "source": [
    "Let's have a closer look at the properties of our vocabulary. Having a good idea of what it is like can facilitate data analysis and debugging later on."
   ]
  },
  {
   "cell_type": "code",
   "execution_count": null,
   "metadata": {
    "colab": {
     "base_uri": "https://localhost:8080/"
    },
    "id": "oJyuogmh0CA7",
    "outputId": "3c078d4f-62fa-4423-8487-8171556b2aeb"
   },
   "outputs": [],
   "source": [
    "# What is the ID for \"century?\"\n",
    "v.w2i[\"century\"]"
   ]
  },
  {
   "cell_type": "code",
   "execution_count": null,
   "metadata": {
    "colab": {
     "base_uri": "https://localhost:8080/"
    },
    "id": "O8OkPQ8Zv-rI",
    "outputId": "6ff45b54-ed53-487a-a780-f28827b0dbd5"
   },
   "outputs": [],
   "source": [
    "# What are the first 10 words in the vocabulary (based on their IDs)?\n",
    "for i in range(10):\n",
    "    print(v.i2w[i])"
   ]
  },
  {
   "cell_type": "code",
   "execution_count": null,
   "metadata": {
    "colab": {
     "base_uri": "https://localhost:8080/"
    },
    "id": "kmXwu02lOLWI",
    "outputId": "75e0a149-8dfb-4b34-dc41-dee37286a46a"
   },
   "outputs": [],
   "source": [
    "# What are the 10 most common words?\n",
    "v.freqs.most_common(10)"
   ]
  },
  {
   "cell_type": "code",
   "execution_count": null,
   "metadata": {
    "colab": {
     "base_uri": "https://localhost:8080/"
    },
    "id": "__NDPaCeOT_m",
    "outputId": "b53fd7a6-e476-459e-c36b-05b3d508a9cd"
   },
   "outputs": [],
   "source": [
    "# And how many words are there with frequency 1?\n",
    "# (A fancy name for these is hapax legomena.)\n",
    "list(v.freqs.values()).count(1)"
   ]
  },
  {
   "cell_type": "code",
   "execution_count": null,
   "metadata": {
    "colab": {
     "base_uri": "https://localhost:8080/"
    },
    "id": "xKHocugctZGM",
    "outputId": "392c6d03-ff43-424b-d31e-c0cee637023b"
   },
   "outputs": [],
   "source": [
    "# Finally 20 random words from the vocabulary.\n",
    "# This is a simple way to get a feeling for the data.\n",
    "# You could use the `choice` function from the already imported `random` package\n",
    "random.choices(v.i2w, k=20)"
   ]
  },
  {
   "cell_type": "markdown",
   "metadata": {
    "id": "nGWaZahKV_dH"
   },
   "source": [
    "#### Sentiment label vocabulary"
   ]
  },
  {
   "cell_type": "code",
   "execution_count": null,
   "metadata": {
    "colab": {
     "base_uri": "https://localhost:8080/"
    },
    "id": "AmTC-rvQelpl",
    "outputId": "71f6b25b-68db-4800-f1da-498cd441294c"
   },
   "outputs": [],
   "source": [
    "# Now let's map the sentiment labels 0-4 to a more readable form\n",
    "i2t = [\"very negative\", \"negative\", \"neutral\", \"positive\", \"very positive\"]\n",
    "print(i2t)\n",
    "print(i2t[4])"
   ]
  },
  {
   "cell_type": "code",
   "execution_count": null,
   "metadata": {
    "colab": {
     "base_uri": "https://localhost:8080/"
    },
    "id": "D7UI26DP2dr2",
    "outputId": "b11b3c91-6d91-4b10-f5f6-d97cb46b253c"
   },
   "outputs": [],
   "source": [
    "# And let's also create the opposite mapping.\n",
    "# We won't use a Vocabulary for this (although we could), since the labels\n",
    "# are already numeric.\n",
    "t2i = OrderedDict({p : i for p, i in zip(i2t, range(len(i2t)))})\n",
    "print(t2i)\n",
    "print(t2i['very positive'])"
   ]
  },
  {
   "cell_type": "markdown",
   "metadata": {
    "id": "y0067ax54-rd"
   },
   "source": [
    "## PyTorch\n",
    "\n",
    "We are going to need PyTorch and Google Colab does not have it installed by default. Run the cell below to install it.\n",
    "\n",
    "*For installing PyTorch in your own computer, follow the instructions on [pytorch.org](pytorch.org) instead. This is for Google Colab only.*"
   ]
  },
  {
   "cell_type": "code",
   "execution_count": null,
   "metadata": {
    "colab": {
     "base_uri": "https://localhost:8080/"
    },
    "id": "qKQMGtkR5KWr",
    "outputId": "bce64725-6066-4322-88f5-254f05b9dfd1"
   },
   "outputs": [],
   "source": [
    "import torch\n",
    "print(\"Using torch\", torch.__version__) # should say 1.7.0+cu101"
   ]
  },
  {
   "cell_type": "code",
   "execution_count": null,
   "metadata": {
    "id": "mnvPcd_E1xH8"
   },
   "outputs": [],
   "source": [
    "# Let's also import torch.nn, a PyTorch package that\n",
    "# makes building neural networks more convenient.\n",
    "from torch import nn"
   ]
  },
  {
   "cell_type": "code",
   "execution_count": null,
   "metadata": {
    "colab": {
     "base_uri": "https://localhost:8080/"
    },
    "id": "BYt8uTyGCKc7",
    "outputId": "c31b6cf8-0385-4703-8892-d4ad911ccd3e"
   },
   "outputs": [],
   "source": [
    "# PyTorch can run on CPU or on Nvidia GPU (video card) using CUDA\n",
    "# This cell selects the GPU if one is available.\n",
    "device = torch.device('cuda' if torch.cuda.is_available() else 'cpu')\n",
    "device"
   ]
  },
  {
   "cell_type": "code",
   "execution_count": null,
   "metadata": {
    "id": "2d1VMOOYx1Bw"
   },
   "outputs": [],
   "source": [
    "# Seed manually to make runs reproducible\n",
    "# You need to set this again if you do multiple runs of the same model\n",
    "torch.manual_seed(42)\n",
    "\n",
    "# When running on the CuDNN backend two further options must be set for reproducibility\n",
    "if torch.cuda.is_available():\n",
    "  torch.backends.cudnn.deterministic = True\n",
    "  torch.backends.cudnn.benchmark = False"
   ]
  },
  {
   "cell_type": "markdown",
   "metadata": {
    "id": "uWBTzkuE3CtZ"
   },
   "source": [
    "# BOW"
   ]
  },
  {
   "cell_type": "markdown",
   "metadata": {
    "id": "TBAjYYySOA5W"
   },
   "source": [
    "Our first model is a rather simple neural **bag-of-words (BOW) model**.\n",
    "Unlike the bag-of-words model that you used in the previous lab, where we would look at the presence / frequency of words in a text, here we associate each word with a multi-dimensional vector which expresses what sentiment is conveyed by the word. In particular, our BOW vectors will be of size 5, exactly our number of sentiment classes.\n",
    "\n",
    "To classify a sentence, we **sum** the vectors of the words in the sentence and a bias vector. Because we sum the vectors, we lose word order: that's why we call this a neural bag-of-words model.\n",
    "\n",
    "```\n",
    "this   [0.0, 0.1, 0.1, 0.1, 0.0]\n",
    "movie  [0.0, 0.1, 0.1, 0.2, 0.1]\n",
    "is     [0.0, 0.1, 0.0, 0.0, 0.0]\n",
    "stupid [0.9, 0.5, 0.1, 0.0, 0.0]\n",
    "\n",
    "bias   [0.0, 0.0, 0.0, 0.0, 0.0]\n",
    "--------------------------------\n",
    "sum    [0.9, 0.8, 0.3, 0.3, 0.1]\n",
    "\n",
    "argmax: 0 (very negative)\n",
    "```\n",
    "\n",
    "The **argmax** of this sum is our predicted label.\n",
    "\n",
    "We initialize all vectors *randomly* and train them using cross-entropy loss."
   ]
  },
  {
   "cell_type": "markdown",
   "metadata": {
    "id": "rLtBAIQGynkB"
   },
   "source": [
    "#### Model class"
   ]
  },
  {
   "cell_type": "code",
   "execution_count": null,
   "metadata": {
    "id": "QZfNklWf3tvs"
   },
   "outputs": [],
   "source": [
    "class BOW(nn.Module):\n",
    "  \"\"\"A simple bag-of-words model\"\"\"\n",
    "\n",
    "  def __init__(self, vocab_size, embedding_dim, vocab):\n",
    "    super(BOW, self).__init__()\n",
    "    self.vocab = vocab\n",
    "\n",
    "    # this is a trainable look-up table with word embeddings\n",
    "    self.embed = nn.Embedding(vocab_size, embedding_dim)\n",
    "\n",
    "    # this is a trainable bias term\n",
    "    self.bias = nn.Parameter(torch.zeros(embedding_dim), requires_grad=True)\n",
    "\n",
    "  def forward(self, inputs):\n",
    "    # this is the forward pass of the neural network\n",
    "    # it applies a function to the input and returns the output\n",
    "\n",
    "    # this looks up the embeddings for each word ID in inputs\n",
    "    # the result is a sequence of word embeddings\n",
    "    embeds = self.embed(inputs)\n",
    "\n",
    "    # the output is the sum across the time dimension (1)\n",
    "    # with the bias term added\n",
    "    logits = embeds.sum(1) + self.bias\n",
    "\n",
    "    return logits"
   ]
  },
  {
   "cell_type": "code",
   "execution_count": null,
   "metadata": {
    "colab": {
     "base_uri": "https://localhost:8080/"
    },
    "id": "eKHvBnoBAr6z",
    "outputId": "67f756ac-f71d-4706-bc61-43b710a590f2"
   },
   "outputs": [],
   "source": [
    "# Let's create a model.\n",
    "vocab_size = len(v.w2i)\n",
    "n_classes = len(t2i)\n",
    "bow_model = BOW(vocab_size, n_classes, v)\n",
    "print(bow_model)"
   ]
  },
  {
   "cell_type": "markdown",
   "metadata": {
    "id": "vfCx-HvMH1qQ"
   },
   "source": [
    "> **Hey, wait, where is the bias vector?**\n",
    "> PyTorch does not print Parameters, only Modules!\n",
    "\n",
    "> We can print it ourselves though, to check that it is there."
   ]
  },
  {
   "cell_type": "code",
   "execution_count": null,
   "metadata": {
    "colab": {
     "base_uri": "https://localhost:8080/"
    },
    "id": "Fhvk5HenAroT",
    "outputId": "53e764a8-ef34-4840-979d-c42ef56006c9"
   },
   "outputs": [],
   "source": [
    "\n",
    "# Here we print each parameter name, shape, and if it is trainable.\n",
    "def print_parameters(model):\n",
    "  total = 0\n",
    "  for name, p in model.named_parameters():\n",
    "    total += np.prod(p.shape)\n",
    "    print(\"{:24s} {:12s} requires_grad={}\".format(name, str(list(p.shape)), p.requires_grad))\n",
    "  print(\"\\nTotal number of parameters: {}\\n\".format(total))\n",
    "\n",
    "\n",
    "print_parameters(bow_model)"
   ]
  },
  {
   "cell_type": "markdown",
   "metadata": {
    "id": "WSAw292WxuP4"
   },
   "source": [
    "#### Preparing an example for input\n",
    "\n",
    "To feed sentences to our PyTorch model, we need to convert a sequence of tokens to a sequence of IDs. The `prepare_example` function below takes care of this for us. We then use these IDs as indices for the word embedding table."
   ]
  },
  {
   "cell_type": "code",
   "execution_count": null,
   "metadata": {
    "id": "YWeGTC_OGReV"
   },
   "outputs": [],
   "source": [
    "def prepare_example(example, vocab):\n",
    "  \"\"\"\n",
    "  Map tokens to their IDs for a single example\n",
    "  \"\"\"\n",
    "\n",
    "  # vocab returns 0 if the word is not there (i2w[0] = <unk>)\n",
    "  x = [vocab.w2i.get(t, 0) for t in example.tokens]\n",
    "\n",
    "  x = torch.LongTensor([x])\n",
    "  x = x.to(device)\n",
    "\n",
    "  y = torch.LongTensor([example.label])\n",
    "  y = y.to(device)\n",
    "\n",
    "  return x, y"
   ]
  },
  {
   "cell_type": "code",
   "execution_count": null,
   "metadata": {
    "colab": {
     "base_uri": "https://localhost:8080/"
    },
    "id": "sfbdv9px3uFF",
    "outputId": "89d4b3ac-bff5-49c2-ada3-58b6c0624270"
   },
   "outputs": [],
   "source": [
    "x, y = prepare_example(dev_data[0], v)\n",
    "print('x:', x)\n",
    "print('y:', y)"
   ]
  },
  {
   "cell_type": "markdown",
   "metadata": {
    "id": "oKNQjEc0yXnJ"
   },
   "source": [
    "#### Evaluation\n",
    "We now need to define an evaluation metric.\n",
    "How many predictions do we get right? The accuracy will tell us.\n",
    "Make sure that you understand this code block.\n"
   ]
  },
  {
   "cell_type": "code",
   "execution_count": null,
   "metadata": {
    "id": "yGmQLcVYKZsh"
   },
   "outputs": [],
   "source": [
    "from sklearn.metrics import f1_score, confusion_matrix\n",
    "\n",
    "def simple_evaluate(model, data, prep_fn=prepare_example, **kwargs):\n",
    "    \"\"\"Evaluate model with multiple metrics including length-based and tree-level performance.\"\"\"\n",
    "    correct = 0\n",
    "    total = 0\n",
    "    total_loss = 0\n",
    "    \n",
    "    # Initialize length-based tracking (keeping existing code)\n",
    "    length_bins = {\n",
    "        'short': {'preds': [], 'targets': [], 'correct': 0, 'total': 0},\n",
    "        'medium': {'preds': [], 'targets': [], 'correct': 0, 'total': 0},\n",
    "        'long': {'preds': [], 'targets': [], 'correct': 0, 'total': 0},\n",
    "        'very_long': {'preds': [], 'targets': [], 'correct': 0, 'total': 0},\n",
    "    }\n",
    "    \n",
    "    # Initialize tree-level tracking\n",
    "    tree_level_metrics = {\n",
    "        'predictions': [],  # List of predictions per level\n",
    "        'targets': [],     # List of targets per level\n",
    "        'levels': [],      # Corresponding tree levels\n",
    "        'errors': {}       # Error counts per level\n",
    "    }\n",
    "    \n",
    "    all_predictions = []\n",
    "    all_targets = []\n",
    "    model.eval()\n",
    "\n",
    "    for example in data:\n",
    "        # Get sentence length\n",
    "        sent_length = len(example.tokens)\n",
    "        \n",
    "        # Determine length bin (keeping existing code)\n",
    "        if sent_length <= 10:\n",
    "            length_bin = 'short'\n",
    "        elif sent_length <= 25:\n",
    "            length_bin = 'medium'\n",
    "        elif sent_length <= 40:\n",
    "            length_bin = 'long'\n",
    "        else:\n",
    "            length_bin = 'very_long'\n",
    "\n",
    "        # convert the example input and label to PyTorch tensors\n",
    "        x, target = prep_fn(example, model.vocab)\n",
    "\n",
    "        # forward pass without backpropagation\n",
    "        with torch.no_grad():\n",
    "            output = model(x)\n",
    "            \n",
    "            # Handle TreeLSTM output\n",
    "            if isinstance(output, dict):\n",
    "                logits = output['final_logits']\n",
    "                tree_info = output['tree_info']\n",
    "                \n",
    "                # Process tree-level predictions\n",
    "                for b_idx, states in enumerate(tree_info['states']):\n",
    "                    predictions = states.argmax(dim=-1)\n",
    "                    levels = tree_info['levels'][b_idx]\n",
    "                    \n",
    "                    # Store predictions and levels\n",
    "                    tree_level_metrics['predictions'].extend(predictions.cpu().numpy())\n",
    "                    tree_level_metrics['targets'].extend([target.item()] * len(predictions))\n",
    "                    tree_level_metrics['levels'].extend(levels)\n",
    "                    \n",
    "                    # Track errors per level\n",
    "                    for pred, level in zip(predictions, levels):\n",
    "                        if level not in tree_level_metrics['errors']:\n",
    "                            tree_level_metrics['errors'][level] = {'correct': 0, 'total': 0}\n",
    "                        tree_level_metrics['errors'][level]['total'] += 1\n",
    "                        if pred == target:\n",
    "                            tree_level_metrics['errors'][level]['correct'] += 1\n",
    "            else:\n",
    "                logits = output\n",
    "\n",
    "        # get the prediction\n",
    "        prediction = logits.argmax(dim=-1)\n",
    "\n",
    "        # Update metrics (keeping existing code)\n",
    "        correct += (prediction == target).sum().item()\n",
    "        total += 1\n",
    "        all_predictions.append(prediction.item())\n",
    "        all_targets.append(target.item())\n",
    "\n",
    "        # Update length-based metrics (keeping existing code)\n",
    "        length_bins[length_bin]['preds'].append(prediction.item())\n",
    "        length_bins[length_bin]['targets'].append(target.item())\n",
    "        length_bins[length_bin]['correct'] += (prediction == target).sum().item()\n",
    "        length_bins[length_bin]['total'] += 1\n",
    "\n",
    "    # Calculate global metrics (keeping existing code)\n",
    "    all_predictions = np.array(all_predictions)\n",
    "    all_targets = np.array(all_targets)\n",
    "\n",
    "    # Calculate length-based metrics (keeping existing code)\n",
    "    length_performance = {}\n",
    "    for bin_name, bin_data in length_bins.items():\n",
    "        if bin_data['total'] > 0:\n",
    "            bin_preds = np.array(bin_data['preds'])\n",
    "            bin_targets = np.array(bin_data['targets'])\n",
    "            length_performance[bin_name] = {\n",
    "                'accuracy': bin_data['correct'] / bin_data['total'],\n",
    "                'weighted_f1': f1_score(bin_targets, bin_preds, average='weighted') if len(bin_preds) > 0 else 0,\n",
    "                'count': bin_data['total']\n",
    "            }\n",
    "\n",
    "    # Calculate tree-level metrics\n",
    "    tree_metrics = {}\n",
    "    if tree_level_metrics['predictions']:\n",
    "        tree_preds = np.array(tree_level_metrics['predictions'])\n",
    "        tree_targets = np.array(tree_level_metrics['targets'])\n",
    "        tree_levels = np.array(tree_level_metrics['levels'])\n",
    "        \n",
    "        # Calculate metrics per level\n",
    "        for level in sorted(set(tree_levels)):\n",
    "            level_mask = tree_levels == level\n",
    "            level_preds = tree_preds[level_mask]\n",
    "            level_targets = tree_targets[level_mask]\n",
    "            \n",
    "            tree_metrics[f'level_{level}'] = {\n",
    "                'accuracy': tree_level_metrics['errors'][level]['correct'] / tree_level_metrics['errors'][level]['total'],\n",
    "                'weighted_f1': f1_score(level_targets, level_preds, average='weighted'),\n",
    "                'confusion_matrix': confusion_matrix(level_targets, level_preds).tolist(),\n",
    "                'count': tree_level_metrics['errors'][level]['total']\n",
    "            }\n",
    "\n",
    "    # Combine all metrics\n",
    "    metrics = {\n",
    "        'accuracy': correct / float(total),\n",
    "        'weighted_f1': f1_score(all_targets, all_predictions, average='weighted'),\n",
    "        'macro_f1': f1_score(all_targets, all_predictions, average='macro'),\n",
    "        'per_class_f1': f1_score(all_targets, all_predictions, average=None).tolist(),\n",
    "        'confusion_matrix': confusion_matrix(all_targets, all_predictions).tolist(),\n",
    "        'length_performance': length_performance,\n",
    "        'tree_metrics': tree_metrics if tree_metrics else None\n",
    "    }\n",
    "\n",
    "    return total_loss, metrics"
   ]
  },
  {
   "cell_type": "markdown",
   "metadata": {
    "id": "5KlIGFXllWWm"
   },
   "source": [
    "We are using accuracy as a handy evaluation metric. Please consider using [alternative metrics](https://scikit-learn.org/stable/modules/classes.html#classification-metrics) for your experiments if that makes more theoretical sense."
   ]
  },
  {
   "cell_type": "markdown",
   "metadata": {
    "id": "dIk6OtSdzGRP"
   },
   "source": [
    "#### Example feed\n",
    "For stochastic gradient descent (SGD) we will need a random training example for every update.\n",
    "We implement this by shuffling the training data and returning examples one by one using `yield`.\n",
    "\n",
    "Shuffling is optional so that we get to use this function to get validation and test examples, too."
   ]
  },
  {
   "cell_type": "code",
   "execution_count": null,
   "metadata": {
    "id": "dxDFOZLfCXvJ"
   },
   "outputs": [],
   "source": [
    "def get_examples(data, shuffle=True, **kwargs):\n",
    "  \"\"\"Shuffle data set and return 1 example at a time (until nothing left)\"\"\"\n",
    "  if shuffle:\n",
    "    print(\"Shuffling training data\")\n",
    "    random.shuffle(data)  # shuffle training data each epoch\n",
    "  for example in data:\n",
    "    yield example"
   ]
  },
  {
   "cell_type": "markdown",
   "metadata": {
    "id": "g09SM8yb2cjx"
   },
   "source": [
    "#### Exercise: Training function\n",
    "\n",
    "Your task is now to complete the training loop below.\n",
    "Before you do so, please read the section about optimisation."
   ]
  },
  {
   "cell_type": "markdown",
   "metadata": {
    "id": "TVfUukVdM_1c"
   },
   "source": [
    "**Optimisation**\n",
    "\n",
    "As mentioned in the \"Intro to PyTorch\" notebook, one of the perks of using PyTorch is automatic differentiation. We will use it to train our BOW model.\n",
    "\n",
    "We train our model by feeding it an input, performing a **forward** pass, obtaining an output prediction, and calculating a **loss** with our loss function.\n",
    "After the gradients are computed in the **backward** pass, we can take a step on the surface of the loss function towards more optimal parameter settings (gradient descent).\n",
    "\n",
    "The package we will use to do this optimisation is [torch.optim](https://pytorch.org/docs/stable/optim.html)."
   ]
  },
  {
   "cell_type": "code",
   "execution_count": null,
   "metadata": {
    "id": "KhQigDrQ--YU"
   },
   "outputs": [],
   "source": [
    "from torch import optim"
   ]
  },
  {
   "cell_type": "markdown",
   "metadata": {
    "id": "wGIvcTZU_Cez"
   },
   "source": [
    "Besides implementations of stochastic gradient descent (SGD), this package also implements the optimisation algorithm Adam, which we'll be using in this practical.\n",
    "For the purposes of this assignment you do not need to know what Adam does besides that it uses gradient information to update our model parameters by calling:\n",
    "\n",
    "```\n",
    "optimizer.step()\n",
    "```\n",
    "Remember when we updated our parameters in the PyTorch tutorial in a loop?\n",
    "\n",
    "\n",
    "```python\n",
    "# update weights\n",
    "learning_rate = 0.5\n",
    "for f in net.parameters():\n",
    "    # for each parameter, take a small step in the opposite dir of the gradient\n",
    "    p.data = p.data - p.grad.data * learning_rate\n",
    "\n",
    "```\n",
    "The function call optimizer.step() does effectively the same thing.\n",
    "\n",
    "*(If you want to know more about optimisation algorithms using gradient information, [this blog](http://ruder.io/optimizing-gradient-descent/.) gives a nice intuitive overview.)*"
   ]
  },
  {
   "cell_type": "code",
   "execution_count": null,
   "metadata": {
    "id": "mMrPbbIYd7Bp"
   },
   "outputs": [],
   "source": [
    "def validate(model, data, eval_fn, batch_fn, prep_fn, eval_batch_size):\n",
    "    \"\"\"Helper function to evaluate the model.\"\"\"\n",
    "    model.eval()\n",
    "    with torch.no_grad():\n",
    "        total_loss, metrics = eval_fn(\n",
    "            model, data,\n",
    "            batch_size=eval_batch_size,\n",
    "            batch_fn=batch_fn,\n",
    "            prep_fn=prep_fn\n",
    "        )\n",
    "    return total_loss, metrics\n",
    "\n",
    "def save_checkpoint(model, optimizer, path, best_eval, best_iter, iter_i, extra_data=None):\n",
    "    \"\"\"Helper function to save model checkpoint.\"\"\"\n",
    "    ckpt = {\n",
    "        \"state_dict\": model.state_dict(),\n",
    "        \"optimizer_state_dict\": optimizer.state_dict(),\n",
    "        \"best_eval\": best_eval,\n",
    "        \"best_iter\": best_iter,\n",
    "        \"current_iter\": iter_i\n",
    "    }\n",
    "    if extra_data:\n",
    "        ckpt.update(extra_data)\n",
    "    torch.save(ckpt, path)"
   ]
  },
  {
   "cell_type": "code",
   "execution_count": null,
   "metadata": {
    "id": "ktFnKBux25lD"
   },
   "outputs": [],
   "source": [
    "def train_model(model, optimizer, train_data,\n",
    "                num_iterations=10000,    # Original iteration limit\n",
    "                print_every=500,\n",
    "                eval_every=500,\n",
    "                batch_fn=get_examples,\n",
    "                prep_fn=prepare_example,\n",
    "                eval_fn=simple_evaluate,\n",
    "                batch_size=32,\n",
    "                eval_batch_size=128,\n",
    "                patience=5,              # Early stopping patience\n",
    "                scheduler=None,          # Learning rate scheduler\n",
    "                max_norm=1.0,           # Gradient clipping\n",
    "                warmup_steps=100,       # Learning rate warmup\n",
    "                accumulation_steps=4,    # Gradient accumulation\n",
    "                checkpoint_every=1000):  # Periodic checkpoint saving\n",
    "    \"\"\"Train a model with optimized training process.\n",
    "\n",
    "    Args:\n",
    "        model: The neural network model\n",
    "        optimizer: The optimizer (e.g., Adam)\n",
    "        num_iterations: Maximum number of training iterations\n",
    "        print_every: Steps between printing progress\n",
    "        eval_every: Steps between evaluations\n",
    "        batch_fn: Function to get batches of data\n",
    "        prep_fn: Function to prepare examples\n",
    "        eval_fn: Function to evaluate model\n",
    "        batch_size: Training batch size\n",
    "        eval_batch_size: Evaluation batch size\n",
    "        patience: Early stopping patience\n",
    "        scheduler: Learning rate scheduler\n",
    "        max_norm: Maximum gradient norm\n",
    "        warmup_steps: Number of warmup steps\n",
    "        accumulation_steps: Number of steps for gradient accumulation\n",
    "        checkpoint_every: Steps between checkpoints\n",
    "    \"\"\"\n",
    "    try:\n",
    "        # Initialize tracking variables\n",
    "        iter_i = 0\n",
    "        train_loss = 0.\n",
    "        print_num = 0\n",
    "        start = time.time()\n",
    "        criterion = nn.CrossEntropyLoss()\n",
    "        best_eval = 0.\n",
    "        best_iter = 0\n",
    "        no_improvement = 0\n",
    "\n",
    "        # Store metrics for plotting\n",
    "        losses = []\n",
    "        accuracies = []\n",
    "        val_losses = []\n",
    "        lrs = []\n",
    "\n",
    "        # Create checkpoint directory\n",
    "        checkpoint_dir = Path(\"checkpoints\")\n",
    "        checkpoint_dir.mkdir(exist_ok=True)\n",
    "\n",
    "        if eval_batch_size is None:\n",
    "            eval_batch_size = batch_size\n",
    "\n",
    "        # Get initial learning rate\n",
    "        initial_lr = optimizer.param_groups[0]['lr']\n",
    "\n",
    "        # Main training loop\n",
    "        while True:  # when we run out of examples, shuffle and continue\n",
    "            # Create progress bar for this epoch\n",
    "            pbar = tqdm(batch_fn(train_data, batch_size=batch_size),\n",
    "                        desc=f'Iteration {iter_i}')\n",
    "\n",
    "            for batch_idx, batch in enumerate(pbar):\n",
    "                # forward pass\n",
    "                model.train()\n",
    "                x, targets = prep_fn(batch, model.vocab)\n",
    "\n",
    "                # Move to GPU if available\n",
    "                if isinstance(x, tuple):\n",
    "                    words, transitions = x\n",
    "                    words = words.to(next(model.parameters()).device)\n",
    "                    x = (words, transitions)  # Reconstruct tuple with device-moved words\n",
    "                else:\n",
    "                    x = x.to(next(model.parameters()).device)\n",
    "                targets = targets.to(next(model.parameters()).device)\n",
    "\n",
    "                logits = model(x)\n",
    "\n",
    "                # compute cross-entropy loss\n",
    "                loss = criterion(logits.view([targets.size(0), -1]), targets.view(-1))\n",
    "                # Scale loss for gradient accumulation\n",
    "                loss = loss / accumulation_steps\n",
    "                train_loss += loss.item() * accumulation_steps\n",
    "\n",
    "                # backward pass\n",
    "                loss.backward()\n",
    "\n",
    "                # Gradient accumulation\n",
    "                if (batch_idx + 1) % accumulation_steps == 0:\n",
    "                    # Clip gradients\n",
    "                    torch.nn.utils.clip_grad_norm_(model.parameters(), max_norm)\n",
    "\n",
    "                    # Learning rate warmup\n",
    "                    if iter_i < warmup_steps:\n",
    "                        lr_scale = min(1., float(iter_i + 1) / warmup_steps)\n",
    "                        for pg in optimizer.param_groups:\n",
    "                            pg['lr'] = lr_scale * initial_lr\n",
    "\n",
    "                    # Update weights\n",
    "                    optimizer.step()\n",
    "                    optimizer.zero_grad()\n",
    "\n",
    "                    # Track learning rate\n",
    "                    lrs.append(optimizer.param_groups[0]['lr'])\n",
    "\n",
    "                print_num += 1\n",
    "                iter_i += 1\n",
    "\n",
    "                # Update progress bar\n",
    "                pbar.set_description(\n",
    "                    f'Iter {iter_i}: loss={loss.item():.4f}, '\n",
    "                    f'lr={optimizer.param_groups[0][\"lr\"]:.6f}'\n",
    "                )\n",
    "\n",
    "                # print info\n",
    "                if iter_i % print_every == 0:\n",
    "                    avg_loss = train_loss / print_num\n",
    "                    print(f\"\\nIter {iter_i}: loss={avg_loss:.4f}, \"\n",
    "                          f\"time={time.time()-start:.2f}s\")\n",
    "                    losses.append(avg_loss)\n",
    "                    print_num = 0\n",
    "                    train_loss = 0.\n",
    "\n",
    "                # evaluate\n",
    "                if iter_i % eval_every == 0:\n",
    "                    # Validate model\n",
    "                    val_loss, metrics = validate(\n",
    "                        model, dev_data, eval_fn, batch_fn, prep_fn, eval_batch_size\n",
    "                    )\n",
    "\n",
    "                    accuracies.append(metrics['accuracy'])\n",
    "                    val_losses.append(val_loss)\n",
    "                    print(f\"iter {iter_i}: dev acc={metrics['accuracy']:.4f}, \"\n",
    "                        f\"val_loss={val_loss:.4f}, \"\n",
    "                        f\"weighted_f1={metrics['weighted_f1']:.4f}\")\n",
    "\n",
    "                    # save best model parameters\n",
    "                    if metrics['weighted_f1'] > best_eval:  \n",
    "                        print(\"new highscore\")\n",
    "                        best_eval = metrics['weighted_f1']\n",
    "                        best_iter = iter_i\n",
    "                        no_improvement = 0\n",
    "\n",
    "                        # Save best model\n",
    "                        save_checkpoint(\n",
    "                            model, optimizer,\n",
    "                            f\"{checkpoint_dir}/{model.__class__.__name__}_best.pt\",\n",
    "                            best_eval, best_iter, iter_i\n",
    "                        )\n",
    "                    else:\n",
    "                        no_improvement += 1\n",
    "\n",
    "                    # Learning rate scheduling\n",
    "                    if scheduler is not None:\n",
    "                        scheduler.step(metrics['weighted_f1'])\n",
    "\n",
    "                    # Early stopping check\n",
    "                    if no_improvement >= patience:\n",
    "                        print(f\"Early stopping triggered after {iter_i} iterations\")\n",
    "                        break\n",
    "\n",
    "                # Periodic checkpoint saving\n",
    "                if iter_i % checkpoint_every == 0:\n",
    "                    save_checkpoint(\n",
    "                        model, optimizer,\n",
    "                        f\"{checkpoint_dir}/{model.__class__.__name__}_{iter_i}.pt\",\n",
    "                        best_eval, best_iter, iter_i\n",
    "                    )\n",
    "\n",
    "                # Clear CUDA cache periodically\n",
    "                if iter_i % 1000 == 0 and torch.cuda.is_available():\n",
    "                    torch.cuda.empty_cache()\n",
    "\n",
    "                # Check if we've hit iteration limit\n",
    "                if iter_i >= num_iterations:\n",
    "                    print(\"Reached maximum iterations\")\n",
    "                    break\n",
    "\n",
    "            # Break outer loop if early stopping or max iterations\n",
    "            if no_improvement >= patience or iter_i >= num_iterations:\n",
    "                break\n",
    "\n",
    "        # Final evaluation\n",
    "        print(\"\\nTraining finished! Loading best model...\")\n",
    "        best_model_path = f\"{checkpoint_dir}/{model.__class__.__name__}_best.pt\"\n",
    "        ckpt = torch.load(best_model_path)\n",
    "        model.load_state_dict(ckpt[\"state_dict\"])\n",
    "\n",
    "        # Evaluate on all sets\n",
    "        model.eval()\n",
    "        with torch.no_grad():\n",
    "            train_loss, train_metrics = eval_fn(\n",
    "                model, train_data, batch_size=eval_batch_size,\n",
    "                batch_fn=batch_fn, prep_fn=prep_fn)\n",
    "            dev_loss, dev_metrics = eval_fn(\n",
    "                model, dev_data, batch_size=eval_batch_size,\n",
    "                batch_fn=batch_fn, prep_fn=prep_fn)\n",
    "            test_loss, test_metrics = eval_fn(\n",
    "                model, test_data, batch_size=eval_batch_size,\n",
    "                batch_fn=batch_fn, prep_fn=prep_fn)\n",
    "\n",
    "        print(f\"Best model (iter {best_iter}):\")\n",
    "        print(f\"Train: acc={train_metrics['accuracy']:.4f}, w_f1={train_metrics['weighted_f1']:.4f}\")\n",
    "        print(f\"Dev:   acc={dev_metrics['accuracy']:.4f}, w_f1={dev_metrics['weighted_f1']:.4f}\")\n",
    "        print(f\"Test:  acc={test_metrics['accuracy']:.4f}, w_f1={test_metrics['weighted_f1']:.4f}\")\n",
    "\n",
    "        return {\n",
    "            'losses': losses,\n",
    "            'accuracies': accuracies,\n",
    "            'val_losses': val_losses,\n",
    "            'learning_rates': lrs,\n",
    "            'best_weighted_f1': best_eval,\n",
    "            'best_iteration': best_iter,\n",
    "            'final_metrics': {\n",
    "                'train': train_metrics,\n",
    "                'dev': dev_metrics,\n",
    "                'test': test_metrics,\n",
    "                'train_loss': train_loss,\n",
    "                'dev_loss': dev_loss,\n",
    "                'test_loss': test_loss\n",
    "            }\n",
    "        }\n",
    "\n",
    "    except Exception as e:\n",
    "        print(f\"Error during training: {str(e)}\")\n",
    "        # Save emergency checkpoint\n",
    "        save_checkpoint(\n",
    "            model, optimizer,\n",
    "            f\"{checkpoint_dir}/{model.__class__.__name__}_emergency.pt\",\n",
    "            best_eval, best_iter, iter_i,\n",
    "            {'error': str(e)}\n",
    "        )\n",
    "        raise e"
   ]
  },
  {
   "cell_type": "markdown",
   "metadata": {
    "id": "XEPsLvI-3D5b"
   },
   "source": [
    "### Training the BOW model"
   ]
  },
  {
   "cell_type": "code",
   "execution_count": null,
   "metadata": {
    "id": "6ptBmwlud7Br"
   },
   "outputs": [],
   "source": [
    "def train_with_multiple_seeds(model_class, model_args, seeds=[42, 123, 456],\n",
    "                            pretrained_vectors=None, freeze_embeddings=True, use_subtrees=False,\n",
    "                            **train_kwargs):\n",
    "    \"\"\"\n",
    "    Train a model multiple times with different seeds.\n",
    "    Handles both regular and pre-trained models.\n",
    "\n",
    "    Args:\n",
    "        model_class: The class of the model\n",
    "        model_args: Dictionary of arguments for model initialization\n",
    "        seeds: List of random seeds to use\n",
    "        pretrained_vectors: Optional pre-trained word vectors\n",
    "        freeze_embeddings: Whether to freeze embeddings (if pre-trained)\n",
    "        **train_kwargs: Arguments for train_model function\n",
    "    \"\"\"\n",
    "    all_stats = []\n",
    "    \n",
    "    print(f\"Training with seeds: {seeds}\")\n",
    "    if pretrained_vectors is not None:\n",
    "        print(f\"Using pre-trained embeddings ({'frozen' if freeze_embeddings else 'trainable'})\")\n",
    "        \n",
    "    training_data = train_data_subtrees if use_subtrees else train_data\n",
    "    print(f\"Training with {'subtree-enhanced' if use_subtrees else 'original'} dataset \"\n",
    "          f\"({len(training_data)} examples)\")\n",
    "\n",
    "    for seed in seeds:\n",
    "        print(f\"\\nTraining with seed {seed}\")\n",
    "        # Set seeds for reproducibility\n",
    "        torch.manual_seed(seed)\n",
    "        torch.cuda.manual_seed(seed)\n",
    "        np.random.seed(seed)\n",
    "        random.seed(seed)\n",
    "\n",
    "        # Initialize new model\n",
    "        model = model_class(**model_args)\n",
    "\n",
    "        # Initialize pre-trained embeddings if provided\n",
    "        if pretrained_vectors is not None:\n",
    "            with torch.no_grad():\n",
    "                model.embed.weight.data.copy_(torch.from_numpy(pretrained_vectors))\n",
    "                model.embed.weight.requires_grad = not freeze_embeddings\n",
    "\n",
    "        model = model.to(device)\n",
    "\n",
    "        # Initialize optimizer and scheduler\n",
    "        optimizer = optim.AdamW(\n",
    "            model.parameters(),\n",
    "            lr=2e-4,\n",
    "            weight_decay=0.01\n",
    "        )\n",
    "\n",
    "        scheduler = optim.lr_scheduler.ReduceLROnPlateau(\n",
    "            optimizer,\n",
    "            mode='max',\n",
    "            factor=0.5,\n",
    "            patience=2,\n",
    "            min_lr=1e-6\n",
    "        )\n",
    "\n",
    "        # Train model\n",
    "        stats = train_model(\n",
    "            model=model,\n",
    "            optimizer=optimizer,\n",
    "            scheduler=scheduler,\n",
    "            train_data=training_data, \n",
    "            **train_kwargs\n",
    "        )\n",
    "        all_stats.append(stats)\n",
    "\n",
    "    # Calculate average and std dev for both accuracy and weighted F1\n",
    "    test_accuracies = [s['final_metrics']['test']['accuracy'] for s in all_stats]\n",
    "    test_f1_scores = [s['final_metrics']['test']['weighted_f1'] for s in all_stats]\n",
    "\n",
    "    mean_test_acc = np.mean(test_accuracies)\n",
    "    std_test_acc = np.std(test_accuracies)\n",
    "    mean_test_f1 = np.mean(test_f1_scores)\n",
    "    std_test_f1 = np.std(test_f1_scores)\n",
    "\n",
    "    combined_stats = all_stats[0].copy()\n",
    "    combined_stats.update({\n",
    "        'mean_test_acc': mean_test_acc,\n",
    "        'std_test_acc': std_test_acc,\n",
    "        'mean_test_f1': mean_test_f1,\n",
    "        'std_test_f1': std_test_f1,\n",
    "        'individual_runs': {\n",
    "            f'seed_{seed}': stats for seed, stats in zip(seeds, all_stats)\n",
    "        }\n",
    "    })\n",
    "\n",
    "    print(f\"\\nFinal Results across {len(seeds)} seeds:\")\n",
    "    print(f\"Test Accuracy: {mean_test_acc:.4f} ± {std_test_acc:.4f}\")\n",
    "    print(f\"Test Weighted F1: {mean_test_f1:.4f} ± {std_test_f1:.4f}\")\n",
    "\n",
    "    return combined_stats"
   ]
  },
  {
   "cell_type": "code",
   "execution_count": null,
   "metadata": {
    "id": "VAb-E5QCd7Br"
   },
   "outputs": [],
   "source": [
    "def plot_research_results(training_stats_list, model_names, figsize=(20, 10)):\n",
    "    \"\"\"Plot comprehensive results for all research questions.\"\"\"\n",
    "    colors = plt.cm.rainbow(np.linspace(0, 1, len(model_names)))\n",
    "\n",
    "    # 1. Training Loss Only\n",
    "    plt.figure(figsize=figsize)\n",
    "    for i, (stats, name) in enumerate(zip(training_stats_list, model_names)):\n",
    "        plt.plot(stats['losses'], color=colors[i], label=name)\n",
    "    plt.title('Training Loss Across Models')\n",
    "    plt.xlabel('Evaluation Step')\n",
    "    plt.ylabel('Loss')\n",
    "    plt.grid(True)\n",
    "    plt.legend()\n",
    "    plt.tight_layout()\n",
    "    plt.show()\n",
    "\n",
    "    # 2. Accuracy Comparison with std dev\n",
    "    plt.figure(figsize=figsize)\n",
    "    for i, (stats, name) in enumerate(zip(training_stats_list, model_names)):\n",
    "        runs = list(stats['individual_runs'].values())\n",
    "        min_len = min(len(run['accuracies']) for run in runs)\n",
    "        all_accs = np.array([run['accuracies'][:min_len] for run in runs])\n",
    "        mean_acc = np.mean(all_accs, axis=0)\n",
    "        std_acc = np.std(all_accs, axis=0)\n",
    "        plt.plot(mean_acc, color=colors[i], label=name)\n",
    "        plt.fill_between(range(len(mean_acc)), mean_acc-std_acc, mean_acc+std_acc, \n",
    "                        color=colors[i], alpha=0.2)\n",
    "    plt.title('Model Accuracy Comparison')\n",
    "    plt.xlabel('Evaluation Step')\n",
    "    plt.ylabel('Accuracy')\n",
    "    plt.grid(True)\n",
    "    plt.legend()\n",
    "    plt.tight_layout()\n",
    "    plt.show()\n",
    "\n",
    "    # 3. Weighted F1 Comparison\n",
    "    plt.figure(figsize=figsize)\n",
    "    for i, (stats, name) in enumerate(zip(training_stats_list, model_names)):\n",
    "        f1_scores = [run['final_metrics']['test']['weighted_f1'] \n",
    "                    for run in stats['individual_runs'].values()]\n",
    "        mean_f1 = np.mean(f1_scores)\n",
    "        std_f1 = np.std(f1_scores)\n",
    "        plt.bar(i, mean_f1, yerr=std_f1, color=colors[i], label=name)\n",
    "    plt.title('Weighted F1-Score Comparison')\n",
    "    plt.ylabel('Weighted F1-Score')\n",
    "    plt.xticks(range(len(model_names)), model_names, rotation=45)\n",
    "    plt.grid(True, axis='y')\n",
    "    plt.legend()\n",
    "    plt.tight_layout()\n",
    "    plt.show()\n",
    "\n",
    "    # 4. Research Q: Sentence Length Impact\n",
    "    plt.figure(figsize=figsize)\n",
    "    bins = ['short', 'medium', 'long', 'very_long']\n",
    "    x = np.arange(len(bins))\n",
    "    width = 0.8 / len(model_names)\n",
    "    \n",
    "    for i, (stats, name) in enumerate(zip(training_stats_list, model_names)):\n",
    "        length_metrics = [stats['final_metrics']['test']['length_performance'][bin]['weighted_f1'] \n",
    "                         for bin in bins]\n",
    "        plt.bar(x + i*width, length_metrics, width, label=name, color=colors[i])\n",
    "    \n",
    "    plt.title('Performance Across Sentence Lengths')\n",
    "    plt.xlabel('Sentence Length')\n",
    "    plt.ylabel('Weighted F1-Score')\n",
    "    plt.xticks(x + width*len(model_names)/2, bins)\n",
    "    plt.legend()\n",
    "    plt.tight_layout()\n",
    "    plt.show()\n",
    "\n",
    "    # 5. Research Q: Node Supervision Impact\n",
    "    plt.figure(figsize=figsize)\n",
    "    # Group models by base name (without subtree suffix)\n",
    "    base_models = {}\n",
    "    for i, name in enumerate(model_names):\n",
    "        base_name = name.replace('_subtrees', '').replace('_original', '')\n",
    "        if base_name not in base_models:\n",
    "            base_models[base_name] = []\n",
    "        base_models[base_name].append((name, training_stats_list[i]))\n",
    "    \n",
    "    # Plot paired comparisons\n",
    "    x = np.arange(len(base_models))\n",
    "    width = 0.35\n",
    "    \n",
    "    for i, (base_name, versions) in enumerate(base_models.items()):\n",
    "        for j, (name, stats) in enumerate(versions):\n",
    "            f1_scores = [run['final_metrics']['test']['weighted_f1'] \n",
    "                        for run in stats['individual_runs'].values()]\n",
    "            mean_f1 = np.mean(f1_scores)\n",
    "            std_f1 = np.std(f1_scores)\n",
    "            offset = -width/2 if 'original' in name.lower() else width/2\n",
    "            plt.bar(i + offset, mean_f1, width, \n",
    "                   yerr=std_f1, \n",
    "                   label=f'{\"Original\" if \"original\" in name.lower() else \"Subtree\"}',\n",
    "                   color=colors[i*2 + j])\n",
    "    \n",
    "    plt.title('Impact of Node-Level Supervision')\n",
    "    plt.xlabel('Model Type')\n",
    "    plt.ylabel('Weighted F1-Score')\n",
    "    plt.xticks(x, base_models.keys())\n",
    "    plt.legend()\n",
    "    plt.grid(True, axis='y')\n",
    "    plt.tight_layout()\n",
    "    plt.show()\n",
    "\n",
    "    # 6. Research Q: Tree Error Analysis (TreeLSTM specific)\n",
    "    treelstm_models = [(stats, name) for stats, name in zip(training_stats_list, model_names) \n",
    "                       if 'treelstm' in name.lower()]\n",
    "    \n",
    "    if treelstm_models:\n",
    "        plt.figure(figsize=figsize)\n",
    "        for i, (stats, name) in enumerate(treelstm_models):\n",
    "            tree_metrics = stats['final_metrics']['test']['tree_metrics']\n",
    "            levels = sorted(int(level.split('_')[1]) for level in tree_metrics.keys())\n",
    "            error_rates = [1 - tree_metrics[f'level_{level}']['accuracy'] for level in levels]\n",
    "            plt.plot(levels, error_rates, 'o-', color=colors[i], label=name)\n",
    "            \n",
    "        plt.title('TreeLSTM Error Rates by Tree Level')\n",
    "        plt.xlabel('Tree Level')\n",
    "        plt.ylabel('Error Rate')\n",
    "        plt.grid(True)\n",
    "        plt.legend()\n",
    "        plt.tight_layout()\n",
    "        plt.show()"
   ]
  },
  {
   "cell_type": "code",
   "execution_count": null,
   "metadata": {},
   "outputs": [],
   "source": [
    "results = {}\n",
    "\n",
    "# Common training arguments (no batch settings)\n",
    "base_train_kwargs = {\n",
    "    'num_iterations': 30000,\n",
    "    'print_every': 500,\n",
    "    'eval_every': 500,\n",
    "    'patience': 5,\n",
    "    'max_norm': 1.0,\n",
    "    'warmup_steps': 100,\n",
    "    'accumulation_steps': 4,\n",
    "    'checkpoint_every': 1000,\n",
    "    'eval_fn': simple_evaluate\n",
    "}\n",
    "\n",
    "# Model-specific settings\n",
    "bow_kwargs = {\n",
    "    'batch_size': 32,\n",
    "    'eval_batch_size': 128\n",
    "}\n",
    "\n",
    "cbow_kwargs = {\n",
    "    'batch_size': 32,\n",
    "    'eval_batch_size': 128\n",
    "}\n",
    "\n",
    "deepcbow_kwargs = {\n",
    "    'batch_size': 32,\n",
    "    'eval_batch_size': 128\n",
    "}\n",
    "\n",
    "pt_deepcbow_kwargs = {\n",
    "    'batch_size': 32,\n",
    "    'eval_batch_size': 128\n",
    "}\n",
    "\n",
    "lstm_no_batch_kwargs = {\n",
    "    'batch_size': 1,\n",
    "    'eval_batch_size': 1,\n",
    "    'batch_fn': get_examples,\n",
    "    'prep_fn': prepare_example,\n",
    "    'freeze_embeddings': True\n",
    "}\n"
   ]
  },
  {
   "cell_type": "code",
   "execution_count": null,
   "metadata": {
    "colab": {
     "base_uri": "https://localhost:8080/"
    },
    "id": "9luJnNuN_d3q",
    "outputId": "822a0f17-87cf-4b2f-c766-67347ba63e41"
   },
   "outputs": [],
   "source": [
    "# If everything is in place we can now train our first model!\n",
    "\n",
    "bow_args = {\n",
    "    'vocab_size': len(v.w2i),\n",
    "    'embedding_dim': 5,\n",
    "    'vocab': v\n",
    "}\n",
    "\n",
    "results['bow_original'] = train_with_multiple_seeds(\n",
    "    model_class=BOW,\n",
    "    model_args=bow_args,\n",
    "    seeds=[42, 123, 456],\n",
    "    use_subtrees=False,\n",
    "    **base_train_kwargs,\n",
    "    **bow_kwargs\n",
    ")\n",
    "\n",
    "results['bow_subtrees'] = train_with_multiple_seeds(\n",
    "    model_class=BOW,\n",
    "    model_args=bow_args,\n",
    "    seeds=[42, 123, 456],\n",
    "    use_subtrees=True,\n",
    "    **base_train_kwargs,\n",
    "    **bow_kwargs\n",
    ")"
   ]
  },
  {
   "cell_type": "markdown",
   "metadata": {
    "id": "Psxh-Le1BMDQ"
   },
   "source": [
    "Please note that we set the number of iterations to 30K as an indicative value, after which we simply stop training without checking for convergence. You should choose an appropriate number of iterations and motivate your decision. **This holds for all pre-set numbers of iteration in the following code blocks.**"
   ]
  },
  {
   "cell_type": "markdown",
   "metadata": {
    "id": "E9mB1_XhMPNN"
   },
   "source": [
    "# CBOW"
   ]
  },
  {
   "cell_type": "markdown",
   "metadata": {
    "id": "pWk78FvNMw4o"
   },
   "source": [
    "We now continue with a **continuous bag-of-words (CBOW)** model. (*This is not the same as the word2vec CBOW model!*)\n",
    "\n",
    "It is similar to the BOW model above, but now embeddings can have a dimension of *arbitrary size*.\n",
    "This means that we can choose a higher dimensionality and learn more aspects of each word. We will still sum word vectors to get a sentence representation, but now the size of the resulting vector will no longer correspond to the number of sentiment classes.\n",
    "\n",
    "So to turn the size of our summed vector into the number of output classes, we can *learn* a parameter matrix $W$ and multiply it by the sum vector $x$: $$Wx$$\n",
    "If the size of $x$ is `d x 1`, we can set $W$ to be `5 x d`, so that the output of the matrix multiplication will be the of the desired size, `5 x 1`. Then, just like for the BOW model, we can obtain a prediction using the argmax function."
   ]
  },
  {
   "cell_type": "markdown",
   "metadata": {
    "id": "gIjrCPfCwsXI"
   },
   "source": [
    "## Exercise: implement and train the CBOW model\n",
    "\n",
    "Write a class `CBOW` that:\n",
    "\n",
    "- has word embeddings with size 300\n",
    "- sums the word vectors for the input words (just like in `BOW`)\n",
    "- projects the resulting vector down to 5 units using a linear layer and a bias term (check out `nn.Linear`)\n",
    "\n",
    "Train your CBOW model and plot the validation accuracy and training loss over time."
   ]
  },
  {
   "cell_type": "code",
   "execution_count": null,
   "metadata": {
    "id": "PEV22aR2MP0Q"
   },
   "outputs": [],
   "source": [
    "# YOUR CODE HERE\n",
    "class CBOW(nn.Module):\n",
    "    def __init__(self, vocab_size, num_classes, vocab, embedding_dim=300):\n",
    "        super(CBOW, self).__init__()\n",
    "        self.vocab = vocab\n",
    "\n",
    "        self.embed = nn.Embedding(vocab_size, embedding_dim)\n",
    "\n",
    "        self.linear = nn.Linear(embedding_dim, num_classes, bias=True)\n",
    "\n",
    "    def forward(self, inputs):\n",
    "        embeds = self.embed(inputs)\n",
    "        summed = embeds.sum(1)\n",
    "\n",
    "        logits = self.linear(summed)\n",
    "\n",
    "        return logits"
   ]
  },
  {
   "cell_type": "code",
   "execution_count": null,
   "metadata": {
    "colab": {
     "base_uri": "https://localhost:8080/"
    },
    "id": "VSCfLrzmd7Bu",
    "outputId": "e4ae352b-7cb3-4bcc-cbdf-aad172458683"
   },
   "outputs": [],
   "source": [
    "cbow_args = {\n",
    "    'vocab_size': len(v.w2i),\n",
    "    'num_classes': 5,\n",
    "    'vocab': v,\n",
    "    'embedding_dim': 300,\n",
    "}\n",
    "\n",
    "results['cbow_original'] = train_with_multiple_seeds(\n",
    "    model_class=CBOW,\n",
    "    model_args=cbow_args,\n",
    "    seeds=[42, 123, 456],\n",
    "    use_subtrees=False,\n",
    "    **base_train_kwargs,\n",
    "    **cbow_kwargs\n",
    ")\n",
    "\n",
    "results['cbow_subtrees'] = train_with_multiple_seeds(\n",
    "    model_class=CBOW,\n",
    "    model_args=cbow_args,\n",
    "    seeds=[42, 123, 456],\n",
    "    use_subtrees=True,\n",
    "    **base_train_kwargs,\n",
    "    **cbow_kwargs\n",
    ")"
   ]
  },
  {
   "cell_type": "markdown",
   "metadata": {
    "id": "zpFt_Fo2TdN0"
   },
   "source": [
    "# Deep CBOW"
   ]
  },
  {
   "cell_type": "markdown",
   "metadata": {
    "id": "iZanOMesTfEZ"
   },
   "source": [
    "To see if we can squeeze some more performance out of the CBOW model, we can make it deeper and non-linear by adding more layers and, e.g., tanh-activations.\n",
    "By using more parameters we can learn more aspects of the data, and by using more layers and non-linearities, we can try to learn a more complex function.\n",
    "This is not something that always works. If the input-output mapping of your data is simple, then a complicated function could easily overfit on your training set, thereby leading to poor generalization.\n",
    "\n",
    "#### Exercise: write Deep CBOW class and train it\n",
    "\n",
    "Write a class `DeepCBOW`.\n",
    "\n",
    "In your code, make sure that your `output_layer` consists of the following:\n",
    "- A linear transformation from E units to D units.\n",
    "- A Tanh activation\n",
    "- A linear transformation from D units to D units\n",
    "- A Tanh activation\n",
    "- A linear transformation from D units to 5 units (our output classes).\n",
    "\n",
    "E is the size of the word embeddings (please use E=300) and D for the size of a hidden layer (please use D=100).\n",
    "\n",
    "We recommend using [nn.Sequential](https://pytorch.org/docs/stable/nn.html?highlight=sequential#torch.nn.Sequential) to implement this exercise."
   ]
  },
  {
   "cell_type": "code",
   "execution_count": null,
   "metadata": {
    "id": "l8Z1igvpTrZq"
   },
   "outputs": [],
   "source": [
    "# YOUR CODE HERE\n",
    "class DeepCBOW(nn.Module):\n",
    "    def __init__(self, vocab_size, num_classes, vocab, embedding_dim=300, hidden_dim=100):\n",
    "        super(DeepCBOW, self).__init__()\n",
    "        self.vocab = vocab\n",
    "\n",
    "        self.embed = nn.Embedding(vocab_size, embedding_dim)\n",
    "\n",
    "        self.output_layer = nn.Sequential(\n",
    "            nn.Linear(embedding_dim, hidden_dim),  # 300 -> 100 | E -> D\n",
    "            nn.Tanh(),\n",
    "            nn.Linear(hidden_dim, hidden_dim),     # 100 -> 100\n",
    "            nn.Tanh(),\n",
    "            nn.Linear(hidden_dim, num_classes)     # 100 -> 5 | D -> C\n",
    "        )\n",
    "\n",
    "    def forward(self, inputs):\n",
    "        embeds = self.embed(inputs)\n",
    "        summed = embeds.sum(1)\n",
    "\n",
    "        logits = self.output_layer(summed)\n",
    "\n",
    "        return logits"
   ]
  },
  {
   "cell_type": "code",
   "execution_count": null,
   "metadata": {
    "colab": {
     "base_uri": "https://localhost:8080/"
    },
    "id": "c5PazpVJd7Bv",
    "outputId": "07917be9-6eca-46ea-e8fd-ffbed9afe1e0"
   },
   "outputs": [],
   "source": [
    "deepcbow_args = {\n",
    "    'vocab_size': len(v.w2i),\n",
    "    'num_classes': 5,\n",
    "    'vocab': v,\n",
    "    'embedding_dim': 300,\n",
    "    'hidden_dim': 100,\n",
    "}\n",
    "\n",
    "results['deepcbow_original'] = train_with_multiple_seeds(\n",
    "    model_class=DeepCBOW,\n",
    "    model_args=deepcbow_args,\n",
    "    seeds=[42, 123, 456],\n",
    "    use_subtrees=False,\n",
    "    **base_train_kwargs,\n",
    "    **deepcbow_kwargs\n",
    ")\n",
    "\n",
    "results['deepcbow_subtrees'] = train_with_multiple_seeds(\n",
    "    model_class=DeepCBOW,\n",
    "    model_args=deepcbow_args,\n",
    "    seeds=[42, 123, 456],\n",
    "    use_subtrees=True,\n",
    "    **base_train_kwargs,\n",
    "    **deepcbow_kwargs\n",
    ")"
   ]
  },
  {
   "cell_type": "markdown",
   "metadata": {
    "id": "MQZ5flHwiiHY"
   },
   "source": [
    "# Pre-trained word embeddings"
   ]
  },
  {
   "cell_type": "markdown",
   "metadata": {
    "id": "9NX35vecmHy6"
   },
   "source": [
    "The Stanford Sentiment Treebank is a rather small data set, since it required fine-grained manual annotatation. This makes it difficult for the Deep CBOW model to learn good word embeddings, i.e. to learn good word representations for the words in our vocabulary.\n",
    "In fact, the only error signal that the network receives is from predicting the sentiment of entire sentences!\n",
    "\n",
    "To start off with better word representations, we can download **pre-trained word embeddings**.\n",
    "You can choose which pre-trained word embeddings to use:\n",
    "\n",
    "- **GloVe**. The \"original\" Stanford Sentiment classification [paper](http://aclweb.org/anthology/P/P15/P15-1150.pdf) used Glove embeddings, which are just another method (like *word2vec*) to get word embeddings from unannotated text. Glove is described in the following paper which you should cite if you use them:\n",
    "> Jeffrey Pennington, Richard Socher, and Christopher Manning. [\"Glove: Global vectors for word representation.\"](https://nlp.stanford.edu/pubs/glove.pdf) EMNLP 2014.\n",
    "\n",
    "- **Word2Vec**. This is the method that you learned about in class, described in:\n",
    "> Mikolov, Tomas, et al. [\"Distributed representations of words and phrases and their compositionality.\"](https://papers.nips.cc/paper/5021-distributed-representations-of-words-and-phrases-and-their-compositionality.pdf) Advances in neural information processing systems. 2013.\n",
    "\n",
    "Using these pre-trained word embeddings, we can initialize our word embedding lookup table and start form a point where similar words are already close to one another in the distributional semantic space.\n",
    "\n",
    "You can choose to keep the word embeddings **fixed** or to train them further, specialising them to the task at hand.\n",
    "We will keep them fixed for now.\n",
    "\n",
    "For the purposes of this lab, it is enough if you understand how word2vec works (whichever vectors you use), but if you are interested, we encourage you to also check out the GloVe paper.\n",
    "\n",
    "You can either download the word2vec vectors, or the Glove vectors.\n",
    "If you want to compare your results to the Stanford paper later on, then you should use Glove.\n",
    "**At the end of this lab you have the option to compare which vectors give you the best performance. For now, simply choose one of them and continue with that.**\n",
    "\n",
    "[**OPTIONAL in case you don't want to mount Google Drive:** instead of running all the 5 boxes below, you can 1) download the GloVe and word2vec in your local machine, 2) upload them on your Drive folder (\"My Drive\"). Then, uncomment the first 2 lines in box 6 before writing your code!]\n"
   ]
  },
  {
   "cell_type": "code",
   "execution_count": null,
   "metadata": {
    "id": "lGYr02WWO993"
   },
   "outputs": [],
   "source": [
    "# This downloads the Glove 840B 300d embeddings.\n",
    "# The original file is at http://nlp.stanford.edu/data/glove.840B.300d.zip\n",
    "# Since that file is 2GB, we provide you with a *filtered version*\n",
    "# which contains all the words you need for this data set.\n",
    "\n",
    "# You only need to do this once.\n",
    "# Please comment this cell out after downloading.\n",
    "\n",
    "# !wget https://gist.githubusercontent.com/bastings/b094de2813da58056a05e8e7950d4ad1/raw/3fbd3976199c2b88de2ae62afc0ecc6f15e6f7ce/glove.840B.300d.sst.txt"
   ]
  },
  {
   "cell_type": "code",
   "execution_count": null,
   "metadata": {
    "id": "6NLsgFGiTjmI"
   },
   "outputs": [],
   "source": [
    "# This downloads the word2vec 300D Google News vectors\n",
    "# The file has been truncated to only contain words that appear in our data set.\n",
    "# You can find the original file here: https://code.google.com/archive/p/word2vec/\n",
    "\n",
    "# You only need to do this once.\n",
    "# Please comment this out after downloading.\n",
    "# !wget https://gist.githubusercontent.com/bastings/4d1c346c68969b95f2c34cfbc00ba0a0/raw/76b4fefc9ef635a79d0d8002522543bc53ca2683/googlenews.word2vec.300d.txt"
   ]
  },
  {
   "cell_type": "code",
   "execution_count": null,
   "metadata": {
    "cellView": "both",
    "colab": {
     "base_uri": "https://localhost:8080/"
    },
    "id": "GXBITzPRQUQb",
    "outputId": "f5c16845-e8c8-4853-e2ae-e47daf6f7c55"
   },
   "outputs": [],
   "source": [
    "# Mount Google Drive (to save the downloaded files)\n",
    "from google.colab import drive\n",
    "drive.mount('/gdrive')"
   ]
  },
  {
   "cell_type": "code",
   "execution_count": null,
   "metadata": {
    "id": "uFvzPuiKSCbl"
   },
   "outputs": [],
   "source": [
    "# Copy word vectors *to* Google Drive\n",
    "\n",
    "# You only need to do this once.\n",
    "# Please comment this out after running it.\n",
    "# !cp \"glove.840B.300d.sst.txt\" \"/gdrive/My Drive/\"\n",
    "# !cp \"googlenews.word2vec.300d.txt\" \"/gdrive/My Drive/\""
   ]
  },
  {
   "cell_type": "code",
   "execution_count": null,
   "metadata": {
    "id": "kUMH0bM6BuY9"
   },
   "outputs": [],
   "source": [
    "# If you copied the word vectors to your Drive before,\n",
    "# here is where you copy them back to the Colab notebook.\n",
    "\n",
    "# Copy Glove vectors *from* Google Drive\n",
    "!cp \"/gdrive/My Drive/glove.840B.300d.sst.txt\" .\n",
    "!cp \"/gdrive/My Drive/googlenews.word2vec.300d.txt\" ."
   ]
  },
  {
   "cell_type": "code",
   "execution_count": null,
   "metadata": {
    "id": "xcpkoh6PIjfe"
   },
   "outputs": [],
   "source": [
    "# Uncomment these 2 lines below if went for the OPTIONAL method described above\n",
    "# !cp \"glove.840B.300d.sst.txt\" \"./\"\n",
    "# !cp \"googlenews.word2vec.300d.txt\" \"./\""
   ]
  },
  {
   "cell_type": "markdown",
   "metadata": {
    "id": "MX2GJVHILM8n"
   },
   "source": [
    "At this point you have the pre-trained word embedding files, but what do they look like?"
   ]
  },
  {
   "cell_type": "code",
   "execution_count": null,
   "metadata": {
    "colab": {
     "base_uri": "https://localhost:8080/"
    },
    "id": "ChsChH14Ruxn",
    "outputId": "565681f6-c2fa-4e13-8305-fba33ecaee4d"
   },
   "outputs": [],
   "source": [
    "# Exercise: Print the first 4 lines of the files that you downloaded.\n",
    "# What do you see?\n",
    "import os\n",
    "if os.path.exists(\"glove.840B.300d.sst.txt\"):\n",
    "    file_path_glove = \"glove.840B.300d.sst.txt\"\n",
    "    file_path_w2v = \"googlenews.word2vec.300d.txt\"\n",
    "else:\n",
    "    file_path_glove = \"/gdrive/My Drive/glove.840B.300d.sst.txt\"\n",
    "    file_path_w2v = \"/gdrive/My Drive/googlenews.word2vec.300d.txt\"\n",
    "\n",
    "# Print first 4 lines of GloVe embeddings\n",
    "print(\"GloVe first 4 lines:\")\n",
    "reader = filereader(file_path_glove)\n",
    "for i in range(4):\n",
    "    line = next(reader)\n",
    "    print(line)\n",
    "\n",
    "print(\"\\nWord2Vec first 4 lines:\")\n",
    "# Print first 4 lines of Word2Vec embeddings\n",
    "reader = filereader(file_path_w2v)\n",
    "for i in range(4):\n",
    "    line = next(reader)\n",
    "    print(line)"
   ]
  },
  {
   "cell_type": "markdown",
   "metadata": {
    "id": "WIVCkUkE_IjR"
   },
   "source": [
    "#### Exercise: New Vocabulary\n",
    "\n",
    "Since we now use pre-trained word embeddings, we need to create a new vocabulary.\n",
    "This is because of two reasons:\n",
    "\n",
    "1. We do not have pre-trained word embeddings for all words in our SST training set, and we do not want words in our vocabulary for which we have no word embeddings.\n",
    "2. We should be able to look up the pre-trained word embedding for words in the validation and test set, even if these words are unseen in training.\n",
    "\n",
    "Now, create a new vocabulary object `v` based on the word set of pre-trained embeddings, and load the corresponding embeddings into a list `vectors`.\n",
    "\n",
    "The vocabulary `v` should consist of:\n",
    " - a  `<unk>` token at position 0,\n",
    " - a  `<pad>` token at position 1,\n",
    " - and then all words in the pre-trained embedding set.\n",
    "\n",
    "\n",
    "After storing each vector in a list `vectors`, turn the list into a numpy matrix like this:\n",
    "```python\n",
    " vectors = np.stack(vectors, axis=0)\n",
    "```\n",
    "\n",
    "Remember to add new embeddings for the `<unk>` and `<pad>` tokens, as they're not part of the word2vec/GloVe embeddings. These embeddings can be randomly initialized or 0-valued, think about what makes sense and see what the effects are.\n"
   ]
  },
  {
   "cell_type": "code",
   "execution_count": null,
   "metadata": {
    "id": "ITyyCvDnCL4U"
   },
   "outputs": [],
   "source": [
    "# YOUR CODE HERE\n",
    "v = Vocabulary()\n",
    "\n",
    "v.add_token(\"<unk>\")\n",
    "v.add_token(\"<pad>\")\n",
    "\n",
    "embedding_dim = 300\n",
    "vectors = [\n",
    "    np.zeros(embedding_dim),\n",
    "    np.zeros(embedding_dim)\n",
    "]\n",
    "\n",
    "for line in filereader(file_path_glove):\n",
    "    parts = line.split()\n",
    "    word = parts[0]\n",
    "    vector = np.array([float(x) for x in parts[1:]])\n",
    "\n",
    "    v.add_token(word)\n",
    "    vectors.append(vector)\n",
    "\n",
    "vectors = np.stack(vectors, axis=0)"
   ]
  },
  {
   "cell_type": "markdown",
   "metadata": {
    "id": "xC-7mRyYNG9b"
   },
   "source": [
    "#### Exercise: words not in our pre-trained set\n",
    "\n",
    "How many words in the training, dev, and test set are also in your vector set?\n",
    "How many words are not there?\n",
    "\n",
    "Store the words that are not in the word vector set in the set below."
   ]
  },
  {
   "cell_type": "code",
   "execution_count": null,
   "metadata": {
    "colab": {
     "base_uri": "https://localhost:8080/"
    },
    "id": "K6MA3-wF_X5M",
    "outputId": "9836597d-cf34-4e68-c8eb-e5bdddb7cf56"
   },
   "outputs": [],
   "source": [
    "words_not_found = set()\n",
    "# YOUR CODE HERE\n",
    "for dataset in (train_data, dev_data, test_data):\n",
    "    words_in_set = 0\n",
    "    words_total = 0\n",
    "\n",
    "    for example in dataset:\n",
    "        for token in example.tokens:\n",
    "            words_total += 1\n",
    "            if v.w2i.get(token, 0) == 0:\n",
    "                words_not_found.add(token)\n",
    "            else:\n",
    "                words_in_set += 1\n",
    "\n",
    "    print(f\"Words in pre-trained set: {words_in_set}/{words_total}\")\n",
    "    print(f\"Coverage: {words_in_set/words_total:.2%}\")\n",
    "\n",
    "print(f\"\\nTotal unique unknown words: {len(words_not_found)}\")\n"
   ]
  },
  {
   "cell_type": "markdown",
   "metadata": {
    "id": "BfEd38W0NnAI"
   },
   "source": [
    "#### Exercise: train Deep CBOW with (fixed) pre-trained embeddings\n",
    "\n",
    "Now train Deep CBOW again using the pre-trained word vectors.\n"
   ]
  },
  {
   "cell_type": "code",
   "execution_count": null,
   "metadata": {
    "id": "z_6ooqgEsB20"
   },
   "outputs": [],
   "source": [
    "# We define a new class that inherits from DeepCBOW.\n",
    "class PTDeepCBOW(DeepCBOW):\n",
    "    def __init__(self, vocab_size, output_dim, vocab, embedding_dim=300, hidden_dim=100):\n",
    "        super(PTDeepCBOW, self).__init__(\n",
    "            vocab_size=vocab_size,\n",
    "            num_classes=output_dim,\n",
    "            vocab=vocab,\n",
    "            embedding_dim=embedding_dim,\n",
    "            hidden_dim=hidden_dim\n",
    "        )"
   ]
  },
  {
   "cell_type": "code",
   "execution_count": null,
   "metadata": {
    "colab": {
     "base_uri": "https://localhost:8080/"
    },
    "id": "JfIh4Ni6yuAh",
    "outputId": "b2920873-fd4f-4b27-ec8d-e2f3811b05ce"
   },
   "outputs": [],
   "source": [
    "pt_deep_cbow_args = {\n",
    "    'vocab_size': len(v.w2i),\n",
    "    'embedding_dim': 300,\n",
    "    'hidden_dim': 100,\n",
    "    'output_dim': 5,\n",
    "    'vocab': v\n",
    "}\n",
    "\n",
    "results['pt_deepcbow_original'] = train_with_multiple_seeds(\n",
    "    model_class=PTDeepCBOW,\n",
    "    model_args=pt_deep_cbow_args,\n",
    "    seeds=[42, 123, 456],\n",
    "    use_subtrees=False,\n",
    "    **base_train_kwargs,\n",
    "    **pt_deepcbow_kwargs\n",
    ")\n",
    "\n",
    "results['pt_deepcbow_subtrees'] = train_with_multiple_seeds(\n",
    "    model_class=PTDeepCBOW,\n",
    "    model_args=pt_deep_cbow_args,\n",
    "    seeds=[42, 123, 456],\n",
    "    use_subtrees=True,\n",
    "    **base_train_kwargs,\n",
    "    **pt_deepcbow_kwargs\n",
    ")"
   ]
  },
  {
   "cell_type": "markdown",
   "metadata": {
    "id": "yFu8xzCy9XDW"
   },
   "source": [
    "**It looks like we've hit what is possible with just using words.**\n",
    "Let's move on by incorporating word order!"
   ]
  },
  {
   "cell_type": "markdown",
   "metadata": {
    "id": "g41yW4PL9jG0"
   },
   "source": [
    "# LSTM"
   ]
  },
  {
   "cell_type": "markdown",
   "metadata": {
    "id": "ODzXEH0MaGpa"
   },
   "source": [
    "It is time to get more serious. Even with pre-trained word embeddings and multiple layers, we still seem to do pretty badly at sentiment classification.\n",
    "The next step we can take is to introduce word order again, dropping our independence assumptions. In this way, we can get a representation of the sentence as an ordered set of tokens.\n",
    "\n",
    "We will get this representation using a **Long Short-Term Memory** (LSTM). As an exercise, we will code our own LSTM cell, so that we get comfortable with its inner workings.\n",
    "Once we have an LSTM cell, we can call it repeatedly, updating its hidden state one word at a time:\n",
    "\n",
    "```python\n",
    "rnn = MyLSTMCell(input_size, hidden_size)\n",
    "\n",
    "hx = torch.zeros(1, hidden_size)  # initial hidden state\n",
    "cx = torch.zeros(1, hidden_size)  # initial memory cell\n",
    "output = []                       # to save intermediate LSTM states\n",
    "\n",
    "# feed one word at a time\n",
    "for i in range(n_timesteps):\n",
    "  hx, cx = rnn(input[i], (hx, cx))\n",
    "  output.append(hx)\n",
    "```\n",
    "\n",
    "If you need some more help understanding LSTMs, you can check out these resources:\n",
    "- Blog post (highly recommended): http://colah.github.io/posts/2015-08-Understanding-LSTMs/\n",
    "- Paper covering LSTM formulas in detail: https://arxiv.org/abs/1503.04069\n"
   ]
  },
  {
   "cell_type": "markdown",
   "metadata": {
    "id": "v9f4b45BXKFC"
   },
   "source": [
    "#### Exercise: Finish the LSTM cell below.\n",
    "You will need to implement the LSTM formulas:\n",
    "\n",
    "$$\n",
    "\\begin{array}{ll}\n",
    "        i = \\sigma(W_{ii} x + b_{ii} + W_{hi} h + b_{hi}) \\\\\n",
    "        f = \\sigma(W_{if} x + b_{if} + W_{hf} h + b_{hf}) \\\\\n",
    "        g = \\tanh(W_{ig} x + b_{ig} + W_{hg} h + b_{hg}) \\\\\n",
    "        o = \\sigma(W_{io} x + b_{io} + W_{ho} h + b_{ho}) \\\\\n",
    "        c' = f * c + i * g \\\\\n",
    "        h' = o \\tanh(c') \\\\\n",
    "\\end{array}\n",
    " $$\n",
    "\n",
    "where $\\sigma$ is the sigmoid function.\n",
    "\n",
    "*Note that the LSTM formulas can differ slightly between different papers. We use the PyTorch LSTM formulation here.*"
   ]
  },
  {
   "cell_type": "code",
   "execution_count": null,
   "metadata": {
    "id": "zJ9m5kLMd7-v"
   },
   "outputs": [],
   "source": [
    "class MyLSTMCell(nn.Module):\n",
    "    \"\"\"Our own LSTM cell\"\"\"\n",
    "\n",
    "    def __init__(self, input_size, hidden_size, bias=True):\n",
    "        \"\"\"Creates the weights for this LSTM\"\"\"\n",
    "        super(MyLSTMCell, self).__init__()\n",
    "\n",
    "        self.input_size = input_size\n",
    "        self.hidden_size = hidden_size\n",
    "        self.bias = bias\n",
    "\n",
    "        # YOUR CODE HERE\n",
    "        # Create the input-hidden weights (W_ii|W_if|W_ig|W_io)\n",
    "        self.weight_ih = nn.Parameter(\n",
    "            torch.empty(4 * hidden_size, input_size))\n",
    "\n",
    "        # Create the hidden-hidden weights (W_hi|W_hf|W_hg|W_ho)\n",
    "        self.weight_hh = nn.Parameter(\n",
    "            torch.empty(4 * hidden_size, hidden_size))\n",
    "\n",
    "        if bias:\n",
    "            # Create input-hidden bias (b_ii|b_if|b_ig|b_io)\n",
    "            self.bias_ih = nn.Parameter(torch.empty(4 * hidden_size))\n",
    "            # Create hidden-hidden bias (b_hi|b_hf|b_hg|b_ho)\n",
    "            self.bias_hh = nn.Parameter(torch.empty(4 * hidden_size))\n",
    "        else:\n",
    "            self.register_parameter('bias_ih', None)\n",
    "            self.register_parameter('bias_hh', None)\n",
    "\n",
    "\n",
    "        self.reset_parameters()\n",
    "\n",
    "    def reset_parameters(self):\n",
    "        \"\"\"This is PyTorch's default initialization method\"\"\"\n",
    "        stdv = 1.0 / math.sqrt(self.hidden_size)\n",
    "        for weight in self.parameters():\n",
    "            weight.data.uniform_(-stdv, stdv)\n",
    "\n",
    "    def forward(self, input_, hx, mask=None):\n",
    "        \"\"\"\n",
    "    input is (batch, input_size)\n",
    "    hx is ((batch, hidden_size), (batch, hidden_size))\n",
    "    \"\"\"\n",
    "        prev_h, prev_c = hx\n",
    "\n",
    "        # project input and prev state\n",
    "        # YOUR CODE HERE\n",
    "        gates = (torch.mm(input_, self.weight_ih.t()) +\n",
    "                torch.mm(prev_h, self.weight_hh.t()))\n",
    "\n",
    "        if self.bias:\n",
    "            gates = gates + self.bias_ih + self.bias_hh\n",
    "\n",
    "        gates = gates.chunk(4, 1)\n",
    "\n",
    "        # main LSTM computation\n",
    "        i = torch.sigmoid(gates[0])  # input gate\n",
    "        f = torch.sigmoid(gates[1])  # forget gate\n",
    "        g = torch.tanh(gates[2])     # cell gate\n",
    "        o = torch.sigmoid(gates[3])  # output gate\n",
    "\n",
    "        # Update cell state and hidden state\n",
    "        c = f * prev_c + i * g\n",
    "        h = o * torch.tanh(c)\n",
    "\n",
    "        return h, c\n",
    "\n",
    "    def __repr__(self):\n",
    "        return \"{}({:d}, {:d})\".format(\n",
    "        self.__class__.__name__, self.input_size, self.hidden_size)"
   ]
  },
  {
   "cell_type": "markdown",
   "metadata": {
    "id": "4JM7xPhkQeE5"
   },
   "source": [
    "#### Optional: Efficient Matrix Multiplication\n",
    "\n",
    "It is more efficient to do a few big matrix multiplications than to do many smaller ones. So we will implement the above cell using just **two** linear layers.\n",
    "\n",
    "This is possible because the eight linear transformations contained in one forward pass through an LSTM cell can be reduced to just two:\n",
    "$$W_h h + b_h$$\n",
    "$$W_i x + b_i $$\n",
    "\n",
    "with $h = $ `prev_h` and $x = $ `input_`.\n",
    "\n",
    "and where:\n",
    "\n",
    "$W_h =  \\begin{pmatrix}\n",
    "W_{hi}\\\\\n",
    "W_{hf}\\\\\n",
    "W_{hg}\\\\\n",
    "W_{ho}\n",
    "\\end{pmatrix}$, $b_h = \\begin{pmatrix}\n",
    "b_{hi}\\\\\n",
    "b_{hf}\\\\\n",
    "b_{hg}\\\\\n",
    "b_{ho}\n",
    "\\end{pmatrix}$,  $W_i = \\begin{pmatrix}\n",
    "W_{ii}\\\\\n",
    "W_{if}\\\\\n",
    "W_{ig}\\\\\n",
    "W_{io}\n",
    "\\end{pmatrix}$ and $b_i = \\begin{pmatrix}\n",
    "b_{ii}\\\\\n",
    "b_{if}\\\\\n",
    "b_{ig}\\\\\n",
    "b_{io}\n",
    "\\end{pmatrix}$.\n",
    "\n",
    "Convince yourself that, after chunking with [torch.chunk](https://pytorch.org/docs/stable/torch.html?highlight=chunk#torch.chunk), the output of those two linear transformations is equivalent to the output of the eight linear transformations in the LSTM cell calculations above."
   ]
  },
  {
   "cell_type": "markdown",
   "metadata": {
    "id": "X9gA-UcqSBe0"
   },
   "source": [
    "#### LSTM Classifier\n",
    "\n",
    "Having an LSTM cell is not enough: we still need some code that calls it repeatedly, and then makes a prediction from the final hidden state.\n",
    "You will find that code below. Make sure that you understand it."
   ]
  },
  {
   "cell_type": "code",
   "execution_count": null,
   "metadata": {
    "id": "3iuYZm5poEn5"
   },
   "outputs": [],
   "source": [
    "class LSTMClassifier(nn.Module):\n",
    "  \"\"\"Encodes sentence with an LSTM and projects final hidden state\"\"\"\n",
    "\n",
    "  def __init__(self, vocab_size, embedding_dim, hidden_dim, output_dim, vocab):\n",
    "    super(LSTMClassifier, self).__init__()\n",
    "    self.vocab = vocab\n",
    "    self.hidden_dim = hidden_dim\n",
    "    self.embed = nn.Embedding(vocab_size, embedding_dim, padding_idx=1)\n",
    "    self.rnn = MyLSTMCell(embedding_dim, hidden_dim)\n",
    "\n",
    "    self.output_layer = nn.Sequential(\n",
    "        nn.Dropout(p=0.5),  # explained later\n",
    "        nn.Linear(hidden_dim, output_dim)\n",
    "    )\n",
    "\n",
    "  def forward(self, x):\n",
    "\n",
    "    B = x.size(0)  # batch size (this is 1 for now, i.e. 1 single example)\n",
    "    T = x.size(1)  # timesteps (the number of words in the sentence)\n",
    "\n",
    "    input_ = self.embed(x)\n",
    "\n",
    "    # here we create initial hidden states containing zeros\n",
    "    # we use a trick here so that, if input is on the GPU, then so are hx and cx\n",
    "    hx = input_.new_zeros(B, self.rnn.hidden_size)\n",
    "    cx = input_.new_zeros(B, self.rnn.hidden_size)\n",
    "\n",
    "    # process input sentences one word/timestep at a time\n",
    "    # input is batch-major (i.e., batch size is the first dimension)\n",
    "    # so the first word(s) is (are) input_[:, 0]\n",
    "    outputs = []\n",
    "    for i in range(T):\n",
    "      hx, cx = self.rnn(input_[:, i], (hx, cx))\n",
    "      outputs.append(hx)\n",
    "\n",
    "    # if we have a single example, our final LSTM state is the last hx\n",
    "    if B == 1:\n",
    "      final = hx\n",
    "    else:\n",
    "      #\n",
    "      # This part is explained in next section, ignore this else-block for now.\n",
    "      #\n",
    "      # We processed sentences with different lengths, so some of the sentences\n",
    "      # had already finished and we have been adding padding inputs to hx.\n",
    "      # We select the final state based on the length of each sentence.\n",
    "\n",
    "      # two lines below not needed if using LSTM from pytorch\n",
    "      outputs = torch.stack(outputs, dim=0)           # [T, B, D]\n",
    "      outputs = outputs.transpose(0, 1).contiguous()  # [B, T, D]\n",
    "\n",
    "      # to be super-sure we're not accidentally indexing the wrong state\n",
    "      # we zero out positions that are invalid\n",
    "      pad_positions = (x == 1).unsqueeze(-1)\n",
    "\n",
    "      outputs = outputs.contiguous()\n",
    "      outputs = outputs.masked_fill_(pad_positions, 0.)\n",
    "\n",
    "      mask = (x != 1)  # true for valid positions [B, T]\n",
    "      lengths = mask.sum(dim=1)                 # [B, 1]\n",
    "\n",
    "      indexes = (lengths - 1) + torch.arange(B, device=x.device, dtype=x.dtype) * T\n",
    "      final = outputs.view(-1, self.hidden_dim)[indexes]  # [B, D]\n",
    "\n",
    "    # we use the last hidden state to classify the sentence\n",
    "    logits = self.output_layer(final)\n",
    "    return logits"
   ]
  },
  {
   "cell_type": "markdown",
   "metadata": {
    "id": "FxFoVpvMPB6g"
   },
   "source": [
    "#### Dropout\n",
    "\n",
    "Data sparsity and a small data set can cause *overfitting*. This is a phenomenom that is very likely to occur when training strong and expressive models, like LSTMs, on small data. In practice, if your model overfits, this means that it will be very good at predicting (or \"remembering\") the sentiment of the training set, but unable to generalise to new, unseen data in the test set. This is undesirable and one technique to mitigate this issue is *dropout*.\n",
    "\n",
    "A dropout layer is defined by the following formula, which can be applied, for example, to a linear layer:\n",
    "\n",
    "$$\\text{tanh}(W(\\mathbf{h}\\odot \\mathbf{d}) + \\mathbf{b})$$\n",
    "\n",
    "where $\\mathbf{d} \\in \\{0, 1\\}^n$, with $d_j \\sim \\text{Bernoulli}(p)$,\n",
    "\n",
    "These formula simply means that we *drop* certain parameters during training (by setting them to zero). Which parameters we drop is stochastically determined by a Bernoulli distribution and the probability of each parameter being dropped is set to $p = 0.5$ in our experiments (see the previous cell of code where we define our output layer). A dropout layer can be applied at many different places in our models. This technique helps against the undesirable effect that a model relies on single parameters for prediction (e.g. if $h^{\\prime}_j$ is large, always predict positive). If we use dropout, the model needs to learn to rely on different parameters, which is desirable to obtain better generalisation to unseen data."
   ]
  },
  {
   "cell_type": "markdown",
   "metadata": {
    "id": "XQjEjLt9z0XW"
   },
   "source": [
    "**Let's train our LSTM!** Note that is will be a lot slower than previous models because we need to do many more computations per sentence.\n",
    "\n",
    "#### Training"
   ]
  },
  {
   "cell_type": "code",
   "execution_count": null,
   "metadata": {
    "colab": {
     "base_uri": "https://localhost:8080/"
    },
    "id": "LgZoSPD4fsf_",
    "outputId": "d65602ea-bb8c-4c29-e993-b6a3010fa987"
   },
   "outputs": [],
   "source": [
    "lstm_args = {\n",
    "    'vocab_size': len(v.w2i),\n",
    "    'embedding_dim': 300,\n",
    "    'hidden_dim': 168,\n",
    "    'output_dim': len(t2i),\n",
    "    'vocab': v\n",
    "}\n",
    "\n",
    "results['lstm_no_batch_original'] = train_with_multiple_seeds(\n",
    "    model_class=LSTMClassifier,\n",
    "    model_args=lstm_args,\n",
    "    seeds=[42, 123, 456],\n",
    "    use_subtrees=False,\n",
    "    **base_train_kwargs,\n",
    "    **lstm_no_batch_kwargs\n",
    ")\n",
    "\n",
    "results['lstm_no_batch_subtrees'] = train_with_multiple_seeds(\n",
    "    model_class=LSTMClassifier,\n",
    "    model_args=lstm_args,\n",
    "    seeds=[42, 123, 456],\n",
    "    use_subtrees=True,\n",
    "    **base_train_kwargs,\n",
    "    **lstm_no_batch_kwargs\n",
    ")"
   ]
  },
  {
   "cell_type": "markdown",
   "metadata": {
    "id": "YEw6XHQY_AAQ"
   },
   "source": [
    "# Mini-batching\n",
    "\n"
   ]
  },
  {
   "cell_type": "markdown",
   "metadata": {
    "id": "FPf96wGzBTQJ"
   },
   "source": [
    "**Why is the LSTM so slow?** Despite our best efforts, we still need to make a lot of matrix multiplications per example (linear in the length of the example) just to get a single classification, and we can only process the 2nd word once we have computed the hidden state for the 1st word (sequential computation).\n",
    "\n",
    "GPUs are more efficient if we do a few big matrix multiplications, rather than lots of small ones. If we could process multiple examples at the same time, then we could exploit that. That is, we could still process the input sequentially, but doing so for multiple sentences at the same time.\n",
    "\n",
    "Up to now our \"mini-batches\" consisted of a single example. This was for a reason: the sentences in our data sets have **different lengths**, and this makes it difficult to process them at the same time.\n",
    "\n",
    "Consider a batch of 2 sentences:\n",
    "\n",
    "```\n",
    "this movie is bad\n",
    "this movie is super cool !\n",
    "```\n",
    "\n",
    "Let's say the IDs for these sentences are:\n",
    "\n",
    "```\n",
    "2 3 4 5\n",
    "2 3 4 6 7 8\n",
    "```\n",
    "\n",
    "We cannot feed PyTorch an object with rows of variable length! We need to turn this into a matrix.\n",
    "\n",
    "The solution is to add **padding values** to our mini-batch:\n",
    "\n",
    "```\n",
    "2 3 4 5 1 1\n",
    "2 3 4 6 7 8\n",
    "```\n",
    "\n",
    "Whenever a sentence is shorter than the longest sentence in a mini-batch, we just use a padding value (here: 1) to fill the matrix.\n",
    "\n",
    "In our computation, we should **ignore** the padding positions (e.g. mask them out) so that paddings do not contribute to the loss.\n",
    "\n",
    "#### Mini-batch feed\n",
    "We will now implement a `get_minibatch` function which will replace `get_example` and returns a mini-batch of the requested size."
   ]
  },
  {
   "cell_type": "code",
   "execution_count": null,
   "metadata": {
    "id": "IoAE2JBiXJ3P"
   },
   "outputs": [],
   "source": [
    "def get_minibatch(data, batch_size=25, shuffle=True):\n",
    "  \"\"\"Return minibatches, optional shuffling\"\"\"\n",
    "\n",
    "  if shuffle:\n",
    "    print(\"Shuffling training data\")\n",
    "    random.shuffle(data)  # shuffle training data each epoch\n",
    "\n",
    "  batch = []\n",
    "\n",
    "  # yield minibatches\n",
    "  for example in data:\n",
    "    batch.append(example)\n",
    "\n",
    "    if len(batch) == batch_size:\n",
    "      yield batch\n",
    "      batch = []\n",
    "\n",
    "  # in case there is something left\n",
    "  if len(batch) > 0:\n",
    "    yield batch"
   ]
  },
  {
   "cell_type": "markdown",
   "metadata": {
    "id": "DwZM-XYkT8Zx"
   },
   "source": [
    "#### Padding function\n",
    "We will need a function that adds padding 1s to a sequence of IDs so that\n",
    "it becomes as long as the longest sequence in the minibatch."
   ]
  },
  {
   "cell_type": "code",
   "execution_count": null,
   "metadata": {
    "colab": {
     "base_uri": "https://localhost:8080/"
    },
    "id": "sp0sK1ghw4Ft",
    "outputId": "669c1ff8-548b-40a8-beab-5f9bd58f78e5"
   },
   "outputs": [],
   "source": [
    "def pad(tokens, length, pad_value=1):\n",
    "  \"\"\"add padding 1s to a sequence to that it has the desired length\"\"\"\n",
    "  return tokens + [pad_value] * (length - len(tokens))\n",
    "\n",
    "# example\n",
    "tokens = [2, 3, 4]\n",
    "pad(tokens, 5)"
   ]
  },
  {
   "cell_type": "markdown",
   "metadata": {
    "id": "SL2iixMYUgfh"
   },
   "source": [
    "#### New `prepare` function\n",
    "\n",
    "We will also need a new function that turns a mini-batch into PyTorch tensors."
   ]
  },
  {
   "cell_type": "code",
   "execution_count": null,
   "metadata": {
    "id": "ZID0cqozWks8"
   },
   "outputs": [],
   "source": [
    "def prepare_minibatch(mb, vocab):\n",
    "  \"\"\"\n",
    "  Minibatch is a list of examples.\n",
    "  This function converts words to IDs and returns\n",
    "  torch tensors to be used as input/targets.\n",
    "  \"\"\"\n",
    "  batch_size = len(mb)\n",
    "  maxlen = max([len(ex.tokens) for ex in mb])\n",
    "\n",
    "  # vocab returns 0 if the word is not there\n",
    "  x = [pad([vocab.w2i.get(t, 0) for t in ex.tokens], maxlen) for ex in mb]\n",
    "\n",
    "  x = torch.LongTensor(x)\n",
    "  x = x.to(device)\n",
    "\n",
    "  y = [ex.label for ex in mb]\n",
    "  y = torch.LongTensor(y)\n",
    "  y = y.to(device)\n",
    "\n",
    "  return x, y"
   ]
  },
  {
   "cell_type": "code",
   "execution_count": null,
   "metadata": {
    "colab": {
     "base_uri": "https://localhost:8080/"
    },
    "id": "OwDAtCv1x2hB",
    "outputId": "2765dbd9-9f90-4911-ae3c-466f57824676"
   },
   "outputs": [],
   "source": [
    "# Let's test our new function.\n",
    "# This should give us 3 examples.\n",
    "mb = next(get_minibatch(train_data, batch_size=3, shuffle=False))\n",
    "for ex in mb:\n",
    "  print(ex)"
   ]
  },
  {
   "cell_type": "code",
   "execution_count": null,
   "metadata": {
    "colab": {
     "base_uri": "https://localhost:8080/"
    },
    "id": "dg8zEK8zyUCH",
    "outputId": "2ac72546-5783-4af5-8ab7-a6a1f712e314"
   },
   "outputs": [],
   "source": [
    "# We should find padding 1s at the end\n",
    "x, y = prepare_minibatch(mb, v)\n",
    "print(\"x\", x)\n",
    "print(\"y\", y)"
   ]
  },
  {
   "cell_type": "markdown",
   "metadata": {
    "id": "xYBJEoSNUwI0"
   },
   "source": [
    "#### Evaluate (mini-batch version)\n",
    "\n",
    "We can now update our evaluation function to use mini-batches"
   ]
  },
  {
   "cell_type": "code",
   "execution_count": null,
   "metadata": {
    "id": "eiZZpEghzqou"
   },
   "outputs": [],
   "source": [
    "# def evaluate(model, data,\n",
    "#              batch_fn=get_minibatch, prep_fn=prepare_minibatch,\n",
    "#              batch_size=16):\n",
    "#   \"\"\"Accuracy of a model on given data set (using mini-batches)\"\"\"\n",
    "#   correct = 0\n",
    "#   total = 0\n",
    "#   model.eval()  # disable dropout\n",
    "\n",
    "#   for mb in batch_fn(data, batch_size=batch_size, shuffle=False):\n",
    "#     x, targets = prep_fn(mb, model.vocab)\n",
    "#     with torch.no_grad():\n",
    "#       logits = model(x)\n",
    "\n",
    "#     predictions = logits.argmax(dim=-1).view(-1)\n",
    "\n",
    "#     # add the number of correct predictions to the total correct\n",
    "#     correct += (predictions == targets.view(-1)).sum().item()\n",
    "#     total += targets.size(0)\n",
    "\n",
    "#   return correct, total, correct / float(total)"
   ]
  },
  {
   "cell_type": "markdown",
   "metadata": {
    "id": "23wAZomozh_2"
   },
   "source": [
    "# LSTM (Mini-batched)"
   ]
  },
  {
   "cell_type": "markdown",
   "metadata": {
    "id": "B-gkPU7jzBe2"
   },
   "source": [
    "With this, let's run the LSTM again but now using mini-batches!"
   ]
  },
  {
   "cell_type": "code",
   "execution_count": null,
   "metadata": {},
   "outputs": [],
   "source": [
    "lstm_batch_kwargs = {\n",
    "    'batch_size': 25,\n",
    "    'eval_batch_size': 25,\n",
    "    'batch_fn': get_minibatch,\n",
    "    'prep_fn': prepare_minibatch,\n",
    "    'freeze_embeddings': True\n",
    "}\n",
    "\n",
    "finetune_lstm_batch_kwargs = {\n",
    "    'batch_size': 25,\n",
    "    'eval_batch_size': 25,\n",
    "    'batch_fn': get_minibatch,\n",
    "    'prep_fn': prepare_minibatch,\n",
    "    'freeze_embeddings': False\n",
    "}"
   ]
  },
  {
   "cell_type": "code",
   "execution_count": null,
   "metadata": {
    "colab": {
     "base_uri": "https://localhost:8080/"
    },
    "id": "226Xg9OPzFbA",
    "outputId": "00998a17-ce17-417c-cd29-a79bc2c99cd6"
   },
   "outputs": [],
   "source": [
    "results['lstm_batch_original'] = train_with_multiple_seeds(\n",
    "    model_class=LSTMClassifier,\n",
    "    model_args=lstm_args,\n",
    "    seeds=[42, 123, 456],\n",
    "    use_subtrees=False,\n",
    "    **base_train_kwargs,\n",
    "    **lstm_batch_kwargs\n",
    ")\n",
    "\n",
    "results['lstm_batch_subtrees'] = train_with_multiple_seeds(\n",
    "    model_class=LSTMClassifier,\n",
    "    model_args=lstm_args,\n",
    "    seeds=[42, 123, 456],\n",
    "    use_subtrees=True,\n",
    "    **base_train_kwargs,\n",
    "    **lstm_batch_kwargs\n",
    ")"
   ]
  },
  {
   "cell_type": "markdown",
   "metadata": {
    "id": "eep3X9go3rtj"
   },
   "source": [
    "Fine-tuning word embeddings"
   ]
  },
  {
   "cell_type": "code",
   "execution_count": null,
   "metadata": {
    "colab": {
     "base_uri": "https://localhost:8080/"
    },
    "id": "HJ01PSst3yAr",
    "outputId": "50f4e834-fa40-47f4-9760-1ba42af7bb2b"
   },
   "outputs": [],
   "source": [
    "\n",
    "results['finetune_lstm_batch_original'] = train_with_multiple_seeds(\n",
    "    model_class=LSTMClassifier,\n",
    "    model_args=lstm_args,\n",
    "    seeds=[42, 123, 456],\n",
    "    use_subtrees=False,\n",
    "    **base_train_kwargs,\n",
    "    **finetune_lstm_batch_kwargs\n",
    ")\n",
    "\n",
    "results['finetune_lstm_batch_subtrees'] = train_with_multiple_seeds(\n",
    "    model_class=LSTMClassifier,\n",
    "    model_args=lstm_args,\n",
    "    seeds=[42, 123, 456],\n",
    "    use_subtrees=True,\n",
    "    **base_train_kwargs,\n",
    "    **finetune_lstm_batch_kwargs\n",
    ")"
   ]
  },
  {
   "cell_type": "markdown",
   "metadata": {
    "id": "q7WjcxXntMi5"
   },
   "source": [
    "# Tree-LSTM"
   ]
  },
  {
   "cell_type": "markdown",
   "metadata": {
    "id": "jyj_UD6GtO5M"
   },
   "source": [
    "In the final part of this lab we will exploit the tree structure of the SST data.\n",
    "Until now we only used the surface tokens, but remember that our data examples include binary trees with a sentiment score at every node.\n",
    "\n",
    "In particular, we will implement **N-ary Tree-LSTMs** which are described in:\n",
    "\n",
    "> Kai Sheng Tai, Richard Socher, and Christopher D. Manning. [Improved Semantic Representations From Tree-Structured Long Short-Term Memory Networks](http://aclweb.org/anthology/P/P15/P15-1150.pdf) ACL 2015.\n",
    "\n",
    "Since our trees are binary (i.e., N=2), we can refer to these as *Binary Tree-LSTMs*. If you study equations (9) to (14) in the paper, you will find that they are not all too different from the original LSTM that you already have.\n",
    "\n",
    "You should read this paper carefully and make sure that you understand the approach. You will also find our LSTM baseline there.\n",
    "Note however that Tree-LSTMs were proposed around the same time by two other groups:\n",
    "\n",
    "> Phong Le and Willem Zuidema. [Compositional distributional semantics with long short term memory](http://anthology.aclweb.org/S/S15/S15-1002.pdf). *SEM 2015.\n",
    "\n",
    "> Xiaodan Zhu, Parinaz Sobihani,  and Hongyu Guo. [Long short-term memory over recursive structures](http://proceedings.mlr.press/v37/zhub15.pdf). ICML 2015.\n",
    "\n",
    "It is good scientific practice to cite all three papers in your report.\n",
    "\n",
    "\n"
   ]
  },
  {
   "cell_type": "markdown",
   "metadata": {
    "id": "1rDzvSos3JFp"
   },
   "source": [
    "## Computation\n",
    "\n",
    "Do you remember the `transitions_from_treestring` function all the way in the beginning of this lab? Every example contains a **transition sequence** produced by this function. Let's look at it again:\n",
    "\n"
   ]
  },
  {
   "cell_type": "code",
   "execution_count": null,
   "metadata": {
    "colab": {
     "base_uri": "https://localhost:8080/"
    },
    "id": "5pg0Xumc3ZUS",
    "outputId": "83fc9449-b515-4caf-b565-6368d218a0c2"
   },
   "outputs": [],
   "source": [
    "ex = next(examplereader(\"trees/dev.txt\"))\n",
    "print(TreePrettyPrinter(ex.tree))\n",
    "print(\"Transitions:\")\n",
    "print(ex.transitions)"
   ]
  },
  {
   "cell_type": "markdown",
   "metadata": {
    "id": "ceBFe9fU4BI_"
   },
   "source": [
    "Note that the tree is **binary**. Every node has two children, except for pre-terminal nodes.\n",
    "\n",
    "A tree like this can be described by a sequence of **SHIFT (0)** and **REDUCE (1)** actions.\n",
    "\n",
    "To construct a tree, we can use the transitions as follows:\n",
    "- **reverse** the sentence (a list of tokens) and call this the **buffer**\n",
    "   - the first word is now on top (last in the list), and we would get it when calling pop() on the buffer\n",
    "- create an empty list and call it the **stack**\n",
    "- iterate through the transition sequence:\n",
    "  - if it says SHIFT(0), we pop a word from the buffer, and push it to the stack\n",
    "  - if it says REDUCE(1), we pop the **top two items** from the stack, and combine them (e.g. with a Tree-LSTM!), creating a new node that we push back on the stack\n",
    "  \n",
    "Convince yourself that going through the transition sequence above will result in the tree that you see.\n",
    "For example, we would start by putting the following words on the stack (by shifting 5 times, starting with `It`):\n",
    "\n",
    "```\n",
    "Top of the stack:\n",
    "-----------------\n",
    "film\n",
    "lovely\n",
    "a\n",
    "'s  \n",
    "It\n",
    "```\n",
    "Now we find a REDUCE in the transition sequence, so we get the top two words (film and lovely), and combine them, so our new stack becomes:\n",
    "```\n",
    "Top of the stack:\n",
    "-----------------\n",
    "lovely film\n",
    "a\n",
    "'s  \n",
    "It\n",
    "```\n",
    "\n",
    "We will use this approach when encoding sentences with our Tree-LSTM.\n",
    "Now, our sentence is a reversed list of word embeddings.\n",
    "When we shift, we move a word embedding to the stack.\n",
    "When we reduce, we apply the Tree-LSTM to the top two vectors, and the result is a single vector that we put back on the stack.\n",
    "After going through the whole transition sequence, we will have the root node on our stack! We can use that to classify the sentence.\n",
    "\n"
   ]
  },
  {
   "cell_type": "markdown",
   "metadata": {
    "id": "pDWKShm1AfmR"
   },
   "source": [
    "## Obtaining the transition sequence\n"
   ]
  },
  {
   "cell_type": "markdown",
   "metadata": {
    "id": "fO7VKWVpAbWj"
   },
   "source": [
    "\n",
    "So what goes on in the `transitions_from_treestring` function?\n",
    "\n",
    "The idea ([explained in this blog post](https://devblogs.nvidia.com/recursive-neural-networks-pytorch/)) is that, if we had a tree, we could traverse through the tree, and every time that we find a node containing only a word, we output a SHIFT.\n",
    "Every time **after** we have finished visiting the children of a node, we output a REDUCE.\n",
    "(What is this tree traversal called?)\n",
    "\n",
    "However, our `transitions_from_treestring` function operates directly on the string representation. It works as follows.\n",
    "\n",
    "We start with the representation:\n",
    "\n",
    "```\n",
    "(3 (2 It) (4 (4 (2 's) (4 (3 (2 a) (4 (3 lovely) (2 film))) (3 (2 with) (4 (3 (3 lovely) (2 performances)) (2 (2 by) (2 (2 (2 Buy) (2 and)) (2 Accorsi))))))) (2 .)))\n",
    "```\n",
    "\n",
    "First we remove pre-terminal nodes (and add spaces before closing brackets):\n",
    "\n",
    "```\n",
    "(3 It (4 (4 's (4 (3 a (4 lovely film ) ) (3 with (4 (3 lovely performances ) (2 by (2 (2 Buy and )  Accorsi ) ) ) ) ) ) . ) )\n",
    "```\n",
    "\n",
    "Then we remove node labels:\n",
    "\n",
    "```\n",
    "( It ( ( 's ( ( a ( lovely film ) ) ( with ( ( lovely performances) ( by ( ( Buy and )  Accorsi ) ) ) ) ) ) . ) )\n",
    "```\n",
    "\n",
    "Then we remove opening brackets:\n",
    "\n",
    "```\n",
    "It 's a lovely film ) ) with lovely performances ) by Buy and ) Accorsi ) ) ) ) ) ) . ) )\n",
    "```\n",
    "\n",
    "Now we replace words by S (for SHIFT), and closing brackets by R (for REDUCE):\n",
    "\n",
    "```\n",
    "S S S S S R R S S S R S S S R S R R R R R R S R R\n",
    "0 0 0 0 0 1 1 0 0 0 1 0 0 0 1 0 1 1 1 1 1 1 0 1 1\n",
    "```\n",
    "\n",
    "Et voilà. We just obtained the transition sequence!"
   ]
  },
  {
   "cell_type": "code",
   "execution_count": null,
   "metadata": {
    "colab": {
     "base_uri": "https://localhost:8080/"
    },
    "id": "1y069gM4_v64",
    "outputId": "79cfdc2c-26ef-4673-b4fd-7afcf6b992d7"
   },
   "outputs": [],
   "source": [
    "# for comparison\n",
    "seq = ex.transitions\n",
    "s = \" \".join([\"S\" if t == 0 else \"R\" for t in seq])\n",
    "print(s)\n",
    "print(\" \".join(map(str, seq)))"
   ]
  },
  {
   "cell_type": "markdown",
   "metadata": {
    "id": "d-qOuKbDAiBn"
   },
   "source": [
    "## Coding the Tree-LSTM\n",
    "\n",
    "The code below contains a Binary Tree-LSTM cell.\n",
    "It is used in the TreeLSTM class below it, which in turn is used in the TreeLSTMClassifier.\n",
    "The job of the TreeLSTM class is to encode a complete sentence and return the root node.\n",
    "The job of the TreeLSTMCell is to return a new state when provided with two children (a reduce action). By repeatedly calling the TreeLSTMCell, the TreeLSTM will encode a sentence. This can be done for multiple sentences at the same time.\n",
    "\n",
    "\n",
    "#### Exercise\n",
    "Check the `forward` function and complete the Tree-LSTM formulas.\n",
    "You can see that we defined a large linear layer for you, that projects the *concatenation* of the left and right child into the input gate, left forget gate, right forget gate, candidate, and output gate."
   ]
  },
  {
   "cell_type": "code",
   "execution_count": null,
   "metadata": {
    "id": "J9b9mjMlN7Pb"
   },
   "outputs": [],
   "source": [
    "class TreeLSTMCell(nn.Module):\n",
    "  \"\"\"A Binary Tree LSTM cell\"\"\"\n",
    "\n",
    "  def __init__(self, input_size, hidden_size, bias=True):\n",
    "    \"\"\"Creates the weights for this LSTM\"\"\"\n",
    "    super(TreeLSTMCell, self).__init__()\n",
    "\n",
    "    self.input_size = input_size\n",
    "    self.hidden_size = hidden_size\n",
    "    self.bias = bias\n",
    "\n",
    "    self.reduce_layer = nn.Linear(2 * hidden_size, 5 * hidden_size)\n",
    "    self.dropout_layer = nn.Dropout(p=0.25)\n",
    "\n",
    "    self.reset_parameters()\n",
    "\n",
    "  def reset_parameters(self):\n",
    "    \"\"\"This is PyTorch's default initialization method\"\"\"\n",
    "    stdv = 1.0 / math.sqrt(self.hidden_size)\n",
    "    for weight in self.parameters():\n",
    "      weight.data.uniform_(-stdv, stdv)\n",
    "\n",
    "  def forward(self, hx_l, hx_r, mask=None):\n",
    "    \"\"\"\n",
    "    hx_l is ((batch, hidden_size), (batch, hidden_size))\n",
    "    hx_r is ((batch, hidden_size), (batch, hidden_size))\n",
    "    \"\"\"\n",
    "    prev_h_l, prev_c_l = hx_l  # left child\n",
    "    prev_h_r, prev_c_r = hx_r  # right child\n",
    "\n",
    "    B = prev_h_l.size(0)\n",
    "\n",
    "    # we concatenate the left and right children\n",
    "    # you can also project from them separately and then sum\n",
    "    children = torch.cat([prev_h_l, prev_h_r], dim=1)\n",
    "\n",
    "    # project the combined children into a 5D tensor for i,fl,fr,g,o\n",
    "    # this is done for speed, and you could also do it separately\n",
    "    proj = self.reduce_layer(children)  # shape: B x 5D\n",
    "\n",
    "    # each shape: B x D\n",
    "    i, f_l, f_r, g, o = torch.chunk(proj, 5, dim=-1)\n",
    "\n",
    "    # main Tree LSTM computation\n",
    "\n",
    "    # YOUR CODE HERE\n",
    "    # You only need to complete the commented lines below.\n",
    "    # raise NotImplementedError(\"Implement this.\")\n",
    "\n",
    "    # The shape of each of these is [batch_size, hidden_size]\n",
    "\n",
    "    i = torch.sigmoid(i)\n",
    "    f_l = torch.sigmoid(f_l)\n",
    "    f_r = torch.sigmoid(f_r)\n",
    "    g = torch.tanh(g)\n",
    "    o = torch.sigmoid(o)\n",
    "\n",
    "    c = f_l * prev_c_l + f_r * prev_c_r + i * g\n",
    "    h = o * torch.tanh(c)\n",
    "\n",
    "    return h, c\n",
    "\n",
    "  def __repr__(self):\n",
    "    return \"{}({:d}, {:d})\".format(\n",
    "        self.__class__.__name__, self.input_size, self.hidden_size)"
   ]
  },
  {
   "cell_type": "markdown",
   "metadata": {
    "id": "Dj5dYSGh_643"
   },
   "source": [
    "## Explanation of the TreeLSTM class\n",
    "\n",
    "\n",
    "The code below contains the TreeLSTM class, which implements everything we need in order to encode a sentence from word embeddings. The calculations are the same as in the paper, implemented such that the class `TreeLSTMCell` above is as general as possible and only takes two children to reduce them into a parent.\n",
    "\n",
    "\n",
    "**Initialize $\\mathbf{h}$ and $\\mathbf{c}$ outside of the cell for the leaves**\n",
    "\n",
    "At the leaves of each tree the children nodes are **empty**, whereas in higher levels the nodes are binary tree nodes that *do* have a left and right child (but no input $x$). By initializing the leaf nodes outside of the cell class (`TreeLSTMCell`), we avoid if-else statements in the forward pass.\n",
    "\n",
    "The `TreeLSTM` class (among other things) pre-calculates an initial $h$ and $c$ for every word in the sentence. Since the initial left and right child are 0, the only calculations we need to do are based on $x$, and we can drop the forget gate calculation (`prev_c_l` and `prev_c_r` are zero). The calculations we do in order to initalize $h$ and $c$ are then:\n",
    "\n",
    "$$\n",
    "c_1 =  W^{(u)}x_1 \\\\\n",
    "o_1 = \\sigma (W^{(i)}x_1) \\\\\n",
    "h_1 = o_1 \\odot \\text{tanh}(c_1)$$\n",
    "*NB: note that these equations are chosen as initializations of $c$ and $h$, other initializations are possible and might work equally well.*\n",
    "\n",
    "**Sentence Representations**\n",
    "\n",
    "All our leaf nodes are now initialized, so we can start processing the sentence in its tree form. Each sentence is represented by a buffer (initially a list with a concatenation of $[h_1, c_1]$ for every word in the reversed sentence), a stack (initially an empty list) and a transition sequence. To encode our sentence, we construct the tree from its transition sequence as explained earlier.\n",
    "\n",
    "*A short example that constructs a tree:*\n",
    "\n",
    "We loop over the time dimension of the batched transition sequences (i.e. row by row), which contain values of 0's, 1's and 2's (representing SHIFT, REDUCE and padding respectively). If we have a batch of size 2 where the first example has a transition sequence given by [0, 0, 1, 0, 0, 0, 1] and the second by [0, 0, 1, 0, 0, 1], our transition batch will be given by the following two-dimensional numpy array:\n",
    "\n",
    "$$\n",
    "\\text{transitions} =\n",
    "\\begin{pmatrix}\n",
    "0 & 0\\\\\n",
    "0 & 0\\\\\n",
    "1 & 1\\\\\n",
    "0 & 0\\\\\n",
    "0 & 0\\\\\n",
    "0 & 1\\\\\n",
    "1 & 2\n",
    "\\end{pmatrix}\n",
    "$$\n",
    "The inner loop (`for transition, buffer, stack in zip(t_batch, buffers, stacks)`) goes over each example in the batch and updates its buffer and stack. The nested loop for this example will then do roughy the following:\n",
    "\n",
    "```\n",
    "Time = 0:  t_batch = [0, 0], the inner loop performs 2 SHIFTs.\n",
    "\n",
    "Time = 1:  t_batch = [0, 0], \"..\"\n",
    "\n",
    "Time = 2:  t_batch = [1, 1], causing the inner loop to fill the list child_l and child_r for both examples in the batch. Now the statement if child_l will return True, triggering a REDUCE action to be performed by our Tree LSTM cell with a batch size of 2.\n",
    "\n",
    "Time = 3:  t_batch = [0, 0], \"..\".\n",
    "\n",
    "Time = 4:  t_batch = [0, 0], \"..\"\n",
    "\n",
    "Time = 5:  t_batch = [0, 1], one SHIFT will be done and another REDUCE action will be performed by our Tree LSTM, this time of batch size 1.  \n",
    "\n",
    "Time = 6:  t_batch = [1, 2], triggering another REDUCE action with batch size 1.\n",
    "```\n",
    "*NB: note that this was an artificial example for the purpose of demonstrating parts of the code, the transition sequences do not necessarily represent actual trees.*\n",
    "\n",
    "**Batching and Unbatching**\n",
    "\n",
    "Within the body of the outer loop over time, we use the functions for batching and unbatching.\n",
    "\n",
    "*Batching*\n",
    "\n",
    "Before passing two lists of children to the reduce layer (an instance of `TreeLSTMCell`), we batch the children as they are at this point a list of tensors of variable length based on how many REDUCE actions there are to perform at a certain time step across the batch (let's call the length `L`). To do an efficient forward pass we want to transform the list to a pair of tensors of shape `([L, D], [L, D])`, which the function `batch` achieves.\n",
    "\n",
    "*Unbatching*\n",
    "\n",
    "In the same line where we batched the children, we unbatch the output of the forward pass to become a list of states of length `L` again. We do this because we need to loop over each example's transition at the current time step and push the children that are reduced into a parent to the stack.\n",
    "\n",
    "*The batch and unbatch functions let us switch between the \"PyTorch world\" (Tensors) and the Python world (easy to manipulate lists).*\n"
   ]
  },
  {
   "cell_type": "code",
   "execution_count": null,
   "metadata": {
    "id": "5PixvTd4AqsQ"
   },
   "outputs": [],
   "source": [
    "# Helper functions for batching and unbatching states\n",
    "# For speed we want to combine computations by batching, but\n",
    "# for processing logic we want to turn the output into lists again\n",
    "# to easily manipulate.\n",
    "\n",
    "def batch(states):\n",
    "  \"\"\"\n",
    "  Turns a list of states into a single tensor for fast processing.\n",
    "  This function also chunks (splits) each state into a (h, c) pair\"\"\"\n",
    "  return torch.cat(states, 0).chunk(2, 1)\n",
    "\n",
    "def unbatch(state):\n",
    "  \"\"\"\n",
    "  Turns a tensor back into a list of states.\n",
    "  First, (h, c) are merged into a single state.\n",
    "  Then the result is split into a list of sentences.\n",
    "  \"\"\"\n",
    "  return torch.split(torch.cat(state, 1), 1, 0)"
   ]
  },
  {
   "cell_type": "markdown",
   "metadata": {
    "id": "CynltDasaLPt"
   },
   "source": [
    "Take some time to understand the class below, having read the explanation above."
   ]
  },
  {
   "cell_type": "code",
   "execution_count": null,
   "metadata": {
    "id": "rQOqMXG4gX5G"
   },
   "outputs": [],
   "source": [
    "class TreeLSTM(nn.Module):\n",
    "  \"\"\"Encodes a sentence using a TreeLSTMCell\"\"\"\n",
    "\n",
    "  def __init__(self, input_size, hidden_size, bias=True):\n",
    "    \"\"\"Creates the weights for this LSTM\"\"\"\n",
    "    super(TreeLSTM, self).__init__()\n",
    "    \n",
    "    # for extra research question to track structure\n",
    "    self.track_tree_info = True\n",
    "\n",
    "    self.input_size = input_size\n",
    "    self.hidden_size = hidden_size\n",
    "    self.bias = bias\n",
    "    self.reduce = TreeLSTMCell(input_size, hidden_size)\n",
    "\n",
    "    # project word to initial c\n",
    "    self.proj_x = nn.Linear(input_size, hidden_size)\n",
    "    self.proj_x_gate = nn.Linear(input_size, hidden_size)\n",
    "\n",
    "    self.buffers_dropout = nn.Dropout(p=0.5)\n",
    "\n",
    "  def forward(self, x, transitions):\n",
    "    \"\"\"\n",
    "    WARNING: assuming x is reversed!\n",
    "    :param x: word embeddings [B, T, E]\n",
    "    :param transitions: [2T-1, B]\n",
    "    :return: root states\n",
    "    \"\"\"\n",
    "\n",
    "    B = x.size(0)  # batch size\n",
    "    T = x.size(1)  # time\n",
    "    \n",
    "    node_states = {\n",
    "      'levels': [[] for _ in range(B)],      # Track depth of each node\n",
    "      'states': [[] for _ in range(B)],      # Track hidden states\n",
    "      'structure': [[] for _ in range(B)],   # Track which nodes combine\n",
    "      'positions': [[] for _ in range(B)]    # Track position in sentence\n",
    "    }\n",
    "\n",
    "    # compute an initial c and h for each word\n",
    "    # Note: this corresponds to input x in the Tai et al. Tree LSTM paper.\n",
    "    # We do not handle input x in the TreeLSTMCell itself.\n",
    "    buffers_c = self.proj_x(x)\n",
    "    buffers_h = buffers_c.tanh()\n",
    "    buffers_h_gate = self.proj_x_gate(x).sigmoid()\n",
    "    buffers_h = buffers_h_gate * buffers_h\n",
    "\n",
    "    # concatenate h and c for each word\n",
    "    buffers = torch.cat([buffers_h, buffers_c], dim=-1)\n",
    "\n",
    "    D = buffers.size(-1) // 2\n",
    "\n",
    "    # we turn buffers into a list of stacks (1 stack for each sentence)\n",
    "    # first we split buffers so that it is a list of sentences (length B)\n",
    "    # then we split each sentence to be a list of word vectors\n",
    "    buffers = buffers.split(1, dim=0)  # Bx[T, 2D]\n",
    "    buffers = [list(b.squeeze(0).split(1, dim=0)) for b in buffers]  # BxTx[2D]\n",
    "\n",
    "    # create B empty stacks\n",
    "    stacks = [[] for _ in buffers]\n",
    "    stack_levels = [[] for _ in buffers]\n",
    "\n",
    "    # t_batch holds 1 transition for each sentence\n",
    "    for t_idx, t_batch in enumerate(transitions):\n",
    "\n",
    "      child_l = []  # contains the left child for each sentence with reduce action\n",
    "      child_r = []  # contains the corresponding right child\n",
    "      reduce_levels_l = []  # Track levels for reduce operations\n",
    "      reduce_levels_r = []\n",
    "      reduce_batch_idx = []  # Track which sentences are being reduced\n",
    "\n",
    "      # iterate over sentences in the batch\n",
    "      # each has a transition t, a buffer and a stack\n",
    "      for b_idx, (transition, buffer, stack) in enumerate(zip(t_batch, buffers, stacks)):\n",
    "        if transition == SHIFT:\n",
    "          # Add leaf node (level 0)\n",
    "          stack.append(buffer.pop())\n",
    "          if self.track_tree_info:\n",
    "              stack_levels[b_idx].append(0)\n",
    "              node_states['levels'][b_idx].append(0)\n",
    "              node_states['positions'][b_idx].append(t_idx)\n",
    "        elif transition == REDUCE:\n",
    "          assert len(stack) >= 2\n",
    "          # Get children and their levels\n",
    "          child_r.append(stack.pop())\n",
    "          child_l.append(stack.pop())\n",
    "          if self.track_tree_info:\n",
    "              r_level = stack_levels[b_idx].pop()\n",
    "              l_level = stack_levels[b_idx].pop()\n",
    "              reduce_levels_r.append(r_level)\n",
    "              reduce_levels_l.append(l_level)\n",
    "              reduce_batch_idx.append(b_idx)\n",
    "\n",
    "      # if there are sentences with reduce transition, perform them batched\n",
    "      if child_l:\n",
    "        reduced = iter(unbatch(self.reduce(batch(child_l), batch(child_r))))\n",
    "        for b_idx, transition in enumerate(t_batch):\n",
    "          if transition == REDUCE:\n",
    "            new_state = next(reduced)\n",
    "            stack.append(new_state)\n",
    "            if self.track_tree_info:\n",
    "              # New node level is max of children + 1\n",
    "              new_level = max(reduce_levels_l[b_idx], reduce_levels_r[b_idx]) + 1\n",
    "              stack_levels[b_idx].append(new_level)\n",
    "              # Store tree structure information\n",
    "              node_states['levels'][reduce_batch_idx[b_idx]].append(new_level)\n",
    "              node_states['structure'][reduce_batch_idx[b_idx]].append({\n",
    "                  'left_child': len(node_states['states'][b_idx]) - 2,\n",
    "                  'right_child': len(node_states['states'][b_idx]) - 1,\n",
    "                  'level': new_level\n",
    "              })\n",
    "              node_states['states'][reduce_batch_idx[b_idx]].append(new_state)\n",
    "              node_states['positions'][reduce_batch_idx[b_idx]].append(t_idx)\n",
    "\n",
    "    final = [stack.pop().chunk(2, -1)[0] for stack in stacks]\n",
    "    final = torch.cat(final, dim=0)  # tensor [B, D]\n",
    "\n",
    "    return {\n",
    "      'final_state': final,\n",
    "      'tree_info': node_states if self.track_tree_info else None\n",
    "    }"
   ]
  },
  {
   "cell_type": "markdown",
   "metadata": {
    "id": "s4EzbVzqaXkw"
   },
   "source": [
    "Just like the LSTM before, we will need an extra class that does the classifications."
   ]
  },
  {
   "cell_type": "code",
   "execution_count": null,
   "metadata": {
    "id": "nLxpYRvtQKge"
   },
   "outputs": [],
   "source": [
    "class TreeLSTMClassifier(nn.Module):\n",
    "  \"\"\"Encodes sentence with a TreeLSTM and projects final hidden state\"\"\"\n",
    "\n",
    "  def __init__(self, vocab_size, embedding_dim, hidden_dim, output_dim, vocab):\n",
    "    super(TreeLSTMClassifier, self).__init__()\n",
    "    self.vocab = vocab\n",
    "    self.hidden_dim = hidden_dim\n",
    "    self.embed = nn.Embedding(vocab_size, embedding_dim, padding_idx=1)\n",
    "    self.treelstm = TreeLSTM(embedding_dim, hidden_dim)\n",
    "    self.output_layer = nn.Sequential(\n",
    "        nn.Dropout(p=0.5),\n",
    "        nn.Linear(hidden_dim, output_dim, bias=True)\n",
    "    )\n",
    "\n",
    "  def forward(self, x):\n",
    "\n",
    "    # x is a pair here of words and transitions; we unpack it here.\n",
    "    # x is batch-major: [B, T], transitions is time major [2T-1, B]\n",
    "    x, transitions = x\n",
    "    emb = self.embed(x)\n",
    "\n",
    "    # Get tree states and structure\n",
    "    tree_output = self.treelstm(emb, transitions)\n",
    "    final_state = tree_output['final_state']\n",
    "    tree_info = tree_output['tree_info']\n",
    "\n",
    "    # Get final prediction\n",
    "    final_logits = self.output_layer(final_state)\n",
    "\n",
    "    if tree_info is not None:\n",
    "      # Make predictions for intermediate nodes\n",
    "      for b_idx in range(len(tree_info['states'])):\n",
    "        # Convert states to predictions for each node in the tree\n",
    "        node_states = torch.stack([state.chunk(2, -1)[0] for state in tree_info['states'][b_idx]])\n",
    "        tree_info['states'][b_idx] = self.output_layer(node_states)\n",
    "\n",
    "      return {\n",
    "          'final_logits': final_logits,\n",
    "          'tree_info': tree_info\n",
    "      }\n",
    "    \n",
    "    return final_logits"
   ]
  },
  {
   "cell_type": "markdown",
   "metadata": {
    "id": "gh9RbhGwaiLg"
   },
   "source": [
    "## Special `prepare` function for Tree-LSTM\n",
    "\n",
    "We need yet another `prepare` function. For our implementation, sentences need to be *reversed*. We will do that here."
   ]
  },
  {
   "cell_type": "code",
   "execution_count": null,
   "metadata": {
    "id": "DiqH-_2xdm9H"
   },
   "outputs": [],
   "source": [
    "def prepare_treelstm_minibatch(mb, vocab):\n",
    "  \"\"\"\n",
    "  Returns sentences reversed (last word first)\n",
    "  Returns transitions together with the sentences.\n",
    "  \"\"\"\n",
    "  batch_size = len(mb)\n",
    "  maxlen = max([len(ex.tokens) for ex in mb])\n",
    "\n",
    "  # vocab returns 0 if the word is not there\n",
    "  # NOTE: reversed sequence!\n",
    "  x = [pad([vocab.w2i.get(t, 0) for t in ex.tokens], maxlen)[::-1] for ex in mb]\n",
    "\n",
    "  x = torch.LongTensor(x)\n",
    "  x = x.to(device)\n",
    "\n",
    "  y = [ex.label for ex in mb]\n",
    "  y = torch.LongTensor(y)\n",
    "  y = y.to(device)\n",
    "\n",
    "  maxlen_t = max([len(ex.transitions) for ex in mb])\n",
    "  transitions = [pad(ex.transitions, maxlen_t, pad_value=2) for ex in mb]\n",
    "  transitions = np.array(transitions)\n",
    "  transitions = transitions.T  # time-major\n",
    "\n",
    "  return (x, transitions), y"
   ]
  },
  {
   "cell_type": "markdown",
   "metadata": {
    "id": "IMUsrlL9ayVe"
   },
   "source": [
    "## Training"
   ]
  },
  {
   "cell_type": "code",
   "execution_count": null,
   "metadata": {},
   "outputs": [],
   "source": [
    "treelstm_kwargs = {\n",
    "    'batch_size': 25,\n",
    "    'eval_batch_size': 25,\n",
    "    'batch_fn': get_minibatch,\n",
    "    'prep_fn': prepare_treelstm_minibatch,\n",
    "    'freeze_embeddings': True\n",
    "}"
   ]
  },
  {
   "cell_type": "code",
   "execution_count": null,
   "metadata": {
    "colab": {
     "base_uri": "https://localhost:8080/"
    },
    "id": "IpOYUdg2D3v0",
    "outputId": "a3e99886-3494-4ab3-9008-cf7f0d569d7f"
   },
   "outputs": [],
   "source": [
    "# Define args for TreeLSTM\n",
    "tree_lstm_args = {\n",
    "    'vocab_size': len(v.w2i),\n",
    "    'embedding_dim': 300,\n",
    "    'hidden_dim': 150,\n",
    "    'output_dim': len(t2i),\n",
    "    'vocab': v\n",
    "}\n",
    "\n",
    "results['treelstm_original'] = train_with_multiple_seeds(\n",
    "    model_class=TreeLSTMClassifier,\n",
    "    model_args=tree_lstm_args,\n",
    "    seeds=[42, 123, 456],\n",
    "    use_subtrees=False,\n",
    "    **base_train_kwargs,\n",
    "    **treelstm_kwargs\n",
    ")\n",
    "\n",
    "results['treelstm_subtrees'] = train_with_multiple_seeds(\n",
    "    model_class=TreeLSTMClassifier,\n",
    "    model_args=tree_lstm_args,\n",
    "    seeds=[42, 123, 456],\n",
    "    use_subtrees=True,\n",
    "    **base_train_kwargs,\n",
    "    **treelstm_kwargs\n",
    ")\n"
   ]
  },
  {
   "cell_type": "code",
   "execution_count": null,
   "metadata": {
    "colab": {
     "base_uri": "https://localhost:8080/",
     "height": 1000
    },
    "id": "DHcHHaLtguUg",
    "outputId": "562b114f-bef4-4f37-9b72-10adbdceb956"
   },
   "outputs": [],
   "source": [
    "# Plot all results\n",
    "plot_research_results(\n",
    "    training_stats_list=list(results.values()),\n",
    "    model_names=list(results.keys())\n",
    ")"
   ]
  },
  {
   "cell_type": "code",
   "execution_count": null,
   "metadata": {
    "id": "3nEqLmWV1DLR"
   },
   "outputs": [],
   "source": [
    "# def save_to_gdrive_mounted(local_dir=\"checkpoints\",\n",
    "#                           gdrive_path=\"/gdrive/My Drive/experiment_checkpoints\"):\n",
    "#     \"\"\"Save checkpoints with timestamp to mounted Google Drive\"\"\"\n",
    "#     try:\n",
    "#         import shutil\n",
    "#         # Create destination directory\n",
    "#         os.makedirs(gdrive_path, exist_ok=True)\n",
    "\n",
    "#         # Create timestamped directory\n",
    "#         timestamp = time.strftime('%Y%m%d_%H%M%S')\n",
    "#         dst = os.path.join(gdrive_path, f\"checkpoints_{timestamp}\")\n",
    "\n",
    "#         # Copy files\n",
    "#         shutil.copytree(local_dir, dst)\n",
    "\n",
    "#         # Also save a summary of what's in each checkpoint\n",
    "#         summary = []\n",
    "#         for checkpoint in Path(local_dir).glob(\"*.pt\"):\n",
    "#             ckpt = torch.load(checkpoint)\n",
    "#             summary.append({\n",
    "#                 'filename': checkpoint.name,\n",
    "#                 'best_eval': ckpt['best_eval'],\n",
    "#                 'iteration': ckpt['current_iter']\n",
    "#             })\n",
    "\n",
    "#         # Save summary\n",
    "#         with open(os.path.join(dst, 'summary.txt'), 'w') as f:\n",
    "#             for item in summary:\n",
    "#                 f.write(f\"{item['filename']}: best_eval={item['best_eval']:.4f}, \"\n",
    "#                        f\"iter={item['iteration']}\\n\")\n",
    "\n",
    "#         print(f\"Saved checkpoints and summary to: {dst}\")\n",
    "\n",
    "#     except Exception as e:\n",
    "#         print(f\"Error saving to Google Drive: {str(e)}\")\n",
    "\n",
    "# # Usage:\n",
    "# save_to_gdrive_mounted()"
   ]
  },
  {
   "cell_type": "code",
   "execution_count": null,
   "metadata": {
    "id": "g1RVnlFXzdHx"
   },
   "outputs": [],
   "source": [
    "# from google.colab import drive\n",
    "# import os\n",
    "# import torch\n",
    "# from pathlib import Path\n",
    "# import shutil\n",
    "\n",
    "# def load_from_gdrive(gdrive_path=\"/gdrive/My Drive/experiment_checkpoints\",\n",
    "#                      local_dir=\"checkpoints\"):\n",
    "#     \"\"\"Load most recent checkpoints from Google Drive to Colab session\"\"\"\n",
    "#     try:\n",
    "#         # Mount Google Drive if not already mounted\n",
    "#         if not os.path.exists('/gdrive'):\n",
    "#             drive.mount('/gdrive')\n",
    "\n",
    "#         # Create local directory\n",
    "#         os.makedirs(local_dir, exist_ok=True)\n",
    "\n",
    "#         # Find most recent checkpoint directory\n",
    "#         checkpoint_dirs = [d for d in Path(gdrive_path).glob(\"checkpoints_*\")]\n",
    "#         if not checkpoint_dirs:\n",
    "#             raise Exception(\"No checkpoint directories found\")\n",
    "\n",
    "#         latest_dir = max(checkpoint_dirs, key=os.path.getctime)\n",
    "#         print(f\"Loading checkpoints from: {latest_dir}\")\n",
    "\n",
    "#         # Copy files to local directory\n",
    "#         for checkpoint in Path(latest_dir).glob(\"*.pt\"):\n",
    "#             shutil.copy2(checkpoint, local_dir)\n",
    "\n",
    "#         # Load checkpoints into memory\n",
    "#         models_comparison = {}\n",
    "#         name_mapping = {\n",
    "#             'BOW': 'BOW',\n",
    "#             'CBOW': 'CBOW',\n",
    "#             'DeepCBOW': 'DeepCBOW',\n",
    "#             'PTDeepCBOW': 'PT-DeepCBOW',\n",
    "#             'LSTMClassifier': 'LSTM-minibatch',\n",
    "#             'TreeLSTMClassifier': 'TreeLSTM'\n",
    "#         }\n",
    "\n",
    "#         # Load best checkpoints for each model\n",
    "#         for checkpoint_path in Path(local_dir).glob(\"*_best.pt\"):\n",
    "#             try:\n",
    "#                 model_name = checkpoint_path.stem.split('_')[0]\n",
    "#                 if model_name in name_mapping:\n",
    "#                     ckpt = torch.load(checkpoint_path)\n",
    "#                     print(f\"Loading checkpoint for {name_mapping[model_name]}\")\n",
    "#                     models_comparison[name_mapping[model_name]] = ckpt\n",
    "#             except Exception as e:\n",
    "#                 print(f\"Error loading {checkpoint_path}: {e}\")\n",
    "\n",
    "#         # Print summary if exists\n",
    "#         summary_path = os.path.join(latest_dir, 'summary.txt')\n",
    "#         if os.path.exists(summary_path):\n",
    "#             print(\"\\nCheckpoint Summary:\")\n",
    "#             with open(summary_path, 'r') as f:\n",
    "#                 print(f.read())\n",
    "\n",
    "#         return models_comparison\n",
    "\n",
    "#     except Exception as e:\n",
    "#         print(f\"Error loading from Google Drive: {str(e)}\")\n",
    "#         return None\n",
    "\n",
    "# models_comparison = load_from_gdrive()\n",
    "\n",
    "# if models_comparison:\n",
    "#     print(\"\\nAvailable models for comparison:\")\n",
    "#     for model_name in models_comparison.keys():\n",
    "#         print(f\"- {model_name}\")\n",
    "\n",
    "#     # Create plots\n",
    "#     plot_model_comparison(\n",
    "#         training_stats_list=list(models_comparison.values()),\n",
    "#         model_names=list(models_comparison.keys()),\n",
    "#         figsize_single=(20, 10)\n",
    "#     )\n",
    "# else:\n",
    "#     print(\"No model statistics available for plotting\")"
   ]
  },
  {
   "cell_type": "markdown",
   "metadata": {
    "id": "f7QZZH86eHqu"
   },
   "source": [
    "# Further experiments and report\n",
    "\n",
    "For your report, you are expected to answer research questions by doing further experiments.\n",
    "\n",
    "## Research Questions\n",
    "\n",
    "Make sure you cover at least the following:\n",
    "\n",
    "- How important is word order for this task?\n",
    "- Does the tree structure help to get a better accuracy?\n",
    "- How does performance depend on the sentence length? Compare the various models. Is there a model that does better on longer sentences? If so, why?\n",
    "- Do you get better performance if you supervise the sentiment **at each node in the tree**? You can extract more training examples by treating every node in each tree as a separate tree. You will need to write a function that extracts all subtrees given a treestring.\n",
    "    - Warning: NLTK's Tree function seems to result in invalid trees in some cases, so be careful if you want to parse the string to a tree structure before extraction the phrases.\n",
    "\n",
    "**To be able to obtain a full grade (10), you should conduct further investigations.** For example, you can also investigate one the following:\n",
    "\n",
    "- When making a wrong prediction, can you figure out at what point in the tree (sentence) the model fails? You can make a prediction at each node to investigate.\n",
    "- How does N-ary Tree LSTM compare to the Child-Sum Tree LSTM?\n",
    "- How do the Tai et al. Tree LSTMs compare to Le & Zuidema's formulation?\n",
    "- Or... your own research question!\n",
    "\n",
    "These examples should give you an idea of the expected scope of your further investigations. The maximum number of points awarded for these further investigations depends on the depth of your analysis, and can also be awarded for one of the further research questions already listed above.\n",
    "\n",
    "In general:\n",
    "\n",
    "- ***When you report numbers, please report the mean accuracy across 3 (or more) runs with different random seed, together with the standard deviation.*** This is because the final performance may vary per random seed.\n",
    "More precisely, you should run each model with 3 different seeds, and for each of these 3 runs, evaluate the best model (according to the validation) on the test dataset. The validation dataset is used for finding the best model over iterations, but the accuracy you report should be on the test dataset.\n",
    "\n",
    "## Report instructions\n",
    "\n",
    "Your report needs to be written in LaTeX. You are required to use the ACL 2023 template which you can download from or edit directly on [Overleaf](https://www.overleaf.com/latex/templates/acl-2023-proceedings-template/qjdgcrdwcnwp). Make sure your names and student numbers are visible at the top. (Tip: you need to uncomment `\\aclfinalcopy`).\n",
    "You can find some general tips about writing a research paper [here](https://www.microsoft.com/en-us/research/academic-program/write-great-research-paper/), but note that you need to make your own judgment about what is appropriate for this project.\n",
    "\n",
    "We expect you to use the following structure:\n",
    "1. Introduction (~1 page) - describe the problem, your research questions and goals, a summary of your findings and contributions. Please cite related work (models, data set) as part of your introduction here, since this is a short paper.\n",
    "    - Introduce the task and the main goal\n",
    "    - Present your research questions\n",
    "    - Motivate the importance of the questions\n",
    "    - Present and explain your expectations\n",
    "    - Make clear whether the research questions are addressed or not addressed in the literature\n",
    "    - Describe the approach you use to answer the research questions\n",
    "    - Summarise your findings\n",
    "2. Background (~1/2-1 page) -\n",
    "cover the main techniques (\"building blocks\") used in your project (e.g. word embeddings, LSTM, Tree-LSTM) and intuitions behind them. Be accurate and concise.\n",
    "    - How does each technique work? (Don't just copy the formulas)\n",
    "    - What is the relation between the techniques?\n",
    "3. Models (~1/2 page) - Describe the architecture of the final models.\n",
    "    - How do you use LSTM or Tree-LSTM for the sentiment classification task?\n",
    "    - What layers do you have, how do you do classification?\n",
    "    - What is your loss function?\n",
    "    - Etc.\n",
    "4. Experiments (~1/2 page) - Describe your experimental setup. This section should allow someone else to reproduce your experiments. Describe how you evaluate the models.\n",
    "    - Task and the data\n",
    "    - Training (model, data, parameters and hyper parameters, training algorithms, supervision signals, etc.)\n",
    "    - Evaluation (e.g. metrics)\n",
    "5. Results and Analysis (~1 page). Present the results and analyse your findings.\n",
    "    - Answer each of the research questions you raised in the introduction.\n",
    "    - Use figures and tables to highlight interesting patterns\n",
    "    - What are the factors that make model A better than model B in task C? Investigate to prove their effect!\n",
    "6. Conclusion (~1/4 page). Present the conclusions that can be drawn from your experiments.\n",
    "    - What have you learned from you experiments?\n",
    "    - How do your findings relate to what is already known in the literature?\n",
    "    - Were the results as expected? Any surprising results? Why?\n",
    "    - Based on what you learned, what would you suggest doing next?\n",
    "\n",
    "\n",
    "General Tips:\n",
    "\n",
    "- Math notation – define each variable (either in running text, or in a pseudo-legenda after or before the equation).\n",
    "- Define technical terminology you need.\n",
    "- Avoid colloquial language – everything can be said in a scientific-sounding way.\n",
    "- Avoid lengthy sentences, stay to the point.\n",
    "- Do not spend space on \"obvious\" things.\n",
    "- Do not go over the page limit. (We will deduct points for that.)\n",
    "- The page limit is 4 pages excluding references and appendix. This is a strict limit; points will be deducted for longer reports.\n",
    "- There is no strict limit to references and appendix. However, the report needs to remain fully self-contained: the appendix should only include content that is not necessary to understand your work. For example, preprocessing decisions, model parameters, pseudocode, sample system inputs/outputs, and other details that are necessary for the exact replication of your work can be put into the appendix.\n",
    "\n",
    "\n",
    "An ideal report:\n",
    "- Precise, scientific, technical, to the point\n",
    "  - Little general “waffle”/chit-chat\n",
    "- Not boring – because you don’t explain obvious things too much\n",
    "- Efficient delivery of (only) the facts that we need to know to understand/reimplement\n",
    "- Results visually well-presented and described with the correct priority of importance of sub-results\n",
    "- Insightful analysis – speculation should connect to something interesting and not be too much; the reader “learns something new”\n",
    "- No typos, no colloquialisms – well-considered language\n",
    "- This normally means several re-draftings (re-orderings of information)\n"
   ]
  }
 ],
 "metadata": {
  "accelerator": "GPU",
  "colab": {
   "include_colab_link": true,
   "provenance": []
  },
  "kernelspec": {
   "display_name": "nlp1_env",
   "language": "python",
   "name": "python3"
  },
  "language_info": {
   "codemirror_mode": {
    "name": "ipython",
    "version": 3
   },
   "file_extension": ".py",
   "mimetype": "text/x-python",
   "name": "python",
   "nbconvert_exporter": "python",
   "pygments_lexer": "ipython3",
   "version": "3.7.12"
  }
 },
 "nbformat": 4,
 "nbformat_minor": 0
}
