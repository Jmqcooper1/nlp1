{
 "cells": [
  {
   "cell_type": "markdown",
   "metadata": {
    "colab_type": "text",
    "id": "view-in-github"
   },
   "source": [
    "<a href=\"https://colab.research.google.com/github/Jmqcooper1/nlp1/blob/main/NLP1_2024_Practical_2_(student_version).ipynb\" target=\"_parent\"><img src=\"https://colab.research.google.com/assets/colab-badge.svg\" alt=\"Open In Colab\"/></a>"
   ]
  },
  {
   "cell_type": "markdown",
   "metadata": {
    "id": "ptMZZMQlfn7c"
   },
   "source": [
    "------\n",
    "**You cannot apply any changes to this file, so please make sure to save it on your Google Colab drive or download it as a .ipynb file.**\n",
    "\n",
    "------\n"
   ]
  },
  {
   "cell_type": "markdown",
   "metadata": {
    "id": "jILqpPLlE9r0"
   },
   "source": [
    "# Practical 2: Representing Sentences with Neural Models"
   ]
  },
  {
   "cell_type": "markdown",
   "metadata": {
    "id": "8JXOZ5uhQ8Qq"
   },
   "source": [
    "In this second practical, we will train neural network models to obtain sentence representations. We can then use these sentence representations for a downstream task such as sentiment classification.\n",
    "\n",
    "In this notebook, we will help you to develop models for your experiments. But this time, next to completing the notebook, **you are expected to write a four-page scientific report with your findings**. Please still submit the notebook together with your scientific report so that we can reproduce your experiments. (Note: if you find it useful, you can split this notebook into multiple notebooks. If you do so, keep it mind that it should be possible for your TAs to reproduce the entire content of the notebooks without having to ask for clarifications or to copy and paste functions from one sub-notebook to another.) Make sure your code corresponds to the description you give in the report; we will deduct points if this is not the case. **Make sure you run all your code before submitting the notebook, and do not leave unnecessary print statements / cells in your notebook that are not intended for the grader.**\n",
    "\n",
    "**Important!** The main purpose of this lab is for you to learn how to answer research questions by experimenting and then writing a scientific report.\n",
    "So you will be *judged by the quality of your report* but will lose points if your experiments are not reproducible.\n",
    "You can find the requirements for the report at the end of this notebook.\n",
    "\n",
    "\n",
    "### Data set\n",
    "We will use the [Stanford Sentiment Treebank](https://nlp.stanford.edu/sentiment/) (SST), which provides sentences, their binary tree structure, and fine-grained sentiment scores.\n",
    "This dataset is different from the one we used in the first practical.\n",
    "In Practical 1, a review consisted of several sentences, and we had one sentiment score for the whole review. Now, a review consists of a single sentence, and we have a sentiment score for each node in the binary tree that makes up the sentence, including the root node (i.e., we still have an overall sentiment score for the entire review). We will look at an example below.\n",
    "\n",
    "In the first part of this practical we will only make use of the sentence tokens whereas in the second part we will also exploit the tree structure that is provided by the SST.\n",
    "\n",
    "We will cover the following approaches:\n",
    "\n",
    "- Bag-of-words (BOW)\n",
    "- Continuous bag-of-words (CBOW)\n",
    "- Deep continuous bag-of-words (Deep CBOW)\n",
    "- LSTM\n",
    "- Tree-LSTM\n"
   ]
  },
  {
   "cell_type": "markdown",
   "metadata": {
    "id": "YbNKef3lymaj"
   },
   "source": [
    "## Preparing the data"
   ]
  },
  {
   "cell_type": "markdown",
   "metadata": {
    "id": "9jxTkpg59FlU"
   },
   "source": [
    "Let's first download the data set and take a look."
   ]
  },
  {
   "cell_type": "code",
   "execution_count": null,
   "metadata": {
    "id": "WZp53HmMP3F2"
   },
   "outputs": [],
   "source": [
    "import re\n",
    "import random\n",
    "import time\n",
    "import math\n",
    "import numpy as np\n",
    "import nltk\n",
    "import matplotlib.pyplot as plt\n",
    "import pandas as pd\n",
    "from tqdm import tqdm\n",
    "import logging\n",
    "from pathlib import Path\n",
    "import torch.cuda as cuda\n",
    "plt.style.use('default')"
   ]
  },
  {
   "cell_type": "code",
   "execution_count": 3,
   "metadata": {
    "id": "TovFkDTgE_d6"
   },
   "outputs": [
    {
     "name": "stdout",
     "output_type": "stream",
     "text": [
      "--2024-12-11 14:30:49--  http://nlp.stanford.edu/sentiment/trainDevTestTrees_PTB.zip\n",
      "Resolving nlp.stanford.edu (nlp.stanford.edu)... 171.64.67.140\n",
      "Connecting to nlp.stanford.edu (nlp.stanford.edu)|171.64.67.140|:80... connected.\n",
      "HTTP request sent, awaiting response... 302 Found\n",
      "Location: https://nlp.stanford.edu/sentiment/trainDevTestTrees_PTB.zip [following]\n",
      "--2024-12-11 14:30:49--  https://nlp.stanford.edu/sentiment/trainDevTestTrees_PTB.zip\n",
      "Connecting to nlp.stanford.edu (nlp.stanford.edu)|171.64.67.140|:443... connected.\n",
      "HTTP request sent, awaiting response... 200 OK\n",
      "Length: 789539 (771K) [application/zip]\n",
      "Saving to: ‘trainDevTestTrees_PTB.zip.2’\n",
      "\n",
      "trainDevTestTrees_P 100%[===================>] 771.03K   198KB/s    in 3.9s    \n",
      "\n",
      "2024-12-11 14:30:54 (198 KB/s) - ‘trainDevTestTrees_PTB.zip.2’ saved [789539/789539]\n",
      "\n",
      "Archive:  trainDevTestTrees_PTB.zip\n",
      "replace trees/dev.txt? [y]es, [n]o, [A]ll, [N]one, [r]ename: ^C\n"
     ]
    }
   ],
   "source": [
    "!wget http://nlp.stanford.edu/sentiment/trainDevTestTrees_PTB.zip\n",
    "!unzip trainDevTestTrees_PTB.zip"
   ]
  },
  {
   "cell_type": "code",
   "execution_count": 4,
   "metadata": {
    "id": "0IpAphkBO5eW"
   },
   "outputs": [],
   "source": [
    "# this function reads in a textfile and fixes an issue with \"\\\\\"\n",
    "def filereader(path):\n",
    "  with open(path, mode=\"r\", encoding=\"utf-8\") as f:\n",
    "    for line in f:\n",
    "      yield line.strip().replace(\"\\\\\",\"\")"
   ]
  },
  {
   "cell_type": "markdown",
   "metadata": {
    "id": "yP_jpquiprH8"
   },
   "source": [
    "Let's look at a data point. It is a **flattened binary tree**, with sentiment scores at every node, and words as the leaves (or *terminal nodes*)."
   ]
  },
  {
   "cell_type": "code",
   "execution_count": 5,
   "metadata": {
    "colab": {
     "base_uri": "https://localhost:8080/"
    },
    "id": "ylkIopm0QJML",
    "outputId": "6dc60009-e7a4-4002-db37-d4f49bca1607"
   },
   "outputs": [
    {
     "name": "stdout",
     "output_type": "stream",
     "text": [
      "(3 (2 It) (4 (4 (2 's) (4 (3 (2 a) (4 (3 lovely) (2 film))) (3 (2 with) (4 (3 (3 lovely) (2 performances)) (2 (2 by) (2 (2 (2 Buy) (2 and)) (2 Accorsi))))))) (2 .)))\n"
     ]
    }
   ],
   "source": [
    "s = next(filereader(\"trees/dev.txt\"))\n",
    "print(s)"
   ]
  },
  {
   "cell_type": "code",
   "execution_count": 6,
   "metadata": {
    "colab": {
     "base_uri": "https://localhost:8080/"
    },
    "id": "7_U7HTFwdrWt",
    "outputId": "80055d7f-8755-423b-8804-3363222bc06b"
   },
   "outputs": [
    {
     "name": "stdout",
     "output_type": "stream",
     "text": [
      "              3                                                                     \n",
      "  ____________|____________________                                                  \n",
      " |                                 4                                                \n",
      " |        _________________________|______________________________________________   \n",
      " |       4                                                                        | \n",
      " |    ___|______________                                                          |  \n",
      " |   |                  4                                                         | \n",
      " |   |         _________|__________                                               |  \n",
      " |   |        |                    3                                              | \n",
      " |   |        |               _____|______________________                        |  \n",
      " |   |        |              |                            4                       | \n",
      " |   |        |              |            ________________|_______                |  \n",
      " |   |        |              |           |                        2               | \n",
      " |   |        |              |           |                 _______|___            |  \n",
      " |   |        3              |           |                |           2           | \n",
      " |   |    ____|_____         |           |                |        ___|_____      |  \n",
      " |   |   |          4        |           3                |       2         |     | \n",
      " |   |   |     _____|___     |      _____|_______         |    ___|___      |     |  \n",
      " 2   2   2    3         2    2     3             2        2   2       2     2     2 \n",
      " |   |   |    |         |    |     |             |        |   |       |     |     |  \n",
      " It  's  a  lovely     film with lovely     performances  by Buy     and Accorsi  . \n",
      "\n"
     ]
    },
    {
     "name": "stderr",
     "output_type": "stream",
     "text": [
      "/tmp/ipykernel_18179/348436308.py:5: DeprecationWarning: \n",
      "    Class TreePrettyPrinter has been deprecated.  Import\n",
      "    `TreePrettyPrinter` using `from nltk.tree import\n",
      "    TreePrettyPrinter` instead.\n",
      "  print(TreePrettyPrinter(tree))\n"
     ]
    }
   ],
   "source": [
    "# We can use NLTK to better visualise the tree structure of the sentence\n",
    "from nltk import Tree\n",
    "from nltk.treeprettyprinter import TreePrettyPrinter\n",
    "tree = Tree.fromstring(s)\n",
    "print(TreePrettyPrinter(tree))"
   ]
  },
  {
   "cell_type": "markdown",
   "metadata": {
    "id": "ekAWKsji9t93"
   },
   "source": [
    "The sentiment scores range from 0 (very negative) to 5 (very positive). Again, as you can see, every node in the tree is labeled with a sentiment score. For now, we will only use the score at the **root node**, i.e., the sentiment score for the complete sentence."
   ]
  },
  {
   "cell_type": "code",
   "execution_count": 7,
   "metadata": {
    "colab": {
     "base_uri": "https://localhost:8080/"
    },
    "id": "DKynLm0xPKr2",
    "outputId": "bc0a3ccf-2ed2-4f4d-e3f8-e3330dcb18de"
   },
   "outputs": [
    {
     "name": "stdout",
     "output_type": "stream",
     "text": [
      "['It', \"'s\", 'a', 'lovely', 'film', 'with', 'lovely', 'performances', 'by', 'Buy', 'and', 'Accorsi', '.']\n",
      "13\n"
     ]
    }
   ],
   "source": [
    "# Let's first make a function that extracts the tokens (the leaves).\n",
    "\n",
    "def tokens_from_treestring(s):\n",
    "  \"\"\"extract the tokens from a sentiment tree\"\"\"\n",
    "  return re.sub(r\"\\([0-9] |\\)\", \"\", s).split()\n",
    "\n",
    "# let's try it on our example tree\n",
    "tokens = tokens_from_treestring(s)\n",
    "print(tokens)\n",
    "print(len(tokens))"
   ]
  },
  {
   "cell_type": "markdown",
   "metadata": {
    "id": "B8vFkeqN-NLP"
   },
   "source": [
    "> *Warning: you could also parse a treestring using NLTK and ask it to return the leaves, but there seems to be an issue with NLTK not always correctly parsing the input, so do not rely on it.*"
   ]
  },
  {
   "cell_type": "code",
   "execution_count": 8,
   "metadata": {
    "id": "Akr9K_Mv4dym"
   },
   "outputs": [
    {
     "name": "stderr",
     "output_type": "stream",
     "text": [
      "<>:9: SyntaxWarning: invalid escape sequence '\\('\n",
      "<>:10: SyntaxWarning: invalid escape sequence '\\)'\n",
      "<>:11: SyntaxWarning: invalid escape sequence '\\('\n",
      "<>:12: SyntaxWarning: invalid escape sequence '\\('\n",
      "<>:13: SyntaxWarning: invalid escape sequence '\\)'\n",
      "<>:9: SyntaxWarning: invalid escape sequence '\\('\n",
      "<>:10: SyntaxWarning: invalid escape sequence '\\)'\n",
      "<>:11: SyntaxWarning: invalid escape sequence '\\('\n",
      "<>:12: SyntaxWarning: invalid escape sequence '\\('\n",
      "<>:13: SyntaxWarning: invalid escape sequence '\\)'\n",
      "/tmp/ipykernel_18179/1625531552.py:9: SyntaxWarning: invalid escape sequence '\\('\n",
      "  s = re.sub(\"\\([0-5] ([^)]+)\\)\", \"0\", s)\n",
      "/tmp/ipykernel_18179/1625531552.py:10: SyntaxWarning: invalid escape sequence '\\)'\n",
      "  s = re.sub(\"\\)\", \" )\", s)\n",
      "/tmp/ipykernel_18179/1625531552.py:11: SyntaxWarning: invalid escape sequence '\\('\n",
      "  s = re.sub(\"\\([0-4] \", \"\", s)\n",
      "/tmp/ipykernel_18179/1625531552.py:12: SyntaxWarning: invalid escape sequence '\\('\n",
      "  s = re.sub(\"\\([0-4] \", \"\", s)\n",
      "/tmp/ipykernel_18179/1625531552.py:13: SyntaxWarning: invalid escape sequence '\\)'\n",
      "  s = re.sub(\"\\)\", \"1\", s)\n"
     ]
    }
   ],
   "source": [
    "# We will also need the following function, but you can ignore this for now.\n",
    "# It is explained later on.\n",
    "\n",
    "SHIFT = 0\n",
    "REDUCE = 1\n",
    "\n",
    "\n",
    "def transitions_from_treestring(s):\n",
    "  s = re.sub(\"\\([0-5] ([^)]+)\\)\", \"0\", s)\n",
    "  s = re.sub(\"\\)\", \" )\", s)\n",
    "  s = re.sub(\"\\([0-4] \", \"\", s)\n",
    "  s = re.sub(\"\\([0-4] \", \"\", s)\n",
    "  s = re.sub(\"\\)\", \"1\", s)\n",
    "  return list(map(int, s.split()))"
   ]
  },
  {
   "cell_type": "code",
   "execution_count": 9,
   "metadata": {
    "colab": {
     "base_uri": "https://localhost:8080/"
    },
    "id": "mNtPdlwPgRat",
    "outputId": "9c999c1a-80e0-4e56-cfe0-b543b20985f2"
   },
   "outputs": [
    {
     "name": "stdout",
     "output_type": "stream",
     "text": [
      "trees/train.txt  8544\n",
      "trees/dev.txt    1101\n",
      "trees/test.txt   2210\n"
     ]
    }
   ],
   "source": [
    "# Now let's first see how large our data sets are.\n",
    "for path in (\"trees/train.txt\", \"trees/dev.txt\", \"trees/test.txt\"):\n",
    "  print(\"{:16s} {:4d}\".format(path, sum(1 for _ in filereader(path))))"
   ]
  },
  {
   "cell_type": "markdown",
   "metadata": {
    "id": "HexlSqTR_UrY"
   },
   "source": [
    "You can see that the number of sentences is not very large. That's probably because the data set required so much manual annotation. However, it is large enough to train a neural network on."
   ]
  },
  {
   "cell_type": "markdown",
   "metadata": {
    "id": "IfRjelOcsXuC"
   },
   "source": [
    "It will be useful to store each data example in an `Example` object,\n",
    "containing everything that we may need for each data point.\n",
    "It will contain the tokens, the tree, the top-level sentiment label, and\n",
    "the transitions (explained later)."
   ]
  },
  {
   "cell_type": "code",
   "execution_count": 10,
   "metadata": {
    "colab": {
     "base_uri": "https://localhost:8080/"
    },
    "id": "4I07Hb_-q8wg",
    "outputId": "cc2a8f6b-3170-45be-a6d5-9b68d34b80ff"
   },
   "outputs": [
    {
     "name": "stdout",
     "output_type": "stream",
     "text": [
      "train 8544\n",
      "dev 1101\n",
      "test 2210\n"
     ]
    }
   ],
   "source": [
    "from collections import namedtuple\n",
    "from nltk import Tree\n",
    "\n",
    "# A simple way to define a class is using namedtuple.\n",
    "Example = namedtuple(\"Example\", [\"tokens\", \"tree\", \"label\", \"transitions\"])\n",
    "\n",
    "\n",
    "def examplereader(path, lower=False):\n",
    "  \"\"\"Returns all examples in a file one by one.\"\"\"\n",
    "  for line in filereader(path):\n",
    "    line = line.lower() if lower else line\n",
    "    tokens = tokens_from_treestring(line)\n",
    "    tree = Tree.fromstring(line)  # use NLTK's Tree\n",
    "    label = int(line[1])\n",
    "    trans = transitions_from_treestring(line)\n",
    "    yield Example(tokens=tokens, tree=tree, label=label, transitions=trans)\n",
    "\n",
    "\n",
    "# Let's load the data into memory.\n",
    "LOWER = False  # we will keep the original casing\n",
    "train_data = list(examplereader(\"trees/train.txt\", lower=LOWER))\n",
    "dev_data = list(examplereader(\"trees/dev.txt\", lower=LOWER))\n",
    "test_data = list(examplereader(\"trees/test.txt\", lower=LOWER))\n",
    "\n",
    "print(\"train\", len(train_data))\n",
    "print(\"dev\", len(dev_data))\n",
    "print(\"test\", len(test_data))"
   ]
  },
  {
   "cell_type": "markdown",
   "metadata": {
    "id": "6KM0bDyeVZtP"
   },
   "source": [
    "Let's check out an `Example` object."
   ]
  },
  {
   "cell_type": "code",
   "execution_count": 11,
   "metadata": {
    "colab": {
     "base_uri": "https://localhost:8080/"
    },
    "id": "J8mwcaZwxP1c",
    "outputId": "a3772e01-41db-4f93-8c78-c8dd70591cfc"
   },
   "outputs": [
    {
     "name": "stdout",
     "output_type": "stream",
     "text": [
      "First example: Example(tokens=['It', \"'s\", 'a', 'lovely', 'film', 'with', 'lovely', 'performances', 'by', 'Buy', 'and', 'Accorsi', '.'], tree=Tree('3', [Tree('2', ['It']), Tree('4', [Tree('4', [Tree('2', [\"'s\"]), Tree('4', [Tree('3', [Tree('2', ['a']), Tree('4', [Tree('3', ['lovely']), Tree('2', ['film'])])]), Tree('3', [Tree('2', ['with']), Tree('4', [Tree('3', [Tree('3', ['lovely']), Tree('2', ['performances'])]), Tree('2', [Tree('2', ['by']), Tree('2', [Tree('2', [Tree('2', ['Buy']), Tree('2', ['and'])]), Tree('2', ['Accorsi'])])])])])])]), Tree('2', ['.'])])]), label=3, transitions=[0, 0, 0, 0, 0, 1, 1, 0, 0, 0, 1, 0, 0, 0, 1, 0, 1, 1, 1, 1, 1, 1, 0, 1, 1])\n",
      "First example tokens: ['It', \"'s\", 'a', 'lovely', 'film', 'with', 'lovely', 'performances', 'by', 'Buy', 'and', 'Accorsi', '.']\n",
      "First example label: 3\n"
     ]
    }
   ],
   "source": [
    "example = dev_data[0]\n",
    "print(\"First example:\", example)\n",
    "print(\"First example tokens:\", example.tokens)\n",
    "print(\"First example label:\",  example.label)"
   ]
  },
  {
   "cell_type": "markdown",
   "metadata": {
    "id": "-WDSprDBVcr-"
   },
   "source": [
    "#### Vocabulary\n",
    "A first step in most NLP tasks is collecting all the word types that appear in the data into a vocabulary, and counting the frequency of their occurrences. On the one hand, this will give us an overview of the word distribution of the data set (what are the most frequent words, how many rare words are there, ...). On the other hand, we will also use the vocabulary to map each word to a unique numeric ID, which is a more handy index than a string."
   ]
  },
  {
   "cell_type": "code",
   "execution_count": 12,
   "metadata": {
    "id": "VvNgKx7usRSt"
   },
   "outputs": [],
   "source": [
    "# Here we first define a class that can map a word to an ID (w2i)\n",
    "# and back (i2w).\n",
    "\n",
    "from collections import Counter, OrderedDict, defaultdict\n",
    "\n",
    "\n",
    "class OrderedCounter(Counter, OrderedDict):\n",
    "  \"\"\"Counter that remembers the order elements are first seen\"\"\"\n",
    "  def __repr__(self):\n",
    "    return '%s(%r)' % (self.__class__.__name__,\n",
    "                      OrderedDict(self))\n",
    "  def __reduce__(self):\n",
    "    return self.__class__, (OrderedDict(self),)\n",
    "\n",
    "\n",
    "class Vocabulary:\n",
    "  \"\"\"A vocabulary, assigns IDs to tokens\"\"\"\n",
    "\n",
    "  def __init__(self):\n",
    "    self.freqs = OrderedCounter()\n",
    "    self.w2i = {}\n",
    "    self.i2w = []\n",
    "\n",
    "  def count_token(self, t):\n",
    "    self.freqs[t] += 1\n",
    "\n",
    "  def add_token(self, t):\n",
    "    self.w2i[t] = len(self.w2i)\n",
    "    self.i2w.append(t)\n",
    "\n",
    "  def build(self, min_freq=0):\n",
    "    '''\n",
    "    min_freq: minimum number of occurrences for a word to be included\n",
    "              in the vocabulary\n",
    "    '''\n",
    "    self.add_token(\"<unk>\")  # reserve 0 for <unk> (unknown words)\n",
    "    self.add_token(\"<pad>\")  # reserve 1 for <pad> (discussed later)\n",
    "\n",
    "    tok_freq = list(self.freqs.items())\n",
    "    tok_freq.sort(key=lambda x: x[1], reverse=True)\n",
    "    for tok, freq in tok_freq:\n",
    "      if freq >= min_freq:\n",
    "        self.add_token(tok)"
   ]
  },
  {
   "cell_type": "markdown",
   "metadata": {
    "id": "kOvkH_llVsoW"
   },
   "source": [
    "The vocabulary has by default an `<unk>` token and a `<pad>` token. The `<unk>` token is reserved for all words which do not appear in the training data (and for which, therefore, we cannot learn word representations). The function of the `<pad>` token will be explained later.\n",
    "\n",
    "\n",
    "Let's build the vocabulary!\n"
   ]
  },
  {
   "cell_type": "code",
   "execution_count": 13,
   "metadata": {
    "colab": {
     "base_uri": "https://localhost:8080/"
    },
    "id": "GwGQgQQBNUSq",
    "outputId": "6b0be0c8-f97b-4845-f070-bd51614b5a4c"
   },
   "outputs": [
    {
     "name": "stdout",
     "output_type": "stream",
     "text": [
      "Vocabulary size: 18280\n"
     ]
    }
   ],
   "source": [
    "# This process should be deterministic and should have the same result\n",
    "# if run multiple times on the same data set.\n",
    "\n",
    "v = Vocabulary()\n",
    "for data_set in (train_data,):\n",
    "  for ex in data_set:\n",
    "    for token in ex.tokens:\n",
    "      v.count_token(token)\n",
    "\n",
    "v.build()\n",
    "print(\"Vocabulary size:\", len(v.w2i))"
   ]
  },
  {
   "cell_type": "markdown",
   "metadata": {
    "id": "-UNIedPrPdCw"
   },
   "source": [
    "Let's have a closer look at the properties of our vocabulary. Having a good idea of what it is like can facilitate data analysis and debugging later on."
   ]
  },
  {
   "cell_type": "code",
   "execution_count": 14,
   "metadata": {
    "id": "oJyuogmh0CA7"
   },
   "outputs": [
    {
     "data": {
      "text/plain": [
       "1973"
      ]
     },
     "execution_count": 14,
     "metadata": {},
     "output_type": "execute_result"
    }
   ],
   "source": [
    "# What is the ID for \"century?\"\n",
    "v.w2i[\"century\"]"
   ]
  },
  {
   "cell_type": "code",
   "execution_count": 15,
   "metadata": {
    "id": "O8OkPQ8Zv-rI"
   },
   "outputs": [
    {
     "name": "stdout",
     "output_type": "stream",
     "text": [
      "<unk>\n",
      "<pad>\n",
      ".\n",
      ",\n",
      "the\n",
      "and\n",
      "a\n",
      "of\n",
      "to\n",
      "'s\n"
     ]
    }
   ],
   "source": [
    "# What are the first 10 words in the vocabulary (based on their IDs)?\n",
    "for i in range(10):\n",
    "    print(v.i2w[i])"
   ]
  },
  {
   "cell_type": "code",
   "execution_count": 16,
   "metadata": {
    "id": "kmXwu02lOLWI"
   },
   "outputs": [
    {
     "data": {
      "text/plain": [
       "[('.', 8024),\n",
       " (',', 7131),\n",
       " ('the', 6037),\n",
       " ('and', 4431),\n",
       " ('a', 4403),\n",
       " ('of', 4386),\n",
       " ('to', 2995),\n",
       " (\"'s\", 2544),\n",
       " ('is', 2536),\n",
       " ('that', 1915)]"
      ]
     },
     "execution_count": 16,
     "metadata": {},
     "output_type": "execute_result"
    }
   ],
   "source": [
    "# What are the 10 most common words?\n",
    "v.freqs.most_common(10)"
   ]
  },
  {
   "cell_type": "code",
   "execution_count": 17,
   "metadata": {
    "id": "__NDPaCeOT_m"
   },
   "outputs": [
    {
     "data": {
      "text/plain": [
       "9543"
      ]
     },
     "execution_count": 17,
     "metadata": {},
     "output_type": "execute_result"
    }
   ],
   "source": [
    "# And how many words are there with frequency 1?\n",
    "# (A fancy name for these is hapax legomena.)\n",
    "list(v.freqs.values()).count(1)"
   ]
  },
  {
   "cell_type": "code",
   "execution_count": 18,
   "metadata": {
    "id": "xKHocugctZGM"
   },
   "outputs": [
    {
     "data": {
      "text/plain": [
       "['fiercely',\n",
       " 'tick-tock',\n",
       " 'straining',\n",
       " 'Internet',\n",
       " 'swirling',\n",
       " 'worked',\n",
       " 'escapist',\n",
       " 'underlying',\n",
       " 'corniest',\n",
       " 'shrewdly',\n",
       " 'Jr.',\n",
       " 'count',\n",
       " 'avuncular',\n",
       " 'turntablism',\n",
       " 'regurgitates',\n",
       " 'uncertainties',\n",
       " 'cannibal',\n",
       " 'One-sided',\n",
       " 'Barrymore',\n",
       " 'confession']"
      ]
     },
     "execution_count": 18,
     "metadata": {},
     "output_type": "execute_result"
    }
   ],
   "source": [
    "# Finally 20 random words from the vocabulary.\n",
    "# This is a simple way to get a feeling for the data.\n",
    "# You could use the `choice` function from the already imported `random` package\n",
    "random.choices(v.i2w, k=20)"
   ]
  },
  {
   "cell_type": "markdown",
   "metadata": {
    "id": "nGWaZahKV_dH"
   },
   "source": [
    "#### Sentiment label vocabulary"
   ]
  },
  {
   "cell_type": "code",
   "execution_count": 19,
   "metadata": {
    "colab": {
     "base_uri": "https://localhost:8080/"
    },
    "id": "AmTC-rvQelpl",
    "outputId": "9837d4ce-2323-43c8-bf19-e4ad60ae5564"
   },
   "outputs": [
    {
     "name": "stdout",
     "output_type": "stream",
     "text": [
      "['very negative', 'negative', 'neutral', 'positive', 'very positive']\n",
      "very positive\n"
     ]
    }
   ],
   "source": [
    "# Now let's map the sentiment labels 0-4 to a more readable form\n",
    "i2t = [\"very negative\", \"negative\", \"neutral\", \"positive\", \"very positive\"]\n",
    "print(i2t)\n",
    "print(i2t[4])"
   ]
  },
  {
   "cell_type": "code",
   "execution_count": 20,
   "metadata": {
    "colab": {
     "base_uri": "https://localhost:8080/"
    },
    "id": "D7UI26DP2dr2",
    "outputId": "8e004ef7-8c95-4980-fa9b-c859927192fb"
   },
   "outputs": [
    {
     "name": "stdout",
     "output_type": "stream",
     "text": [
      "OrderedDict({'very negative': 0, 'negative': 1, 'neutral': 2, 'positive': 3, 'very positive': 4})\n",
      "4\n"
     ]
    }
   ],
   "source": [
    "# And let's also create the opposite mapping.\n",
    "# We won't use a Vocabulary for this (although we could), since the labels\n",
    "# are already numeric.\n",
    "t2i = OrderedDict({p : i for p, i in zip(i2t, range(len(i2t)))})\n",
    "print(t2i)\n",
    "print(t2i['very positive'])"
   ]
  },
  {
   "cell_type": "markdown",
   "metadata": {
    "id": "y0067ax54-rd"
   },
   "source": [
    "## PyTorch\n",
    "\n",
    "We are going to need PyTorch and Google Colab does not have it installed by default. Run the cell below to install it.\n",
    "\n",
    "*For installing PyTorch in your own computer, follow the instructions on [pytorch.org](pytorch.org) instead. This is for Google Colab only.*"
   ]
  },
  {
   "cell_type": "code",
   "execution_count": 21,
   "metadata": {
    "colab": {
     "base_uri": "https://localhost:8080/"
    },
    "id": "qKQMGtkR5KWr",
    "outputId": "ceb01077-6c2c-4e9b-b9e1-8b0ad13b88b7"
   },
   "outputs": [
    {
     "name": "stdout",
     "output_type": "stream",
     "text": [
      "Using torch 2.5.0\n"
     ]
    }
   ],
   "source": [
    "import torch\n",
    "print(\"Using torch\", torch.__version__) # should say 1.7.0+cu101"
   ]
  },
  {
   "cell_type": "code",
   "execution_count": 22,
   "metadata": {
    "id": "mnvPcd_E1xH8"
   },
   "outputs": [],
   "source": [
    "# Let's also import torch.nn, a PyTorch package that\n",
    "# makes building neural networks more convenient.\n",
    "from torch import nn"
   ]
  },
  {
   "cell_type": "code",
   "execution_count": 23,
   "metadata": {
    "id": "BYt8uTyGCKc7"
   },
   "outputs": [
    {
     "data": {
      "text/plain": [
       "device(type='cuda')"
      ]
     },
     "execution_count": 23,
     "metadata": {},
     "output_type": "execute_result"
    }
   ],
   "source": [
    "# PyTorch can run on CPU or on Nvidia GPU (video card) using CUDA\n",
    "# This cell selects the GPU if one is available.\n",
    "device = torch.device('cuda' if torch.cuda.is_available() else 'cpu')\n",
    "device"
   ]
  },
  {
   "cell_type": "code",
   "execution_count": 24,
   "metadata": {
    "id": "2d1VMOOYx1Bw"
   },
   "outputs": [],
   "source": [
    "# Seed manually to make runs reproducible\n",
    "# You need to set this again if you do multiple runs of the same model\n",
    "torch.manual_seed(42)\n",
    "\n",
    "# When running on the CuDNN backend two further options must be set for reproducibility\n",
    "if torch.cuda.is_available():\n",
    "  torch.backends.cudnn.deterministic = True\n",
    "  torch.backends.cudnn.benchmark = False"
   ]
  },
  {
   "cell_type": "markdown",
   "metadata": {
    "id": "uWBTzkuE3CtZ"
   },
   "source": [
    "# BOW"
   ]
  },
  {
   "cell_type": "markdown",
   "metadata": {
    "id": "TBAjYYySOA5W"
   },
   "source": [
    "Our first model is a rather simple neural **bag-of-words (BOW) model**.\n",
    "Unlike the bag-of-words model that you used in the previous lab, where we would look at the presence / frequency of words in a text, here we associate each word with a multi-dimensional vector which expresses what sentiment is conveyed by the word. In particular, our BOW vectors will be of size 5, exactly our number of sentiment classes.\n",
    "\n",
    "To classify a sentence, we **sum** the vectors of the words in the sentence and a bias vector. Because we sum the vectors, we lose word order: that's why we call this a neural bag-of-words model.\n",
    "\n",
    "```\n",
    "this   [0.0, 0.1, 0.1, 0.1, 0.0]\n",
    "movie  [0.0, 0.1, 0.1, 0.2, 0.1]\n",
    "is     [0.0, 0.1, 0.0, 0.0, 0.0]\n",
    "stupid [0.9, 0.5, 0.1, 0.0, 0.0]\n",
    "\n",
    "bias   [0.0, 0.0, 0.0, 0.0, 0.0]\n",
    "--------------------------------\n",
    "sum    [0.9, 0.8, 0.3, 0.3, 0.1]\n",
    "\n",
    "argmax: 0 (very negative)\n",
    "```\n",
    "\n",
    "The **argmax** of this sum is our predicted label.\n",
    "\n",
    "We initialize all vectors *randomly* and train them using cross-entropy loss."
   ]
  },
  {
   "cell_type": "markdown",
   "metadata": {
    "id": "rLtBAIQGynkB"
   },
   "source": [
    "#### Model class"
   ]
  },
  {
   "cell_type": "code",
   "execution_count": 25,
   "metadata": {
    "id": "QZfNklWf3tvs"
   },
   "outputs": [],
   "source": [
    "class BOW(nn.Module):\n",
    "  \"\"\"A simple bag-of-words model\"\"\"\n",
    "\n",
    "  def __init__(self, vocab_size, embedding_dim, vocab):\n",
    "    super(BOW, self).__init__()\n",
    "    self.vocab = vocab\n",
    "\n",
    "    # this is a trainable look-up table with word embeddings\n",
    "    self.embed = nn.Embedding(vocab_size, embedding_dim)\n",
    "\n",
    "    # this is a trainable bias term\n",
    "    self.bias = nn.Parameter(torch.zeros(embedding_dim), requires_grad=True)\n",
    "\n",
    "  def forward(self, inputs):\n",
    "    # this is the forward pass of the neural network\n",
    "    # it applies a function to the input and returns the output\n",
    "\n",
    "    # this looks up the embeddings for each word ID in inputs\n",
    "    # the result is a sequence of word embeddings\n",
    "    embeds = self.embed(inputs)\n",
    "\n",
    "    # the output is the sum across the time dimension (1)\n",
    "    # with the bias term added\n",
    "    logits = embeds.sum(1) + self.bias\n",
    "\n",
    "    return logits"
   ]
  },
  {
   "cell_type": "code",
   "execution_count": 26,
   "metadata": {
    "colab": {
     "base_uri": "https://localhost:8080/"
    },
    "id": "eKHvBnoBAr6z",
    "outputId": "a22d497a-1fa7-4027-d42d-6d9e3f459295"
   },
   "outputs": [
    {
     "name": "stdout",
     "output_type": "stream",
     "text": [
      "BOW(\n",
      "  (embed): Embedding(18280, 5)\n",
      ")\n"
     ]
    }
   ],
   "source": [
    "# Let's create a model.\n",
    "vocab_size = len(v.w2i)\n",
    "n_classes = len(t2i)\n",
    "bow_model = BOW(vocab_size, n_classes, v)\n",
    "print(bow_model)"
   ]
  },
  {
   "cell_type": "markdown",
   "metadata": {
    "id": "vfCx-HvMH1qQ"
   },
   "source": [
    "> **Hey, wait, where is the bias vector?**\n",
    "> PyTorch does not print Parameters, only Modules!\n",
    "\n",
    "> We can print it ourselves though, to check that it is there."
   ]
  },
  {
   "cell_type": "code",
   "execution_count": 27,
   "metadata": {
    "colab": {
     "base_uri": "https://localhost:8080/"
    },
    "id": "Fhvk5HenAroT",
    "outputId": "abf205db-9edc-41fb-b224-ea7ce321b07b"
   },
   "outputs": [
    {
     "name": "stdout",
     "output_type": "stream",
     "text": [
      "bias                     [5]          requires_grad=True\n",
      "embed.weight             [18280, 5]   requires_grad=True\n",
      "\n",
      "Total number of parameters: 91405\n",
      "\n"
     ]
    }
   ],
   "source": [
    "\n",
    "# Here we print each parameter name, shape, and if it is trainable.\n",
    "def print_parameters(model):\n",
    "  total = 0\n",
    "  for name, p in model.named_parameters():\n",
    "    total += np.prod(p.shape)\n",
    "    print(\"{:24s} {:12s} requires_grad={}\".format(name, str(list(p.shape)), p.requires_grad))\n",
    "  print(\"\\nTotal number of parameters: {}\\n\".format(total))\n",
    "\n",
    "\n",
    "print_parameters(bow_model)"
   ]
  },
  {
   "cell_type": "markdown",
   "metadata": {
    "id": "WSAw292WxuP4"
   },
   "source": [
    "#### Preparing an example for input\n",
    "\n",
    "To feed sentences to our PyTorch model, we need to convert a sequence of tokens to a sequence of IDs. The `prepare_example` function below takes care of this for us. We then use these IDs as indices for the word embedding table."
   ]
  },
  {
   "cell_type": "code",
   "execution_count": 28,
   "metadata": {
    "id": "YWeGTC_OGReV"
   },
   "outputs": [],
   "source": [
    "def prepare_example(example, vocab):\n",
    "  \"\"\"\n",
    "  Map tokens to their IDs for a single example\n",
    "  \"\"\"\n",
    "\n",
    "  # vocab returns 0 if the word is not there (i2w[0] = <unk>)\n",
    "  x = [vocab.w2i.get(t, 0) for t in example.tokens]\n",
    "\n",
    "  x = torch.LongTensor([x])\n",
    "  x = x.to(device)\n",
    "\n",
    "  y = torch.LongTensor([example.label])\n",
    "  y = y.to(device)\n",
    "\n",
    "  return x, y"
   ]
  },
  {
   "cell_type": "code",
   "execution_count": 29,
   "metadata": {
    "colab": {
     "base_uri": "https://localhost:8080/"
    },
    "id": "sfbdv9px3uFF",
    "outputId": "423ec782-a269-4a4a-fcd5-a54239e372dd"
   },
   "outputs": [
    {
     "name": "stdout",
     "output_type": "stream",
     "text": [
      "x: tensor([[  28,    9,    6,  998,   16,   18,  998,  135,   32, 7688,    5,    0,\n",
      "            2]], device='cuda:0')\n",
      "y: tensor([3], device='cuda:0')\n"
     ]
    }
   ],
   "source": [
    "x, y = prepare_example(dev_data[0], v)\n",
    "print('x:', x)\n",
    "print('y:', y)"
   ]
  },
  {
   "cell_type": "markdown",
   "metadata": {
    "id": "oKNQjEc0yXnJ"
   },
   "source": [
    "#### Evaluation\n",
    "We now need to define an evaluation metric.\n",
    "How many predictions do we get right? The accuracy will tell us.\n",
    "Make sure that you understand this code block.\n"
   ]
  },
  {
   "cell_type": "code",
   "execution_count": 30,
   "metadata": {
    "id": "yGmQLcVYKZsh"
   },
   "outputs": [],
   "source": [
    "def simple_evaluate(model, data, prep_fn=prepare_example, **kwargs):\n",
    "  \"\"\"Accuracy of a model on given data set.\"\"\"\n",
    "  correct = 0\n",
    "  total = 0\n",
    "  model.eval()  # disable dropout (explained later)\n",
    "\n",
    "  for example in data:\n",
    "\n",
    "    # convert the example input and label to PyTorch tensors\n",
    "    x, target = prep_fn(example, model.vocab)\n",
    "\n",
    "    # forward pass without backpropagation (no_grad)\n",
    "    # get the output from the neural network for input x\n",
    "    with torch.no_grad():\n",
    "      logits = model(x)\n",
    "\n",
    "    # get the prediction\n",
    "    prediction = logits.argmax(dim=-1)\n",
    "\n",
    "    # add the number of correct predictions to the total correct\n",
    "    correct += (prediction == target).sum().item()\n",
    "    total += 1\n",
    "\n",
    "  return correct, total, correct / float(total)"
   ]
  },
  {
   "cell_type": "markdown",
   "metadata": {
    "id": "5KlIGFXllWWm"
   },
   "source": [
    "We are using accuracy as a handy evaluation metric. Please consider using [alternative metrics](https://scikit-learn.org/stable/modules/classes.html#classification-metrics) for your experiments if that makes more theoretical sense."
   ]
  },
  {
   "cell_type": "markdown",
   "metadata": {
    "id": "dIk6OtSdzGRP"
   },
   "source": [
    "#### Example feed\n",
    "For stochastic gradient descent (SGD) we will need a random training example for every update.\n",
    "We implement this by shuffling the training data and returning examples one by one using `yield`.\n",
    "\n",
    "Shuffling is optional so that we get to use this function to get validation and test examples, too."
   ]
  },
  {
   "cell_type": "code",
   "execution_count": 31,
   "metadata": {
    "id": "dxDFOZLfCXvJ"
   },
   "outputs": [],
   "source": [
    "def get_examples(data, shuffle=True, **kwargs):\n",
    "  \"\"\"Shuffle data set and return 1 example at a time (until nothing left)\"\"\"\n",
    "  if shuffle:\n",
    "    print(\"Shuffling training data\")\n",
    "    random.shuffle(data)  # shuffle training data each epoch\n",
    "  for example in data:\n",
    "    yield example"
   ]
  },
  {
   "cell_type": "markdown",
   "metadata": {
    "id": "g09SM8yb2cjx"
   },
   "source": [
    "#### Exercise: Training function\n",
    "\n",
    "Your task is now to complete the training loop below.\n",
    "Before you do so, please read the section about optimisation."
   ]
  },
  {
   "cell_type": "markdown",
   "metadata": {
    "id": "TVfUukVdM_1c"
   },
   "source": [
    "**Optimisation**\n",
    "\n",
    "As mentioned in the \"Intro to PyTorch\" notebook, one of the perks of using PyTorch is automatic differentiation. We will use it to train our BOW model.\n",
    "\n",
    "We train our model by feeding it an input, performing a **forward** pass, obtaining an output prediction, and calculating a **loss** with our loss function.\n",
    "After the gradients are computed in the **backward** pass, we can take a step on the surface of the loss function towards more optimal parameter settings (gradient descent).\n",
    "\n",
    "The package we will use to do this optimisation is [torch.optim](https://pytorch.org/docs/stable/optim.html)."
   ]
  },
  {
   "cell_type": "code",
   "execution_count": 32,
   "metadata": {
    "id": "KhQigDrQ--YU"
   },
   "outputs": [],
   "source": [
    "from torch import optim"
   ]
  },
  {
   "cell_type": "markdown",
   "metadata": {
    "id": "wGIvcTZU_Cez"
   },
   "source": [
    "Besides implementations of stochastic gradient descent (SGD), this package also implements the optimisation algorithm Adam, which we'll be using in this practical.\n",
    "For the purposes of this assignment you do not need to know what Adam does besides that it uses gradient information to update our model parameters by calling:\n",
    "\n",
    "```\n",
    "optimizer.step()\n",
    "```\n",
    "Remember when we updated our parameters in the PyTorch tutorial in a loop?\n",
    "\n",
    "\n",
    "```python\n",
    "# update weights\n",
    "learning_rate = 0.5\n",
    "for f in net.parameters():\n",
    "    # for each parameter, take a small step in the opposite dir of the gradient\n",
    "    p.data = p.data - p.grad.data * learning_rate\n",
    "\n",
    "```\n",
    "The function call optimizer.step() does effectively the same thing.\n",
    "\n",
    "*(If you want to know more about optimisation algorithms using gradient information, [this blog](http://ruder.io/optimizing-gradient-descent/.) gives a nice intuitive overview.)*"
   ]
  },
  {
   "cell_type": "code",
   "execution_count": null,
   "metadata": {},
   "outputs": [],
   "source": [
    "def validate(model, data, eval_fn, batch_fn, prep_fn, eval_batch_size):\n",
    "    \"\"\"Helper function to evaluate the model.\"\"\"\n",
    "    model.eval()\n",
    "    with torch.no_grad():\n",
    "        val_loss, total, accuracy = eval_fn(\n",
    "            model, data, \n",
    "            batch_size=eval_batch_size,\n",
    "            batch_fn=batch_fn, \n",
    "            prep_fn=prep_fn\n",
    "        )\n",
    "    return val_loss, accuracy\n",
    "\n",
    "def save_checkpoint(model, optimizer, path, best_eval, best_iter, iter_i, extra_data=None):\n",
    "    \"\"\"Helper function to save model checkpoint.\"\"\"\n",
    "    ckpt = {\n",
    "        \"state_dict\": model.state_dict(),\n",
    "        \"optimizer_state_dict\": optimizer.state_dict(),\n",
    "        \"best_eval\": best_eval,\n",
    "        \"best_iter\": best_iter,\n",
    "        \"current_iter\": iter_i\n",
    "    }\n",
    "    if extra_data:\n",
    "        ckpt.update(extra_data)\n",
    "    torch.save(ckpt, path)"
   ]
  },
  {
   "cell_type": "code",
   "execution_count": null,
   "metadata": {
    "id": "ktFnKBux25lD"
   },
   "outputs": [],
   "source": [
    "def train_model(model, optimizer, \n",
    "                num_iterations=10000,    # Original iteration limit\n",
    "                print_every=500, \n",
    "                eval_every=500,\n",
    "                batch_fn=get_examples,\n",
    "                prep_fn=prepare_example,\n",
    "                eval_fn=simple_evaluate,\n",
    "                batch_size=32, \n",
    "                eval_batch_size=128,\n",
    "                patience=5,              # Early stopping patience\n",
    "                scheduler=None,          # Learning rate scheduler\n",
    "                max_norm=1.0,           # Gradient clipping\n",
    "                warmup_steps=100,       # Learning rate warmup\n",
    "                accumulation_steps=4,    # Gradient accumulation\n",
    "                checkpoint_every=1000):  # Periodic checkpoint saving\n",
    "    \"\"\"Train a model with optimized training process.\n",
    "    \n",
    "    Args:\n",
    "        model: The neural network model\n",
    "        optimizer: The optimizer (e.g., Adam)\n",
    "        num_iterations: Maximum number of training iterations\n",
    "        print_every: Steps between printing progress\n",
    "        eval_every: Steps between evaluations\n",
    "        batch_fn: Function to get batches of data\n",
    "        prep_fn: Function to prepare examples\n",
    "        eval_fn: Function to evaluate model\n",
    "        batch_size: Training batch size\n",
    "        eval_batch_size: Evaluation batch size\n",
    "        patience: Early stopping patience\n",
    "        scheduler: Learning rate scheduler\n",
    "        max_norm: Maximum gradient norm\n",
    "        warmup_steps: Number of warmup steps\n",
    "        accumulation_steps: Number of steps for gradient accumulation\n",
    "        checkpoint_every: Steps between checkpoints\n",
    "    \"\"\"\n",
    "    try:\n",
    "        # Initialize tracking variables\n",
    "        iter_i = 0\n",
    "        train_loss = 0.\n",
    "        print_num = 0\n",
    "        start = time.time()\n",
    "        criterion = nn.CrossEntropyLoss()\n",
    "        best_eval = 0.\n",
    "        best_iter = 0\n",
    "        no_improvement = 0\n",
    "\n",
    "        # Store metrics for plotting\n",
    "        losses = []\n",
    "        accuracies = []\n",
    "        val_losses = []\n",
    "        lrs = []\n",
    "\n",
    "        # Create checkpoint directory\n",
    "        checkpoint_dir = Path(\"checkpoints\")\n",
    "        checkpoint_dir.mkdir(exist_ok=True)\n",
    "\n",
    "        if eval_batch_size is None:\n",
    "            eval_batch_size = batch_size\n",
    "\n",
    "        # Get initial learning rate\n",
    "        initial_lr = optimizer.param_groups[0]['lr']\n",
    "\n",
    "        # Main training loop\n",
    "        while True:  # when we run out of examples, shuffle and continue\n",
    "            # Create progress bar for this epoch\n",
    "            pbar = tqdm(batch_fn(train_data, batch_size=batch_size), \n",
    "                       desc=f'Iteration {iter_i}')\n",
    "            \n",
    "            for batch_idx, batch in enumerate(pbar):\n",
    "                # forward pass\n",
    "                model.train()\n",
    "                x, targets = prep_fn(batch, model.vocab)\n",
    "                \n",
    "                # Move to GPU if available\n",
    "                x = x.to(next(model.parameters()).device)\n",
    "                targets = targets.to(next(model.parameters()).device)\n",
    "\n",
    "                logits = model(x)\n",
    "\n",
    "                # compute cross-entropy loss\n",
    "                loss = criterion(logits.view([targets.size(0), -1]), targets.view(-1))\n",
    "                # Scale loss for gradient accumulation\n",
    "                loss = loss / accumulation_steps\n",
    "                train_loss += loss.item() * accumulation_steps\n",
    "\n",
    "                # backward pass\n",
    "                loss.backward()\n",
    "\n",
    "                # Gradient accumulation\n",
    "                if (batch_idx + 1) % accumulation_steps == 0:\n",
    "                    # Clip gradients\n",
    "                    torch.nn.utils.clip_grad_norm_(model.parameters(), max_norm)\n",
    "                    \n",
    "                    # Learning rate warmup\n",
    "                    if iter_i < warmup_steps:\n",
    "                        lr_scale = min(1., float(iter_i + 1) / warmup_steps)\n",
    "                        for pg in optimizer.param_groups:\n",
    "                            pg['lr'] = lr_scale * initial_lr\n",
    "\n",
    "                    # Update weights\n",
    "                    optimizer.step()\n",
    "                    optimizer.zero_grad()\n",
    "\n",
    "                    # Track learning rate\n",
    "                    lrs.append(optimizer.param_groups[0]['lr'])\n",
    "\n",
    "                print_num += 1\n",
    "                iter_i += 1\n",
    "\n",
    "                # Update progress bar\n",
    "                pbar.set_description(\n",
    "                    f'Iter {iter_i}: loss={loss.item():.4f}, '\n",
    "                    f'lr={optimizer.param_groups[0][\"lr\"]:.6f}'\n",
    "                )\n",
    "\n",
    "                # print info\n",
    "                if iter_i % print_every == 0:\n",
    "                    avg_loss = train_loss / print_num\n",
    "                    print(f\"\\nIter {iter_i}: loss={avg_loss:.4f}, \"\n",
    "                          f\"time={time.time()-start:.2f}s\")\n",
    "                    losses.append(avg_loss)\n",
    "                    print_num = 0\n",
    "                    train_loss = 0.\n",
    "\n",
    "                # evaluate\n",
    "                if iter_i % eval_every == 0:\n",
    "                    # Validate model\n",
    "                    val_loss, accuracy = validate(\n",
    "                        model, dev_data, eval_fn, batch_fn, prep_fn, eval_batch_size\n",
    "                    )\n",
    "                    \n",
    "                    accuracies.append(accuracy)\n",
    "                    val_losses.append(val_loss)\n",
    "                    print(f\"iter {iter_i}: dev acc={accuracy:.4f}, val_loss={val_loss:.4f}\")\n",
    "\n",
    "                    # save best model parameters\n",
    "                    if accuracy > best_eval:\n",
    "                        print(\"new highscore\")\n",
    "                        best_eval = accuracy\n",
    "                        best_iter = iter_i\n",
    "                        no_improvement = 0\n",
    "                        \n",
    "                        # Save best model\n",
    "                        save_checkpoint(\n",
    "                            model, optimizer,\n",
    "                            f\"{checkpoint_dir}/{model.__class__.__name__}_best.pt\",\n",
    "                            best_eval, best_iter, iter_i\n",
    "                        )\n",
    "                    else:\n",
    "                        no_improvement += 1\n",
    "\n",
    "                    # Learning rate scheduling\n",
    "                    if scheduler is not None:\n",
    "                        scheduler.step(accuracy)\n",
    "\n",
    "                    # Early stopping check\n",
    "                    if no_improvement >= patience:\n",
    "                        print(f\"Early stopping triggered after {iter_i} iterations\")\n",
    "                        break\n",
    "\n",
    "                # Periodic checkpoint saving\n",
    "                if iter_i % checkpoint_every == 0:\n",
    "                    save_checkpoint(\n",
    "                        model, optimizer,\n",
    "                        f\"{checkpoint_dir}/{model.__class__.__name__}_{iter_i}.pt\",\n",
    "                        best_eval, best_iter, iter_i\n",
    "                    )\n",
    "\n",
    "                # Clear CUDA cache periodically\n",
    "                if iter_i % 1000 == 0 and torch.cuda.is_available():\n",
    "                    torch.cuda.empty_cache()\n",
    "\n",
    "                # Check if we've hit iteration limit\n",
    "                if iter_i >= num_iterations:\n",
    "                    print(\"Reached maximum iterations\")\n",
    "                    break\n",
    "\n",
    "            # Break outer loop if early stopping or max iterations\n",
    "            if no_improvement >= patience or iter_i >= num_iterations:\n",
    "                break\n",
    "\n",
    "        # Final evaluation\n",
    "        print(\"\\nTraining finished! Loading best model...\")\n",
    "        best_model_path = f\"{checkpoint_dir}/{model.__class__.__name__}_best.pt\"\n",
    "        ckpt = torch.load(best_model_path)\n",
    "        model.load_state_dict(ckpt[\"state_dict\"])\n",
    "\n",
    "        # Evaluate on all sets\n",
    "        model.eval()\n",
    "        with torch.no_grad():\n",
    "            train_loss, _, train_acc = eval_fn(\n",
    "                model, train_data, batch_size=eval_batch_size,\n",
    "                batch_fn=batch_fn, prep_fn=prep_fn)\n",
    "            dev_loss, _, dev_acc = eval_fn(\n",
    "                model, dev_data, batch_size=eval_batch_size,\n",
    "                batch_fn=batch_fn, prep_fn=prep_fn)\n",
    "            test_loss, _, test_acc = eval_fn(\n",
    "                model, test_data, batch_size=eval_batch_size,\n",
    "                batch_fn=batch_fn, prep_fn=prep_fn)\n",
    "\n",
    "        print(f\"Best model (iter {best_iter}): \"\n",
    "              f\"train acc={train_acc:.4f}, dev acc={dev_acc:.4f}, \"\n",
    "              f\"test acc={test_acc:.4f}\")\n",
    "\n",
    "        return {\n",
    "            'losses': losses,\n",
    "            'accuracies': accuracies,\n",
    "            'val_losses': val_losses,\n",
    "            'learning_rates': lrs,\n",
    "            'best_accuracy': best_eval,\n",
    "            'best_iteration': best_iter,\n",
    "            'final_metrics': {\n",
    "                'train_acc': train_acc,\n",
    "                'dev_acc': dev_acc,\n",
    "                'test_acc': test_acc,\n",
    "                'train_loss': train_loss,\n",
    "                'dev_loss': dev_loss,\n",
    "                'test_loss': test_loss\n",
    "            }\n",
    "        }\n",
    "\n",
    "    except Exception as e:\n",
    "        print(f\"Error during training: {str(e)}\")\n",
    "        # Save emergency checkpoint\n",
    "        save_checkpoint(\n",
    "            model, optimizer,\n",
    "            f\"{checkpoint_dir}/{model.__class__.__name__}_emergency.pt\",\n",
    "            best_eval, best_iter, iter_i,\n",
    "            {'error': str(e)}\n",
    "        )\n",
    "        raise e"
   ]
  },
  {
   "cell_type": "markdown",
   "metadata": {
    "id": "XEPsLvI-3D5b"
   },
   "source": [
    "### Training the BOW model"
   ]
  },
  {
   "cell_type": "code",
   "execution_count": null,
   "metadata": {},
   "outputs": [],
   "source": [
    "def train_with_multiple_seeds(model_class, model_args, seeds=[42, 123, 456], \n",
    "                            pretrained_vectors=None, freeze_embeddings=True,\n",
    "                            **train_kwargs):\n",
    "    \"\"\"\n",
    "    Train a model multiple times with different seeds.\n",
    "    Handles both regular and pre-trained models.\n",
    "    \n",
    "    Args:\n",
    "        model_class: The class of the model\n",
    "        model_args: Dictionary of arguments for model initialization\n",
    "        seeds: List of random seeds to use\n",
    "        pretrained_vectors: Optional pre-trained word vectors\n",
    "        freeze_embeddings: Whether to freeze embeddings (if pre-trained)\n",
    "        **train_kwargs: Arguments for train_model function\n",
    "    \"\"\"\n",
    "    all_stats = []\n",
    "    \n",
    "    print(f\"Training with seeds: {seeds}\")\n",
    "    if pretrained_vectors is not None:\n",
    "        print(f\"Using pre-trained embeddings ({'frozen' if freeze_embeddings else 'trainable'})\")\n",
    "    \n",
    "    \n",
    "    for seed in seeds:\n",
    "        print(f\"\\nTraining with seed {seed}\")\n",
    "        # Set seeds for reproducibility\n",
    "        torch.manual_seed(seed)\n",
    "        torch.cuda.manual_seed(seed)\n",
    "        np.random.seed(seed)\n",
    "        random.seed(seed)\n",
    "        \n",
    "        # Initialize new model\n",
    "        model = model_class(**model_args)\n",
    "        \n",
    "        # Initialize pre-trained embeddings if provided\n",
    "        if pretrained_vectors is not None:\n",
    "            with torch.no_grad():\n",
    "                model.embed.weight.data.copy_(torch.from_numpy(pretrained_vectors))\n",
    "                model.embed.weight.requires_grad = not freeze_embeddings\n",
    "        \n",
    "        model = model.to(device)\n",
    "        \n",
    "        # Initialize optimizer and scheduler\n",
    "        optimizer = optim.AdamW(\n",
    "            model.parameters(),\n",
    "            lr=2e-4,\n",
    "            weight_decay=0.01\n",
    "        )\n",
    "        \n",
    "        scheduler = optim.lr_scheduler.ReduceLROnPlateau(\n",
    "            optimizer,\n",
    "            mode='max',\n",
    "            factor=0.5,\n",
    "            patience=2,\n",
    "            min_lr=1e-6\n",
    "        )\n",
    "        \n",
    "        # Train model\n",
    "        stats = train_model(\n",
    "            model=model,\n",
    "            optimizer=optimizer,\n",
    "            scheduler=scheduler,\n",
    "            **train_kwargs\n",
    "        )\n",
    "        \n",
    "        all_stats.append(stats)\n",
    "    \n",
    "    # Calculate average and std dev\n",
    "    test_accuracies = [s['final_metrics']['test_acc'] for s in all_stats]\n",
    "    mean_test_acc = np.mean(test_accuracies)\n",
    "    std_test_acc = np.std(test_accuracies)\n",
    "    \n",
    "    combined_stats = all_stats[0].copy()\n",
    "    combined_stats['mean_test_acc'] = mean_test_acc\n",
    "    combined_stats['std_test_acc'] = std_test_acc\n",
    "    combined_stats['individual_runs'] = {\n",
    "        f'seed_{seed}': stats for seed, stats in zip(seeds, all_stats)\n",
    "    }\n",
    "    \n",
    "    print(f\"\\nFinal Results across {len(seeds)} seeds:\")\n",
    "    print(f\"Test Accuracy: {mean_test_acc:.4f} ± {std_test_acc:.4f}\")\n",
    "    \n",
    "    return combined_stats"
   ]
  },
  {
   "cell_type": "code",
   "execution_count": null,
   "metadata": {},
   "outputs": [],
   "source": [
    "def plot_model_comparison(training_stats_list, model_names, figsize=(15, 12)):\n",
    "    \"\"\"Enhanced comparison plots including std dev and individual runs.\"\"\"\n",
    "    fig, ((ax1, ax2), (ax3, ax4)) = plt.subplots(2, 2, figsize=figsize)\n",
    "    colors = ['b', 'r', 'g', 'c', 'm']\n",
    "    \n",
    "    # Plot 1: Training Loss Comparison (using first run for clarity)\n",
    "    for i, (stats, name) in enumerate(zip(training_stats_list, model_names)):\n",
    "        ax1.plot(stats['losses'], f'{colors[i]}-', label=f'{name} Train')\n",
    "        ax1.plot(stats['val_losses'], f'{colors[i]}--', label=f'{name} Val')\n",
    "    ax1.set_title('Loss Comparison')\n",
    "    ax1.set_xlabel('Evaluation Step')\n",
    "    ax1.set_ylabel('Loss')\n",
    "    ax1.grid(True)\n",
    "    ax1.legend()\n",
    "    \n",
    "    # Plot 2: Accuracy Comparison with std dev bands\n",
    "    for i, (stats, name) in enumerate(zip(training_stats_list, model_names)):\n",
    "        # Plot mean accuracy\n",
    "        runs = stats['individual_runs'].values()\n",
    "        all_accs = np.array([run['accuracies'] for run in runs])\n",
    "        mean_acc = np.mean(all_accs, axis=0)\n",
    "        std_acc = np.std(all_accs, axis=0)\n",
    "        \n",
    "        x = np.arange(len(mean_acc))\n",
    "        ax2.plot(x, mean_acc, f'{colors[i]}-', label=name)\n",
    "        ax2.fill_between(x, mean_acc-std_acc, mean_acc+std_acc, \n",
    "                        color=colors[i], alpha=0.2)\n",
    "    ax2.set_title('Validation Accuracy (with ±1 std)')\n",
    "    ax2.set_xlabel('Evaluation Step')\n",
    "    ax2.set_ylabel('Accuracy')\n",
    "    ax2.grid(True)\n",
    "    ax2.legend()\n",
    "    \n",
    "    # Plot 3: Learning Rate Comparison\n",
    "    for i, (stats, name) in enumerate(zip(training_stats_list, model_names)):\n",
    "        ax3.plot(stats['learning_rates'], f'{colors[i]}-', label=name)\n",
    "    ax3.set_title('Learning Rate Evolution')\n",
    "    ax3.set_xlabel('Training Step')\n",
    "    ax3.set_ylabel('Learning Rate')\n",
    "    ax3.set_yscale('log')\n",
    "    ax3.grid(True)\n",
    "    ax3.legend()\n",
    "    \n",
    "    # Plot 4: Final Performance Box Plot\n",
    "    splits = ['Train', 'Dev', 'Test']\n",
    "    x = np.arange(len(splits))\n",
    "    width = 0.8 / len(model_names)\n",
    "    \n",
    "    for i, (stats, name) in enumerate(zip(training_stats_list, model_names)):\n",
    "        position = x + (i * width) - (width * len(model_names)/2) + width/2\n",
    "        \n",
    "        # Collect accuracies across runs\n",
    "        run_accs = np.array([[run['final_metrics'][f'{split.lower()}_acc'] \n",
    "                             for split in splits]\n",
    "                            for run in stats['individual_runs'].values()])\n",
    "        \n",
    "        means = np.mean(run_accs, axis=0)\n",
    "        stds = np.std(run_accs, axis=0)\n",
    "        \n",
    "        # Plot bars with error bars\n",
    "        bars = ax4.bar(position, means, width, label=name)\n",
    "        ax4.errorbar(position, means, yerr=stds, fmt='none', \n",
    "                    color='black', capsize=5)\n",
    "        \n",
    "        # Add text annotations\n",
    "        for j, (mean, std) in enumerate(zip(means, stds)):\n",
    "            ax4.text(position[j], mean, f'{mean:.3f}\\n±{std:.3f}',\n",
    "                    ha='center', va='bottom', rotation=90)\n",
    "    \n",
    "    ax4.set_title('Final Performance (mean ± std)')\n",
    "    ax4.set_ylabel('Accuracy')\n",
    "    ax4.set_xticks(x)\n",
    "    ax4.set_xticklabels(splits)\n",
    "    ax4.legend()\n",
    "    ax4.grid(True, axis='y')\n",
    "    \n",
    "    plt.tight_layout()\n",
    "    plt.show()\n",
    "    \n",
    "    # Print detailed statistics\n",
    "    print(\"\\nDetailed Model Comparison:\")\n",
    "    for name, stats in zip(model_names, training_stats_list):\n",
    "        print(f\"\\n{name}:\")\n",
    "        print(f\"Test Accuracy: {stats['mean_test_acc']:.4f} ± {stats['std_test_acc']:.4f}\")\n",
    "        print(\"Individual run test accuracies:\", \n",
    "              [f\"{run['final_metrics']['test_acc']:.4f}\" \n",
    "               for run in stats['individual_runs'].values()])\n",
    "\n",
    "def plot_smoothed_comparison(training_stats_list, model_names, window=5):\n",
    "    \"\"\"Enhanced smoothed comparison with confidence bands.\"\"\"\n",
    "    plt.figure(figsize=(15, 6))\n",
    "    \n",
    "    for i, (stats, name) in enumerate(zip(training_stats_list, model_names)):\n",
    "        runs = stats['individual_runs'].values()\n",
    "        all_accs = np.array([pd.Series(run['accuracies']).rolling(window).mean()\n",
    "                            for run in runs])\n",
    "        \n",
    "        mean_acc = np.nanmean(all_accs, axis=0)\n",
    "        std_acc = np.nanstd(all_accs, axis=0)\n",
    "        \n",
    "        plt.plot(mean_acc, label=name)\n",
    "        plt.fill_between(range(len(mean_acc)), \n",
    "                        mean_acc-std_acc, mean_acc+std_acc,\n",
    "                        alpha=0.2)\n",
    "    \n",
    "    plt.title('Smoothed Validation Accuracy (with ±1 std)')\n",
    "    plt.xlabel('Evaluation Step')\n",
    "    plt.ylabel('Accuracy')\n",
    "    plt.grid(True)\n",
    "    plt.legend()\n",
    "    plt.show()"
   ]
  },
  {
   "cell_type": "code",
   "execution_count": null,
   "metadata": {
    "id": "9luJnNuN_d3q"
   },
   "outputs": [
    {
     "name": "stdout",
     "output_type": "stream",
     "text": [
      "BOW(\n",
      "  (embed): Embedding(18280, 5)\n",
      ")\n",
      "Shuffling training data\n",
      "Iter 1000: loss=5210.8817, time=0.57s\n",
      "iter 1000: dev acc=0.2171\n",
      "new highscore\n",
      "Iter 2000: loss=4734.5682, time=1.21s\n",
      "iter 2000: dev acc=0.2162\n",
      "Iter 3000: loss=4805.0908, time=1.88s\n",
      "iter 3000: dev acc=0.2243\n",
      "new highscore\n",
      "Iter 4000: loss=4457.4811, time=2.51s\n",
      "iter 4000: dev acc=0.2380\n",
      "new highscore\n",
      "Iter 5000: loss=4580.1939, time=3.11s\n",
      "iter 5000: dev acc=0.2416\n",
      "new highscore\n",
      "Iter 6000: loss=4405.2550, time=3.72s\n",
      "iter 6000: dev acc=0.2425\n",
      "new highscore\n",
      "Iter 7000: loss=4216.9528, time=4.33s\n",
      "iter 7000: dev acc=0.2434\n",
      "new highscore\n",
      "Iter 8000: loss=4169.1576, time=4.91s\n",
      "iter 8000: dev acc=0.2461\n",
      "new highscore\n",
      "Shuffling training data\n",
      "Iter 9000: loss=4180.1943, time=5.50s\n",
      "iter 9000: dev acc=0.2461\n",
      "Iter 10000: loss=3939.1272, time=6.09s\n",
      "iter 10000: dev acc=0.2516\n",
      "new highscore\n",
      "Iter 11000: loss=3993.5804, time=6.68s\n",
      "iter 11000: dev acc=0.2534\n",
      "new highscore\n",
      "Iter 12000: loss=3822.1498, time=7.29s\n",
      "iter 12000: dev acc=0.2598\n",
      "new highscore\n",
      "Iter 13000: loss=3911.9909, time=7.87s\n",
      "iter 13000: dev acc=0.2643\n",
      "new highscore\n",
      "Iter 14000: loss=3633.2363, time=8.45s\n",
      "iter 14000: dev acc=0.2625\n",
      "Iter 15000: loss=3901.7666, time=9.04s\n",
      "iter 15000: dev acc=0.2670\n",
      "new highscore\n",
      "Iter 16000: loss=3808.1768, time=9.61s\n",
      "iter 16000: dev acc=0.2652\n",
      "Iter 17000: loss=3738.9239, time=10.18s\n",
      "iter 17000: dev acc=0.2725\n",
      "new highscore\n",
      "Shuffling training data\n",
      "Iter 18000: loss=3444.1620, time=10.74s\n",
      "iter 18000: dev acc=0.2734\n",
      "new highscore\n",
      "Iter 19000: loss=3670.6862, time=11.31s\n",
      "iter 19000: dev acc=0.2752\n",
      "new highscore\n",
      "Iter 20000: loss=3347.7097, time=11.88s\n",
      "iter 20000: dev acc=0.2752\n",
      "Iter 21000: loss=3410.2186, time=12.46s\n",
      "iter 21000: dev acc=0.2761\n",
      "new highscore\n",
      "Iter 22000: loss=3461.7079, time=13.05s\n",
      "iter 22000: dev acc=0.2761\n",
      "Iter 23000: loss=3395.3389, time=13.63s\n",
      "iter 23000: dev acc=0.2725\n",
      "Iter 24000: loss=3402.0976, time=14.19s\n",
      "iter 24000: dev acc=0.2743\n",
      "Iter 25000: loss=3229.4473, time=14.74s\n",
      "iter 25000: dev acc=0.2816\n",
      "new highscore\n",
      "Shuffling training data\n",
      "Iter 26000: loss=3205.0025, time=15.31s\n",
      "iter 26000: dev acc=0.2797\n",
      "Iter 27000: loss=3175.5903, time=15.87s\n",
      "iter 27000: dev acc=0.2807\n",
      "Iter 28000: loss=3136.0064, time=16.45s\n",
      "iter 28000: dev acc=0.2825\n",
      "new highscore\n",
      "Iter 29000: loss=2982.0633, time=17.02s\n",
      "iter 29000: dev acc=0.2861\n",
      "new highscore\n",
      "Iter 30000: loss=3114.3777, time=17.63s\n",
      "iter 30000: dev acc=0.2861\n",
      "Done training\n",
      "Loading best model\n"
     ]
    },
    {
     "name": "stderr",
     "output_type": "stream",
     "text": [
      "/tmp/ipykernel_18179/858537470.py:92: FutureWarning: You are using `torch.load` with `weights_only=False` (the current default value), which uses the default pickle module implicitly. It is possible to construct malicious pickle data which will execute arbitrary code during unpickling (See https://github.com/pytorch/pytorch/blob/main/SECURITY.md#untrusted-models for more details). In a future release, the default value for `weights_only` will be flipped to `True`. This limits the functions that could be executed during unpickling. Arbitrary objects will no longer be allowed to be loaded via this mode unless they are explicitly allowlisted by the user via `torch.serialization.add_safe_globals`. We recommend you start setting `weights_only=True` for any use case where you don't have full control of the loaded file. Please open an issue on GitHub for any issues related to this experimental feature.\n",
      "  ckpt = torch.load(path)\n"
     ]
    },
    {
     "name": "stdout",
     "output_type": "stream",
     "text": [
      "best model iter 29000: train acc=0.3206, dev acc=0.2861, test acc=0.2738\n"
     ]
    }
   ],
   "source": [
    "# If everything is in place we can now train our first model!\n",
    "bow_args = {\n",
    "    'vocab_size': len(v.w2i),\n",
    "    'num_classes': 5,\n",
    "    'vocab': v\n",
    "}\n",
    "\n",
    "bow_training_stats = train_with_multiple_seeds(\n",
    "    model_class=BOW,\n",
    "    model_args=bow_args,\n",
    "    seeds=[42, 123, 456],\n",
    "    num_iterations=30000,\n",
    "    print_every=500,\n",
    "    eval_every=500,\n",
    "    batch_size=32,\n",
    "    eval_batch_size=128,\n",
    "    patience=5,\n",
    "    max_norm=1.0,\n",
    "    warmup_steps=100,\n",
    "    accumulation_steps=4,\n",
    "    checkpoint_every=1000\n",
    ")"
   ]
  },
  {
   "cell_type": "markdown",
   "metadata": {
    "id": "Psxh-Le1BMDQ"
   },
   "source": [
    "Please note that we set the number of iterations to 30K as an indicative value, after which we simply stop training without checking for convergence. You should choose an appropriate number of iterations and motivate your decision. **This holds for all pre-set numbers of iteration in the following code blocks.**"
   ]
  },
  {
   "cell_type": "markdown",
   "metadata": {
    "id": "E9mB1_XhMPNN"
   },
   "source": [
    "# CBOW"
   ]
  },
  {
   "cell_type": "markdown",
   "metadata": {
    "id": "pWk78FvNMw4o"
   },
   "source": [
    "We now continue with a **continuous bag-of-words (CBOW)** model. (*This is not the same as the word2vec CBOW model!*)\n",
    "\n",
    "It is similar to the BOW model above, but now embeddings can have a dimension of *arbitrary size*.\n",
    "This means that we can choose a higher dimensionality and learn more aspects of each word. We will still sum word vectors to get a sentence representation, but now the size of the resulting vector will no longer correspond to the number of sentiment classes.\n",
    "\n",
    "So to turn the size of our summed vector into the number of output classes, we can *learn* a parameter matrix $W$ and multiply it by the sum vector $x$: $$Wx$$\n",
    "If the size of $x$ is `d x 1`, we can set $W$ to be `5 x d`, so that the output of the matrix multiplication will be the of the desired size, `5 x 1`. Then, just like for the BOW model, we can obtain a prediction using the argmax function."
   ]
  },
  {
   "cell_type": "markdown",
   "metadata": {
    "id": "gIjrCPfCwsXI"
   },
   "source": [
    "## Exercise: implement and train the CBOW model\n",
    "\n",
    "Write a class `CBOW` that:\n",
    "\n",
    "- has word embeddings with size 300\n",
    "- sums the word vectors for the input words (just like in `BOW`)\n",
    "- projects the resulting vector down to 5 units using a linear layer and a bias term (check out `nn.Linear`)\n",
    "\n",
    "Train your CBOW model and plot the validation accuracy and training loss over time."
   ]
  },
  {
   "cell_type": "code",
   "execution_count": 38,
   "metadata": {
    "id": "PEV22aR2MP0Q"
   },
   "outputs": [],
   "source": [
    "# YOUR CODE HERE\n",
    "class CBOW(nn.Module):\n",
    "    def __init__(self, vocab_size, num_classes, vocab, embedding_dim=300):\n",
    "        super(CBOW, self).__init__()\n",
    "        self.vocab = vocab\n",
    "        \n",
    "        self.embed = nn.Embedding(vocab_size, embedding_dim)\n",
    "        \n",
    "        self.linear = nn.Linear(embedding_dim, num_classes, bias=True)\n",
    "\n",
    "    def forward(self, inputs):\n",
    "        embeds = self.embed(inputs)\n",
    "        summed = embeds.sum(1)\n",
    "        \n",
    "        logits = self.linear(summed)\n",
    "        \n",
    "        return logits"
   ]
  },
  {
   "cell_type": "code",
   "execution_count": null,
   "metadata": {},
   "outputs": [
    {
     "name": "stdout",
     "output_type": "stream",
     "text": [
      "CBOW(\n",
      "  (embed): Embedding(18280, 300)\n",
      "  (linear): Linear(in_features=300, out_features=5, bias=True)\n",
      ")\n",
      "Shuffling training data\n",
      "Iter 1000: loss=2677.7609, time=1.77s\n",
      "iter 1000: dev acc=0.2489\n",
      "new highscore\n",
      "Iter 2000: loss=2305.0685, time=3.62s\n",
      "iter 2000: dev acc=0.2788\n",
      "new highscore\n",
      "Iter 3000: loss=2064.4200, time=5.64s\n",
      "iter 3000: dev acc=0.2725\n",
      "Iter 4000: loss=1963.8503, time=7.48s\n",
      "iter 4000: dev acc=0.2979\n",
      "new highscore\n",
      "Iter 5000: loss=1979.3512, time=9.48s\n",
      "iter 5000: dev acc=0.2852\n",
      "Iter 6000: loss=1885.8083, time=11.34s\n",
      "iter 6000: dev acc=0.2861\n",
      "Iter 7000: loss=1875.4106, time=13.21s\n",
      "iter 7000: dev acc=0.2979\n",
      "Iter 8000: loss=1899.4583, time=15.04s\n",
      "iter 8000: dev acc=0.2834\n",
      "Shuffling training data\n",
      "Iter 9000: loss=1684.6027, time=16.98s\n",
      "iter 9000: dev acc=0.2707\n",
      "Iter 10000: loss=1617.6152, time=18.74s\n",
      "iter 10000: dev acc=0.2797\n",
      "Iter 11000: loss=1608.4602, time=20.55s\n",
      "iter 11000: dev acc=0.3034\n",
      "new highscore\n",
      "Iter 12000: loss=1601.9276, time=22.40s\n",
      "iter 12000: dev acc=0.3143\n",
      "new highscore\n",
      "Iter 13000: loss=1672.5822, time=24.28s\n",
      "iter 13000: dev acc=0.2788\n",
      "Iter 14000: loss=1554.0869, time=26.09s\n",
      "iter 14000: dev acc=0.2734\n",
      "Iter 15000: loss=1678.1540, time=27.91s\n",
      "iter 15000: dev acc=0.3279\n",
      "new highscore\n",
      "Iter 16000: loss=1637.8207, time=29.88s\n",
      "iter 16000: dev acc=0.3506\n",
      "new highscore\n",
      "Iter 17000: loss=1578.8992, time=31.79s\n",
      "iter 17000: dev acc=0.3143\n",
      "Shuffling training data\n",
      "Iter 18000: loss=1306.4879, time=33.68s\n",
      "iter 18000: dev acc=0.2970\n",
      "Iter 19000: loss=1245.2156, time=35.57s\n",
      "iter 19000: dev acc=0.2988\n",
      "Iter 20000: loss=1380.0584, time=37.36s\n",
      "iter 20000: dev acc=0.2943\n",
      "Iter 21000: loss=1314.1789, time=39.15s\n",
      "iter 21000: dev acc=0.3306\n",
      "Iter 22000: loss=1302.3328, time=40.99s\n",
      "iter 22000: dev acc=0.3233\n",
      "Iter 23000: loss=1350.6559, time=42.76s\n",
      "iter 23000: dev acc=0.3115\n",
      "Iter 24000: loss=1319.0277, time=44.64s\n",
      "iter 24000: dev acc=0.3442\n",
      "Iter 25000: loss=1325.0474, time=46.47s\n",
      "iter 25000: dev acc=0.3243\n",
      "Shuffling training data\n",
      "Iter 26000: loss=1161.6754, time=48.29s\n",
      "iter 26000: dev acc=0.3579\n",
      "new highscore\n",
      "Iter 27000: loss=933.3184, time=50.16s\n",
      "iter 27000: dev acc=0.3306\n",
      "Iter 28000: loss=1043.6037, time=51.96s\n",
      "iter 28000: dev acc=0.3560\n",
      "Iter 29000: loss=1032.0422, time=53.75s\n",
      "iter 29000: dev acc=0.3361\n",
      "Iter 30000: loss=1047.6509, time=55.56s\n",
      "iter 30000: dev acc=0.3261\n",
      "Done training\n",
      "Loading best model\n"
     ]
    },
    {
     "name": "stderr",
     "output_type": "stream",
     "text": [
      "/tmp/ipykernel_18179/858537470.py:92: FutureWarning: You are using `torch.load` with `weights_only=False` (the current default value), which uses the default pickle module implicitly. It is possible to construct malicious pickle data which will execute arbitrary code during unpickling (See https://github.com/pytorch/pytorch/blob/main/SECURITY.md#untrusted-models for more details). In a future release, the default value for `weights_only` will be flipped to `True`. This limits the functions that could be executed during unpickling. Arbitrary objects will no longer be allowed to be loaded via this mode unless they are explicitly allowlisted by the user via `torch.serialization.add_safe_globals`. We recommend you start setting `weights_only=True` for any use case where you don't have full control of the loaded file. Please open an issue on GitHub for any issues related to this experimental feature.\n",
      "  ckpt = torch.load(path)\n"
     ]
    },
    {
     "name": "stdout",
     "output_type": "stream",
     "text": [
      "best model iter 26000: train acc=0.6696, dev acc=0.3579, test acc=0.3584\n"
     ]
    }
   ],
   "source": [
    "cbow_args = {\n",
    "    'vocab_size': len(v.w2i),\n",
    "    'num_classes': 5,\n",
    "    'vocab': v,\n",
    "    'embedding_dim': 300,\n",
    "}\n",
    "\n",
    "cbow_training_stats = train_with_multiple_seeds(\n",
    "    model_class=CBOW,\n",
    "    model_args=cbow_args,\n",
    "    seeds=[42, 123, 456],\n",
    "    num_iterations=30000,\n",
    "    print_every=500,\n",
    "    eval_every=500,\n",
    "    batch_size=32,\n",
    "    eval_batch_size=128,\n",
    "    patience=5,\n",
    "    max_norm=1.0,\n",
    "    warmup_steps=100,\n",
    "    accumulation_steps=4,\n",
    "    checkpoint_every=1000\n",
    ")"
   ]
  },
  {
   "cell_type": "markdown",
   "metadata": {
    "id": "zpFt_Fo2TdN0"
   },
   "source": [
    "# Deep CBOW"
   ]
  },
  {
   "cell_type": "markdown",
   "metadata": {
    "id": "iZanOMesTfEZ"
   },
   "source": [
    "To see if we can squeeze some more performance out of the CBOW model, we can make it deeper and non-linear by adding more layers and, e.g., tanh-activations.\n",
    "By using more parameters we can learn more aspects of the data, and by using more layers and non-linearities, we can try to learn a more complex function.\n",
    "This is not something that always works. If the input-output mapping of your data is simple, then a complicated function could easily overfit on your training set, thereby leading to poor generalization.\n",
    "\n",
    "#### Exercise: write Deep CBOW class and train it\n",
    "\n",
    "Write a class `DeepCBOW`.\n",
    "\n",
    "In your code, make sure that your `output_layer` consists of the following:\n",
    "- A linear transformation from E units to D units.\n",
    "- A Tanh activation\n",
    "- A linear transformation from D units to D units\n",
    "- A Tanh activation\n",
    "- A linear transformation from D units to 5 units (our output classes).\n",
    "\n",
    "E is the size of the word embeddings (please use E=300) and D for the size of a hidden layer (please use D=100).\n",
    "\n",
    "We recommend using [nn.Sequential](https://pytorch.org/docs/stable/nn.html?highlight=sequential#torch.nn.Sequential) to implement this exercise."
   ]
  },
  {
   "cell_type": "code",
   "execution_count": 41,
   "metadata": {
    "id": "l8Z1igvpTrZq"
   },
   "outputs": [],
   "source": [
    "# YOUR CODE HERE\n",
    "class DeepCBOW(nn.Module):\n",
    "    def __init__(self, vocab_size, num_classes, vocab, embedding_dim=300, hidden_dim=100):\n",
    "        super(DeepCBOW, self).__init__()\n",
    "        self.vocab = vocab\n",
    "        \n",
    "        self.embed = nn.Embedding(vocab_size, embedding_dim)\n",
    "        \n",
    "        self.output_layer = nn.Sequential(\n",
    "            nn.Linear(embedding_dim, hidden_dim),  # 300 -> 100 | E -> D\n",
    "            nn.Tanh(),\n",
    "            nn.Linear(hidden_dim, hidden_dim),     # 100 -> 100\n",
    "            nn.Tanh(),\n",
    "            nn.Linear(hidden_dim, num_classes)     # 100 -> 5 | D -> C\n",
    "        )\n",
    "\n",
    "    def forward(self, inputs):\n",
    "        embeds = self.embed(inputs)\n",
    "        summed = embeds.sum(1)\n",
    "        \n",
    "        logits = self.output_layer(summed)\n",
    "        \n",
    "        return logits"
   ]
  },
  {
   "cell_type": "code",
   "execution_count": null,
   "metadata": {},
   "outputs": [
    {
     "name": "stdout",
     "output_type": "stream",
     "text": [
      "DeepCBOW(\n",
      "  (embed): Embedding(18280, 300)\n",
      "  (output_layer): Sequential(\n",
      "    (0): Linear(in_features=300, out_features=100, bias=True)\n",
      "    (1): Tanh()\n",
      "    (2): Linear(in_features=100, out_features=100, bias=True)\n",
      "    (3): Tanh()\n",
      "    (4): Linear(in_features=100, out_features=5, bias=True)\n",
      "  )\n",
      ")\n",
      "Shuffling training data\n",
      "Iter 1000: loss=1581.4196, time=1.89s\n",
      "iter 1000: dev acc=0.2779\n",
      "new highscore\n",
      "Iter 2000: loss=1587.4563, time=4.07s\n",
      "iter 2000: dev acc=0.2979\n",
      "new highscore\n",
      "Iter 3000: loss=1565.6903, time=6.13s\n",
      "iter 3000: dev acc=0.3052\n",
      "new highscore\n",
      "Iter 4000: loss=1546.8563, time=8.22s\n",
      "iter 4000: dev acc=0.2770\n",
      "Iter 5000: loss=1526.0611, time=10.16s\n",
      "iter 5000: dev acc=0.3006\n",
      "Iter 6000: loss=1530.8873, time=12.19s\n",
      "iter 6000: dev acc=0.3415\n",
      "new highscore\n",
      "Iter 7000: loss=1513.1408, time=14.26s\n",
      "iter 7000: dev acc=0.3224\n",
      "Iter 8000: loss=1472.3755, time=16.32s\n",
      "iter 8000: dev acc=0.3306\n",
      "Shuffling training data\n",
      "Iter 9000: loss=1459.2616, time=18.34s\n",
      "iter 9000: dev acc=0.3479\n",
      "new highscore\n",
      "Iter 10000: loss=1397.8759, time=20.52s\n",
      "iter 10000: dev acc=0.3406\n",
      "Iter 11000: loss=1354.0759, time=22.54s\n",
      "iter 11000: dev acc=0.3233\n",
      "Iter 12000: loss=1367.6433, time=24.55s\n",
      "iter 12000: dev acc=0.3415\n",
      "Iter 13000: loss=1343.7223, time=26.59s\n",
      "iter 13000: dev acc=0.3606\n",
      "new highscore\n",
      "Iter 14000: loss=1388.1973, time=28.70s\n",
      "iter 14000: dev acc=0.3588\n",
      "Iter 15000: loss=1329.7790, time=30.73s\n",
      "iter 15000: dev acc=0.3579\n",
      "Iter 16000: loss=1357.1506, time=32.80s\n",
      "iter 16000: dev acc=0.3397\n",
      "Iter 17000: loss=1395.0383, time=34.78s\n",
      "iter 17000: dev acc=0.3542\n",
      "Shuffling training data\n",
      "Iter 18000: loss=1166.4471, time=36.84s\n",
      "iter 18000: dev acc=0.3606\n",
      "Iter 19000: loss=1184.7803, time=38.93s\n",
      "iter 19000: dev acc=0.3497\n",
      "Iter 20000: loss=1179.4780, time=41.03s\n",
      "iter 20000: dev acc=0.3533\n",
      "Iter 21000: loss=1172.0095, time=43.09s\n",
      "iter 21000: dev acc=0.3624\n",
      "new highscore\n",
      "Iter 22000: loss=1189.3451, time=45.15s\n",
      "iter 22000: dev acc=0.3488\n",
      "Iter 23000: loss=1181.2206, time=47.16s\n",
      "iter 23000: dev acc=0.3624\n",
      "Iter 24000: loss=1223.7636, time=49.19s\n",
      "iter 24000: dev acc=0.3370\n",
      "Iter 25000: loss=1206.6385, time=51.15s\n",
      "iter 25000: dev acc=0.3579\n",
      "Shuffling training data\n",
      "Iter 26000: loss=1112.9095, time=53.11s\n",
      "iter 26000: dev acc=0.3460\n",
      "Iter 27000: loss=965.0155, time=55.14s\n",
      "iter 27000: dev acc=0.3688\n",
      "new highscore\n",
      "Iter 28000: loss=955.1461, time=57.21s\n",
      "iter 28000: dev acc=0.3560\n",
      "Iter 29000: loss=991.0570, time=59.24s\n",
      "iter 29000: dev acc=0.3506\n",
      "Iter 30000: loss=973.1342, time=61.20s\n",
      "iter 30000: dev acc=0.3651\n",
      "Done training\n",
      "Loading best model\n"
     ]
    },
    {
     "name": "stderr",
     "output_type": "stream",
     "text": [
      "/tmp/ipykernel_18179/858537470.py:92: FutureWarning: You are using `torch.load` with `weights_only=False` (the current default value), which uses the default pickle module implicitly. It is possible to construct malicious pickle data which will execute arbitrary code during unpickling (See https://github.com/pytorch/pytorch/blob/main/SECURITY.md#untrusted-models for more details). In a future release, the default value for `weights_only` will be flipped to `True`. This limits the functions that could be executed during unpickling. Arbitrary objects will no longer be allowed to be loaded via this mode unless they are explicitly allowlisted by the user via `torch.serialization.add_safe_globals`. We recommend you start setting `weights_only=True` for any use case where you don't have full control of the loaded file. Please open an issue on GitHub for any issues related to this experimental feature.\n",
      "  ckpt = torch.load(path)\n"
     ]
    },
    {
     "name": "stdout",
     "output_type": "stream",
     "text": [
      "best model iter 27000: train acc=0.6413, dev acc=0.3688, test acc=0.3629\n"
     ]
    }
   ],
   "source": [
    "deepcbow_args = {\n",
    "    'vocab_size': len(v.w2i),\n",
    "    'num_classes': 5,\n",
    "    'vocab': v,\n",
    "    'embedding_dim': 300,\n",
    "    'hidden_dim': 100,\n",
    "}\n",
    "\n",
    "deepcbow_training_stats = train_with_multiple_seeds(\n",
    "    model_class=DeepCBOW,\n",
    "    model_args=deepcbow_args,\n",
    "    seeds=[42, 123, 456],\n",
    "    num_iterations=30000,\n",
    "    print_every=500,\n",
    "    eval_every=500,\n",
    "    batch_size=32,\n",
    "    eval_batch_size=128,\n",
    "    patience=5,\n",
    "    max_norm=1.0,\n",
    "    warmup_steps=100,\n",
    "    accumulation_steps=4,\n",
    "    checkpoint_every=1000\n",
    ")"
   ]
  },
  {
   "cell_type": "markdown",
   "metadata": {
    "id": "MQZ5flHwiiHY"
   },
   "source": [
    "# Pre-trained word embeddings"
   ]
  },
  {
   "cell_type": "markdown",
   "metadata": {
    "id": "9NX35vecmHy6"
   },
   "source": [
    "The Stanford Sentiment Treebank is a rather small data set, since it required fine-grained manual annotatation. This makes it difficult for the Deep CBOW model to learn good word embeddings, i.e. to learn good word representations for the words in our vocabulary.\n",
    "In fact, the only error signal that the network receives is from predicting the sentiment of entire sentences!\n",
    "\n",
    "To start off with better word representations, we can download **pre-trained word embeddings**.\n",
    "You can choose which pre-trained word embeddings to use:\n",
    "\n",
    "- **GloVe**. The \"original\" Stanford Sentiment classification [paper](http://aclweb.org/anthology/P/P15/P15-1150.pdf) used Glove embeddings, which are just another method (like *word2vec*) to get word embeddings from unannotated text. Glove is described in the following paper which you should cite if you use them:\n",
    "> Jeffrey Pennington, Richard Socher, and Christopher Manning. [\"Glove: Global vectors for word representation.\"](https://nlp.stanford.edu/pubs/glove.pdf) EMNLP 2014.\n",
    "\n",
    "- **Word2Vec**. This is the method that you learned about in class, described in:\n",
    "> Mikolov, Tomas, et al. [\"Distributed representations of words and phrases and their compositionality.\"](https://papers.nips.cc/paper/5021-distributed-representations-of-words-and-phrases-and-their-compositionality.pdf) Advances in neural information processing systems. 2013.\n",
    "\n",
    "Using these pre-trained word embeddings, we can initialize our word embedding lookup table and start form a point where similar words are already close to one another in the distributional semantic space.\n",
    "\n",
    "You can choose to keep the word embeddings **fixed** or to train them further, specialising them to the task at hand.\n",
    "We will keep them fixed for now.\n",
    "\n",
    "For the purposes of this lab, it is enough if you understand how word2vec works (whichever vectors you use), but if you are interested, we encourage you to also check out the GloVe paper.\n",
    "\n",
    "You can either download the word2vec vectors, or the Glove vectors.\n",
    "If you want to compare your results to the Stanford paper later on, then you should use Glove.\n",
    "**At the end of this lab you have the option to compare which vectors give you the best performance. For now, simply choose one of them and continue with that.**\n",
    "\n",
    "[**OPTIONAL in case you don't want to mount Google Drive:** instead of running all the 5 boxes below, you can 1) download the GloVe and word2vec in your local machine, 2) upload them on your Drive folder (\"My Drive\"). Then, uncomment the first 2 lines in box 6 before writing your code!]\n"
   ]
  },
  {
   "cell_type": "code",
   "execution_count": 44,
   "metadata": {
    "id": "lGYr02WWO993"
   },
   "outputs": [],
   "source": [
    "# This downloads the Glove 840B 300d embeddings.\n",
    "# The original file is at http://nlp.stanford.edu/data/glove.840B.300d.zip\n",
    "# Since that file is 2GB, we provide you with a *filtered version*\n",
    "# which contains all the words you need for this data set.\n",
    "\n",
    "# You only need to do this once.\n",
    "# Please comment this cell out after downloading.\n",
    "\n",
    "# !wget https://gist.githubusercontent.com/bastings/b094de2813da58056a05e8e7950d4ad1/raw/3fbd3976199c2b88de2ae62afc0ecc6f15e6f7ce/glove.840B.300d.sst.txt"
   ]
  },
  {
   "cell_type": "code",
   "execution_count": 45,
   "metadata": {
    "id": "6NLsgFGiTjmI"
   },
   "outputs": [],
   "source": [
    "# This downloads the word2vec 300D Google News vectors\n",
    "# The file has been truncated to only contain words that appear in our data set.\n",
    "# You can find the original file here: https://code.google.com/archive/p/word2vec/\n",
    "\n",
    "# You only need to do this once.\n",
    "# Please comment this out after downloading.\n",
    "# !wget https://gist.githubusercontent.com/bastings/4d1c346c68969b95f2c34cfbc00ba0a0/raw/76b4fefc9ef635a79d0d8002522543bc53ca2683/googlenews.word2vec.300d.txt"
   ]
  },
  {
   "cell_type": "code",
   "execution_count": 46,
   "metadata": {
    "cellView": "both",
    "id": "GXBITzPRQUQb"
   },
   "outputs": [
    {
     "ename": "ModuleNotFoundError",
     "evalue": "No module named 'google.colab'",
     "output_type": "error",
     "traceback": [
      "\u001b[0;31m---------------------------------------------------------------------------\u001b[0m",
      "\u001b[0;31mModuleNotFoundError\u001b[0m                       Traceback (most recent call last)",
      "Cell \u001b[0;32mIn[46], line 2\u001b[0m\n\u001b[1;32m      1\u001b[0m \u001b[38;5;66;03m# Mount Google Drive (to save the downloaded files)\u001b[39;00m\n\u001b[0;32m----> 2\u001b[0m \u001b[38;5;28;01mfrom\u001b[39;00m \u001b[38;5;21;01mgoogle\u001b[39;00m\u001b[38;5;21;01m.\u001b[39;00m\u001b[38;5;21;01mcolab\u001b[39;00m \u001b[38;5;28;01mimport\u001b[39;00m drive\n\u001b[1;32m      3\u001b[0m drive\u001b[38;5;241m.\u001b[39mmount(\u001b[38;5;124m'\u001b[39m\u001b[38;5;124m/gdrive\u001b[39m\u001b[38;5;124m'\u001b[39m)\n",
      "\u001b[0;31mModuleNotFoundError\u001b[0m: No module named 'google.colab'"
     ]
    }
   ],
   "source": [
    "# Mount Google Drive (to save the downloaded files)\n",
    "from google.colab import drive\n",
    "drive.mount('/gdrive')"
   ]
  },
  {
   "cell_type": "code",
   "execution_count": null,
   "metadata": {
    "id": "uFvzPuiKSCbl"
   },
   "outputs": [],
   "source": [
    "# Copy word vectors *to* Google Drive\n",
    "\n",
    "# You only need to do this once.\n",
    "# Please comment this out after running it.\n",
    "# !cp \"glove.840B.300d.sst.txt\" \"/gdrive/My Drive/\"\n",
    "# !cp \"googlenews.word2vec.300d.txt\" \"/gdrive/My Drive/\""
   ]
  },
  {
   "cell_type": "code",
   "execution_count": null,
   "metadata": {
    "id": "kUMH0bM6BuY9"
   },
   "outputs": [],
   "source": [
    "# If you copied the word vectors to your Drive before,\n",
    "# here is where you copy them back to the Colab notebook.\n",
    "\n",
    "# Copy Glove vectors *from* Google Drive\n",
    "!cp \"/gdrive/My Drive/glove.840B.300d.sst.txt\" .\n",
    "!cp \"/gdrive/My Drive/googlenews.word2vec.300d.txt\" ."
   ]
  },
  {
   "cell_type": "code",
   "execution_count": 47,
   "metadata": {
    "id": "xcpkoh6PIjfe"
   },
   "outputs": [
    {
     "name": "stdout",
     "output_type": "stream",
     "text": [
      "cp: 'glove.840B.300d.sst.txt' and './glove.840B.300d.sst.txt' are the same file\n",
      "cp: 'googlenews.word2vec.300d.txt' and './googlenews.word2vec.300d.txt' are the same file\n"
     ]
    }
   ],
   "source": [
    "# Uncomment these 2 lines below if went for the OPTIONAL method described above\n",
    "!cp \"glove.840B.300d.sst.txt\" \"./\"\n",
    "!cp \"googlenews.word2vec.300d.txt\" \"./\""
   ]
  },
  {
   "cell_type": "markdown",
   "metadata": {
    "id": "MX2GJVHILM8n"
   },
   "source": [
    "At this point you have the pre-trained word embedding files, but what do they look like?"
   ]
  },
  {
   "cell_type": "code",
   "execution_count": 48,
   "metadata": {
    "id": "ChsChH14Ruxn"
   },
   "outputs": [
    {
     "name": "stdout",
     "output_type": "stream",
     "text": [
      "GloVe first 4 lines:\n",
      ", -0.082752 0.67204 -0.14987 -0.064983 0.056491 0.40228 0.0027747 -0.3311 -0.30691 2.0817 0.031819 0.013643 0.30265 0.0071297 -0.5819 -0.2774 -0.062254 1.1451 -0.24232 0.1235 -0.12243 0.33152 -0.006162 -0.30541 -0.13057 -0.054601 0.037083 -0.070552 0.5893 -0.30385 0.2898 -0.14653 -0.27052 0.37161 0.32031 -0.29125 0.0052483 -0.13212 -0.052736 0.087349 -0.26668 -0.16897 0.015162 -0.0083746 -0.14871 0.23413 -0.20719 -0.091386 0.40075 -0.17223 0.18145 0.37586 -0.28682 0.37289 -0.16185 0.18008 0.3032 -0.13216 0.18352 0.095759 0.094916 0.008289 0.11761 0.34046 0.03677 -0.29077 0.058303 -0.027814 0.082941 0.1862 -0.031494 0.27985 -0.074412 -0.13762 -0.21866 0.18138 0.040855 -0.113 0.24107 0.3657 -0.27525 -0.05684 0.34872 0.011884 0.14517 -0.71395 0.48497 0.14807 0.62287 0.20599 0.58379 -0.13438 0.40207 0.18311 0.28021 -0.42349 -0.25626 0.17715 -0.54095 0.16596 -0.036058 0.08499 -0.64989 0.075549 -0.28831 0.40626 -0.2802 0.094062 0.32406 0.28437 -0.26341 0.11553 0.071918 -0.47215 -0.18366 -0.34709 0.29964 -0.66514 0.002516 -0.42333 0.27512 0.36012 0.16311 0.23964 -0.05923 0.3261 0.20559 0.038677 -0.045816 0.089764 0.43151 -0.15954 0.08532 -0.26572 -0.15001 0.084286 -0.16714 -0.43004 0.060807 0.13121 -0.24112 0.66554 0.4453 -0.18019 -0.13919 0.56252 0.21457 -0.46443 -0.012211 0.029988 -0.051094 -0.20135 0.80788 0.47377 -0.057647 0.46216 0.16084 -0.20954 -0.05452 0.15572 -0.13712 0.12972 -0.011936 -0.003378 -0.13595 -0.080711 0.20065 0.054056 0.046816 0.059539 0.046265 0.17754 -0.31094 0.28119 -0.24355 0.085252 -0.21011 -0.19472 0.0027297 -0.46341 0.14789 -0.31517 -0.065939 0.036106 0.42903 -0.33759 0.16432 0.32568 -0.050392 -0.054297 0.24074 0.41923 0.13012 -0.17167 -0.37808 -0.23089 -0.019477 -0.29291 -0.30824 0.30297 -0.22659 0.081574 -0.18516 -0.21408 0.40616 -0.28974 0.074174 -0.17795 0.28595 -0.039626 -0.2339 -0.36054 -0.067503 -0.091065 0.23438 -0.0041331 0.003232 0.0072134 0.008697 0.21614 0.049904 0.35582 0.13748 0.073361 0.14166 0.2412 -0.013322 0.15613 0.083381 0.088146 -0.019357 0.43795 0.083961 0.45309 -0.50489 -0.10865 -0.2527 -0.18251 0.20441 0.13319 0.1294 0.050594 -0.15612 -0.39543 0.12538 0.24881 -0.1927 -0.31847 -0.12719 0.4341 0.31177 -0.0040946 -0.2094 -0.079961 0.1161 -0.050794 0.015266 -0.2803 -0.12486 0.23587 0.2339 -0.14023 0.028462 0.56923 -0.1649 -0.036429 0.010051 -0.17107 -0.042608 0.044965 -0.4393 -0.26137 0.30088 -0.060772 -0.45312 -0.19076 -0.20288 0.27694 -0.060888 0.11944 0.62206 -0.19343 0.47849 -0.30113 0.059389 0.074901 0.061068 -0.4662 0.40054 -0.19099 -0.14331 0.018267 -0.18643 0.20709 -0.35598 0.05338 -0.050821 -0.1918 -0.37846 -0.06589\n",
      ". 0.012001 0.20751 -0.12578 -0.59325 0.12525 0.15975 0.13748 -0.33157 -0.13694 1.7893 -0.47094 0.70434 0.26673 -0.089961 -0.18168 0.067226 0.053347 1.5595 -0.2541 0.038413 -0.01409 0.056774 0.023434 0.024042 0.31703 0.19025 -0.37505 0.035603 0.1181 0.012032 -0.037566 -0.5046 -0.049261 0.092351 0.11031 -0.073062 0.33994 0.28239 0.13413 0.070128 -0.022099 -0.28103 0.49607 -0.48693 -0.090964 -0.1538 -0.38011 -0.014228 -0.19392 -0.11068 -0.014088 -0.17906 0.24509 -0.16878 -0.15351 -0.13808 0.02151 0.13699 0.0068061 -0.14915 -0.38169 0.12727 0.44007 0.32678 -0.46117 0.068687 0.34747 0.18827 -0.31837 0.4447 -0.2095 -0.26987 0.48945 0.15388 0.05295 -0.049831 0.11207 0.14881 -0.37003 0.30777 -0.33865 0.045149 -0.18987 0.26634 -0.26401 -0.47556 0.68381 -0.30653 0.24606 0.31611 -0.071098 0.030417 0.088119 0.045025 0.20125 -0.21618 -0.36371 -0.25948 -0.42398 -0.14305 -0.10208 0.21498 -0.21924 -0.17935 0.21546 0.13801 0.24504 -0.2559 0.054815 0.21307 0.2564 -0.25673 0.17961 -0.47638 -0.25181 -0.0091498 -0.054362 -0.21007 0.12597 -0.40795 -0.021164 0.20585 0.18925 -0.0051896 -0.51394 0.28862 -0.077748 -0.27676 0.46567 -0.14225 -0.17879 -0.4357 -0.32481 0.15034 -0.058367 0.49652 0.20472 0.019866 0.13326 0.12823 -1.0177 0.29007 0.28995 0.029994 -0.10763 0.28665 -0.24387 0.22905 -0.26249 -0.069269 -0.17889 0.21936 0.15146 0.04567 -0.050497 0.071482 -0.1027 -0.080705 0.30296 0.031302 0.26613 -0.0060951 0.10313 -0.39987 -0.043945 -0.057625 0.08702 -0.098152 0.22835 -0.005211 0.038075 0.01591 -0.20622 0.021853 0.0040426 -0.043063 -0.002294 -0.26097 -0.25802 -0.28158 -0.23118 -0.010404 -0.30102 -0.4042 0.014653 -0.10445 0.30377 -0.20957 0.3119 0.068272 0.1008 0.010423 0.54011 0.29865 0.12653 0.013761 0.21738 -0.39521 0.066633 0.50327 0.14913 -0.11554 0.010042 0.095698 0.16607 -0.18808 0.055019 0.026715 -0.3164 -0.046583 -0.051591 0.023475 -0.11007 0.085642 0.28394 0.040497 0.071986 0.14157 -0.021199 0.44718 0.20088 -0.12964 -0.067183 0.47614 0.13394 -0.17287 -0.37324 -0.17285 0.02683 -0.1316 0.09116 -0.46487 0.1274 -0.090159 -0.10552 0.068006 -0.13381 0.17056 0.089509 -0.23133 -0.27572 0.061534 -0.051646 0.28377 0.25286 -0.24139 -0.19905 0.12049 -0.1011 0.27392 0.27843 0.26449 -0.18292 -0.048961 0.19198 0.17192 0.33659 -0.20184 -0.34305 -0.24553 -0.15399 0.3945 0.22839 -0.25753 -0.25675 -0.37332 -0.23884 -0.048816 0.78323 0.18851 -0.26477 0.096566 0.062658 -0.30668 -0.43334 0.10006 0.21136 0.039459 -0.11077 0.24421 0.60942 -0.46646 0.086385 -0.39702 -0.23363 0.021307 -0.10778 -0.2281 0.50803 0.11567 0.16165 -0.066737 -0.29556 0.022612 -0.28135 0.0635 0.14019 0.13871 -0.36049 -0.035\n",
      "the 0.27204 -0.06203 -0.1884 0.023225 -0.018158 0.0067192 -0.13877 0.17708 0.17709 2.5882 -0.35179 -0.17312 0.43285 -0.10708 0.15006 -0.19982 -0.19093 1.1871 -0.16207 -0.23538 0.003664 -0.19156 -0.085662 0.039199 -0.066449 -0.04209 -0.19122 0.011679 -0.37138 0.21886 0.0011423 0.4319 -0.14205 0.38059 0.30654 0.020167 -0.18316 -0.0065186 -0.0080549 -0.12063 0.027507 0.29839 -0.22896 -0.22882 0.14671 -0.076301 -0.1268 -0.0066651 -0.052795 0.14258 0.1561 0.05551 -0.16149 0.09629 -0.076533 -0.049971 -0.010195 -0.047641 -0.16679 -0.2394 0.0050141 -0.049175 0.013338 0.41923 -0.10104 0.015111 -0.077706 -0.13471 0.119 0.10802 0.21061 -0.051904 0.18527 0.17856 0.041293 -0.014385 -0.082567 -0.035483 -0.076173 -0.045367 0.089281 0.33672 -0.22099 -0.0067275 0.23983 -0.23147 -0.88592 0.091297 -0.012123 0.013233 -0.25799 -0.02972 0.016754 0.01369 0.32377 0.039546 0.042114 -0.088243 0.30318 0.087747 0.16346 -0.40485 -0.043845 -0.040697 0.20936 -0.77795 0.2997 0.2334 0.14891 -0.39037 -0.053086 0.062922 0.065663 -0.13906 0.094193 0.10344 -0.2797 0.28905 -0.32161 0.020687 0.063254 -0.23257 -0.4352 -0.017049 -0.32744 -0.047064 -0.075149 -0.18788 -0.015017 0.029342 -0.3527 -0.044278 -0.13507 -0.11644 -0.1043 0.1392 0.0039199 0.37603 0.067217 -0.37992 -1.1241 -0.057357 -0.16826 0.03941 0.2604 -0.023866 0.17963 0.13553 0.2139 0.052633 -0.25033 -0.11307 0.22234 0.066597 -0.11161 0.062438 -0.27972 0.19878 -0.36262 -1.0006e-05 -0.17262 0.29166 -0.15723 0.054295 0.06101 -0.39165 0.2766 0.057816 0.39709 0.025229 0.24672 -0.08905 0.15683 -0.2096 -0.22196 0.052394 -0.01136 0.050417 -0.14023 -0.042825 -0.031931 -0.21336 -0.20402 -0.23272 0.07449 0.088202 -0.11063 -0.33526 -0.014028 -0.29429 -0.086911 -0.1321 -0.43616 0.20513 0.0079362 0.48505 0.064237 0.14261 -0.43711 0.12783 -0.13111 0.24673 -0.27496 0.15896 0.43314 0.090286 0.24662 0.066463 -0.20099 0.1101 0.03644 0.17359 -0.15689 -0.086328 -0.17316 0.36975 -0.40317 -0.064814 -0.034166 -0.013773 0.062854 -0.17183 -0.12366 -0.034663 -0.22793 -0.23172 0.239 0.27473 0.15332 0.10661 -0.060982 -0.024805 -0.13478 0.17932 -0.37374 -0.02893 -0.11142 -0.08389 -0.055932 0.068039 -0.10783 0.1465 0.094617 -0.084554 0.067429 -0.3291 0.034082 -0.16747 -0.25997 -0.22917 0.020159 -0.02758 0.16136 -0.18538 0.037665 0.57603 0.20684 0.27941 0.16477 -0.018769 0.12062 0.069648 0.059022 -0.23154 0.24095 -0.3471 0.04854 -0.056502 0.41566 -0.43194 0.4823 -0.051759 -0.27285 -0.25893 0.16555 -0.1831 -0.06734 0.42457 0.010346 0.14237 0.25939 0.17123 -0.13821 -0.066846 0.015981 -0.30193 0.043579 -0.043102 0.35025 -0.19681 -0.4281 0.16899 0.22511 -0.28557 -0.1028 -0.018168 0.11407 0.13015 -0.18317 0.1323\n",
      "and -0.18567 0.066008 -0.25209 -0.11725 0.26513 0.064908 0.12291 -0.093979 0.024321 2.4926 -0.017916 -0.071218 -0.24782 -0.26237 -0.2246 -0.21961 -0.12927 1.0867 -0.66072 -0.031617 -0.057328 0.056903 -0.27939 -0.39825 0.14251 -0.085146 -0.14779 0.055067 -0.0028687 -0.20917 -0.070735 0.22577 -0.15881 -0.10395 0.09711 -0.56251 -0.32929 -0.20853 0.0098711 0.049777 0.0014883 0.15884 0.042771 -0.0026956 -0.02462 -0.19213 -0.22556 0.10838 0.090086 -0.13291 0.32559 -0.17038 -0.1099 -0.23986 -0.024289 0.014656 -0.237 0.084828 -0.35982 -0.076746 0.048909 0.11431 -0.21013 0.24765 -0.017531 -0.14028 0.046191 0.22972 0.1175 0.12724 0.012992 0.4587 0.41085 0.039106 0.15713 -0.18376 0.26834 0.056662 0.16844 -0.053788 -0.091892 0.11193 -0.08681 -0.13324 0.15062 -0.31733 -0.22078 0.25038 0.34131 0.36419 -0.089514 -0.22193 0.24471 0.040091 0.47798 -0.029996 0.0019212 0.063511 -0.20417 -0.26478 0.20649 0.015573 -0.27722 -0.18861 -0.10289 -0.49773 0.14986 -0.010877 0.25085 -0.28117 0.18966 -0.065879 0.094753 -0.15338 -0.055071 -0.36747 0.24993 0.096527 0.23538 0.18405 0.052859 0.22967 0.12582 0.15536 -0.17275 0.33946 -0.10049 0.074948 -0.093575 -0.04049 -0.016922 -0.0058039 -0.18108 0.19537 0.45178 0.10965 0.2337 -0.09905 -0.078633 0.21678 -0.71231 -0.099759 0.33333 -0.1646 -0.091688 0.21056 0.023669 0.028922 0.1199 -0.12512 -0.026037 -0.062217 0.55816 0.0050273 -0.30888 0.038611 0.17568 -0.11163 -0.10815 -0.19444 0.29433 0.14519 -0.042878 0.18534 0.018891 -0.61883 0.13352 0.036007 0.33995 0.22109 -0.079328 0.071319 0.17678 0.16378 -0.23142 -0.1434 -0.098122 -0.019286 0.2356 -0.34013 -0.061007 -0.23208 -0.31152 0.10063 -0.15957 0.20183 -0.016345 -0.12303 0.022667 -0.20986 -0.20127 -0.087883 0.064731 0.10195 -0.1786 0.33056 0.21407 -0.32165 -0.17106 0.19407 -0.38618 -0.2148 -0.052254 0.023175 0.47389 0.18612 0.12711 0.20855 -0.10256 -0.12016 -0.40488 0.029695 -0.027419 -0.0085227 -0.11415 0.081134 -0.17228 0.19142 0.026514 0.043789 -0.12399 0.13354 0.10112 0.081682 -0.15085 0.0075806 -0.18971 0.24669 0.22491 0.35553 -0.3277 -0.21821 0.1402 0.28604 0.055226 -0.086544 0.02111 -0.19236 0.074245 0.076782 0.00081666 0.034097 -0.57719 0.10657 0.28134 -0.11964 -0.68281 -0.32893 -0.24442 -0.025847 0.0091273 0.2025 -0.050959 -0.11042 0.010962 0.076773 0.40048 -0.40739 -0.44773 0.31954 -0.036326 -0.012789 -0.17282 0.1476 0.2356 0.080642 -0.36528 -0.0083443 0.6239 -0.24379 0.019917 -0.28803 -0.010494 0.038412 -0.11718 -0.072462 0.16381 0.38488 -0.029783 0.23444 0.4532 0.14815 -0.027021 -0.073181 -0.1147 -0.0054545 0.47796 0.090912 0.094489 -0.36882 -0.59396 -0.097729 0.20072 0.17055 -0.0047356 -0.039709 0.32498 -0.023452 0.12302 0.3312\n",
      "\n",
      "Word2Vec first 4 lines:\n",
      "in 0.0703125 0.08691406 0.087890625 0.0625 0.06933594 -0.10888672 -0.08154297 -0.15429688 0.020751953 0.13183594 -0.11376953 -0.037353516 0.06933594 0.078125 -0.103027344 -0.09765625 0.044189453 0.10253906 -0.060791016 -0.036132812 -0.045410156 0.04736328 -0.12060547 -0.063964844 0.0022583008 0.037109375 -0.0029144287 0.11767578 0.061767578 0.063964844 0.08105469 -0.068847656 -0.021362305 0.05517578 -0.08544922 0.068847656 -0.12792969 -0.033203125 0.09863281 0.17578125 0.110839844 -0.03466797 -0.04711914 -0.008483887 0.035888672 0.103027344 0.026977539 -0.028686523 -0.005126953 0.10644531 0.059814453 0.09423828 0.033691406 -0.02709961 -0.09423828 0.0010299683 -0.048339844 0.034423828 0.08105469 -0.11328125 -0.08886719 0.035888672 -0.14550781 -0.24414062 -0.061523438 0.052978516 0.056884766 0.1796875 0.061035156 0.08691406 0.12402344 -0.040283203 0.022583008 0.17773438 -0.029663086 -0.029663086 0.1171875 0.03112793 -0.096191406 0.06640625 0.004699707 -0.080078125 0.06298828 -0.020629883 -0.0546875 -0.13574219 -0.06347656 0.083496094 -0.063964844 0.021484375 0.07714844 -0.037109375 -0.033691406 -0.18359375 -0.072753906 0.01586914 0.09326172 -0.061523438 -0.014221191 -0.0034484863 0.011108398 -0.15820312 -0.017089844 0.0061950684 -0.008728027 -0.080566406 -0.015258789 -0.087890625 0.003479004 -0.016113281 -0.012329102 0.09765625 -0.13964844 -0.0859375 -0.026855469 0.053955078 0.1328125 0.11279297 0.12109375 0.08544922 -0.0071105957 0.044677734 -0.14550781 -0.0032043457 -0.11767578 -0.06542969 0.07128906 -0.09423828 -0.030273438 0.12011719 0.080078125 -0.09472656 -0.16210938 -0.07763672 0.021240234 -0.08154297 0.0039367676 -0.15722656 -0.09814453 0.039794922 0.03930664 -0.009094238 0.103027344 0.067871094 -0.04272461 0.06347656 -0.049072266 0.020874023 -0.16699219 0.09326172 0.09375 0.006866455 0.053710938 0.052490234 -0.024414062 -0.032470703 -0.061523438 -0.005554199 0.096191406 0.037841797 0.012207031 -0.043945312 -0.0074768066 0.10546875 0.020385742 0.14550781 0.08203125 0.0057678223 0.0045776367 -0.09277344 -0.13867188 -0.057373047 -0.051513672 -0.13085938 -0.13964844 -0.020507812 -0.02709961 0.032714844 0.10498047 -0.0023345947 -0.022583008 0.00050354004 -0.110839844 0.08496094 -0.12988281 -0.017456055 -0.00035858154 0.107910156 0.08886719 0.044677734 0.025146484 0.023803711 0.08105469 0.02368164 -0.10986328 0.0053710938 -0.017700195 -0.033935547 -0.032958984 -0.1640625 0.095703125 -0.018310547 0.0053100586 -0.034423828 -0.044189453 -0.06640625 -0.017944336 -0.029663086 -0.007598877 -0.05126953 -0.05419922 0.08935547 -0.071777344 0.015258789 -0.08251953 -0.03173828 0.03564453 -0.021240234 -0.059326172 -0.013061523 0.046875 0.023071289 0.020996094 -0.07861328 -0.008056641 0.01953125 -0.005554199 0.041503906 0.027832031 0.01361084 0.03466797 -0.18261719 0.12011719 0.07421875 -0.041015625 -0.0099487305 0.04296875 -0.007293701 0.123046875 0.057617188 -0.053466797 -0.032226562 -0.009094238 -0.04663086 0.043945312 -0.05078125 0.068847656 0.0029907227 -0.004180908 -0.044189453 0.07373047 -0.012756348 0.06738281 0.006286621 0.07519531 -0.037841797 0.0048828125 0.044677734 -0.06738281 0.00970459 0.0047302246 0.020507812 0.07128906 0.17089844 0.17382812 0.055664062 0.091308594 -0.037353516 0.049804688 -0.03930664 0.044189453 0.0625 0.048583984 -0.053222656 0.048828125 -0.13085938 -0.028930664 -0.036132812 -0.060791016 -0.057373047 0.123046875 -0.08251953 -0.0119018555 0.125 0.0013580322 0.063964844 -0.10644531 -0.14355469 -0.042236328 0.024047852 -0.16894531 -0.08886719 -0.080566406 0.064941406 0.061279297 -0.04736328 -0.05883789 -0.047607422 0.014465332 -0.0625\n",
      "for -0.011779785 -0.04736328 0.044677734 0.06347656 -0.018188477 -0.063964844 -0.0013122559 -0.072265625 0.064453125 0.08642578 -0.16992188 -0.039794922 0.07128906 -0.025878906 0.018188477 0.13671875 0.14453125 -0.033691406 -0.09765625 -0.12011719 -0.079589844 0.0625 -0.06689453 0.07421875 0.022705078 0.033447266 -0.18066406 0.052001953 0.0138549805 0.09277344 0.0035095215 -0.009094238 -0.09716797 0.067871094 -0.0087890625 0.044189453 -0.13378906 -0.099609375 0.033203125 0.027954102 0.15527344 -0.017700195 0.014282227 -0.10986328 -0.08544922 -0.07324219 -0.024658203 0.17285156 0.061767578 0.08935547 -0.024291992 0.14160156 -0.032958984 0.02746582 -0.15527344 0.007873535 -0.07080078 0.043701172 0.006011963 -0.055908203 -0.14746094 0.028442383 -0.1328125 -0.17675781 -0.091308594 -0.05078125 -0.026000977 -0.1484375 -0.080566406 0.15039062 -0.04345703 0.07910156 0.033203125 0.09033203 0.022705078 -0.0625 0.1640625 0.0859375 -0.012390137 0.19628906 -0.06225586 0.022460938 -0.030151367 0.021240234 0.003326416 -0.055419922 -0.07324219 0.029785156 0.049804688 0.017456055 0.10449219 0.03881836 0.08496094 -0.24804688 0.06933594 -0.14941406 0.05834961 0.095703125 -0.033447266 0.06298828 0.021362305 -0.14550781 0.053710938 -0.09082031 -0.025390625 0.045410156 0.0053100586 -0.115722656 -0.01953125 0.12109375 0.032226562 0.09472656 -0.064453125 0.022705078 0.12060547 0.060302734 0.12060547 0.048828125 0.09326172 0.06689453 0.029296875 -0.034179688 -0.111328125 0.053466797 -0.025634766 0.017822266 0.06225586 -0.025878906 0.14550781 0.0625 0.107910156 -0.16308594 -0.09765625 -0.10595703 -0.08544922 -0.08886719 0.10107422 -0.079589844 0.008422852 0.024047852 0.13085938 0.05126953 0.08154297 0.09375 -0.05859375 -0.09667969 -0.028320312 -0.14550781 -0.14746094 0.14550781 -0.017578125 0.032958984 -0.08544922 -0.010986328 -0.037109375 -0.013671875 0.035888672 -0.008239746 0.05029297 -0.09472656 0.047851562 0.020751953 0.030639648 0.12988281 0.052734375 0.018798828 -0.017578125 0.03491211 0.018310547 -0.009887695 -0.18457031 -0.08984375 -0.029052734 -0.060791016 -0.05126953 -0.0023651123 0.06640625 -0.08251953 -0.040039062 0.096191406 -0.15429688 -0.15332031 0.028320312 0.013122559 0.029907227 -0.012145996 -0.09667969 0.024780273 0.19335938 0.013000488 0.024169922 -0.035888672 0.09863281 -0.09667969 -0.20019531 -0.013793945 0.0859375 -0.080078125 -0.17675781 -0.17480469 0.005126953 -0.03491211 -0.0546875 0.09375 -0.09326172 -0.011962891 -0.0005645752 0.09765625 0.024780273 -0.039794922 0.009765625 0.11816406 0.025756836 0.123046875 0.064453125 0.07080078 0.029296875 -0.049560547 -0.078125 0.028930664 0.045654297 -0.04296875 0.025878906 -0.051757812 0.140625 0.004272461 -0.037841797 0.02746582 0.060058594 0.028320312 0.028076172 -0.036621094 0.13085938 -9.679794e-05 -0.06933594 -0.022094727 0.067871094 -0.02331543 -0.015319824 -0.05834961 0.061035156 0.00064468384 0.0039978027 -0.07128906 0.091796875 0.026245117 0.020019531 0.03540039 -0.057861328 -0.029663086 0.02734375 0.025146484 0.060302734 0.13183594 -0.0043640137 0.0027313232 0.059814453 0.09863281 -0.091796875 -0.045898438 -0.017456055 0.038330078 -0.019165039 0.04638672 0.047851562 0.09814453 -0.040283203 0.09423828 -0.03466797 -0.042236328 0.0703125 -0.013671875 0.10644531 0.016479492 0.13183594 -0.0016937256 -0.008483887 -0.14257812 -0.04663086 -0.10986328 0.08203125 -0.041015625 -0.018920898 0.087890625 -0.0028076172 0.23828125 -0.04711914 -0.022949219 0.040771484 0.029296875 -0.022583008 0.0037231445 -0.08251953 0.08154297 0.00793457 0.00047683716 0.018432617 0.07128906 -0.03491211 0.024169922\n",
      "that -0.01574707 -0.028320312 0.083496094 0.05029297 -0.11035156 0.03173828 -0.014221191 -0.08984375 0.11767578 0.11816406 -0.071777344 -0.07714844 -0.068847656 0.07714844 -0.13867188 0.006500244 0.010986328 -0.015136719 -0.0009613037 -0.030273438 -0.00015830994 0.038330078 -0.024169922 -0.045898438 0.09472656 -0.05517578 -0.064941406 0.0061035156 0.0008544922 0.06201172 -0.05444336 0.014099121 0.022216797 -0.044921875 0.111328125 -0.03857422 0.05126953 0.025146484 0.016967773 0.06298828 0.13769531 0.13574219 0.06542969 -0.064453125 -0.024047852 -0.013366699 -0.037109375 0.0043029785 -0.01574707 0.019042969 0.10839844 0.044677734 -0.044921875 -0.095214844 0.08691406 0.08203125 0.0068359375 -0.13183594 0.0027313232 -0.075683594 0.022460938 0.171875 -0.048583984 0.038330078 -0.088378906 -0.017211914 0.021850586 0.13378906 0.010681152 0.049804688 0.038085938 -0.0052490234 0.061279297 -0.050048828 -0.10595703 0.055664062 0.15429688 0.17089844 0.048095703 0.12695312 0.08154297 -0.1015625 0.043945312 -0.013549805 -0.13378906 -0.15722656 0.024291992 0.20898438 -0.10205078 -0.09375 0.048583984 0.07519531 0.0035247803 -0.123535156 -0.024169922 -0.0013198853 0.038330078 0.007598877 0.017700195 0.043701172 -0.09814453 -0.05810547 0.014099121 0.041015625 -0.03540039 -0.022949219 -0.13085938 -0.14453125 0.028930664 -0.122558594 -0.07128906 -0.0071411133 -0.09667969 0.05859375 0.104003906 0.026367188 0.0075683594 0.036132812 0.040283203 0.052734375 -0.20410156 -0.033447266 -0.029052734 0.03173828 -0.123535156 -0.06738281 0.01586914 -0.08642578 0.012512207 -0.06298828 -0.12060547 0.0234375 -0.13183594 -0.11816406 -0.012145996 -0.10986328 0.095214844 -0.041992188 0.018310547 0.051757812 0.014953613 -0.15917969 -0.021728516 -0.005126953 0.035888672 -0.003036499 -0.078125 -0.05126953 -0.0074157715 0.087402344 -0.023925781 0.044189453 -0.11376953 0.021484375 -0.003829956 -0.04345703 -0.104003906 -0.18554688 -0.044921875 0.044921875 -0.044433594 0.019042969 -0.020996094 0.0134887695 0.015258789 -0.030395508 0.04663086 0.10253906 -0.0138549805 0.008239746 -0.052734375 0.01965332 -0.076171875 -0.08984375 0.043945312 0.00793457 0.012634277 -0.10839844 -0.018554688 -0.10449219 -0.15234375 -0.07910156 -0.028808594 -0.018676758 0.09716797 -0.008361816 -0.03540039 0.007537842 0.05810547 0.08203125 0.028808594 0.05102539 0.0031738281 -0.018554688 0.014953613 -0.072753906 -0.034179688 0.043945312 -0.048828125 -0.16113281 0.025634766 0.036621094 -0.00015354156 -0.0012588501 -0.039794922 -0.032226562 -0.01574707 0.060791016 0.09716797 -0.015014648 -0.033691406 -0.015319824 0.0046691895 0.032958984 -0.08203125 0.10644531 0.15429688 0.0087890625 -0.12011719 0.061279297 0.05859375 0.03881836 -0.015991211 -0.043945312 0.12011719 -0.07519531 0.125 0.03515625 0.072753906 0.087402344 0.021118164 -0.07373047 0.034423828 -0.09423828 0.01159668 -0.057128906 -0.07861328 0.015991211 0.075683594 0.030517578 0.0046081543 -0.14550781 -0.024780273 -0.107910156 0.068847656 0.05810547 0.125 -0.06542969 0.005279541 0.01184082 0.06982422 0.12695312 0.06542969 -0.017333984 0.119140625 -0.032470703 0.14453125 0.076660156 -0.032226562 -0.06591797 0.06298828 -0.0625 -0.096191406 0.10644531 -0.039794922 0.11621094 -0.00970459 -0.03540039 -0.06542969 0.05883789 0.16210938 0.05126953 0.15917969 0.095214844 0.076171875 -0.091796875 0.025146484 -0.07861328 0.08935547 -0.05859375 -0.040039062 0.045898438 0.03100586 0.0390625 0.03564453 -0.10595703 -0.037109375 -0.16113281 0.021362305 0.0012207031 -0.011291504 -0.015625 -0.033447266 -0.020629883 -0.01940918 0.063964844 0.020141602 0.006866455 0.061035156 -0.1484375\n",
      "is 0.0070495605 -0.07324219 0.171875 0.022583008 -0.1328125 0.19824219 0.11279297 -0.107910156 0.071777344 0.020874023 -0.123046875 -0.05908203 0.10107422 0.0107421875 0.14355469 0.25976562 -0.036376953 0.18554688 -0.07861328 -0.022705078 -0.12060547 0.17773438 0.049560547 0.017211914 0.079589844 -0.045654297 -0.18847656 0.18945312 -0.02319336 0.06298828 0.09765625 -0.019042969 -0.07910156 0.15234375 0.17382812 0.1015625 -0.16308594 0.114746094 0.10058594 -0.09277344 0.109375 0.05883789 -0.021606445 0.06347656 0.041992188 -0.008850098 0.032226562 0.10644531 0.064453125 -0.118652344 0.030517578 0.06689453 0.12207031 -0.08300781 0.171875 0.07861328 0.095214844 -0.0077819824 0.02319336 0.0234375 -0.016845703 0.15527344 -0.10986328 -0.17675781 -0.11621094 0.0234375 -0.010620117 0.052734375 -0.13378906 0.079589844 0.07373047 0.043945312 0.115234375 -0.020629883 0.07470703 -0.0115356445 0.080566406 0.041748047 0.080078125 0.3515625 0.09667969 -0.21289062 0.16503906 -0.078125 0.06982422 -0.0013961792 -0.091308594 0.12988281 0.25195312 -0.016113281 0.09326172 -0.14648438 -0.0015106201 -0.15136719 -0.026855469 -0.15722656 0.026367188 0.0859375 0.071777344 0.07714844 -0.0390625 0.05444336 -0.12792969 0.091308594 -0.18457031 -0.037597656 -0.027954102 -0.08984375 -0.11669922 -0.09863281 0.048095703 -0.16210938 -0.10888672 0.08496094 -0.045654297 0.15820312 -0.038085938 -0.08203125 0.203125 0.08642578 0.06933594 0.032226562 -0.16015625 0.09472656 -0.024658203 0.05419922 0.027954102 0.044921875 0.16992188 0.072753906 -0.036376953 -0.010253906 -0.017089844 -0.107421875 -0.0007019043 -0.07373047 0.25390625 0.056640625 0.03515625 -0.008605957 0.18554688 0.021484375 0.26367188 -0.023803711 -0.099121094 -0.041259766 -0.06933594 -0.11376953 0.050048828 -0.05883789 0.046142578 0.087402344 0.10546875 0.10644531 0.027954102 0.09472656 0.11621094 -0.17285156 -0.03491211 -0.20800781 0.059570312 0.104003906 -0.0017929077 0.05859375 -0.029785156 -0.037597656 0.048583984 -0.063964844 0.079589844 0.06933594 -0.10498047 -0.14453125 0.04345703 -0.068847656 -0.03564453 -0.01171875 0.013671875 -0.06591797 0.119140625 0.03125 -0.04638672 -0.0019683838 0.0073547363 -0.056640625 0.027832031 0.08251953 -0.0134887695 0.071777344 0.14453125 0.12792969 0.042236328 0.14160156 -0.018066406 0.021606445 -0.091796875 0.13378906 -0.1953125 -0.05029297 -0.037841797 -0.096191406 0.103027344 -0.106933594 -0.14746094 0.099609375 -0.23046875 0.22753906 -0.07519531 0.064941406 0.091796875 0.046875 0.06298828 0.06982422 0.046142578 0.09716797 -0.20214844 0.19921875 0.18652344 -0.119628906 -0.14257812 0.15039062 -0.033691406 -0.14550781 -0.0006904602 -0.07324219 0.13378906 0.03564453 -0.022949219 0.027709961 -0.07910156 0.20703125 -0.083496094 -0.049560547 0.03149414 0.1484375 0.055664062 -0.044921875 -0.079589844 0.004760742 -0.020751953 0.060058594 0.004760742 0.011169434 0.17285156 -0.13476562 0.030761719 -0.079589844 0.09033203 0.061035156 0.07714844 -0.05029297 -0.092285156 -0.26757812 0.107910156 0.0859375 0.06298828 0.107910156 -0.026733398 0.10205078 -0.12060547 0.052978516 0.09472656 -0.16503906 0.044189453 0.072265625 0.041259766 0.42578125 -0.103027344 -0.16015625 -0.09033203 -0.063964844 -0.048095703 0.14453125 0.06542969 0.049316406 0.05419922 0.13574219 -0.01928711 -0.21582031 -0.07421875 -0.14648438 0.011474609 -0.16503906 -0.10498047 0.0032043457 0.13476562 -0.003967285 -0.103515625 -0.13964844 0.10449219 -0.012573242 -0.23339844 -0.036376953 -0.09375 0.18261719 0.02709961 0.12792969 -0.024780273 0.011230469 0.1640625 0.106933594\n"
     ]
    }
   ],
   "source": [
    "# Exercise: Print the first 4 lines of the files that you downloaded.\n",
    "# What do you see?\n",
    "import os\n",
    "if os.path.exists(\"glove.840B.300d.sst.txt\"):\n",
    "    file_path_glove = \"glove.840B.300d.sst.txt\"\n",
    "    file_path_w2v = \"googlenews.word2vec.300d.txt\"\n",
    "else:\n",
    "    file_path_glove = \"/gdrive/My Drive/glove.840B.300d.sst.txt\"\n",
    "    file_path_w2v = \"/gdrive/My Drive/googlenews.word2vec.300d.txt\"\n",
    "\n",
    "# Print first 4 lines of GloVe embeddings\n",
    "print(\"GloVe first 4 lines:\")\n",
    "reader = filereader(file_path_glove)\n",
    "for i in range(4):\n",
    "    line = next(reader)\n",
    "    print(line)\n",
    "\n",
    "print(\"\\nWord2Vec first 4 lines:\")\n",
    "# Print first 4 lines of Word2Vec embeddings\n",
    "reader = filereader(file_path_w2v)\n",
    "for i in range(4):\n",
    "    line = next(reader)\n",
    "    print(line)"
   ]
  },
  {
   "cell_type": "markdown",
   "metadata": {
    "id": "WIVCkUkE_IjR"
   },
   "source": [
    "#### Exercise: New Vocabulary\n",
    "\n",
    "Since we now use pre-trained word embeddings, we need to create a new vocabulary.\n",
    "This is because of two reasons:\n",
    "\n",
    "1. We do not have pre-trained word embeddings for all words in our SST training set, and we do not want words in our vocabulary for which we have no word embeddings.\n",
    "2. We should be able to look up the pre-trained word embedding for words in the validation and test set, even if these words are unseen in training.\n",
    "\n",
    "Now, create a new vocabulary object `v` based on the word set of pre-trained embeddings, and load the corresponding embeddings into a list `vectors`.\n",
    "\n",
    "The vocabulary `v` should consist of:\n",
    " - a  `<unk>` token at position 0,\n",
    " - a  `<pad>` token at position 1,\n",
    " - and then all words in the pre-trained embedding set.\n",
    "\n",
    "\n",
    "After storing each vector in a list `vectors`, turn the list into a numpy matrix like this:\n",
    "```python\n",
    " vectors = np.stack(vectors, axis=0)\n",
    "```\n",
    "\n",
    "Remember to add new embeddings for the `<unk>` and `<pad>` tokens, as they're not part of the word2vec/GloVe embeddings. These embeddings can be randomly initialized or 0-valued, think about what makes sense and see what the effects are.\n"
   ]
  },
  {
   "cell_type": "code",
   "execution_count": 49,
   "metadata": {
    "id": "ITyyCvDnCL4U"
   },
   "outputs": [],
   "source": [
    "# YOUR CODE HERE\n",
    "v = Vocabulary()\n",
    "\n",
    "v.add_token(\"<unk>\") \n",
    "v.add_token(\"<pad>\") \n",
    "\n",
    "embedding_dim = 300\n",
    "vectors = [\n",
    "    np.zeros(embedding_dim),  \n",
    "    np.zeros(embedding_dim)   \n",
    "]\n",
    "\n",
    "for line in filereader(file_path_glove):\n",
    "    parts = line.split()\n",
    "    word = parts[0]\n",
    "    vector = np.array([float(x) for x in parts[1:]])\n",
    "    \n",
    "    v.add_token(word)\n",
    "    vectors.append(vector)\n",
    "\n",
    "vectors = np.stack(vectors, axis=0)"
   ]
  },
  {
   "cell_type": "markdown",
   "metadata": {
    "id": "xC-7mRyYNG9b"
   },
   "source": [
    "#### Exercise: words not in our pre-trained set\n",
    "\n",
    "How many words in the training, dev, and test set are also in your vector set?\n",
    "How many words are not there?\n",
    "\n",
    "Store the words that are not in the word vector set in the set below."
   ]
  },
  {
   "cell_type": "code",
   "execution_count": 50,
   "metadata": {
    "id": "K6MA3-wF_X5M"
   },
   "outputs": [
    {
     "name": "stdout",
     "output_type": "stream",
     "text": [
      "Words in pre-trained set: 162125/163566\n",
      "Coverage: 99.12%\n",
      "Words in pre-trained set: 21066/21274\n",
      "Coverage: 99.02%\n",
      "Words in pre-trained set: 42043/42405\n",
      "Coverage: 99.15%\n",
      "\n",
      "Total unique unknown words: 976\n"
     ]
    }
   ],
   "source": [
    "words_not_found = set()\n",
    "# YOUR CODE HERE\n",
    "for dataset in (train_data, dev_data, test_data):\n",
    "    words_in_set = 0\n",
    "    words_total = 0\n",
    "    \n",
    "    for example in dataset:\n",
    "        for token in example.tokens:\n",
    "            words_total += 1\n",
    "            if v.w2i.get(token, 0) == 0:  \n",
    "                words_not_found.add(token)\n",
    "            else:\n",
    "                words_in_set += 1\n",
    "                \n",
    "    print(f\"Words in pre-trained set: {words_in_set}/{words_total}\")\n",
    "    print(f\"Coverage: {words_in_set/words_total:.2%}\")\n",
    "\n",
    "print(f\"\\nTotal unique unknown words: {len(words_not_found)}\")\n"
   ]
  },
  {
   "cell_type": "markdown",
   "metadata": {
    "id": "BfEd38W0NnAI"
   },
   "source": [
    "#### Exercise: train Deep CBOW with (fixed) pre-trained embeddings\n",
    "\n",
    "Now train Deep CBOW again using the pre-trained word vectors.\n"
   ]
  },
  {
   "cell_type": "code",
   "execution_count": 51,
   "metadata": {
    "id": "z_6ooqgEsB20"
   },
   "outputs": [],
   "source": [
    "# We define a new class that inherits from DeepCBOW.\n",
    "class PTDeepCBOW(DeepCBOW):\n",
    "    def __init__(self, vocab_size, output_dim, vocab, embedding_dim=300, hidden_dim=100):\n",
    "        super(PTDeepCBOW, self).__init__(\n",
    "            vocab_size=vocab_size,\n",
    "            num_classes=output_dim,  \n",
    "            vocab=vocab,\n",
    "            embedding_dim=embedding_dim,\n",
    "            hidden_dim=hidden_dim\n",
    "        )"
   ]
  },
  {
   "cell_type": "code",
   "execution_count": null,
   "metadata": {
    "id": "JfIh4Ni6yuAh"
   },
   "outputs": [
    {
     "name": "stdout",
     "output_type": "stream",
     "text": [
      "PTDeepCBOW(\n",
      "  (embed): Embedding(20727, 300)\n",
      "  (output_layer): Sequential(\n",
      "    (0): Linear(in_features=300, out_features=100, bias=True)\n",
      "    (1): Tanh()\n",
      "    (2): Linear(in_features=100, out_features=100, bias=True)\n",
      "    (3): Tanh()\n",
      "    (4): Linear(in_features=100, out_features=5, bias=True)\n",
      "  )\n",
      ")\n",
      "Shuffling training data\n",
      "Iter 1000: loss=1482.5307, time=0.66s\n",
      "iter 1000: dev acc=0.3887\n",
      "new highscore\n",
      "Iter 2000: loss=1391.5471, time=1.54s\n",
      "iter 2000: dev acc=0.3651\n",
      "Iter 3000: loss=1332.0316, time=2.37s\n",
      "iter 3000: dev acc=0.3987\n",
      "new highscore\n",
      "Iter 4000: loss=1389.1251, time=3.20s\n",
      "iter 4000: dev acc=0.3833\n",
      "Iter 5000: loss=1350.4859, time=4.03s\n",
      "iter 5000: dev acc=0.4142\n",
      "new highscore\n",
      "Iter 6000: loss=1335.8725, time=4.84s\n",
      "iter 6000: dev acc=0.3987\n",
      "Iter 7000: loss=1350.3854, time=5.70s\n",
      "iter 7000: dev acc=0.4033\n",
      "Iter 8000: loss=1329.1784, time=6.53s\n",
      "iter 8000: dev acc=0.4005\n",
      "Shuffling training data\n",
      "Iter 9000: loss=1329.4969, time=7.32s\n",
      "iter 9000: dev acc=0.3760\n",
      "Iter 10000: loss=1299.8670, time=8.14s\n",
      "iter 10000: dev acc=0.4114\n",
      "Iter 11000: loss=1302.0863, time=8.91s\n",
      "iter 11000: dev acc=0.3960\n",
      "Iter 12000: loss=1325.9706, time=9.73s\n",
      "iter 12000: dev acc=0.3987\n",
      "Iter 13000: loss=1337.2549, time=10.49s\n",
      "iter 13000: dev acc=0.4178\n",
      "new highscore\n",
      "Iter 14000: loss=1298.4985, time=11.30s\n",
      "iter 14000: dev acc=0.3697\n",
      "Iter 15000: loss=1282.2059, time=12.09s\n",
      "iter 15000: dev acc=0.4151\n",
      "Iter 16000: loss=1295.8436, time=12.88s\n",
      "iter 16000: dev acc=0.3996\n",
      "Iter 17000: loss=1315.9171, time=13.62s\n",
      "iter 17000: dev acc=0.3606\n",
      "Shuffling training data\n",
      "Iter 18000: loss=1270.5425, time=14.38s\n",
      "iter 18000: dev acc=0.4096\n",
      "Iter 19000: loss=1232.0988, time=15.15s\n",
      "iter 19000: dev acc=0.4423\n",
      "new highscore\n",
      "Iter 20000: loss=1305.7466, time=15.93s\n",
      "iter 20000: dev acc=0.4187\n",
      "Iter 21000: loss=1300.1191, time=16.70s\n",
      "iter 21000: dev acc=0.4060\n",
      "Iter 22000: loss=1320.8227, time=17.47s\n",
      "iter 22000: dev acc=0.4078\n",
      "Iter 23000: loss=1281.9000, time=18.22s\n",
      "iter 23000: dev acc=0.4015\n",
      "Iter 24000: loss=1270.6435, time=18.98s\n",
      "iter 24000: dev acc=0.4178\n",
      "Iter 25000: loss=1271.3743, time=19.75s\n",
      "iter 25000: dev acc=0.4233\n",
      "Shuffling training data\n",
      "Iter 26000: loss=1259.8574, time=20.51s\n",
      "iter 26000: dev acc=0.4278\n",
      "Iter 27000: loss=1272.9067, time=21.29s\n",
      "iter 27000: dev acc=0.4160\n",
      "Iter 28000: loss=1264.3768, time=22.07s\n",
      "iter 28000: dev acc=0.4096\n",
      "Iter 29000: loss=1254.0783, time=22.83s\n",
      "iter 29000: dev acc=0.4060\n",
      "Iter 30000: loss=1288.2519, time=23.58s\n",
      "iter 30000: dev acc=0.4142\n",
      "Done training\n",
      "Loading best model\n"
     ]
    },
    {
     "name": "stderr",
     "output_type": "stream",
     "text": [
      "/tmp/ipykernel_18179/858537470.py:92: FutureWarning: You are using `torch.load` with `weights_only=False` (the current default value), which uses the default pickle module implicitly. It is possible to construct malicious pickle data which will execute arbitrary code during unpickling (See https://github.com/pytorch/pytorch/blob/main/SECURITY.md#untrusted-models for more details). In a future release, the default value for `weights_only` will be flipped to `True`. This limits the functions that could be executed during unpickling. Arbitrary objects will no longer be allowed to be loaded via this mode unless they are explicitly allowlisted by the user via `torch.serialization.add_safe_globals`. We recommend you start setting `weights_only=True` for any use case where you don't have full control of the loaded file. Please open an issue on GitHub for any issues related to this experimental feature.\n",
      "  ckpt = torch.load(path)\n"
     ]
    },
    {
     "name": "stdout",
     "output_type": "stream",
     "text": [
      "best model iter 19000: train acc=0.4611, dev acc=0.4423, test acc=0.4452\n"
     ]
    }
   ],
   "source": [
    "pt_deep_cbow_args = {\n",
    "    'vocab_size': len(v.w2i),\n",
    "    'embedding_dim': 300,\n",
    "    'hidden_dim': 100,\n",
    "    'output_dim': 5,\n",
    "    'vocab': v\n",
    "}\n",
    "\n",
    "pt_deep_cbow_training_stats = train_with_multiple_seeds(\n",
    "    model_class=PTDeepCBOW,\n",
    "    model_args=pt_deep_cbow_args,\n",
    "    pretrained_vectors=vectors,\n",
    "    freeze_embeddings=True,  # Set to False if you want to fine-tune embeddings\n",
    "    seeds=[42, 123, 456],\n",
    "    num_iterations=30000,\n",
    "    print_every=500,\n",
    "    eval_every=500,\n",
    "    batch_size=32,\n",
    "    eval_batch_size=128,\n",
    "    patience=5,\n",
    "    max_norm=1.0,\n",
    "    warmup_steps=100,\n",
    "    accumulation_steps=4,\n",
    "    checkpoint_every=1000\n",
    ")"
   ]
  },
  {
   "cell_type": "markdown",
   "metadata": {
    "id": "yFu8xzCy9XDW"
   },
   "source": [
    "**It looks like we've hit what is possible with just using words.**\n",
    "Let's move on by incorporating word order!"
   ]
  },
  {
   "cell_type": "markdown",
   "metadata": {
    "id": "g41yW4PL9jG0"
   },
   "source": [
    "# LSTM"
   ]
  },
  {
   "cell_type": "markdown",
   "metadata": {
    "id": "ODzXEH0MaGpa"
   },
   "source": [
    "It is time to get more serious. Even with pre-trained word embeddings and multiple layers, we still seem to do pretty badly at sentiment classification.\n",
    "The next step we can take is to introduce word order again, dropping our independence assumptions. In this way, we can get a representation of the sentence as an ordered set of tokens.\n",
    "\n",
    "We will get this representation using a **Long Short-Term Memory** (LSTM). As an exercise, we will code our own LSTM cell, so that we get comfortable with its inner workings.\n",
    "Once we have an LSTM cell, we can call it repeatedly, updating its hidden state one word at a time:\n",
    "\n",
    "```python\n",
    "rnn = MyLSTMCell(input_size, hidden_size)\n",
    "\n",
    "hx = torch.zeros(1, hidden_size)  # initial hidden state\n",
    "cx = torch.zeros(1, hidden_size)  # initial memory cell\n",
    "output = []                       # to save intermediate LSTM states\n",
    "\n",
    "# feed one word at a time\n",
    "for i in range(n_timesteps):\n",
    "  hx, cx = rnn(input[i], (hx, cx))\n",
    "  output.append(hx)\n",
    "```\n",
    "\n",
    "If you need some more help understanding LSTMs, you can check out these resources:\n",
    "- Blog post (highly recommended): http://colah.github.io/posts/2015-08-Understanding-LSTMs/\n",
    "- Paper covering LSTM formulas in detail: https://arxiv.org/abs/1503.04069\n"
   ]
  },
  {
   "cell_type": "markdown",
   "metadata": {
    "id": "v9f4b45BXKFC"
   },
   "source": [
    "#### Exercise: Finish the LSTM cell below.\n",
    "You will need to implement the LSTM formulas:\n",
    "\n",
    "$$\n",
    "\\begin{array}{ll}\n",
    "        i = \\sigma(W_{ii} x + b_{ii} + W_{hi} h + b_{hi}) \\\\\n",
    "        f = \\sigma(W_{if} x + b_{if} + W_{hf} h + b_{hf}) \\\\\n",
    "        g = \\tanh(W_{ig} x + b_{ig} + W_{hg} h + b_{hg}) \\\\\n",
    "        o = \\sigma(W_{io} x + b_{io} + W_{ho} h + b_{ho}) \\\\\n",
    "        c' = f * c + i * g \\\\\n",
    "        h' = o \\tanh(c') \\\\\n",
    "\\end{array}\n",
    " $$\n",
    "\n",
    "where $\\sigma$ is the sigmoid function.\n",
    "\n",
    "*Note that the LSTM formulas can differ slightly between different papers. We use the PyTorch LSTM formulation here.*"
   ]
  },
  {
   "cell_type": "code",
   "execution_count": 55,
   "metadata": {
    "id": "zJ9m5kLMd7-v"
   },
   "outputs": [],
   "source": [
    "class MyLSTMCell(nn.Module):\n",
    "    \"\"\"Our own LSTM cell\"\"\"\n",
    "\n",
    "    def __init__(self, input_size, hidden_size, bias=True):\n",
    "        \"\"\"Creates the weights for this LSTM\"\"\"\n",
    "        super(MyLSTMCell, self).__init__()\n",
    "\n",
    "        self.input_size = input_size\n",
    "        self.hidden_size = hidden_size\n",
    "        self.bias = bias\n",
    "\n",
    "        # YOUR CODE HERE\n",
    "        # Create the input-hidden weights (W_ii|W_if|W_ig|W_io)\n",
    "        self.weight_ih = nn.Parameter(\n",
    "            torch.empty(4 * hidden_size, input_size))\n",
    "        \n",
    "        # Create the hidden-hidden weights (W_hi|W_hf|W_hg|W_ho)\n",
    "        self.weight_hh = nn.Parameter(\n",
    "            torch.empty(4 * hidden_size, hidden_size))\n",
    "        \n",
    "        if bias:\n",
    "            # Create input-hidden bias (b_ii|b_if|b_ig|b_io)\n",
    "            self.bias_ih = nn.Parameter(torch.empty(4 * hidden_size))\n",
    "            # Create hidden-hidden bias (b_hi|b_hf|b_hg|b_ho)\n",
    "            self.bias_hh = nn.Parameter(torch.empty(4 * hidden_size))\n",
    "        else:\n",
    "            self.register_parameter('bias_ih', None)\n",
    "            self.register_parameter('bias_hh', None)\n",
    "        \n",
    "        \n",
    "        self.reset_parameters()\n",
    "\n",
    "    def reset_parameters(self):\n",
    "        \"\"\"This is PyTorch's default initialization method\"\"\"\n",
    "        stdv = 1.0 / math.sqrt(self.hidden_size)\n",
    "        for weight in self.parameters():\n",
    "            weight.data.uniform_(-stdv, stdv)\n",
    "\n",
    "    def forward(self, input_, hx, mask=None):\n",
    "        \"\"\"\n",
    "    input is (batch, input_size)\n",
    "    hx is ((batch, hidden_size), (batch, hidden_size))\n",
    "    \"\"\"\n",
    "        prev_h, prev_c = hx\n",
    "\n",
    "        # project input and prev state\n",
    "        # YOUR CODE HERE\n",
    "        gates = (torch.mm(input_, self.weight_ih.t()) + \n",
    "                torch.mm(prev_h, self.weight_hh.t()))\n",
    "        \n",
    "        if self.bias:\n",
    "            gates = gates + self.bias_ih + self.bias_hh\n",
    "            \n",
    "        gates = gates.chunk(4, 1)\n",
    "\n",
    "        # main LSTM computation\n",
    "        i = torch.sigmoid(gates[0])  # input gate\n",
    "        f = torch.sigmoid(gates[1])  # forget gate\n",
    "        g = torch.tanh(gates[2])     # cell gate\n",
    "        o = torch.sigmoid(gates[3])  # output gate\n",
    "        \n",
    "        # Update cell state and hidden state\n",
    "        c = f * prev_c + i * g\n",
    "        h = o * torch.tanh(c)\n",
    "\n",
    "        return h, c\n",
    "\n",
    "    def __repr__(self):\n",
    "        return \"{}({:d}, {:d})\".format(\n",
    "        self.__class__.__name__, self.input_size, self.hidden_size)"
   ]
  },
  {
   "cell_type": "markdown",
   "metadata": {
    "id": "4JM7xPhkQeE5"
   },
   "source": [
    "#### Optional: Efficient Matrix Multiplication\n",
    "\n",
    "It is more efficient to do a few big matrix multiplications than to do many smaller ones. So we will implement the above cell using just **two** linear layers.\n",
    "\n",
    "This is possible because the eight linear transformations contained in one forward pass through an LSTM cell can be reduced to just two:\n",
    "$$W_h h + b_h$$\n",
    "$$W_i x + b_i $$\n",
    "\n",
    "with $h = $ `prev_h` and $x = $ `input_`.\n",
    "\n",
    "and where:\n",
    "\n",
    "$W_h =  \\begin{pmatrix}\n",
    "W_{hi}\\\\\n",
    "W_{hf}\\\\\n",
    "W_{hg}\\\\\n",
    "W_{ho}\n",
    "\\end{pmatrix}$, $b_h = \\begin{pmatrix}\n",
    "b_{hi}\\\\\n",
    "b_{hf}\\\\\n",
    "b_{hg}\\\\\n",
    "b_{ho}\n",
    "\\end{pmatrix}$,  $W_i = \\begin{pmatrix}\n",
    "W_{ii}\\\\\n",
    "W_{if}\\\\\n",
    "W_{ig}\\\\\n",
    "W_{io}\n",
    "\\end{pmatrix}$ and $b_i = \\begin{pmatrix}\n",
    "b_{ii}\\\\\n",
    "b_{if}\\\\\n",
    "b_{ig}\\\\\n",
    "b_{io}\n",
    "\\end{pmatrix}$.\n",
    "\n",
    "Convince yourself that, after chunking with [torch.chunk](https://pytorch.org/docs/stable/torch.html?highlight=chunk#torch.chunk), the output of those two linear transformations is equivalent to the output of the eight linear transformations in the LSTM cell calculations above."
   ]
  },
  {
   "cell_type": "markdown",
   "metadata": {
    "id": "X9gA-UcqSBe0"
   },
   "source": [
    "#### LSTM Classifier\n",
    "\n",
    "Having an LSTM cell is not enough: we still need some code that calls it repeatedly, and then makes a prediction from the final hidden state.\n",
    "You will find that code below. Make sure that you understand it."
   ]
  },
  {
   "cell_type": "code",
   "execution_count": 56,
   "metadata": {
    "id": "3iuYZm5poEn5"
   },
   "outputs": [],
   "source": [
    "class LSTMClassifier(nn.Module):\n",
    "  \"\"\"Encodes sentence with an LSTM and projects final hidden state\"\"\"\n",
    "\n",
    "  def __init__(self, vocab_size, embedding_dim, hidden_dim, output_dim, vocab):\n",
    "    super(LSTMClassifier, self).__init__()\n",
    "    self.vocab = vocab\n",
    "    self.hidden_dim = hidden_dim\n",
    "    self.embed = nn.Embedding(vocab_size, embedding_dim, padding_idx=1)\n",
    "    self.rnn = MyLSTMCell(embedding_dim, hidden_dim)\n",
    "\n",
    "    self.output_layer = nn.Sequential(\n",
    "        nn.Dropout(p=0.5),  # explained later\n",
    "        nn.Linear(hidden_dim, output_dim)\n",
    "    )\n",
    "\n",
    "  def forward(self, x):\n",
    "\n",
    "    B = x.size(0)  # batch size (this is 1 for now, i.e. 1 single example)\n",
    "    T = x.size(1)  # timesteps (the number of words in the sentence)\n",
    "\n",
    "    input_ = self.embed(x)\n",
    "\n",
    "    # here we create initial hidden states containing zeros\n",
    "    # we use a trick here so that, if input is on the GPU, then so are hx and cx\n",
    "    hx = input_.new_zeros(B, self.rnn.hidden_size)\n",
    "    cx = input_.new_zeros(B, self.rnn.hidden_size)\n",
    "\n",
    "    # process input sentences one word/timestep at a time\n",
    "    # input is batch-major (i.e., batch size is the first dimension)\n",
    "    # so the first word(s) is (are) input_[:, 0]\n",
    "    outputs = []\n",
    "    for i in range(T):\n",
    "      hx, cx = self.rnn(input_[:, i], (hx, cx))\n",
    "      outputs.append(hx)\n",
    "\n",
    "    # if we have a single example, our final LSTM state is the last hx\n",
    "    if B == 1:\n",
    "      final = hx\n",
    "    else:\n",
    "      #\n",
    "      # This part is explained in next section, ignore this else-block for now.\n",
    "      #\n",
    "      # We processed sentences with different lengths, so some of the sentences\n",
    "      # had already finished and we have been adding padding inputs to hx.\n",
    "      # We select the final state based on the length of each sentence.\n",
    "\n",
    "      # two lines below not needed if using LSTM from pytorch\n",
    "      outputs = torch.stack(outputs, dim=0)           # [T, B, D]\n",
    "      outputs = outputs.transpose(0, 1).contiguous()  # [B, T, D]\n",
    "\n",
    "      # to be super-sure we're not accidentally indexing the wrong state\n",
    "      # we zero out positions that are invalid\n",
    "      pad_positions = (x == 1).unsqueeze(-1)\n",
    "\n",
    "      outputs = outputs.contiguous()\n",
    "      outputs = outputs.masked_fill_(pad_positions, 0.)\n",
    "\n",
    "      mask = (x != 1)  # true for valid positions [B, T]\n",
    "      lengths = mask.sum(dim=1)                 # [B, 1]\n",
    "\n",
    "      indexes = (lengths - 1) + torch.arange(B, device=x.device, dtype=x.dtype) * T\n",
    "      final = outputs.view(-1, self.hidden_dim)[indexes]  # [B, D]\n",
    "\n",
    "    # we use the last hidden state to classify the sentence\n",
    "    logits = self.output_layer(final)\n",
    "    return logits"
   ]
  },
  {
   "cell_type": "markdown",
   "metadata": {
    "id": "FxFoVpvMPB6g"
   },
   "source": [
    "#### Dropout\n",
    "\n",
    "Data sparsity and a small data set can cause *overfitting*. This is a phenomenom that is very likely to occur when training strong and expressive models, like LSTMs, on small data. In practice, if your model overfits, this means that it will be very good at predicting (or \"remembering\") the sentiment of the training set, but unable to generalise to new, unseen data in the test set. This is undesirable and one technique to mitigate this issue is *dropout*.\n",
    "\n",
    "A dropout layer is defined by the following formula, which can be applied, for example, to a linear layer:\n",
    "\n",
    "$$\\text{tanh}(W(\\mathbf{h}\\odot \\mathbf{d}) + \\mathbf{b})$$\n",
    "\n",
    "where $\\mathbf{d} \\in \\{0, 1\\}^n$, with $d_j \\sim \\text{Bernoulli}(p)$,\n",
    "\n",
    "These formula simply means that we *drop* certain parameters during training (by setting them to zero). Which parameters we drop is stochastically determined by a Bernoulli distribution and the probability of each parameter being dropped is set to $p = 0.5$ in our experiments (see the previous cell of code where we define our output layer). A dropout layer can be applied at many different places in our models. This technique helps against the undesirable effect that a model relies on single parameters for prediction (e.g. if $h^{\\prime}_j$ is large, always predict positive). If we use dropout, the model needs to learn to rely on different parameters, which is desirable to obtain better generalisation to unseen data."
   ]
  },
  {
   "cell_type": "markdown",
   "metadata": {
    "id": "XQjEjLt9z0XW"
   },
   "source": [
    "**Let's train our LSTM!** Note that is will be a lot slower than previous models because we need to do many more computations per sentence.\n",
    "\n",
    "#### Training"
   ]
  },
  {
   "cell_type": "code",
   "execution_count": null,
   "metadata": {
    "id": "LgZoSPD4fsf_"
   },
   "outputs": [
    {
     "name": "stdout",
     "output_type": "stream",
     "text": [
      "LSTMClassifier(\n",
      "  (embed): Embedding(20727, 300, padding_idx=1)\n",
      "  (rnn): MyLSTMCell(300, 168)\n",
      "  (output_layer): Sequential(\n",
      "    (0): Dropout(p=0.5, inplace=False)\n",
      "    (1): Linear(in_features=168, out_features=5, bias=True)\n",
      "  )\n",
      ")\n",
      "embed.weight             [20727, 300] requires_grad=False\n",
      "rnn.weight_ih            [672, 300]   requires_grad=True\n",
      "rnn.weight_hh            [672, 168]   requires_grad=True\n",
      "rnn.bias_ih              [672]        requires_grad=True\n",
      "rnn.bias_hh              [672]        requires_grad=True\n",
      "output_layer.1.weight    [5, 168]     requires_grad=True\n",
      "output_layer.1.bias      [5]          requires_grad=True\n",
      "\n",
      "Total number of parameters: 6534785\n",
      "\n",
      "Shuffling training data\n",
      "Iter 250: loss=393.3419, time=1.39s\n",
      "Iter 500: loss=387.2469, time=2.70s\n",
      "Iter 750: loss=390.1645, time=4.06s\n",
      "Iter 1000: loss=378.3716, time=5.44s\n",
      "iter 1000: dev acc=0.3488\n",
      "new highscore\n",
      "Iter 1250: loss=358.7177, time=8.58s\n",
      "Iter 1500: loss=355.9973, time=9.87s\n",
      "Iter 1750: loss=361.0908, time=11.15s\n",
      "Iter 2000: loss=356.8428, time=12.52s\n",
      "iter 2000: dev acc=0.3915\n",
      "new highscore\n",
      "Iter 2250: loss=358.2520, time=15.69s\n",
      "Iter 2500: loss=362.4546, time=16.99s\n",
      "Iter 2750: loss=350.6563, time=18.39s\n",
      "Iter 3000: loss=340.7483, time=19.78s\n",
      "iter 3000: dev acc=0.3896\n",
      "Iter 3250: loss=350.0347, time=22.89s\n",
      "Iter 3500: loss=338.2402, time=24.19s\n",
      "Iter 3750: loss=346.7608, time=25.61s\n",
      "Iter 4000: loss=348.3087, time=26.97s\n",
      "iter 4000: dev acc=0.4178\n",
      "new highscore\n",
      "Iter 4250: loss=332.9716, time=30.16s\n",
      "Iter 4500: loss=340.3742, time=31.43s\n",
      "Iter 4750: loss=334.0284, time=32.61s\n",
      "Iter 5000: loss=333.7566, time=33.91s\n",
      "iter 5000: dev acc=0.4133\n",
      "Iter 5250: loss=327.6135, time=37.12s\n",
      "Iter 5500: loss=336.1947, time=38.69s\n",
      "Iter 5750: loss=338.8787, time=40.05s\n",
      "Iter 6000: loss=329.3623, time=41.52s\n",
      "iter 6000: dev acc=0.4251\n",
      "new highscore\n",
      "Iter 6250: loss=328.4451, time=44.67s\n",
      "Iter 6500: loss=334.4728, time=46.07s\n",
      "Iter 6750: loss=332.2263, time=47.47s\n",
      "Iter 7000: loss=325.9985, time=48.74s\n",
      "iter 7000: dev acc=0.4005\n",
      "Iter 7250: loss=321.1927, time=51.89s\n",
      "Iter 7500: loss=330.2465, time=53.22s\n",
      "Iter 7750: loss=323.9797, time=54.56s\n",
      "Iter 8000: loss=334.7653, time=55.91s\n",
      "iter 8000: dev acc=0.4033\n",
      "Iter 8250: loss=344.0590, time=59.06s\n",
      "Iter 8500: loss=333.8587, time=60.44s\n",
      "Shuffling training data\n",
      "Iter 8750: loss=327.6261, time=61.76s\n",
      "Iter 9000: loss=288.9205, time=63.18s\n",
      "iter 9000: dev acc=0.4223\n",
      "Iter 9250: loss=327.8025, time=66.39s\n",
      "Iter 9500: loss=312.4080, time=67.77s\n",
      "Iter 9750: loss=319.3827, time=69.13s\n",
      "Iter 10000: loss=321.4788, time=70.41s\n",
      "iter 10000: dev acc=0.4114\n",
      "Iter 10250: loss=314.9997, time=73.56s\n",
      "Iter 10500: loss=308.9313, time=74.87s\n",
      "Iter 10750: loss=302.8912, time=76.17s\n",
      "Iter 11000: loss=318.2052, time=77.48s\n",
      "iter 11000: dev acc=0.4178\n",
      "Iter 11250: loss=322.9508, time=80.76s\n",
      "Iter 11500: loss=314.4490, time=82.20s\n",
      "Iter 11750: loss=293.9042, time=83.69s\n",
      "Iter 12000: loss=321.8391, time=85.06s\n",
      "iter 12000: dev acc=0.4087\n",
      "Iter 12250: loss=298.8543, time=88.35s\n",
      "Iter 12500: loss=325.6999, time=89.84s\n",
      "Iter 12750: loss=330.6578, time=91.19s\n",
      "Iter 13000: loss=318.9699, time=92.49s\n",
      "iter 13000: dev acc=0.4196\n",
      "Iter 13250: loss=346.3558, time=95.67s\n",
      "Iter 13500: loss=319.8081, time=97.12s\n",
      "Iter 13750: loss=297.1249, time=98.56s\n",
      "Iter 14000: loss=304.3431, time=100.09s\n",
      "iter 14000: dev acc=0.4269\n",
      "new highscore\n",
      "Iter 14250: loss=317.8420, time=103.55s\n",
      "Iter 14500: loss=310.1113, time=105.12s\n",
      "Iter 14750: loss=325.3320, time=106.57s\n",
      "Iter 15000: loss=293.2678, time=108.06s\n",
      "iter 15000: dev acc=0.4314\n",
      "new highscore\n",
      "Iter 15250: loss=319.0795, time=111.42s\n",
      "Iter 15500: loss=318.3775, time=112.81s\n",
      "Iter 15750: loss=318.2897, time=114.18s\n",
      "Iter 16000: loss=308.8966, time=115.51s\n",
      "iter 16000: dev acc=0.4469\n",
      "new highscore\n",
      "Iter 16250: loss=299.9548, time=118.80s\n",
      "Iter 16500: loss=312.4942, time=120.17s\n",
      "Iter 16750: loss=320.8570, time=121.43s\n",
      "Iter 17000: loss=313.4223, time=122.86s\n",
      "iter 17000: dev acc=0.4387\n",
      "Shuffling training data\n",
      "Iter 17250: loss=286.7433, time=126.14s\n",
      "Iter 17500: loss=304.5036, time=127.61s\n",
      "Iter 17750: loss=281.3032, time=128.92s\n",
      "Iter 18000: loss=296.7214, time=130.43s\n",
      "iter 18000: dev acc=0.4305\n",
      "Iter 18250: loss=289.7646, time=133.55s\n",
      "Iter 18500: loss=325.4975, time=134.94s\n",
      "Iter 18750: loss=300.7076, time=136.24s\n",
      "Iter 19000: loss=293.6565, time=137.63s\n",
      "iter 19000: dev acc=0.4214\n",
      "Iter 19250: loss=292.4407, time=140.75s\n",
      "Iter 19500: loss=284.4229, time=142.13s\n",
      "Iter 19750: loss=296.5349, time=143.54s\n",
      "Iter 20000: loss=310.3514, time=145.01s\n",
      "iter 20000: dev acc=0.4523\n",
      "new highscore\n",
      "Iter 20250: loss=284.2717, time=148.36s\n",
      "Iter 20500: loss=309.9189, time=149.61s\n",
      "Iter 20750: loss=291.5090, time=150.90s\n",
      "Iter 21000: loss=282.1766, time=152.32s\n",
      "iter 21000: dev acc=0.4441\n",
      "Iter 21250: loss=298.6603, time=155.61s\n",
      "Iter 21500: loss=306.0296, time=157.01s\n",
      "Iter 21750: loss=288.0672, time=158.34s\n",
      "Iter 22000: loss=307.3541, time=159.72s\n",
      "iter 22000: dev acc=0.4396\n",
      "Iter 22250: loss=291.1722, time=162.99s\n",
      "Iter 22500: loss=276.8768, time=164.36s\n",
      "Iter 22750: loss=300.1427, time=165.67s\n",
      "Iter 23000: loss=283.5067, time=166.98s\n",
      "iter 23000: dev acc=0.4441\n",
      "Iter 23250: loss=303.6026, time=170.16s\n",
      "Iter 23500: loss=282.1291, time=171.46s\n",
      "Iter 23750: loss=298.8695, time=172.85s\n",
      "Iter 24000: loss=297.9997, time=174.17s\n",
      "iter 24000: dev acc=0.4432\n",
      "Iter 24250: loss=320.1189, time=177.39s\n",
      "Iter 24500: loss=291.6829, time=178.63s\n",
      "Iter 24750: loss=298.7083, time=179.92s\n",
      "Iter 25000: loss=283.7189, time=181.25s\n",
      "iter 25000: dev acc=0.4450\n",
      "Done training\n",
      "Loading best model\n"
     ]
    },
    {
     "name": "stderr",
     "output_type": "stream",
     "text": [
      "/tmp/ipykernel_18179/858537470.py:92: FutureWarning: You are using `torch.load` with `weights_only=False` (the current default value), which uses the default pickle module implicitly. It is possible to construct malicious pickle data which will execute arbitrary code during unpickling (See https://github.com/pytorch/pytorch/blob/main/SECURITY.md#untrusted-models for more details). In a future release, the default value for `weights_only` will be flipped to `True`. This limits the functions that could be executed during unpickling. Arbitrary objects will no longer be allowed to be loaded via this mode unless they are explicitly allowlisted by the user via `torch.serialization.add_safe_globals`. We recommend you start setting `weights_only=True` for any use case where you don't have full control of the loaded file. Please open an issue on GitHub for any issues related to this experimental feature.\n",
      "  ckpt = torch.load(path)\n"
     ]
    },
    {
     "name": "stdout",
     "output_type": "stream",
     "text": [
      "best model iter 20000: train acc=0.5169, dev acc=0.4523, test acc=0.4706\n"
     ]
    }
   ],
   "source": [
    "lstm_args = {\n",
    "    'vocab_size': len(v.w2i),\n",
    "    'embedding_dim': 300,\n",
    "    'hidden_dim': 168,\n",
    "    'output_dim': len(t2i),\n",
    "    'vocab': v\n",
    "}\n",
    "\n",
    "lstm_no_batch_training_stats = train_with_multiple_seeds(\n",
    "    model_class=LSTMClassifier,\n",
    "    model_args=lstm_args,\n",
    "    seeds=[42, 123, 456],\n",
    "    pretrained_vectors=vectors,\n",
    "    freeze_embeddings=True,  # Frozen embeddings\n",
    "    num_iterations=25000,\n",
    "    print_every=250,\n",
    "    eval_every=1000,\n",
    "    batch_size=1,  # No minibatching\n",
    "    eval_batch_size=1,\n",
    "    patience=5,\n",
    "    max_norm=1.0,\n",
    "    warmup_steps=100,\n",
    "    accumulation_steps=4,\n",
    "    checkpoint_every=1000,\n",
    "    # Use default batch_fn and prep_fn (not minibatch versions)\n",
    "    batch_fn=get_examples,\n",
    "    prep_fn=prepare_example,\n",
    "    eval_fn=simple_evaluate\n",
    ")"
   ]
  },
  {
   "cell_type": "markdown",
   "metadata": {
    "id": "YEw6XHQY_AAQ"
   },
   "source": [
    "# Mini-batching\n",
    "\n"
   ]
  },
  {
   "cell_type": "markdown",
   "metadata": {
    "id": "FPf96wGzBTQJ"
   },
   "source": [
    "**Why is the LSTM so slow?** Despite our best efforts, we still need to make a lot of matrix multiplications per example (linear in the length of the example) just to get a single classification, and we can only process the 2nd word once we have computed the hidden state for the 1st word (sequential computation).\n",
    "\n",
    "GPUs are more efficient if we do a few big matrix multiplications, rather than lots of small ones. If we could process multiple examples at the same time, then we could exploit that. That is, we could still process the input sequentially, but doing so for multiple sentences at the same time.\n",
    "\n",
    "Up to now our \"mini-batches\" consisted of a single example. This was for a reason: the sentences in our data sets have **different lengths**, and this makes it difficult to process them at the same time.\n",
    "\n",
    "Consider a batch of 2 sentences:\n",
    "\n",
    "```\n",
    "this movie is bad\n",
    "this movie is super cool !\n",
    "```\n",
    "\n",
    "Let's say the IDs for these sentences are:\n",
    "\n",
    "```\n",
    "2 3 4 5\n",
    "2 3 4 6 7 8\n",
    "```\n",
    "\n",
    "We cannot feed PyTorch an object with rows of variable length! We need to turn this into a matrix.\n",
    "\n",
    "The solution is to add **padding values** to our mini-batch:\n",
    "\n",
    "```\n",
    "2 3 4 5 1 1\n",
    "2 3 4 6 7 8\n",
    "```\n",
    "\n",
    "Whenever a sentence is shorter than the longest sentence in a mini-batch, we just use a padding value (here: 1) to fill the matrix.\n",
    "\n",
    "In our computation, we should **ignore** the padding positions (e.g. mask them out) so that paddings do not contribute to the loss.\n",
    "\n",
    "#### Mini-batch feed\n",
    "We will now implement a `get_minibatch` function which will replace `get_example` and returns a mini-batch of the requested size."
   ]
  },
  {
   "cell_type": "code",
   "execution_count": 60,
   "metadata": {
    "id": "IoAE2JBiXJ3P"
   },
   "outputs": [],
   "source": [
    "def get_minibatch(data, batch_size=25, shuffle=True):\n",
    "  \"\"\"Return minibatches, optional shuffling\"\"\"\n",
    "\n",
    "  if shuffle:\n",
    "    print(\"Shuffling training data\")\n",
    "    random.shuffle(data)  # shuffle training data each epoch\n",
    "\n",
    "  batch = []\n",
    "\n",
    "  # yield minibatches\n",
    "  for example in data:\n",
    "    batch.append(example)\n",
    "\n",
    "    if len(batch) == batch_size:\n",
    "      yield batch\n",
    "      batch = []\n",
    "\n",
    "  # in case there is something left\n",
    "  if len(batch) > 0:\n",
    "    yield batch"
   ]
  },
  {
   "cell_type": "markdown",
   "metadata": {
    "id": "DwZM-XYkT8Zx"
   },
   "source": [
    "#### Padding function\n",
    "We will need a function that adds padding 1s to a sequence of IDs so that\n",
    "it becomes as long as the longest sequence in the minibatch."
   ]
  },
  {
   "cell_type": "code",
   "execution_count": 61,
   "metadata": {
    "id": "sp0sK1ghw4Ft"
   },
   "outputs": [
    {
     "data": {
      "text/plain": [
       "[2, 3, 4, 1, 1]"
      ]
     },
     "execution_count": 61,
     "metadata": {},
     "output_type": "execute_result"
    }
   ],
   "source": [
    "def pad(tokens, length, pad_value=1):\n",
    "  \"\"\"add padding 1s to a sequence to that it has the desired length\"\"\"\n",
    "  return tokens + [pad_value] * (length - len(tokens))\n",
    "\n",
    "# example\n",
    "tokens = [2, 3, 4]\n",
    "pad(tokens, 5)"
   ]
  },
  {
   "cell_type": "markdown",
   "metadata": {
    "id": "SL2iixMYUgfh"
   },
   "source": [
    "#### New `prepare` function\n",
    "\n",
    "We will also need a new function that turns a mini-batch into PyTorch tensors."
   ]
  },
  {
   "cell_type": "code",
   "execution_count": 62,
   "metadata": {
    "id": "ZID0cqozWks8"
   },
   "outputs": [],
   "source": [
    "def prepare_minibatch(mb, vocab):\n",
    "  \"\"\"\n",
    "  Minibatch is a list of examples.\n",
    "  This function converts words to IDs and returns\n",
    "  torch tensors to be used as input/targets.\n",
    "  \"\"\"\n",
    "  batch_size = len(mb)\n",
    "  maxlen = max([len(ex.tokens) for ex in mb])\n",
    "\n",
    "  # vocab returns 0 if the word is not there\n",
    "  x = [pad([vocab.w2i.get(t, 0) for t in ex.tokens], maxlen) for ex in mb]\n",
    "\n",
    "  x = torch.LongTensor(x)\n",
    "  x = x.to(device)\n",
    "\n",
    "  y = [ex.label for ex in mb]\n",
    "  y = torch.LongTensor(y)\n",
    "  y = y.to(device)\n",
    "\n",
    "  return x, y"
   ]
  },
  {
   "cell_type": "code",
   "execution_count": 63,
   "metadata": {
    "id": "OwDAtCv1x2hB"
   },
   "outputs": [
    {
     "name": "stdout",
     "output_type": "stream",
     "text": [
      "Example(tokens=['This', 'is', 'one', 'baaaaaaaaad', 'movie', '.'], tree=Tree('0', [Tree('2', ['This']), Tree('0', [Tree('0', [Tree('2', ['is']), Tree('0', [Tree('2', ['one']), Tree('0', [Tree('0', ['baaaaaaaaad']), Tree('2', ['movie'])])])]), Tree('2', ['.'])])]), label=0, transitions=[0, 0, 0, 0, 0, 1, 1, 1, 0, 1, 1])\n",
      "Example(tokens=['...', 'the', 'plot', 'weaves', 'us', 'into', 'a', 'complex', 'web', '.'], tree=Tree('3', [Tree('2', ['...']), Tree('3', [Tree('2', [Tree('2', ['the']), Tree('2', ['plot'])]), Tree('3', [Tree('3', [Tree('2', [Tree('2', ['weaves']), Tree('3', ['us'])]), Tree('2', [Tree('2', ['into']), Tree('3', [Tree('2', ['a']), Tree('2', [Tree('3', ['complex']), Tree('2', ['web'])])])])]), Tree('2', ['.'])])])]), label=3, transitions=[0, 0, 0, 1, 0, 0, 1, 0, 0, 0, 0, 1, 1, 1, 1, 0, 1, 1, 1])\n",
      "Example(tokens=['The', 'power', 'of', 'this', 'script', ',', 'and', 'the', 'performances', 'that', 'come', 'with', 'it', ',', 'is', 'that', 'the', 'whole', 'damned', 'thing', 'did', \"n't\", 'get', 'our', 'moral', 'hackles', 'up', '.'], tree=Tree('2', [Tree('4', [Tree('4', [Tree('3', [Tree('4', [Tree('4', [Tree('2', [Tree('2', ['The']), Tree('2', ['power'])]), Tree('2', [Tree('2', ['of']), Tree('3', [Tree('2', ['this']), Tree('2', ['script'])])])]), Tree('2', [','])]), Tree('2', ['and'])]), Tree('3', [Tree('2', [Tree('2', ['the']), Tree('2', ['performances'])]), Tree('2', [Tree('2', ['that']), Tree('2', [Tree('2', ['come']), Tree('3', [Tree('2', ['with']), Tree('2', ['it'])])])])])]), Tree('2', [','])]), Tree('1', [Tree('1', [Tree('2', ['is']), Tree('1', [Tree('2', ['that']), Tree('1', [Tree('2', [Tree('2', ['the']), Tree('1', [Tree('2', ['whole']), Tree('1', [Tree('1', ['damned']), Tree('2', ['thing'])])])]), Tree('2', [Tree('2', [Tree('2', ['did']), Tree('2', [\"n't\"])]), Tree('1', [Tree('1', [Tree('2', ['get']), Tree('1', [Tree('2', ['our']), Tree('2', [Tree('2', ['moral']), Tree('2', ['hackles'])])])]), Tree('2', ['up'])])])])])]), Tree('2', ['.'])])]), label=2, transitions=[0, 0, 1, 0, 0, 0, 1, 1, 1, 0, 1, 0, 1, 0, 0, 1, 0, 0, 0, 0, 1, 1, 1, 1, 1, 0, 1, 0, 0, 0, 0, 0, 0, 1, 1, 1, 0, 0, 1, 0, 0, 0, 0, 1, 1, 1, 0, 1, 1, 1, 1, 1, 0, 1, 1])\n"
     ]
    }
   ],
   "source": [
    "# Let's test our new function.\n",
    "# This should give us 3 examples.\n",
    "mb = next(get_minibatch(train_data, batch_size=3, shuffle=False))\n",
    "for ex in mb:\n",
    "  print(ex)"
   ]
  },
  {
   "cell_type": "code",
   "execution_count": 64,
   "metadata": {
    "id": "dg8zEK8zyUCH"
   },
   "outputs": [
    {
     "name": "stdout",
     "output_type": "stream",
     "text": [
      "x tensor([[   74,    11,    51, 20717,   550,     3,     1,     1,     1,     1,\n",
      "             1,     1,     1,     1,     1,     1,     1,     1,     1,     1,\n",
      "             1,     1,     1,     1,     1,     1,     1,     1],\n",
      "        [   34,     4,  3459, 12005,   136,    98,     8,  1681,   456,     3,\n",
      "             1,     1,     1,     1,     1,     1,     1,     1,     1,     1,\n",
      "             1,     1,     1,     1,     1,     1,     1,     1],\n",
      "        [   23,   360,     7,    28,  2870,     2,     5,     4,  3939,    16,\n",
      "           233,    20,    22,     2,    11,    16,     4,   494,  8262,   270,\n",
      "           123,    41,    84,    70,  3646, 17059,    61,     3]],\n",
      "       device='cuda:0')\n",
      "y tensor([0, 3, 2], device='cuda:0')\n"
     ]
    }
   ],
   "source": [
    "# We should find padding 1s at the end\n",
    "x, y = prepare_minibatch(mb, v)\n",
    "print(\"x\", x)\n",
    "print(\"y\", y)"
   ]
  },
  {
   "cell_type": "markdown",
   "metadata": {
    "id": "xYBJEoSNUwI0"
   },
   "source": [
    "#### Evaluate (mini-batch version)\n",
    "\n",
    "We can now update our evaluation function to use mini-batches"
   ]
  },
  {
   "cell_type": "code",
   "execution_count": 65,
   "metadata": {
    "id": "eiZZpEghzqou"
   },
   "outputs": [],
   "source": [
    "def evaluate(model, data,\n",
    "             batch_fn=get_minibatch, prep_fn=prepare_minibatch,\n",
    "             batch_size=16):\n",
    "  \"\"\"Accuracy of a model on given data set (using mini-batches)\"\"\"\n",
    "  correct = 0\n",
    "  total = 0\n",
    "  model.eval()  # disable dropout\n",
    "\n",
    "  for mb in batch_fn(data, batch_size=batch_size, shuffle=False):\n",
    "    x, targets = prep_fn(mb, model.vocab)\n",
    "    with torch.no_grad():\n",
    "      logits = model(x)\n",
    "\n",
    "    predictions = logits.argmax(dim=-1).view(-1)\n",
    "\n",
    "    # add the number of correct predictions to the total correct\n",
    "    correct += (predictions == targets.view(-1)).sum().item()\n",
    "    total += targets.size(0)\n",
    "\n",
    "  return correct, total, correct / float(total)"
   ]
  },
  {
   "cell_type": "markdown",
   "metadata": {
    "id": "23wAZomozh_2"
   },
   "source": [
    "# LSTM (Mini-batched)"
   ]
  },
  {
   "cell_type": "markdown",
   "metadata": {
    "id": "B-gkPU7jzBe2"
   },
   "source": [
    "With this, let's run the LSTM again but now using mini-batches!"
   ]
  },
  {
   "cell_type": "code",
   "execution_count": null,
   "metadata": {
    "id": "226Xg9OPzFbA"
   },
   "outputs": [
    {
     "name": "stdout",
     "output_type": "stream",
     "text": [
      "LSTMClassifier(\n",
      "  (embed): Embedding(20727, 300, padding_idx=1)\n",
      "  (rnn): MyLSTMCell(300, 168)\n",
      "  (output_layer): Sequential(\n",
      "    (0): Dropout(p=0.5, inplace=False)\n",
      "    (1): Linear(in_features=168, out_features=5, bias=True)\n",
      "  )\n",
      ")\n",
      "embed.weight             [20727, 300] requires_grad=False\n",
      "rnn.weight_ih            [672, 300]   requires_grad=True\n",
      "rnn.weight_hh            [672, 168]   requires_grad=True\n",
      "rnn.bias_ih              [672]        requires_grad=True\n",
      "rnn.bias_hh              [672]        requires_grad=True\n",
      "output_layer.1.weight    [5, 168]     requires_grad=True\n",
      "output_layer.1.bias      [5]          requires_grad=True\n",
      "\n",
      "Total number of parameters: 6534785\n",
      "\n",
      "Shuffling training data\n",
      "Iter 250: loss=384.4142, time=2.91s\n",
      "iter 250: dev acc=0.3252\n",
      "new highscore\n",
      "Shuffling training data\n",
      "Iter 500: loss=341.3048, time=5.92s\n",
      "iter 500: dev acc=0.4169\n",
      "new highscore\n",
      "Shuffling training data\n",
      "Iter 750: loss=325.3467, time=9.07s\n",
      "iter 750: dev acc=0.4051\n",
      "Iter 1000: loss=322.3066, time=12.16s\n",
      "iter 1000: dev acc=0.4096\n",
      "Shuffling training data\n",
      "Iter 1250: loss=312.5139, time=15.27s\n",
      "iter 1250: dev acc=0.4269\n",
      "new highscore\n",
      "Shuffling training data\n",
      "Iter 1500: loss=306.8070, time=18.71s\n",
      "iter 1500: dev acc=0.4487\n",
      "new highscore\n",
      "Shuffling training data\n",
      "Iter 1750: loss=303.9421, time=21.99s\n",
      "iter 1750: dev acc=0.4287\n",
      "Iter 2000: loss=300.9251, time=24.94s\n",
      "iter 2000: dev acc=0.4432\n",
      "Shuffling training data\n",
      "Iter 2250: loss=293.2150, time=27.87s\n",
      "iter 2250: dev acc=0.4541\n",
      "new highscore\n",
      "Shuffling training data\n",
      "Iter 2500: loss=293.5498, time=30.92s\n",
      "iter 2500: dev acc=0.4496\n",
      "Shuffling training data\n",
      "Iter 2750: loss=290.6737, time=34.07s\n",
      "iter 2750: dev acc=0.4387\n",
      "Iter 3000: loss=285.0997, time=37.09s\n",
      "iter 3000: dev acc=0.4587\n",
      "new highscore\n",
      "Shuffling training data\n",
      "Iter 3250: loss=276.2152, time=40.15s\n",
      "iter 3250: dev acc=0.4432\n",
      "Shuffling training data\n",
      "Iter 3500: loss=275.8900, time=43.15s\n",
      "iter 3500: dev acc=0.4596\n",
      "new highscore\n",
      "Iter 3750: loss=272.4434, time=46.06s\n",
      "iter 3750: dev acc=0.4623\n",
      "new highscore\n",
      "Shuffling training data\n",
      "Iter 4000: loss=265.4387, time=48.95s\n",
      "iter 4000: dev acc=0.4559\n",
      "Shuffling training data\n",
      "Iter 4250: loss=259.5207, time=52.11s\n",
      "iter 4250: dev acc=0.4505\n",
      "Shuffling training data\n",
      "Iter 4500: loss=258.5161, time=55.34s\n",
      "iter 4500: dev acc=0.4514\n",
      "Iter 4750: loss=248.2925, time=58.45s\n",
      "iter 4750: dev acc=0.4478\n",
      "Shuffling training data\n",
      "Iter 5000: loss=240.0755, time=61.52s\n",
      "iter 5000: dev acc=0.4432\n",
      "Shuffling training data\n",
      "Iter 5250: loss=238.8715, time=64.59s\n",
      "iter 5250: dev acc=0.4578\n",
      "Shuffling training data\n",
      "Iter 5500: loss=231.9877, time=67.79s\n",
      "iter 5500: dev acc=0.4460\n",
      "Iter 5750: loss=223.0540, time=70.73s\n",
      "iter 5750: dev acc=0.4305\n",
      "Shuffling training data\n",
      "Iter 6000: loss=219.4783, time=73.76s\n",
      "iter 6000: dev acc=0.4387\n",
      "Shuffling training data\n",
      "Iter 6250: loss=210.0719, time=76.68s\n",
      "iter 6250: dev acc=0.4296\n",
      "Shuffling training data\n",
      "Iter 6500: loss=206.6832, time=79.55s\n",
      "iter 6500: dev acc=0.4233\n",
      "Iter 6750: loss=195.3795, time=82.58s\n",
      "iter 6750: dev acc=0.4432\n",
      "Shuffling training data\n",
      "Iter 7000: loss=187.5934, time=85.47s\n",
      "iter 7000: dev acc=0.4051\n",
      "Shuffling training data\n",
      "Iter 7250: loss=185.0325, time=88.69s\n",
      "iter 7250: dev acc=0.4124\n",
      "Iter 7500: loss=175.1360, time=91.52s\n",
      "iter 7500: dev acc=0.4287\n",
      "Shuffling training data\n",
      "Iter 7750: loss=165.7479, time=94.37s\n",
      "iter 7750: dev acc=0.4323\n",
      "Shuffling training data\n",
      "Iter 8000: loss=161.1453, time=97.21s\n",
      "iter 8000: dev acc=0.4223\n",
      "Shuffling training data\n",
      "Iter 8250: loss=150.9128, time=100.11s\n",
      "iter 8250: dev acc=0.4205\n",
      "Iter 8500: loss=145.7381, time=102.97s\n",
      "iter 8500: dev acc=0.4233\n",
      "Shuffling training data\n",
      "Iter 8750: loss=139.4044, time=105.82s\n",
      "iter 8750: dev acc=0.4296\n",
      "Shuffling training data\n",
      "Iter 9000: loss=127.7064, time=108.76s\n",
      "iter 9000: dev acc=0.4187\n",
      "Shuffling training data\n",
      "Iter 9250: loss=126.2194, time=111.67s\n",
      "iter 9250: dev acc=0.3787\n",
      "Iter 9500: loss=119.0376, time=114.58s\n",
      "iter 9500: dev acc=0.3960\n",
      "Shuffling training data\n",
      "Iter 9750: loss=114.8424, time=117.61s\n",
      "iter 9750: dev acc=0.3969\n",
      "Shuffling training data\n",
      "Iter 10000: loss=110.3621, time=120.51s\n",
      "iter 10000: dev acc=0.4024\n",
      "Iter 10250: loss=101.8644, time=123.51s\n",
      "iter 10250: dev acc=0.4033\n",
      "Shuffling training data\n",
      "Iter 10500: loss=93.2250, time=126.70s\n",
      "iter 10500: dev acc=0.4169\n",
      "Shuffling training data\n",
      "Iter 10750: loss=89.7831, time=129.65s\n",
      "iter 10750: dev acc=0.4078\n",
      "Shuffling training data\n",
      "Iter 11000: loss=86.3972, time=132.60s\n",
      "iter 11000: dev acc=0.4069\n",
      "Iter 11250: loss=87.3709, time=135.47s\n",
      "iter 11250: dev acc=0.4051\n",
      "Shuffling training data\n",
      "Iter 11500: loss=79.9093, time=138.33s\n",
      "iter 11500: dev acc=0.3978\n",
      "Shuffling training data\n",
      "Iter 11750: loss=73.9062, time=141.39s\n",
      "iter 11750: dev acc=0.4015\n",
      "Shuffling training data\n",
      "Iter 12000: loss=69.6511, time=144.44s\n",
      "iter 12000: dev acc=0.3978\n",
      "Iter 12250: loss=65.3852, time=147.55s\n",
      "iter 12250: dev acc=0.4051\n",
      "Shuffling training data\n",
      "Iter 12500: loss=68.1362, time=150.58s\n",
      "iter 12500: dev acc=0.4060\n",
      "Shuffling training data\n",
      "Iter 12750: loss=57.3713, time=153.74s\n",
      "iter 12750: dev acc=0.4060\n",
      "Shuffling training data\n",
      "Iter 13000: loss=63.2465, time=156.93s\n",
      "iter 13000: dev acc=0.4033\n",
      "Iter 13250: loss=52.7189, time=160.19s\n",
      "iter 13250: dev acc=0.4060\n",
      "Shuffling training data\n",
      "Iter 13500: loss=55.0963, time=163.41s\n",
      "iter 13500: dev acc=0.4105\n",
      "Shuffling training data\n",
      "Iter 13750: loss=55.4603, time=166.47s\n",
      "iter 13750: dev acc=0.4033\n",
      "Iter 14000: loss=48.3281, time=169.51s\n",
      "iter 14000: dev acc=0.4060\n",
      "Shuffling training data\n",
      "Iter 14250: loss=45.8104, time=172.76s\n",
      "iter 14250: dev acc=0.4124\n",
      "Shuffling training data\n",
      "Iter 14500: loss=47.3756, time=175.94s\n",
      "iter 14500: dev acc=0.3851\n",
      "Shuffling training data\n",
      "Iter 14750: loss=45.9549, time=178.97s\n",
      "iter 14750: dev acc=0.4042\n",
      "Iter 15000: loss=35.6026, time=182.15s\n",
      "iter 15000: dev acc=0.3969\n",
      "Shuffling training data\n",
      "Iter 15250: loss=34.4077, time=185.27s\n",
      "iter 15250: dev acc=0.4033\n",
      "Shuffling training data\n",
      "Iter 15500: loss=36.8734, time=188.57s\n",
      "iter 15500: dev acc=0.4033\n",
      "Shuffling training data\n",
      "Iter 15750: loss=36.1229, time=191.63s\n",
      "iter 15750: dev acc=0.4069\n",
      "Iter 16000: loss=48.3501, time=194.62s\n",
      "iter 16000: dev acc=0.4087\n",
      "Shuffling training data\n",
      "Iter 16250: loss=37.3666, time=197.64s\n",
      "iter 16250: dev acc=0.3987\n",
      "Shuffling training data\n",
      "Iter 16500: loss=32.9317, time=200.76s\n",
      "iter 16500: dev acc=0.3987\n",
      "Iter 16750: loss=28.9818, time=203.82s\n",
      "iter 16750: dev acc=0.4124\n",
      "Shuffling training data\n",
      "Iter 17000: loss=31.4821, time=206.87s\n",
      "iter 17000: dev acc=0.3951\n",
      "Shuffling training data\n",
      "Iter 17250: loss=43.0104, time=209.80s\n",
      "iter 17250: dev acc=0.4178\n",
      "Shuffling training data\n",
      "Iter 17500: loss=29.2603, time=212.83s\n",
      "iter 17500: dev acc=0.4033\n",
      "Iter 17750: loss=19.3392, time=215.78s\n",
      "iter 17750: dev acc=0.3996\n",
      "Shuffling training data\n",
      "Iter 18000: loss=22.7530, time=218.66s\n",
      "iter 18000: dev acc=0.4060\n",
      "Shuffling training data\n",
      "Iter 18250: loss=26.5386, time=221.55s\n",
      "iter 18250: dev acc=0.4169\n",
      "Shuffling training data\n",
      "Iter 18500: loss=25.2705, time=224.49s\n",
      "iter 18500: dev acc=0.3915\n",
      "Iter 18750: loss=30.3409, time=227.39s\n",
      "iter 18750: dev acc=0.4005\n",
      "Shuffling training data\n",
      "Iter 19000: loss=24.0053, time=230.24s\n",
      "iter 19000: dev acc=0.4142\n",
      "Shuffling training data\n",
      "Iter 19250: loss=22.2200, time=233.13s\n",
      "iter 19250: dev acc=0.4242\n",
      "Shuffling training data\n",
      "Iter 19500: loss=26.7570, time=235.99s\n",
      "iter 19500: dev acc=0.3915\n",
      "Iter 19750: loss=25.1827, time=238.83s\n",
      "iter 19750: dev acc=0.4124\n",
      "Shuffling training data\n",
      "Iter 20000: loss=31.7734, time=241.64s\n",
      "iter 20000: dev acc=0.3951\n",
      "Shuffling training data\n",
      "Iter 20250: loss=24.7560, time=244.51s\n",
      "iter 20250: dev acc=0.4015\n",
      "Iter 20500: loss=16.7450, time=247.46s\n",
      "iter 20500: dev acc=0.4069\n",
      "Shuffling training data\n",
      "Iter 20750: loss=22.2650, time=250.34s\n",
      "iter 20750: dev acc=0.4205\n",
      "Shuffling training data\n",
      "Iter 21000: loss=17.3776, time=253.26s\n",
      "iter 21000: dev acc=0.4078\n",
      "Shuffling training data\n",
      "Iter 21250: loss=13.7872, time=256.25s\n",
      "iter 21250: dev acc=0.4078\n",
      "Iter 21500: loss=11.4844, time=259.19s\n",
      "iter 21500: dev acc=0.4069\n",
      "Shuffling training data\n",
      "Iter 21750: loss=9.7549, time=262.11s\n",
      "iter 21750: dev acc=0.4187\n",
      "Shuffling training data\n",
      "Iter 22000: loss=24.8970, time=265.14s\n",
      "iter 22000: dev acc=0.4242\n",
      "Shuffling training data\n",
      "Iter 22250: loss=26.2515, time=268.13s\n",
      "iter 22250: dev acc=0.4069\n",
      "Iter 22500: loss=18.4811, time=271.18s\n",
      "iter 22500: dev acc=0.4178\n",
      "Shuffling training data\n",
      "Iter 22750: loss=20.7574, time=274.11s\n",
      "iter 22750: dev acc=0.4114\n",
      "Shuffling training data\n",
      "Iter 23000: loss=14.9022, time=277.14s\n",
      "iter 23000: dev acc=0.4142\n",
      "Iter 23250: loss=15.3585, time=280.09s\n",
      "iter 23250: dev acc=0.3996\n",
      "Shuffling training data\n",
      "Iter 23500: loss=11.6769, time=283.14s\n",
      "iter 23500: dev acc=0.4051\n",
      "Shuffling training data\n",
      "Iter 23750: loss=12.3100, time=286.30s\n",
      "iter 23750: dev acc=0.4114\n",
      "Shuffling training data\n",
      "Iter 24000: loss=11.1873, time=289.27s\n",
      "iter 24000: dev acc=0.4033\n",
      "Iter 24250: loss=22.1566, time=292.30s\n",
      "iter 24250: dev acc=0.4087\n",
      "Shuffling training data\n",
      "Iter 24500: loss=18.4449, time=295.38s\n",
      "iter 24500: dev acc=0.4087\n",
      "Shuffling training data\n",
      "Iter 24750: loss=25.5828, time=298.36s\n",
      "iter 24750: dev acc=0.4124\n",
      "Shuffling training data\n",
      "Iter 25000: loss=9.9414, time=301.37s\n",
      "iter 25000: dev acc=0.4160\n",
      "Iter 25250: loss=10.6401, time=304.26s\n",
      "iter 25250: dev acc=0.4124\n",
      "Shuffling training data\n",
      "Iter 25500: loss=13.3908, time=307.20s\n",
      "iter 25500: dev acc=0.4142\n",
      "Shuffling training data\n",
      "Iter 25750: loss=12.5279, time=310.07s\n",
      "iter 25750: dev acc=0.3969\n",
      "Shuffling training data\n",
      "Iter 26000: loss=21.6809, time=313.01s\n",
      "iter 26000: dev acc=0.3996\n",
      "Iter 26250: loss=11.6051, time=315.90s\n",
      "iter 26250: dev acc=0.4078\n",
      "Shuffling training data\n",
      "Iter 26500: loss=13.5724, time=318.98s\n",
      "iter 26500: dev acc=0.4015\n",
      "Shuffling training data\n",
      "Iter 26750: loss=6.5738, time=322.22s\n",
      "iter 26750: dev acc=0.4042\n",
      "Iter 27000: loss=5.5278, time=325.35s\n",
      "iter 27000: dev acc=0.4087\n",
      "Shuffling training data\n",
      "Iter 27250: loss=4.9132, time=328.47s\n",
      "iter 27250: dev acc=0.4051\n",
      "Shuffling training data\n",
      "Iter 27500: loss=14.8918, time=331.51s\n",
      "iter 27500: dev acc=0.4223\n",
      "Shuffling training data\n",
      "Iter 27750: loss=17.1089, time=334.51s\n",
      "iter 27750: dev acc=0.4124\n",
      "Iter 28000: loss=13.2313, time=337.72s\n",
      "iter 28000: dev acc=0.4169\n",
      "Shuffling training data\n",
      "Iter 28250: loss=9.4263, time=340.88s\n",
      "iter 28250: dev acc=0.4096\n",
      "Shuffling training data\n",
      "Iter 28500: loss=8.9939, time=343.90s\n",
      "iter 28500: dev acc=0.4196\n",
      "Shuffling training data\n",
      "Iter 28750: loss=12.5225, time=347.01s\n",
      "iter 28750: dev acc=0.4078\n",
      "Iter 29000: loss=7.0457, time=350.00s\n",
      "iter 29000: dev acc=0.4060\n",
      "Shuffling training data\n",
      "Iter 29250: loss=10.2902, time=353.01s\n",
      "iter 29250: dev acc=0.4233\n",
      "Shuffling training data\n",
      "Iter 29500: loss=7.1846, time=355.97s\n",
      "iter 29500: dev acc=0.4114\n",
      "Iter 29750: loss=4.6784, time=359.00s\n",
      "iter 29750: dev acc=0.3942\n",
      "Shuffling training data\n",
      "Iter 30000: loss=17.4137, time=361.94s\n",
      "iter 30000: dev acc=0.4196\n",
      "Done training\n",
      "Loading best model\n"
     ]
    },
    {
     "name": "stderr",
     "output_type": "stream",
     "text": [
      "/tmp/ipykernel_18179/858537470.py:92: FutureWarning: You are using `torch.load` with `weights_only=False` (the current default value), which uses the default pickle module implicitly. It is possible to construct malicious pickle data which will execute arbitrary code during unpickling (See https://github.com/pytorch/pytorch/blob/main/SECURITY.md#untrusted-models for more details). In a future release, the default value for `weights_only` will be flipped to `True`. This limits the functions that could be executed during unpickling. Arbitrary objects will no longer be allowed to be loaded via this mode unless they are explicitly allowlisted by the user via `torch.serialization.add_safe_globals`. We recommend you start setting `weights_only=True` for any use case where you don't have full control of the loaded file. Please open an issue on GitHub for any issues related to this experimental feature.\n",
      "  ckpt = torch.load(path)\n"
     ]
    },
    {
     "name": "stdout",
     "output_type": "stream",
     "text": [
      "best model iter 3750: train acc=0.5640, dev acc=0.4623, test acc=0.4701\n"
     ]
    }
   ],
   "source": [
    "lstm_training_stats = train_with_multiple_seeds(\n",
    "    model_class=LSTMClassifier,\n",
    "    model_args=lstm_args,\n",
    "    seeds=[42, 123, 456],\n",
    "    pretrained_vectors=vectors,\n",
    "    freeze_embeddings=True,  # Frozen embeddings\n",
    "    num_iterations=30000,\n",
    "    print_every=500,\n",
    "    eval_every=500,\n",
    "    batch_size=25,\n",
    "    eval_batch_size=25,\n",
    "    patience=5,\n",
    "    max_norm=1.0,\n",
    "    warmup_steps=100,\n",
    "    accumulation_steps=4,\n",
    "    checkpoint_every=1000,\n",
    "    batch_fn=get_minibatch,\n",
    "    prep_fn=prepare_minibatch,\n",
    "    eval_fn=evaluate\n",
    ")"
   ]
  },
  {
   "cell_type": "markdown",
   "metadata": {
    "id": "eep3X9go3rtj"
   },
   "source": [
    "Fine-tuning word embeddings"
   ]
  },
  {
   "cell_type": "code",
   "execution_count": null,
   "metadata": {
    "id": "HJ01PSst3yAr"
   },
   "outputs": [
    {
     "name": "stdout",
     "output_type": "stream",
     "text": [
      "LSTMClassifier(\n",
      "  (embed): Embedding(20727, 300, padding_idx=1)\n",
      "  (rnn): MyLSTMCell(300, 168)\n",
      "  (output_layer): Sequential(\n",
      "    (0): Dropout(p=0.5, inplace=False)\n",
      "    (1): Linear(in_features=168, out_features=5, bias=True)\n",
      "  )\n",
      ")\n",
      "embed.weight             [20727, 300] requires_grad=True\n",
      "rnn.weight_ih            [672, 300]   requires_grad=True\n",
      "rnn.weight_hh            [672, 168]   requires_grad=True\n",
      "rnn.bias_ih              [672]        requires_grad=True\n",
      "rnn.bias_hh              [672]        requires_grad=True\n",
      "output_layer.1.weight    [5, 168]     requires_grad=True\n",
      "output_layer.1.bias      [5]          requires_grad=True\n",
      "\n",
      "Total number of parameters: 6534785\n",
      "\n",
      "Shuffling training data\n",
      "Shuffling training data\n",
      "Iter 500: loss=716.4662, time=7.61s\n",
      "Shuffling training data\n",
      "Iter 1000: loss=607.7030, time=14.88s\n",
      "iter 1000: dev acc=0.4360\n",
      "new highscore\n",
      "Shuffling training data\n",
      "Shuffling training data\n",
      "Iter 1500: loss=525.2812, time=22.32s\n",
      "Shuffling training data\n",
      "Iter 2000: loss=442.7896, time=29.73s\n",
      "iter 2000: dev acc=0.4233\n",
      "Shuffling training data\n",
      "Shuffling training data\n",
      "Iter 2500: loss=355.5779, time=37.08s\n",
      "Shuffling training data\n",
      "Iter 3000: loss=277.8232, time=44.26s\n",
      "iter 3000: dev acc=0.4214\n",
      "Shuffling training data\n",
      "Shuffling training data\n",
      "Iter 3500: loss=207.6711, time=51.63s\n",
      "Shuffling training data\n",
      "Iter 4000: loss=148.4849, time=59.01s\n",
      "iter 4000: dev acc=0.4269\n",
      "Shuffling training data\n",
      "Shuffling training data\n",
      "Iter 4500: loss=128.1442, time=66.37s\n",
      "Shuffling training data\n",
      "Iter 5000: loss=95.0930, time=73.52s\n",
      "iter 5000: dev acc=0.4060\n",
      "Shuffling training data\n",
      "Shuffling training data\n",
      "Iter 5500: loss=72.8588, time=80.78s\n",
      "Shuffling training data\n",
      "Iter 6000: loss=63.9717, time=87.90s\n",
      "iter 6000: dev acc=0.4024\n",
      "Shuffling training data\n",
      "Shuffling training data\n",
      "Iter 6500: loss=46.0861, time=95.29s\n",
      "Shuffling training data\n",
      "Iter 7000: loss=35.0787, time=102.43s\n",
      "iter 7000: dev acc=0.4069\n",
      "Shuffling training data\n",
      "Iter 7500: loss=35.5650, time=109.64s\n",
      "Shuffling training data\n",
      "Shuffling training data\n",
      "Iter 8000: loss=29.1017, time=116.73s\n",
      "iter 8000: dev acc=0.4124\n",
      "Shuffling training data\n",
      "Iter 8500: loss=23.9539, time=123.98s\n",
      "Shuffling training data\n",
      "Shuffling training data\n",
      "Iter 9000: loss=20.3146, time=131.12s\n",
      "iter 9000: dev acc=0.4078\n",
      "Shuffling training data\n",
      "Iter 9500: loss=19.9419, time=138.38s\n",
      "Shuffling training data\n",
      "Shuffling training data\n",
      "Iter 10000: loss=13.7389, time=145.57s\n",
      "iter 10000: dev acc=0.4060\n",
      "Shuffling training data\n",
      "Iter 10500: loss=12.0210, time=152.85s\n",
      "Shuffling training data\n",
      "Shuffling training data\n",
      "Iter 11000: loss=9.6575, time=160.05s\n",
      "iter 11000: dev acc=0.4033\n",
      "Shuffling training data\n",
      "Iter 11500: loss=14.0529, time=167.49s\n",
      "Shuffling training data\n",
      "Shuffling training data\n",
      "Iter 12000: loss=10.2770, time=174.73s\n",
      "iter 12000: dev acc=0.3987\n",
      "Shuffling training data\n",
      "Iter 12500: loss=9.4261, time=182.13s\n",
      "Shuffling training data\n",
      "Shuffling training data\n",
      "Iter 13000: loss=4.1604, time=189.22s\n",
      "iter 13000: dev acc=0.4033\n",
      "Shuffling training data\n",
      "Iter 13500: loss=4.8029, time=196.53s\n",
      "Shuffling training data\n",
      "Iter 14000: loss=11.8025, time=203.56s\n",
      "iter 14000: dev acc=0.3969\n",
      "Shuffling training data\n",
      "Shuffling training data\n",
      "Iter 14500: loss=6.2599, time=210.73s\n",
      "Shuffling training data\n",
      "Iter 15000: loss=3.8731, time=217.86s\n",
      "iter 15000: dev acc=0.3896\n",
      "Shuffling training data\n",
      "Shuffling training data\n",
      "Iter 15500: loss=4.9368, time=225.19s\n",
      "Shuffling training data\n",
      "Iter 16000: loss=12.7720, time=232.28s\n",
      "iter 16000: dev acc=0.4033\n",
      "Shuffling training data\n",
      "Shuffling training data\n",
      "Iter 16500: loss=5.8591, time=239.56s\n",
      "Shuffling training data\n",
      "Iter 17000: loss=1.8791, time=246.63s\n",
      "iter 17000: dev acc=0.3951\n",
      "Shuffling training data\n",
      "Shuffling training data\n",
      "Iter 17500: loss=10.4095, time=254.06s\n",
      "Shuffling training data\n",
      "Iter 18000: loss=2.7487, time=261.29s\n",
      "iter 18000: dev acc=0.3960\n",
      "Shuffling training data\n",
      "Shuffling training data\n",
      "Iter 18500: loss=1.3358, time=268.78s\n",
      "Shuffling training data\n",
      "Iter 19000: loss=3.4106, time=276.05s\n",
      "iter 19000: dev acc=0.3996\n",
      "Shuffling training data\n",
      "Shuffling training data\n",
      "Iter 19500: loss=1.5872, time=283.42s\n",
      "Shuffling training data\n",
      "Iter 20000: loss=0.8323, time=290.61s\n",
      "iter 20000: dev acc=0.3978\n",
      "Shuffling training data\n",
      "Iter 20500: loss=0.4611, time=297.92s\n",
      "Shuffling training data\n",
      "Shuffling training data\n",
      "Iter 21000: loss=11.2844, time=305.05s\n",
      "iter 21000: dev acc=0.3896\n",
      "Shuffling training data\n",
      "Iter 21500: loss=2.8189, time=312.29s\n",
      "Shuffling training data\n",
      "Shuffling training data\n",
      "Iter 22000: loss=0.7660, time=319.44s\n",
      "iter 22000: dev acc=0.3978\n",
      "Shuffling training data\n",
      "Iter 22500: loss=0.4890, time=326.84s\n",
      "Shuffling training data\n",
      "Shuffling training data\n",
      "Iter 23000: loss=0.2980, time=334.13s\n",
      "iter 23000: dev acc=0.4033\n",
      "Shuffling training data\n",
      "Iter 23500: loss=0.1936, time=341.55s\n",
      "Shuffling training data\n",
      "Shuffling training data\n",
      "Iter 24000: loss=0.1308, time=348.78s\n",
      "iter 24000: dev acc=0.4069\n",
      "Shuffling training data\n",
      "Iter 24500: loss=0.1123, time=356.02s\n",
      "Shuffling training data\n",
      "Shuffling training data\n",
      "Iter 25000: loss=0.0890, time=363.13s\n",
      "iter 25000: dev acc=0.3942\n",
      "Shuffling training data\n",
      "Iter 25500: loss=0.0727, time=370.44s\n",
      "Shuffling training data\n",
      "Shuffling training data\n",
      "Iter 26000: loss=10.6938, time=377.64s\n",
      "iter 26000: dev acc=0.3915\n",
      "Shuffling training data\n",
      "Iter 26500: loss=5.1046, time=385.06s\n",
      "Shuffling training data\n"
     ]
    }
   ],
   "source": [
    "lstm_finetune_training_stats = train_with_multiple_seeds(\n",
    "    model_class=LSTMClassifier,\n",
    "    model_args=lstm_args,  # Same args as above\n",
    "    seeds=[42, 123, 456],\n",
    "    pretrained_vectors=vectors,\n",
    "    freeze_embeddings=False,  # Allow fine-tuning\n",
    "    num_iterations=30000,\n",
    "    print_every=500,\n",
    "    eval_every=500,\n",
    "    batch_size=25,\n",
    "    eval_batch_size=25,\n",
    "    patience=5,\n",
    "    max_norm=1.0,\n",
    "    warmup_steps=100,\n",
    "    accumulation_steps=4,\n",
    "    checkpoint_every=1000,\n",
    "    batch_fn=get_minibatch,\n",
    "    prep_fn=prepare_minibatch,\n",
    "    eval_fn=evaluate\n",
    ")"
   ]
  },
  {
   "cell_type": "markdown",
   "metadata": {
    "id": "q7WjcxXntMi5"
   },
   "source": [
    "# Tree-LSTM"
   ]
  },
  {
   "cell_type": "markdown",
   "metadata": {
    "id": "jyj_UD6GtO5M"
   },
   "source": [
    "In the final part of this lab we will exploit the tree structure of the SST data.\n",
    "Until now we only used the surface tokens, but remember that our data examples include binary trees with a sentiment score at every node.\n",
    "\n",
    "In particular, we will implement **N-ary Tree-LSTMs** which are described in:\n",
    "\n",
    "> Kai Sheng Tai, Richard Socher, and Christopher D. Manning. [Improved Semantic Representations From Tree-Structured Long Short-Term Memory Networks](http://aclweb.org/anthology/P/P15/P15-1150.pdf) ACL 2015.\n",
    "\n",
    "Since our trees are binary (i.e., N=2), we can refer to these as *Binary Tree-LSTMs*. If you study equations (9) to (14) in the paper, you will find that they are not all too different from the original LSTM that you already have.\n",
    "\n",
    "You should read this paper carefully and make sure that you understand the approach. You will also find our LSTM baseline there.\n",
    "Note however that Tree-LSTMs were proposed around the same time by two other groups:\n",
    "\n",
    "> Phong Le and Willem Zuidema. [Compositional distributional semantics with long short term memory](http://anthology.aclweb.org/S/S15/S15-1002.pdf). *SEM 2015.\n",
    "\n",
    "> Xiaodan Zhu, Parinaz Sobihani,  and Hongyu Guo. [Long short-term memory over recursive structures](http://proceedings.mlr.press/v37/zhub15.pdf). ICML 2015.\n",
    "\n",
    "It is good scientific practice to cite all three papers in your report.\n",
    "\n",
    "\n"
   ]
  },
  {
   "cell_type": "markdown",
   "metadata": {
    "id": "1rDzvSos3JFp"
   },
   "source": [
    "## Computation\n",
    "\n",
    "Do you remember the `transitions_from_treestring` function all the way in the beginning of this lab? Every example contains a **transition sequence** produced by this function. Let's look at it again:\n",
    "\n"
   ]
  },
  {
   "cell_type": "code",
   "execution_count": null,
   "metadata": {
    "id": "5pg0Xumc3ZUS"
   },
   "outputs": [],
   "source": [
    "ex = next(examplereader(\"trees/dev.txt\"))\n",
    "print(TreePrettyPrinter(ex.tree))\n",
    "print(\"Transitions:\")\n",
    "print(ex.transitions)"
   ]
  },
  {
   "cell_type": "markdown",
   "metadata": {
    "id": "ceBFe9fU4BI_"
   },
   "source": [
    "Note that the tree is **binary**. Every node has two children, except for pre-terminal nodes.\n",
    "\n",
    "A tree like this can be described by a sequence of **SHIFT (0)** and **REDUCE (1)** actions.\n",
    "\n",
    "To construct a tree, we can use the transitions as follows:\n",
    "- **reverse** the sentence (a list of tokens) and call this the **buffer**\n",
    "   - the first word is now on top (last in the list), and we would get it when calling pop() on the buffer\n",
    "- create an empty list and call it the **stack**\n",
    "- iterate through the transition sequence:\n",
    "  - if it says SHIFT(0), we pop a word from the buffer, and push it to the stack\n",
    "  - if it says REDUCE(1), we pop the **top two items** from the stack, and combine them (e.g. with a Tree-LSTM!), creating a new node that we push back on the stack\n",
    "  \n",
    "Convince yourself that going through the transition sequence above will result in the tree that you see.\n",
    "For example, we would start by putting the following words on the stack (by shifting 5 times, starting with `It`):\n",
    "\n",
    "```\n",
    "Top of the stack:\n",
    "-----------------\n",
    "film\n",
    "lovely\n",
    "a\n",
    "'s  \n",
    "It\n",
    "```\n",
    "Now we find a REDUCE in the transition sequence, so we get the top two words (film and lovely), and combine them, so our new stack becomes:\n",
    "```\n",
    "Top of the stack:\n",
    "-----------------\n",
    "lovely film\n",
    "a\n",
    "'s  \n",
    "It\n",
    "```\n",
    "\n",
    "We will use this approach when encoding sentences with our Tree-LSTM.\n",
    "Now, our sentence is a reversed list of word embeddings.\n",
    "When we shift, we move a word embedding to the stack.\n",
    "When we reduce, we apply the Tree-LSTM to the top two vectors, and the result is a single vector that we put back on the stack.\n",
    "After going through the whole transition sequence, we will have the root node on our stack! We can use that to classify the sentence.\n",
    "\n"
   ]
  },
  {
   "cell_type": "markdown",
   "metadata": {
    "id": "pDWKShm1AfmR"
   },
   "source": [
    "## Obtaining the transition sequence\n"
   ]
  },
  {
   "cell_type": "markdown",
   "metadata": {
    "id": "fO7VKWVpAbWj"
   },
   "source": [
    "\n",
    "So what goes on in the `transitions_from_treestring` function?\n",
    "\n",
    "The idea ([explained in this blog post](https://devblogs.nvidia.com/recursive-neural-networks-pytorch/)) is that, if we had a tree, we could traverse through the tree, and every time that we find a node containing only a word, we output a SHIFT.\n",
    "Every time **after** we have finished visiting the children of a node, we output a REDUCE.\n",
    "(What is this tree traversal called?)\n",
    "\n",
    "However, our `transitions_from_treestring` function operates directly on the string representation. It works as follows.\n",
    "\n",
    "We start with the representation:\n",
    "\n",
    "```\n",
    "(3 (2 It) (4 (4 (2 's) (4 (3 (2 a) (4 (3 lovely) (2 film))) (3 (2 with) (4 (3 (3 lovely) (2 performances)) (2 (2 by) (2 (2 (2 Buy) (2 and)) (2 Accorsi))))))) (2 .)))\n",
    "```\n",
    "\n",
    "First we remove pre-terminal nodes (and add spaces before closing brackets):\n",
    "\n",
    "```\n",
    "(3 It (4 (4 's (4 (3 a (4 lovely film ) ) (3 with (4 (3 lovely performances ) (2 by (2 (2 Buy and )  Accorsi ) ) ) ) ) ) . ) )\n",
    "```\n",
    "\n",
    "Then we remove node labels:\n",
    "\n",
    "```\n",
    "( It ( ( 's ( ( a ( lovely film ) ) ( with ( ( lovely performances) ( by ( ( Buy and )  Accorsi ) ) ) ) ) ) . ) )\n",
    "```\n",
    "\n",
    "Then we remove opening brackets:\n",
    "\n",
    "```\n",
    "It 's a lovely film ) ) with lovely performances ) by Buy and ) Accorsi ) ) ) ) ) ) . ) )\n",
    "```\n",
    "\n",
    "Now we replace words by S (for SHIFT), and closing brackets by R (for REDUCE):\n",
    "\n",
    "```\n",
    "S S S S S R R S S S R S S S R S R R R R R R S R R\n",
    "0 0 0 0 0 1 1 0 0 0 1 0 0 0 1 0 1 1 1 1 1 1 0 1 1\n",
    "```\n",
    "\n",
    "Et voilà. We just obtained the transition sequence!"
   ]
  },
  {
   "cell_type": "code",
   "execution_count": null,
   "metadata": {
    "id": "1y069gM4_v64"
   },
   "outputs": [],
   "source": [
    "# for comparison\n",
    "seq = ex.transitions\n",
    "s = \" \".join([\"S\" if t == 0 else \"R\" for t in seq])\n",
    "print(s)\n",
    "print(\" \".join(map(str, seq)))"
   ]
  },
  {
   "cell_type": "markdown",
   "metadata": {
    "id": "d-qOuKbDAiBn"
   },
   "source": [
    "## Coding the Tree-LSTM\n",
    "\n",
    "The code below contains a Binary Tree-LSTM cell.\n",
    "It is used in the TreeLSTM class below it, which in turn is used in the TreeLSTMClassifier.\n",
    "The job of the TreeLSTM class is to encode a complete sentence and return the root node.\n",
    "The job of the TreeLSTMCell is to return a new state when provided with two children (a reduce action). By repeatedly calling the TreeLSTMCell, the TreeLSTM will encode a sentence. This can be done for multiple sentences at the same time.\n",
    "\n",
    "\n",
    "#### Exercise\n",
    "Check the `forward` function and complete the Tree-LSTM formulas.\n",
    "You can see that we defined a large linear layer for you, that projects the *concatenation* of the left and right child into the input gate, left forget gate, right forget gate, candidate, and output gate."
   ]
  },
  {
   "cell_type": "code",
   "execution_count": null,
   "metadata": {
    "id": "J9b9mjMlN7Pb"
   },
   "outputs": [],
   "source": [
    "class TreeLSTMCell(nn.Module):\n",
    "  \"\"\"A Binary Tree LSTM cell\"\"\"\n",
    "\n",
    "  def __init__(self, input_size, hidden_size, bias=True):\n",
    "    \"\"\"Creates the weights for this LSTM\"\"\"\n",
    "    super(TreeLSTMCell, self).__init__()\n",
    "\n",
    "    self.input_size = input_size\n",
    "    self.hidden_size = hidden_size\n",
    "    self.bias = bias\n",
    "\n",
    "    self.reduce_layer = nn.Linear(2 * hidden_size, 5 * hidden_size)\n",
    "    self.dropout_layer = nn.Dropout(p=0.25)\n",
    "\n",
    "    self.reset_parameters()\n",
    "\n",
    "  def reset_parameters(self):\n",
    "    \"\"\"This is PyTorch's default initialization method\"\"\"\n",
    "    stdv = 1.0 / math.sqrt(self.hidden_size)\n",
    "    for weight in self.parameters():\n",
    "      weight.data.uniform_(-stdv, stdv)\n",
    "\n",
    "  def forward(self, hx_l, hx_r, mask=None):\n",
    "    \"\"\"\n",
    "    hx_l is ((batch, hidden_size), (batch, hidden_size))\n",
    "    hx_r is ((batch, hidden_size), (batch, hidden_size))\n",
    "    \"\"\"\n",
    "    prev_h_l, prev_c_l = hx_l  # left child\n",
    "    prev_h_r, prev_c_r = hx_r  # right child\n",
    "\n",
    "    B = prev_h_l.size(0)\n",
    "\n",
    "    # we concatenate the left and right children\n",
    "    # you can also project from them separately and then sum\n",
    "    children = torch.cat([prev_h_l, prev_h_r], dim=1)\n",
    "\n",
    "    # project the combined children into a 5D tensor for i,fl,fr,g,o\n",
    "    # this is done for speed, and you could also do it separately\n",
    "    proj = self.reduce_layer(children)  # shape: B x 5D\n",
    "\n",
    "    # each shape: B x D\n",
    "    i, f_l, f_r, g, o = torch.chunk(proj, 5, dim=-1)\n",
    "\n",
    "    # main Tree LSTM computation\n",
    "\n",
    "    # YOUR CODE HERE\n",
    "    # You only need to complete the commented lines below.\n",
    "    # raise NotImplementedError(\"Implement this.\")\n",
    "\n",
    "    # The shape of each of these is [batch_size, hidden_size]\n",
    "\n",
    "    i = torch.sigmoid(i)\n",
    "    f_l = torch.sigmoid(f_l)\n",
    "    f_r = torch.sigmoid(f_r)\n",
    "    g = torch.tanh(g)\n",
    "    o = torch.sigmoid(o)\n",
    "\n",
    "    c = f_l * prev_c_l + f_r * prev_c_r + i * g\n",
    "    h = o * torch.tanh(c)\n",
    "\n",
    "    return h, c\n",
    "\n",
    "  def __repr__(self):\n",
    "    return \"{}({:d}, {:d})\".format(\n",
    "        self.__class__.__name__, self.input_size, self.hidden_size)"
   ]
  },
  {
   "cell_type": "markdown",
   "metadata": {
    "id": "Dj5dYSGh_643"
   },
   "source": [
    "## Explanation of the TreeLSTM class\n",
    "\n",
    "\n",
    "The code below contains the TreeLSTM class, which implements everything we need in order to encode a sentence from word embeddings. The calculations are the same as in the paper, implemented such that the class `TreeLSTMCell` above is as general as possible and only takes two children to reduce them into a parent.\n",
    "\n",
    "\n",
    "**Initialize $\\mathbf{h}$ and $\\mathbf{c}$ outside of the cell for the leaves**\n",
    "\n",
    "At the leaves of each tree the children nodes are **empty**, whereas in higher levels the nodes are binary tree nodes that *do* have a left and right child (but no input $x$). By initializing the leaf nodes outside of the cell class (`TreeLSTMCell`), we avoid if-else statements in the forward pass.\n",
    "\n",
    "The `TreeLSTM` class (among other things) pre-calculates an initial $h$ and $c$ for every word in the sentence. Since the initial left and right child are 0, the only calculations we need to do are based on $x$, and we can drop the forget gate calculation (`prev_c_l` and `prev_c_r` are zero). The calculations we do in order to initalize $h$ and $c$ are then:\n",
    "\n",
    "$$\n",
    "c_1 =  W^{(u)}x_1 \\\\\n",
    "o_1 = \\sigma (W^{(i)}x_1) \\\\\n",
    "h_1 = o_1 \\odot \\text{tanh}(c_1)$$\n",
    "*NB: note that these equations are chosen as initializations of $c$ and $h$, other initializations are possible and might work equally well.*\n",
    "\n",
    "**Sentence Representations**\n",
    "\n",
    "All our leaf nodes are now initialized, so we can start processing the sentence in its tree form. Each sentence is represented by a buffer (initially a list with a concatenation of $[h_1, c_1]$ for every word in the reversed sentence), a stack (initially an empty list) and a transition sequence. To encode our sentence, we construct the tree from its transition sequence as explained earlier.\n",
    "\n",
    "*A short example that constructs a tree:*\n",
    "\n",
    "We loop over the time dimension of the batched transition sequences (i.e. row by row), which contain values of 0's, 1's and 2's (representing SHIFT, REDUCE and padding respectively). If we have a batch of size 2 where the first example has a transition sequence given by [0, 0, 1, 0, 0, 0, 1] and the second by [0, 0, 1, 0, 0, 1], our transition batch will be given by the following two-dimensional numpy array:\n",
    "\n",
    "$$\n",
    "\\text{transitions} =\n",
    "\\begin{pmatrix}\n",
    "0 & 0\\\\\n",
    "0 & 0\\\\\n",
    "1 & 1\\\\\n",
    "0 & 0\\\\\n",
    "0 & 0\\\\\n",
    "0 & 1\\\\\n",
    "1 & 2\n",
    "\\end{pmatrix}\n",
    "$$\n",
    "The inner loop (`for transition, buffer, stack in zip(t_batch, buffers, stacks)`) goes over each example in the batch and updates its buffer and stack. The nested loop for this example will then do roughy the following:\n",
    "\n",
    "```\n",
    "Time = 0:  t_batch = [0, 0], the inner loop performs 2 SHIFTs.\n",
    "\n",
    "Time = 1:  t_batch = [0, 0], \"..\"\n",
    "\n",
    "Time = 2:  t_batch = [1, 1], causing the inner loop to fill the list child_l and child_r for both examples in the batch. Now the statement if child_l will return True, triggering a REDUCE action to be performed by our Tree LSTM cell with a batch size of 2.\n",
    "\n",
    "Time = 3:  t_batch = [0, 0], \"..\".\n",
    "\n",
    "Time = 4:  t_batch = [0, 0], \"..\"\n",
    "\n",
    "Time = 5:  t_batch = [0, 1], one SHIFT will be done and another REDUCE action will be performed by our Tree LSTM, this time of batch size 1.  \n",
    "\n",
    "Time = 6:  t_batch = [1, 2], triggering another REDUCE action with batch size 1.\n",
    "```\n",
    "*NB: note that this was an artificial example for the purpose of demonstrating parts of the code, the transition sequences do not necessarily represent actual trees.*\n",
    "\n",
    "**Batching and Unbatching**\n",
    "\n",
    "Within the body of the outer loop over time, we use the functions for batching and unbatching.\n",
    "\n",
    "*Batching*\n",
    "\n",
    "Before passing two lists of children to the reduce layer (an instance of `TreeLSTMCell`), we batch the children as they are at this point a list of tensors of variable length based on how many REDUCE actions there are to perform at a certain time step across the batch (let's call the length `L`). To do an efficient forward pass we want to transform the list to a pair of tensors of shape `([L, D], [L, D])`, which the function `batch` achieves.\n",
    "\n",
    "*Unbatching*\n",
    "\n",
    "In the same line where we batched the children, we unbatch the output of the forward pass to become a list of states of length `L` again. We do this because we need to loop over each example's transition at the current time step and push the children that are reduced into a parent to the stack.\n",
    "\n",
    "*The batch and unbatch functions let us switch between the \"PyTorch world\" (Tensors) and the Python world (easy to manipulate lists).*\n"
   ]
  },
  {
   "cell_type": "code",
   "execution_count": null,
   "metadata": {
    "id": "5PixvTd4AqsQ"
   },
   "outputs": [],
   "source": [
    "# Helper functions for batching and unbatching states\n",
    "# For speed we want to combine computations by batching, but\n",
    "# for processing logic we want to turn the output into lists again\n",
    "# to easily manipulate.\n",
    "\n",
    "def batch(states):\n",
    "  \"\"\"\n",
    "  Turns a list of states into a single tensor for fast processing.\n",
    "  This function also chunks (splits) each state into a (h, c) pair\"\"\"\n",
    "  return torch.cat(states, 0).chunk(2, 1)\n",
    "\n",
    "def unbatch(state):\n",
    "  \"\"\"\n",
    "  Turns a tensor back into a list of states.\n",
    "  First, (h, c) are merged into a single state.\n",
    "  Then the result is split into a list of sentences.\n",
    "  \"\"\"\n",
    "  return torch.split(torch.cat(state, 1), 1, 0)"
   ]
  },
  {
   "cell_type": "markdown",
   "metadata": {
    "id": "CynltDasaLPt"
   },
   "source": [
    "Take some time to understand the class below, having read the explanation above."
   ]
  },
  {
   "cell_type": "code",
   "execution_count": null,
   "metadata": {
    "id": "rQOqMXG4gX5G"
   },
   "outputs": [],
   "source": [
    "class TreeLSTM(nn.Module):\n",
    "  \"\"\"Encodes a sentence using a TreeLSTMCell\"\"\"\n",
    "\n",
    "  def __init__(self, input_size, hidden_size, bias=True):\n",
    "    \"\"\"Creates the weights for this LSTM\"\"\"\n",
    "    super(TreeLSTM, self).__init__()\n",
    "\n",
    "    self.input_size = input_size\n",
    "    self.hidden_size = hidden_size\n",
    "    self.bias = bias\n",
    "    self.reduce = TreeLSTMCell(input_size, hidden_size)\n",
    "\n",
    "    # project word to initial c\n",
    "    self.proj_x = nn.Linear(input_size, hidden_size)\n",
    "    self.proj_x_gate = nn.Linear(input_size, hidden_size)\n",
    "\n",
    "    self.buffers_dropout = nn.Dropout(p=0.5)\n",
    "\n",
    "  def forward(self, x, transitions):\n",
    "    \"\"\"\n",
    "    WARNING: assuming x is reversed!\n",
    "    :param x: word embeddings [B, T, E]\n",
    "    :param transitions: [2T-1, B]\n",
    "    :return: root states\n",
    "    \"\"\"\n",
    "\n",
    "    B = x.size(0)  # batch size\n",
    "    T = x.size(1)  # time\n",
    "\n",
    "    # compute an initial c and h for each word\n",
    "    # Note: this corresponds to input x in the Tai et al. Tree LSTM paper.\n",
    "    # We do not handle input x in the TreeLSTMCell itself.\n",
    "    buffers_c = self.proj_x(x)\n",
    "    buffers_h = buffers_c.tanh()\n",
    "    buffers_h_gate = self.proj_x_gate(x).sigmoid()\n",
    "    buffers_h = buffers_h_gate * buffers_h\n",
    "\n",
    "    # concatenate h and c for each word\n",
    "    buffers = torch.cat([buffers_h, buffers_c], dim=-1)\n",
    "\n",
    "    D = buffers.size(-1) // 2\n",
    "\n",
    "    # we turn buffers into a list of stacks (1 stack for each sentence)\n",
    "    # first we split buffers so that it is a list of sentences (length B)\n",
    "    # then we split each sentence to be a list of word vectors\n",
    "    buffers = buffers.split(1, dim=0)  # Bx[T, 2D]\n",
    "    buffers = [list(b.squeeze(0).split(1, dim=0)) for b in buffers]  # BxTx[2D]\n",
    "\n",
    "    # create B empty stacks\n",
    "    stacks = [[] for _ in buffers]\n",
    "\n",
    "    # t_batch holds 1 transition for each sentence\n",
    "    for t_batch in transitions:\n",
    "\n",
    "      child_l = []  # contains the left child for each sentence with reduce action\n",
    "      child_r = []  # contains the corresponding right child\n",
    "\n",
    "      # iterate over sentences in the batch\n",
    "      # each has a transition t, a buffer and a stack\n",
    "      for transition, buffer, stack in zip(t_batch, buffers, stacks):\n",
    "        if transition == SHIFT:\n",
    "          stack.append(buffer.pop())\n",
    "        elif transition == REDUCE:\n",
    "          assert len(stack) >= 2, \\\n",
    "            \"Stack too small! Should not happen with valid transition sequences\"\n",
    "          child_r.append(stack.pop())  # right child is on top\n",
    "          child_l.append(stack.pop())\n",
    "\n",
    "      # if there are sentences with reduce transition, perform them batched\n",
    "      if child_l:\n",
    "        reduced = iter(unbatch(self.reduce(batch(child_l), batch(child_r))))\n",
    "        for transition, stack in zip(t_batch, stacks):\n",
    "          if transition == REDUCE:\n",
    "            stack.append(next(reduced))\n",
    "\n",
    "    final = [stack.pop().chunk(2, -1)[0] for stack in stacks]\n",
    "    final = torch.cat(final, dim=0)  # tensor [B, D]\n",
    "\n",
    "    return final"
   ]
  },
  {
   "cell_type": "markdown",
   "metadata": {
    "id": "s4EzbVzqaXkw"
   },
   "source": [
    "Just like the LSTM before, we will need an extra class that does the classifications."
   ]
  },
  {
   "cell_type": "code",
   "execution_count": null,
   "metadata": {
    "id": "nLxpYRvtQKge"
   },
   "outputs": [],
   "source": [
    "class TreeLSTMClassifier(nn.Module):\n",
    "  \"\"\"Encodes sentence with a TreeLSTM and projects final hidden state\"\"\"\n",
    "\n",
    "  def __init__(self, vocab_size, embedding_dim, hidden_dim, output_dim, vocab):\n",
    "    super(TreeLSTMClassifier, self).__init__()\n",
    "    self.vocab = vocab\n",
    "    self.hidden_dim = hidden_dim\n",
    "    self.embed = nn.Embedding(vocab_size, embedding_dim, padding_idx=1)\n",
    "    self.treelstm = TreeLSTM(embedding_dim, hidden_dim)\n",
    "    self.output_layer = nn.Sequential(\n",
    "        nn.Dropout(p=0.5),\n",
    "        nn.Linear(hidden_dim, output_dim, bias=True)\n",
    "    )\n",
    "\n",
    "  def forward(self, x):\n",
    "\n",
    "    # x is a pair here of words and transitions; we unpack it here.\n",
    "    # x is batch-major: [B, T], transitions is time major [2T-1, B]\n",
    "    x, transitions = x\n",
    "    emb = self.embed(x)\n",
    "\n",
    "    # we use the root/top state of the Tree LSTM to classify the sentence\n",
    "    root_states = self.treelstm(emb, transitions)\n",
    "\n",
    "    # we use the last hidden state to classify the sentence\n",
    "    logits = self.output_layer(root_states)\n",
    "    return logits"
   ]
  },
  {
   "cell_type": "markdown",
   "metadata": {
    "id": "gh9RbhGwaiLg"
   },
   "source": [
    "## Special `prepare` function for Tree-LSTM\n",
    "\n",
    "We need yet another `prepare` function. For our implementation, sentences need to be *reversed*. We will do that here."
   ]
  },
  {
   "cell_type": "code",
   "execution_count": null,
   "metadata": {
    "id": "DiqH-_2xdm9H"
   },
   "outputs": [],
   "source": [
    "def prepare_treelstm_minibatch(mb, vocab):\n",
    "  \"\"\"\n",
    "  Returns sentences reversed (last word first)\n",
    "  Returns transitions together with the sentences.\n",
    "  \"\"\"\n",
    "  batch_size = len(mb)\n",
    "  maxlen = max([len(ex.tokens) for ex in mb])\n",
    "\n",
    "  # vocab returns 0 if the word is not there\n",
    "  # NOTE: reversed sequence!\n",
    "  x = [pad([vocab.w2i.get(t, 0) for t in ex.tokens], maxlen)[::-1] for ex in mb]\n",
    "\n",
    "  x = torch.LongTensor(x)\n",
    "  x = x.to(device)\n",
    "\n",
    "  y = [ex.label for ex in mb]\n",
    "  y = torch.LongTensor(y)\n",
    "  y = y.to(device)\n",
    "\n",
    "  maxlen_t = max([len(ex.transitions) for ex in mb])\n",
    "  transitions = [pad(ex.transitions, maxlen_t, pad_value=2) for ex in mb]\n",
    "  transitions = np.array(transitions)\n",
    "  transitions = transitions.T  # time-major\n",
    "\n",
    "  return (x, transitions), y"
   ]
  },
  {
   "cell_type": "markdown",
   "metadata": {
    "id": "IMUsrlL9ayVe"
   },
   "source": [
    "## Training"
   ]
  },
  {
   "cell_type": "code",
   "execution_count": null,
   "metadata": {
    "id": "IpOYUdg2D3v0"
   },
   "outputs": [],
   "source": [
    "tree_lstm_args = {\n",
    "    'vocab_size': len(v.w2i),\n",
    "    'embedding_dim': 300,\n",
    "    'hidden_dim': 150,\n",
    "    'output_dim': len(t2i),\n",
    "    'vocab': v\n",
    "}\n",
    "\n",
    "tree_lstm_training_stats = train_with_multiple_seeds(\n",
    "    model_class=TreeLSTMClassifier,\n",
    "    model_args=tree_lstm_args,\n",
    "    seeds=[42, 123, 456],\n",
    "    pretrained_vectors=vectors,\n",
    "    freeze_embeddings=True,  # Frozen embeddings\n",
    "    num_iterations=30000,\n",
    "    print_every=500,\n",
    "    eval_every=500,\n",
    "    batch_size=25,\n",
    "    eval_batch_size=25,\n",
    "    patience=5,\n",
    "    max_norm=1.0,\n",
    "    warmup_steps=100,\n",
    "    accumulation_steps=4,\n",
    "    checkpoint_every=1000,\n",
    "    batch_fn=get_minibatch,\n",
    "    prep_fn=prepare_treelstm_minibatch,  # Special prep function for TreeLSTM\n",
    "    eval_fn=evaluate\n",
    ")"
   ]
  },
  {
   "cell_type": "code",
   "execution_count": null,
   "metadata": {
    "id": "DHcHHaLtguUg"
   },
   "outputs": [],
   "source": [
    "# plot\n",
    "models_comparison = {\n",
    "    'BOW': bow_training_stats,\n",
    "    'CBOW': cbow_training_stats,\n",
    "    'DeepCBOW': deepcbow_training_stats,\n",
    "    'PT-DeepCBOW': pt_deep_cbow_training_stats,\n",
    "    'LSTM-no-batch': lstm_no_batch_training_stats,\n",
    "    'LSTM-minibatch': lstm_training_stats,\n",
    "    'LSTM-finetune': lstm_finetune_training_stats,\n",
    "    'TreeLSTM': tree_lstm_training_stats\n",
    "}\n",
    "\n",
    "plot_model_comparison(\n",
    "    training_stats_list=list(models_comparison.values()),\n",
    "    model_names=list(models_comparison.keys())\n",
    ")"
   ]
  },
  {
   "cell_type": "markdown",
   "metadata": {
    "id": "f7QZZH86eHqu"
   },
   "source": [
    "# Further experiments and report\n",
    "\n",
    "For your report, you are expected to answer research questions by doing further experiments.\n",
    "\n",
    "## Research Questions\n",
    "\n",
    "Make sure you cover at least the following:\n",
    "\n",
    "- How important is word order for this task?\n",
    "- Does the tree structure help to get a better accuracy?\n",
    "- How does performance depend on the sentence length? Compare the various models. Is there a model that does better on longer sentences? If so, why?\n",
    "- Do you get better performance if you supervise the sentiment **at each node in the tree**? You can extract more training examples by treating every node in each tree as a separate tree. You will need to write a function that extracts all subtrees given a treestring.\n",
    "    - Warning: NLTK's Tree function seems to result in invalid trees in some cases, so be careful if you want to parse the string to a tree structure before extraction the phrases.\n",
    "\n",
    "**To be able to obtain a full grade (10), you should conduct further investigations.** For example, you can also investigate one the following:\n",
    "\n",
    "- When making a wrong prediction, can you figure out at what point in the tree (sentence) the model fails? You can make a prediction at each node to investigate.\n",
    "- How does N-ary Tree LSTM compare to the Child-Sum Tree LSTM?\n",
    "- How do the Tai et al. Tree LSTMs compare to Le & Zuidema's formulation?\n",
    "- Or... your own research question!\n",
    "\n",
    "These examples should give you an idea of the expected scope of your further investigations. The maximum number of points awarded for these further investigations depends on the depth of your analysis, and can also be awarded for one of the further research questions already listed above.\n",
    "\n",
    "In general:\n",
    "\n",
    "- ***When you report numbers, please report the mean accuracy across 3 (or more) runs with different random seed, together with the standard deviation.*** This is because the final performance may vary per random seed.\n",
    "More precisely, you should run each model with 3 different seeds, and for each of these 3 runs, evaluate the best model (according to the validation) on the test dataset. The validation dataset is used for finding the best model over iterations, but the accuracy you report should be on the test dataset.\n",
    "\n",
    "## Report instructions\n",
    "\n",
    "Your report needs to be written in LaTeX. You are required to use the ACL 2023 template which you can download from or edit directly on [Overleaf](https://www.overleaf.com/latex/templates/acl-2023-proceedings-template/qjdgcrdwcnwp). Make sure your names and student numbers are visible at the top. (Tip: you need to uncomment `\\aclfinalcopy`).\n",
    "You can find some general tips about writing a research paper [here](https://www.microsoft.com/en-us/research/academic-program/write-great-research-paper/), but note that you need to make your own judgment about what is appropriate for this project.\n",
    "\n",
    "We expect you to use the following structure:\n",
    "1. Introduction (~1 page) - describe the problem, your research questions and goals, a summary of your findings and contributions. Please cite related work (models, data set) as part of your introduction here, since this is a short paper.\n",
    "    - Introduce the task and the main goal\n",
    "    - Present your research questions\n",
    "    - Motivate the importance of the questions\n",
    "    - Present and explain your expectations\n",
    "    - Make clear whether the research questions are addressed or not addressed in the literature\n",
    "    - Describe the approach you use to answer the research questions\n",
    "    - Summarise your findings\n",
    "2. Background (~1/2-1 page) -\n",
    "cover the main techniques (\"building blocks\") used in your project (e.g. word embeddings, LSTM, Tree-LSTM) and intuitions behind them. Be accurate and concise.\n",
    "    - How does each technique work? (Don't just copy the formulas)\n",
    "    - What is the relation between the techniques?\n",
    "3. Models (~1/2 page) - Describe the architecture of the final models.\n",
    "    - How do you use LSTM or Tree-LSTM for the sentiment classification task?\n",
    "    - What layers do you have, how do you do classification?\n",
    "    - What is your loss function?\n",
    "    - Etc.\n",
    "4. Experiments (~1/2 page) - Describe your experimental setup. This section should allow someone else to reproduce your experiments. Describe how you evaluate the models.\n",
    "    - Task and the data\n",
    "    - Training (model, data, parameters and hyper parameters, training algorithms, supervision signals, etc.)\n",
    "    - Evaluation (e.g. metrics)\n",
    "5. Results and Analysis (~1 page). Present the results and analyse your findings.\n",
    "    - Answer each of the research questions you raised in the introduction.\n",
    "    - Use figures and tables to highlight interesting patterns\n",
    "    - What are the factors that make model A better than model B in task C? Investigate to prove their effect!\n",
    "6. Conclusion (~1/4 page). Present the conclusions that can be drawn from your experiments.\n",
    "    - What have you learned from you experiments?\n",
    "    - How do your findings relate to what is already known in the literature?\n",
    "    - Were the results as expected? Any surprising results? Why?\n",
    "    - Based on what you learned, what would you suggest doing next?\n",
    "\n",
    "\n",
    "General Tips:\n",
    "\n",
    "- Math notation – define each variable (either in running text, or in a pseudo-legenda after or before the equation).\n",
    "- Define technical terminology you need.\n",
    "- Avoid colloquial language – everything can be said in a scientific-sounding way.\n",
    "- Avoid lengthy sentences, stay to the point.\n",
    "- Do not spend space on \"obvious\" things.\n",
    "- Do not go over the page limit. (We will deduct points for that.)\n",
    "- The page limit is 4 pages excluding references and appendix. This is a strict limit; points will be deducted for longer reports.\n",
    "- There is no strict limit to references and appendix. However, the report needs to remain fully self-contained: the appendix should only include content that is not necessary to understand your work. For example, preprocessing decisions, model parameters, pseudocode, sample system inputs/outputs, and other details that are necessary for the exact replication of your work can be put into the appendix.\n",
    "\n",
    "\n",
    "An ideal report:\n",
    "- Precise, scientific, technical, to the point\n",
    "  - Little general “waffle”/chit-chat\n",
    "- Not boring – because you don’t explain obvious things too much\n",
    "- Efficient delivery of (only) the facts that we need to know to understand/reimplement\n",
    "- Results visually well-presented and described with the correct priority of importance of sub-results\n",
    "- Insightful analysis – speculation should connect to something interesting and not be too much; the reader “learns something new”\n",
    "- No typos, no colloquialisms – well-considered language\n",
    "- This normally means several re-draftings (re-orderings of information)\n"
   ]
  },
  {
   "cell_type": "markdown",
   "metadata": {},
   "source": []
  }
 ],
 "metadata": {
  "accelerator": "GPU",
  "colab": {
   "include_colab_link": true,
   "provenance": []
  },
  "kernelspec": {
   "display_name": "dl2024_gpu",
   "language": "python",
   "name": "python3"
  },
  "language_info": {
   "codemirror_mode": {
    "name": "ipython",
    "version": 3
   },
   "file_extension": ".py",
   "mimetype": "text/x-python",
   "name": "python",
   "nbconvert_exporter": "python",
   "pygments_lexer": "ipython3",
   "version": "3.12.7"
  }
 },
 "nbformat": 4,
 "nbformat_minor": 0
}
